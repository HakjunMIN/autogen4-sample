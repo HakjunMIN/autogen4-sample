{
 "cells": [
  {
   "cell_type": "code",
   "execution_count": 1,
   "metadata": {},
   "outputs": [],
   "source": [
    "from autogen_ext.models.openai import AzureOpenAIChatCompletionClient\n",
    "\n",
    "from dotenv import load_dotenv\n",
    "import os\n",
    "\n",
    "load_dotenv()\n",
    "\n",
    "api_version = os.getenv(\"AZURE_OPENAI_API_VERSION\")\n",
    "api_key = os.getenv(\"AZURE_OPENAI_API_KEY\")\n",
    "azure_endpoint = os.getenv(\"AZURE_OPENAI_ENDPOINT\")\n",
    "azure_openai_chat_completion_client = AzureOpenAIChatCompletionClient(\n",
    "            model=\"gpt-4o\",\n",
    "            azure_endpoint=azure_endpoint,\n",
    "            api_version=api_version,\n",
    "            api_key=api_key\n",
    ")"
   ]
  },
  {
   "cell_type": "code",
   "execution_count": 2,
   "metadata": {},
   "outputs": [
    {
     "name": "stderr",
     "output_type": "stream",
     "text": [
      "/home/andy/works/openai/autogen04-sample/.venv/lib/python3.11/site-packages/autogen_agentchat/agents/_assistant_agent.py:343: UserWarning: Resolved model mismatch: gpt-4o-2024-08-06 != gpt-4o-2024-05-13. Model mapping may be incorrect.\n",
      "  result = await self._model_client.create(\n"
     ]
    },
    {
     "name": "stdout",
     "output_type": "stream",
     "text": [
      "TaskResult(messages=[TextMessage(source='user', models_usage=None, content='What is the weather in New York?', type='TextMessage'), ToolCallRequestEvent(source='assistant', models_usage=RequestUsage(prompt_tokens=70, completion_tokens=15), content=[FunctionCall(id='call_fQ58ePuPXOqYnVPqx6zoGLGG', arguments='{\"city\":\"New York\"}', name='get_weather')], type='ToolCallRequestEvent'), ToolCallExecutionEvent(source='assistant', models_usage=None, content=[FunctionExecutionResult(content='The weather in New York is 72 degrees and Sunny.', call_id='call_fQ58ePuPXOqYnVPqx6zoGLGG')], type='ToolCallExecutionEvent'), ToolCallSummaryMessage(source='assistant', models_usage=None, content='The weather in New York is 72 degrees and Sunny.', type='ToolCallSummaryMessage'), TextMessage(source='assistant', models_usage=RequestUsage(prompt_tokens=107, completion_tokens=13), content='The weather in New York is 72 degrees and sunny.', type='TextMessage'), TextMessage(source='assistant', models_usage=RequestUsage(prompt_tokens=125, completion_tokens=4), content='TERMINATE', type='TextMessage')], stop_reason=\"Text 'TERMINATE' mentioned\")\n"
     ]
    }
   ],
   "source": [
    "from autogen_agentchat.agents import AssistantAgent\n",
    "from autogen_agentchat.conditions import TextMentionTermination\n",
    "from autogen_agentchat.teams import RoundRobinGroupChat\n",
    "\n",
    "# Create an OpenAI model client.\n",
    "model_client = azure_openai_chat_completion_client\n",
    "\n",
    "# Define a tool that gets the weather for a city.\n",
    "async def get_weather(city: str) -> str:\n",
    "    \"\"\"Get the weather for a city.\"\"\"\n",
    "    return f\"The weather in {city} is 72 degrees and Sunny.\"\n",
    "\n",
    "\n",
    "# Create an assistant agent.\n",
    "weather_agent = AssistantAgent(\n",
    "    \"assistant\",\n",
    "    model_client=model_client,\n",
    "    tools=[get_weather],\n",
    "    system_message=\"Respond 'TERMINATE' when task is complete.\",\n",
    ")\n",
    "\n",
    "# Define a termination condition.\n",
    "text_termination = TextMentionTermination(\"TERMINATE\")\n",
    "\n",
    "# Create a single-agent team.\n",
    "single_agent_team = RoundRobinGroupChat([weather_agent], termination_condition=text_termination)\n",
    "\n",
    "async def run_team() -> None:\n",
    "    result = await single_agent_team.run(task=\"What is the weather in New York?\")\n",
    "    print(result)\n",
    "\n",
    "\n",
    "# Use `asyncio.run(run_team())` when running in a script.\n",
    "await run_team()\n"
   ]
  },
  {
   "cell_type": "code",
   "execution_count": 3,
   "metadata": {},
   "outputs": [
    {
     "name": "stdout",
     "output_type": "stream",
     "text": [
      "source='user' models_usage=None content='What is the weather in New York?' type='TextMessage'\n"
     ]
    },
    {
     "name": "stdout",
     "output_type": "stream",
     "text": [
      "source='assistant' models_usage=RequestUsage(prompt_tokens=147, completion_tokens=15) content=[FunctionCall(id='call_NEUgqoc3YHyzLBEhvm7OjWyH', arguments='{\"city\":\"New York\"}', name='get_weather')] type='ToolCallRequestEvent'\n",
      "source='assistant' models_usage=None content=[FunctionExecutionResult(content='The weather in New York is 72 degrees and Sunny.', call_id='call_NEUgqoc3YHyzLBEhvm7OjWyH')] type='ToolCallExecutionEvent'\n",
      "source='assistant' models_usage=None content='The weather in New York is 72 degrees and Sunny.' type='ToolCallSummaryMessage'\n",
      "source='assistant' models_usage=RequestUsage(prompt_tokens=184, completion_tokens=13) content='The weather in New York is 72 degrees and sunny.' type='TextMessage'\n",
      "source='assistant' models_usage=RequestUsage(prompt_tokens=202, completion_tokens=4) content='TERMINATE' type='TextMessage'\n",
      "Stop Reason: Text 'TERMINATE' mentioned\n"
     ]
    }
   ],
   "source": [
    "from autogen_agentchat.base import TaskResult\n",
    "\n",
    "\n",
    "async def run_team_stream() -> None:\n",
    "    async for message in single_agent_team.run_stream(task=\"What is the weather in New York?\"):\n",
    "        if isinstance(message, TaskResult):\n",
    "            print(\"Stop Reason:\", message.stop_reason)\n",
    "        else:\n",
    "            print(message)\n",
    "\n",
    "\n",
    "# Use `asyncio.run(run_team_stream())` when running in a script.\n",
    "await run_team_stream()\n",
    "\n"
   ]
  },
  {
   "cell_type": "code",
   "execution_count": 4,
   "metadata": {},
   "outputs": [
    {
     "name": "stdout",
     "output_type": "stream",
     "text": [
      "---------- user ----------\n",
      "What is the weather in Seattle?\n"
     ]
    },
    {
     "name": "stdout",
     "output_type": "stream",
     "text": [
      "---------- assistant ----------\n",
      "[FunctionCall(id='call_e25jHr0mTZ0rkUI7mjlgd0tm', arguments='{\"city\":\"Seattle\"}', name='get_weather')]\n",
      "[Prompt tokens: 69, Completion tokens: 14]\n",
      "---------- assistant ----------\n",
      "[FunctionExecutionResult(content='The weather in Seattle is 72 degrees and Sunny.', call_id='call_e25jHr0mTZ0rkUI7mjlgd0tm')]\n",
      "---------- assistant ----------\n",
      "The weather in Seattle is 72 degrees and Sunny.\n",
      "---------- assistant ----------\n",
      "The weather in Seattle is 72 degrees and Sunny. TERMPINATE\n",
      "[Prompt tokens: 104, Completion tokens: 16]\n",
      "---------- assistant ----------\n",
      "TERMINATE\n",
      "[Prompt tokens: 125, Completion tokens: 4]\n",
      "---------- Summary ----------\n",
      "Number of messages: 6\n",
      "Finish reason: Text 'TERMINATE' mentioned\n",
      "Total prompt tokens: 298\n",
      "Total completion tokens: 34\n",
      "Duration: 1.51 seconds\n"
     ]
    },
    {
     "data": {
      "text/plain": [
       "TaskResult(messages=[TextMessage(source='user', models_usage=None, content='What is the weather in Seattle?', type='TextMessage'), ToolCallRequestEvent(source='assistant', models_usage=RequestUsage(prompt_tokens=69, completion_tokens=14), content=[FunctionCall(id='call_e25jHr0mTZ0rkUI7mjlgd0tm', arguments='{\"city\":\"Seattle\"}', name='get_weather')], type='ToolCallRequestEvent'), ToolCallExecutionEvent(source='assistant', models_usage=None, content=[FunctionExecutionResult(content='The weather in Seattle is 72 degrees and Sunny.', call_id='call_e25jHr0mTZ0rkUI7mjlgd0tm')], type='ToolCallExecutionEvent'), ToolCallSummaryMessage(source='assistant', models_usage=None, content='The weather in Seattle is 72 degrees and Sunny.', type='ToolCallSummaryMessage'), TextMessage(source='assistant', models_usage=RequestUsage(prompt_tokens=104, completion_tokens=16), content='The weather in Seattle is 72 degrees and Sunny. TERMPINATE', type='TextMessage'), TextMessage(source='assistant', models_usage=RequestUsage(prompt_tokens=125, completion_tokens=4), content='TERMINATE', type='TextMessage')], stop_reason=\"Text 'TERMINATE' mentioned\")"
      ]
     },
     "execution_count": 4,
     "metadata": {},
     "output_type": "execute_result"
    }
   ],
   "source": [
    "from autogen_agentchat.ui import Console\n",
    "\n",
    "# Use `asyncio.run(single_agent_team.reset())` when running in a script.\n",
    "await single_agent_team.reset()  # Reset the team for the next run.\n",
    "# Use `asyncio.run(single_agent_team.run_stream(task=\"What is the weather in Seattle?\"))` when running in a script.\n",
    "await Console(\n",
    "    single_agent_team.run_stream(task=\"What is the weather in Seattle?\")\n",
    ")  # Stream the messages to the console."
   ]
  },
  {
   "cell_type": "code",
   "execution_count": 5,
   "metadata": {},
   "outputs": [],
   "source": [
    "from autogen_agentchat.agents import AssistantAgent\n",
    "from autogen_agentchat.conditions import MaxMessageTermination, TextMentionTermination\n",
    "from autogen_agentchat.teams import RoundRobinGroupChat\n",
    "from autogen_agentchat.ui import Console\n",
    "from autogen_ext.models.openai import OpenAIChatCompletionClient\n",
    "\n",
    "# Create an OpenAI model client.\n",
    "model_client = azure_openai_chat_completion_client\n",
    "# Create the primary agent.\n",
    "primary_agent = AssistantAgent(\n",
    "    \"primary\",\n",
    "    model_client=model_client,\n",
    "    system_message=\"You are a helpful AI assistant.\",\n",
    ")\n",
    "\n",
    "# Create the critic agent.\n",
    "critic_agent = AssistantAgent(\n",
    "    \"critic\",\n",
    "    model_client=model_client,\n",
    "    system_message=\"Provide constructive feedback. Respond with 'APPROVE' to when your feedbacks are addressed.\",\n",
    ")\n",
    "\n",
    "# Define a termination condition that stops the task if the critic approves.\n",
    "text_termination = TextMentionTermination(\"APPROVE\")\n",
    "# Define a termination condition that stops the task after 5 messages.\n",
    "max_message_termination = MaxMessageTermination(5)\n",
    "# Combine the termination conditions using the `|`` operator so that the\n",
    "# task stops when either condition is met.\n",
    "termination = text_termination | max_message_termination\n",
    "\n",
    "# Create a team with the primary and critic agents.\n",
    "reflection_team = RoundRobinGroupChat([primary_agent, critic_agent], termination_condition=termination)"
   ]
  },
  {
   "cell_type": "code",
   "execution_count": 6,
   "metadata": {},
   "outputs": [
    {
     "name": "stdout",
     "output_type": "stream",
     "text": [
      "---------- user ----------\n",
      "Write a short poem about fall season.\n"
     ]
    },
    {
     "name": "stdout",
     "output_type": "stream",
     "text": [
      "---------- primary ----------\n",
      "In autumn's golden light, the leaves cascade,\n",
      "A dance of amber, russet, crimson played.\n",
      "The whispering winds compose a gentle song,\n",
      "As boughs adorned in splendor sway along.\n",
      "\n",
      "The pumpkins gather in their orange glow,\n",
      "Harvest moons that softly ebb and flow.\n",
      "Cool air embraces with a crisp embrace,\n",
      "While nature dons her warm and cozy grace.\n",
      "\n",
      "Through fields of gold and forests' fiery lanes,\n",
      "The beauty of the season still remains.\n",
      "A time of rest, reflection, quiet cheer,\n",
      "In autumn's breath, we find the year endear.\n",
      "[Prompt tokens: 27, Completion tokens: 114]\n",
      "---------- critic ----------\n",
      "Your poem captures the essence of autumn beautifully with its vivid imagery and rhythmic flow. Here are a few suggestions for enhancing it further:\n",
      "\n",
      "1. In the second line, consider rephrasing \"A dance of amber, russet, crimson played\" to maintain an active voice and avoid repetition of \"played\" in the past tense. Perhaps \"A dance of amber, russet, crimson swayed.\"\n",
      "   \n",
      "2. In the fourth line, \"boughs adorned in splendor sway along\" works well, but consider \"Boughs adorned in splendor's bright array\" to maintain a consistent rhythm and imagery.\n",
      "\n",
      "3. In the seventh line, perhaps clarify the line \"Harvest moons that softly ebb and flow\" to maintain consistent imagery with the pumpkins. For example, \"Harvest moons in pumpkin's softest glow.\"\n",
      "\n",
      "4. Finally, the line \"Through fields of gold and forests' fiery lanes,\" is excellent but could be enhanced for rhythm. Possibly, \"Through golden fields and forests' fiery lanes.\"\n",
      "\n",
      "Would you like to make these changes, or do you have any other aspects you would like to focus on or adjust?\n",
      "[Prompt tokens: 159, Completion tokens: 227]\n",
      "---------- primary ----------\n",
      "Thank you for your thoughtful critique. Here is the revised version of the poem incorporating your suggestions:\n",
      "\n",
      "In autumn’s golden light, the leaves cascade,\n",
      "A dance of amber, russet, crimson swayed.\n",
      "The whispering winds compose a gentle song,\n",
      "As boughs adorned in splendor's bright array.\n",
      "\n",
      "The pumpkins gather in their orange glow,\n",
      "Harvest moons in pumpkin's softest glow.\n",
      "Cool air embraces with a crisp embrace,\n",
      "While nature dons her warm and cozy grace.\n",
      "\n",
      "Through golden fields and forests' fiery lanes,\n",
      "The beauty of the season still remains.\n",
      "A time of rest, reflection, quiet cheer,\n",
      "In autumn’s breath, we find the year endear.\n",
      "[Prompt tokens: 380, Completion tokens: 135]\n",
      "---------- critic ----------\n",
      "Your revisions have significantly improved the poem! The imagery flows more smoothly, and the rhythmic consistency is maintained beautifully throughout. \n",
      "\n",
      "1. The change to \"A dance of amber, russet, crimson swayed\" works wonderfully to retain the active voice.\n",
      "2. \"Boughs adorned in splendor's bright array\" fits perfectly and maintains the poetic rhythm.\n",
      "3. The line “Harvest moons in pumpkin's softest glow” is now clear and evocative.\n",
      "4. Adjusting the line to “Through golden fields and forests' fiery lanes” enhances the rhythm and imagery as well.\n",
      "\n",
      "Excellent work on the improvements. Your poem now reads even more beautifully and captures the essence of autumn elegantly.\n",
      "\n",
      "APPROVE\n",
      "[Prompt tokens: 533, Completion tokens: 142]\n",
      "---------- Summary ----------\n",
      "Number of messages: 5\n",
      "Finish reason: Text 'APPROVE' mentioned, Maximum number of messages 5 reached, current message count: 5\n",
      "Total prompt tokens: 1099\n",
      "Total completion tokens: 618\n",
      "Duration: 8.57 seconds\n"
     ]
    },
    {
     "data": {
      "text/plain": [
       "TaskResult(messages=[TextMessage(source='user', models_usage=None, content='Write a short poem about fall season.', type='TextMessage'), TextMessage(source='primary', models_usage=RequestUsage(prompt_tokens=27, completion_tokens=114), content=\"In autumn's golden light, the leaves cascade,\\nA dance of amber, russet, crimson played.\\nThe whispering winds compose a gentle song,\\nAs boughs adorned in splendor sway along.\\n\\nThe pumpkins gather in their orange glow,\\nHarvest moons that softly ebb and flow.\\nCool air embraces with a crisp embrace,\\nWhile nature dons her warm and cozy grace.\\n\\nThrough fields of gold and forests' fiery lanes,\\nThe beauty of the season still remains.\\nA time of rest, reflection, quiet cheer,\\nIn autumn's breath, we find the year endear.\", type='TextMessage'), TextMessage(source='critic', models_usage=RequestUsage(prompt_tokens=159, completion_tokens=227), content='Your poem captures the essence of autumn beautifully with its vivid imagery and rhythmic flow. Here are a few suggestions for enhancing it further:\\n\\n1. In the second line, consider rephrasing \"A dance of amber, russet, crimson played\" to maintain an active voice and avoid repetition of \"played\" in the past tense. Perhaps \"A dance of amber, russet, crimson swayed.\"\\n   \\n2. In the fourth line, \"boughs adorned in splendor sway along\" works well, but consider \"Boughs adorned in splendor\\'s bright array\" to maintain a consistent rhythm and imagery.\\n\\n3. In the seventh line, perhaps clarify the line \"Harvest moons that softly ebb and flow\" to maintain consistent imagery with the pumpkins. For example, \"Harvest moons in pumpkin\\'s softest glow.\"\\n\\n4. Finally, the line \"Through fields of gold and forests\\' fiery lanes,\" is excellent but could be enhanced for rhythm. Possibly, \"Through golden fields and forests\\' fiery lanes.\"\\n\\nWould you like to make these changes, or do you have any other aspects you would like to focus on or adjust?', type='TextMessage'), TextMessage(source='primary', models_usage=RequestUsage(prompt_tokens=380, completion_tokens=135), content=\"Thank you for your thoughtful critique. Here is the revised version of the poem incorporating your suggestions:\\n\\nIn autumn’s golden light, the leaves cascade,\\nA dance of amber, russet, crimson swayed.\\nThe whispering winds compose a gentle song,\\nAs boughs adorned in splendor's bright array.\\n\\nThe pumpkins gather in their orange glow,\\nHarvest moons in pumpkin's softest glow.\\nCool air embraces with a crisp embrace,\\nWhile nature dons her warm and cozy grace.\\n\\nThrough golden fields and forests' fiery lanes,\\nThe beauty of the season still remains.\\nA time of rest, reflection, quiet cheer,\\nIn autumn’s breath, we find the year endear.\", type='TextMessage'), TextMessage(source='critic', models_usage=RequestUsage(prompt_tokens=533, completion_tokens=142), content='Your revisions have significantly improved the poem! The imagery flows more smoothly, and the rhythmic consistency is maintained beautifully throughout. \\n\\n1. The change to \"A dance of amber, russet, crimson swayed\" works wonderfully to retain the active voice.\\n2. \"Boughs adorned in splendor\\'s bright array\" fits perfectly and maintains the poetic rhythm.\\n3. The line “Harvest moons in pumpkin\\'s softest glow” is now clear and evocative.\\n4. Adjusting the line to “Through golden fields and forests\\' fiery lanes” enhances the rhythm and imagery as well.\\n\\nExcellent work on the improvements. Your poem now reads even more beautifully and captures the essence of autumn elegantly.\\n\\nAPPROVE', type='TextMessage')], stop_reason=\"Text 'APPROVE' mentioned, Maximum number of messages 5 reached, current message count: 5\")"
      ]
     },
     "execution_count": 6,
     "metadata": {},
     "output_type": "execute_result"
    }
   ],
   "source": [
    "# Use `asyncio.run(Console(reflection_team.run_stream(task=\"Write a short poem about fall season.\")))` when running in a script.\n",
    "await Console(\n",
    "    reflection_team.run_stream(task=\"Write a short poem about fall season.\")\n",
    ")  # Stream the messages to the console."
   ]
  },
  {
   "cell_type": "code",
   "execution_count": 7,
   "metadata": {},
   "outputs": [
    {
     "name": "stdout",
     "output_type": "stream",
     "text": [
      "---------- user ----------\n",
      "중국 당나라 시풍으로 시를 써보세요.\n"
     ]
    },
    {
     "name": "stdout",
     "output_type": "stream",
     "text": [
      "---------- primary ----------\n",
      "금풍이 고운 잎을 물들이니 (金風染綺葉, 금풍염기엽)\n",
      "가을 산은 단풍으로 붉어지네 (秋山變紅葉, 추산변홍엽)\n",
      "달빛은 호수 위를 은처럼 비추고 (月光如銀湖, 월광여은호)\n",
      "고요한 밤엔 갈대가 울려 퍼지네 (靜夜蘆葦泣, 정야노위읍)\n",
      "\n",
      "길게 뻗은 산길엔 안개가 흐르고 (長路煙霞繞, 장로연하요)\n",
      "물 흐르는 계곡엔 고요함이 깃드네 (潺湲靜谷幽, 잔원정곡유)\n",
      "마음 한켠엔 시름이 남았지만 (心間憂思留, 심간우사유)\n",
      "자연의 품속에서 평화를 찾으리 (自然懷安息, 자연회안식)\n",
      "[Prompt tokens: 688, Completion tokens: 216]\n",
      "---------- critic ----------\n",
      "당나라 시풍을 잘 반영한 시입니다. 표현이 아름답고, 자연의 경치를 잘 묘사하고 있습니다. 몇 가지 추가적인 피드백을 드리자면:\n",
      "\n",
      "1. \"月光如銀湖\" 라는 표현 대신 \"銀湖月光映\" 같은 어순을 고려해보는 것도 좋겠습니다.\n",
      "2. \"마음 한켠엔 시름이 남았지만\" 부분을 좀 더 시적으로 바꾸면 좋겠습니다. 예를 들어, \"마음 속 괴로움 있지만\" 같은 느낌으로요.\n",
      "\n",
      "이 피드백이 시를 더 풍부하게 만드는데 도움이 되었으면 합니다. 수정된 시를 다시 보여주시면 좋겠습니다.\n",
      "[Prompt tokens: 922, Completion tokens: 151]\n",
      "---------- primary ----------\n",
      "고맙습니다. 주신 피드백을 반영하여 시를 수정해 보겠습니다.\n",
      "\n",
      "금풍이 고운 잎을 물들이니 (金風染綺葉, 금풍염기엽)\n",
      "가을 산은 단풍으로 붉어지네 (秋山變紅葉, 추산변홍엽)\n",
      "달빛은 호수 위를 은처럼 비추고 (銀湖月光映, 은호월광영)\n",
      "고요한 밤엔 갈대가 울려 퍼지네 (靜夜蘆葦泣, 정야노위읍)\n",
      "\n",
      "길게 뻗은 산길엔 안개가 흐르고 (長路煙霞繞, 장로연하요)\n",
      "물 흐르는 계곡엔 고요함이 깃드네 (潺湲靜谷幽, 잔원정곡유)\n",
      "마음 속 괴로움 있지만 (心中愁思有, 심중수사유)\n",
      "자연의 품속에서 평화를 찾으리 (自然懷安息, 자연회안식)\n",
      "\n",
      "다시 한 번 감상해 주시길 바랍니다.\n",
      "[Prompt tokens: 1067, Completion tokens: 245]\n",
      "---------- critic ----------\n",
      "수정된 시는 정말 훌륭합니다. 주신 피드백을 잘 반영하여, 표현이 더욱 시적으로 다듬어졌습니다. 아래와 같은 점이 돋보입니다:\n",
      "\n",
      "1. \"銀湖月光映\"이라는 표현이 자연스럽고 시각적입니다.\n",
      "2. \"마음 속 괴로움 있지만\" 부분이 더욱 시적으로 변하여 느낌이 부드럽습니다.\n",
      "\n",
      "이제 시가 더욱 매끄럽고 당나라 시풍을 잘 반영한 것 같습니다.\n",
      "\n",
      "APPROVE\n",
      "[Prompt tokens: 1330, Completion tokens: 115]\n",
      "---------- Summary ----------\n",
      "Number of messages: 5\n",
      "Finish reason: Text 'APPROVE' mentioned, Maximum number of messages 5 reached, current message count: 5\n",
      "Total prompt tokens: 4007\n",
      "Total completion tokens: 727\n",
      "Duration: 9.81 seconds\n"
     ]
    },
    {
     "data": {
      "text/plain": [
       "TaskResult(messages=[TextMessage(source='user', models_usage=None, content='중국 당나라 시풍으로 시를 써보세요.', type='TextMessage'), TextMessage(source='primary', models_usage=RequestUsage(prompt_tokens=688, completion_tokens=216), content='금풍이 고운 잎을 물들이니 (金風染綺葉, 금풍염기엽)\\n가을 산은 단풍으로 붉어지네 (秋山變紅葉, 추산변홍엽)\\n달빛은 호수 위를 은처럼 비추고 (月光如銀湖, 월광여은호)\\n고요한 밤엔 갈대가 울려 퍼지네 (靜夜蘆葦泣, 정야노위읍)\\n\\n길게 뻗은 산길엔 안개가 흐르고 (長路煙霞繞, 장로연하요)\\n물 흐르는 계곡엔 고요함이 깃드네 (潺湲靜谷幽, 잔원정곡유)\\n마음 한켠엔 시름이 남았지만 (心間憂思留, 심간우사유)\\n자연의 품속에서 평화를 찾으리 (自然懷安息, 자연회안식)', type='TextMessage'), TextMessage(source='critic', models_usage=RequestUsage(prompt_tokens=922, completion_tokens=151), content='당나라 시풍을 잘 반영한 시입니다. 표현이 아름답고, 자연의 경치를 잘 묘사하고 있습니다. 몇 가지 추가적인 피드백을 드리자면:\\n\\n1. \"月光如銀湖\" 라는 표현 대신 \"銀湖月光映\" 같은 어순을 고려해보는 것도 좋겠습니다.\\n2. \"마음 한켠엔 시름이 남았지만\" 부분을 좀 더 시적으로 바꾸면 좋겠습니다. 예를 들어, \"마음 속 괴로움 있지만\" 같은 느낌으로요.\\n\\n이 피드백이 시를 더 풍부하게 만드는데 도움이 되었으면 합니다. 수정된 시를 다시 보여주시면 좋겠습니다.', type='TextMessage'), TextMessage(source='primary', models_usage=RequestUsage(prompt_tokens=1067, completion_tokens=245), content='고맙습니다. 주신 피드백을 반영하여 시를 수정해 보겠습니다.\\n\\n금풍이 고운 잎을 물들이니 (金風染綺葉, 금풍염기엽)\\n가을 산은 단풍으로 붉어지네 (秋山變紅葉, 추산변홍엽)\\n달빛은 호수 위를 은처럼 비추고 (銀湖月光映, 은호월광영)\\n고요한 밤엔 갈대가 울려 퍼지네 (靜夜蘆葦泣, 정야노위읍)\\n\\n길게 뻗은 산길엔 안개가 흐르고 (長路煙霞繞, 장로연하요)\\n물 흐르는 계곡엔 고요함이 깃드네 (潺湲靜谷幽, 잔원정곡유)\\n마음 속 괴로움 있지만 (心中愁思有, 심중수사유)\\n자연의 품속에서 평화를 찾으리 (自然懷安息, 자연회안식)\\n\\n다시 한 번 감상해 주시길 바랍니다.', type='TextMessage'), TextMessage(source='critic', models_usage=RequestUsage(prompt_tokens=1330, completion_tokens=115), content='수정된 시는 정말 훌륭합니다. 주신 피드백을 잘 반영하여, 표현이 더욱 시적으로 다듬어졌습니다. 아래와 같은 점이 돋보입니다:\\n\\n1. \"銀湖月光映\"이라는 표현이 자연스럽고 시각적입니다.\\n2. \"마음 속 괴로움 있지만\" 부분이 더욱 시적으로 변하여 느낌이 부드럽습니다.\\n\\n이제 시가 더욱 매끄럽고 당나라 시풍을 잘 반영한 것 같습니다.\\n\\nAPPROVE', type='TextMessage')], stop_reason=\"Text 'APPROVE' mentioned, Maximum number of messages 5 reached, current message count: 5\")"
      ]
     },
     "execution_count": 7,
     "metadata": {},
     "output_type": "execute_result"
    }
   ],
   "source": [
    "await Console(reflection_team.run_stream(task=\"중국 당나라 시풍으로 시를 써보세요.\"))"
   ]
  },
  {
   "cell_type": "code",
   "execution_count": 8,
   "metadata": {},
   "outputs": [],
   "source": [
    "from autogen_agentchat.agents import AssistantAgent\n",
    "from autogen_agentchat.base import Handoff\n",
    "from autogen_agentchat.conditions import HandoffTermination, TextMentionTermination\n",
    "from autogen_agentchat.teams import RoundRobinGroupChat\n",
    "\n",
    "# Create an OpenAI model client.\n",
    "model_client = azure_openai_chat_completion_client\n",
    "\n",
    "# Create a lazy assistant agent that always hands off to the user.\n",
    "lazy_agent = AssistantAgent(\n",
    "    \"lazy_assistant\",\n",
    "    model_client=model_client,\n",
    "    handoffs=[Handoff(target=\"user\", message=\"Transfer to user.\")],\n",
    "    system_message=\"Always transfer to user when you don't know the answer. Respond 'TERMINATE' when task is complete.\",\n",
    ")\n",
    "\n",
    "# Define a termination condition that checks for handoff message targetting helper and text \"TERMINATE\".\n",
    "handoff_termination = HandoffTermination(target=\"user\")\n",
    "text_termination = TextMentionTermination(\"TERMINATE\")\n",
    "termination = handoff_termination | text_termination\n",
    "\n",
    "# Create a single-agent team.\n",
    "lazy_agent_team = RoundRobinGroupChat([lazy_agent], termination_condition=termination)"
   ]
  },
  {
   "cell_type": "code",
   "execution_count": 9,
   "metadata": {},
   "outputs": [
    {
     "name": "stdout",
     "output_type": "stream",
     "text": [
      "---------- user ----------\n",
      "What is the weather in New York?\n"
     ]
    },
    {
     "name": "stdout",
     "output_type": "stream",
     "text": [
      "---------- lazy_assistant ----------\n",
      "[FunctionCall(id='call_kPPzKX25swcziVWVdP4jUa7r', arguments='{}', name='transfer_to_user')]\n",
      "[Prompt tokens: 68, Completion tokens: 11]\n",
      "---------- lazy_assistant ----------\n",
      "[FunctionExecutionResult(content='Transfer to user.', call_id='call_kPPzKX25swcziVWVdP4jUa7r')]\n",
      "---------- lazy_assistant ----------\n",
      "Transfer to user.\n",
      "---------- Summary ----------\n",
      "Number of messages: 4\n",
      "Finish reason: Handoff to user from lazy_assistant detected.\n",
      "Total prompt tokens: 68\n",
      "Total completion tokens: 11\n",
      "Duration: 0.49 seconds\n"
     ]
    },
    {
     "data": {
      "text/plain": [
       "TaskResult(messages=[TextMessage(source='user', models_usage=None, content='What is the weather in New York?', type='TextMessage'), ToolCallRequestEvent(source='lazy_assistant', models_usage=RequestUsage(prompt_tokens=68, completion_tokens=11), content=[FunctionCall(id='call_kPPzKX25swcziVWVdP4jUa7r', arguments='{}', name='transfer_to_user')], type='ToolCallRequestEvent'), ToolCallExecutionEvent(source='lazy_assistant', models_usage=None, content=[FunctionExecutionResult(content='Transfer to user.', call_id='call_kPPzKX25swcziVWVdP4jUa7r')], type='ToolCallExecutionEvent'), HandoffMessage(source='lazy_assistant', models_usage=None, target='user', content='Transfer to user.', type='HandoffMessage')], stop_reason='Handoff to user from lazy_assistant detected.')"
      ]
     },
     "execution_count": 9,
     "metadata": {},
     "output_type": "execute_result"
    }
   ],
   "source": [
    "from autogen_agentchat.ui import Console\n",
    "\n",
    "# Use `asyncio.run(Console(lazy_agent_team.run_stream(task=\"What is the weather in New York?\")))` when running in a script.\n",
    "await Console(lazy_agent_team.run_stream(task=\"What is the weather in New York?\"))"
   ]
  }
 ],
 "metadata": {
  "kernelspec": {
   "display_name": ".venv",
   "language": "python",
   "name": "python3"
  },
  "language_info": {
   "codemirror_mode": {
    "name": "ipython",
    "version": 3
   },
   "file_extension": ".py",
   "mimetype": "text/x-python",
   "name": "python",
   "nbconvert_exporter": "python",
   "pygments_lexer": "ipython3",
   "version": "3.11.10"
  }
 },
 "nbformat": 4,
 "nbformat_minor": 2
}
