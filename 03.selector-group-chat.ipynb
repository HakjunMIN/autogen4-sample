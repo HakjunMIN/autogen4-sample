{
    "cells": [
        {
            "cell_type": "markdown",
            "metadata": {},
            "source": [
                "# Selector Group Chat"
            ]
        },
        {
            "cell_type": "markdown",
            "metadata": {},
            "source": [
                "{py:class}`~autogen_agentchat.teams.SelectorGroupChat` implements a team where participants take turns broadcasting messages to all other members. A generative model (e.g., an LLM) selects the next speaker based on the shared context, enabling dynamic, context-aware collaboration.\n",
                "\n",
                "Key features include:\n",
                "\n",
                "- Model-based speaker selection\n",
                "- Configurable participant roles and descriptions\n",
                "- Prevention of consecutive turns by the same speaker (optional)\n",
                "- Customizable selection prompting\n",
                "- Customizable selection function to override the default model-based selection\n",
                "- Customizable candidate function to narrow-down the set of agents for selection using model\n",
                "\n",
                "```{note}\n",
                "{py:class}`~autogen_agentchat.teams.SelectorGroupChat` is a high-level API. For more control and customization, refer to the [Group Chat Pattern](../core-user-guide/design-patterns/group-chat.ipynb) in the Core API documentation to implement your own group chat logic.\n",
                "```\n",
                "\n",
                "## How Does it Work?\n",
                "\n",
                "{py:class}`~autogen_agentchat.teams.SelectorGroupChat` is a group chat similar to {py:class}`~autogen_agentchat.teams.RoundRobinGroupChat`,\n",
                "but with a model-based next speaker selection mechanism.\n",
                "When the team receives a task through {py:meth}`~autogen_agentchat.teams.BaseGroupChat.run` or {py:meth}`~autogen_agentchat.teams.BaseGroupChat.run_stream`,\n",
                "the following steps are executed:\n",
                "\n",
                "1. The team analyzes the current conversation context, including the conversation history and participants' {py:attr}`~autogen_agentchat.base.ChatAgent.name` and {py:attr}`~autogen_agentchat.base.ChatAgent.description` attributes, to determine the next speaker using a model. By default, the team will not select the same speak consecutively unless it is the only agent available. This can be changed by setting `allow_repeated_speaker=True`. You can also override the model by providing a custom selection function.\n",
                "2. The team prompts the selected speaker agent to provide a response, which is then **broadcasted** to all other participants.\n",
                "3. The termination condition is checked to determine if the conversation should end, if not, the process repeats from step 1.\n",
                "4. When the conversation ends, the team returns the {py:class}`~autogen_agentchat.base.TaskResult` containing the conversation history from this task.\n",
                "\n",
                "Once the team finishes the task, the conversation context is kept within the team and all participants, so the next task can continue from the previous conversation context.\n",
                "You can reset the conversation context by calling {py:meth}`~autogen_agentchat.teams.BaseGroupChat.reset`.\n",
                "\n",
                "In this section, we will demonstrate how to use {py:class}`~autogen_agentchat.teams.SelectorGroupChat` with a simple example for a web search and data analysis task."
            ]
        },
        {
            "cell_type": "markdown",
            "metadata": {},
            "source": [
                "## Example: Web Search/Analysis"
            ]
        },
        {
            "cell_type": "code",
            "execution_count": 4,
            "metadata": {},
            "outputs": [],
            "source": [
                "from typing import List, Sequence\n",
                "\n",
                "from autogen_agentchat.agents import AssistantAgent, UserProxyAgent\n",
                "from autogen_agentchat.conditions import MaxMessageTermination, TextMentionTermination\n",
                "from autogen_agentchat.messages import BaseAgentEvent, BaseChatMessage\n",
                "from autogen_agentchat.teams import SelectorGroupChat\n",
                "from autogen_agentchat.ui import Console\n",
                "from autogen_ext.models.openai import OpenAIChatCompletionClient"
            ]
        },
        {
            "cell_type": "markdown",
            "metadata": {},
            "source": [
                "### Agents\n",
                "\n",
                "![Selector Group Chat](selector-group-chat.svg)\n",
                "\n",
                "This system uses three specialized agents:\n",
                "\n",
                "- **Planning Agent**: The strategic coordinator that breaks down complex tasks into manageable subtasks. \n",
                "- **Web Search Agent**: An information retrieval specialist that interfaces with the `search_web_tool`.\n",
                "- **Data Analyst Agent**: An agent specialist in performing calculations equipped with `percentage_change_tool`. "
            ]
        },
        {
            "cell_type": "markdown",
            "metadata": {},
            "source": [
                "The tools `search_web_tool` and `percentage_change_tool` are external tools that the agents can use to perform their tasks."
            ]
        },
        {
            "cell_type": "code",
            "execution_count": 5,
            "metadata": {},
            "outputs": [],
            "source": [
                "# Note: This example uses mock tools instead of real APIs for demonstration purposes\n",
                "def search_web_tool(query: str) -> str:\n",
                "    if \"2006-2007\" in query:\n",
                "        return \"\"\"Here are the total points scored by Miami Heat players in the 2006-2007 season:\n",
                "        Udonis Haslem: 844 points\n",
                "        Dwayne Wade: 1397 points\n",
                "        James Posey: 550 points\n",
                "        ...\n",
                "        \"\"\"\n",
                "    elif \"2007-2008\" in query:\n",
                "        return \"The number of total rebounds for Dwayne Wade in the Miami Heat season 2007-2008 is 214.\"\n",
                "    elif \"2008-2009\" in query:\n",
                "        return \"The number of total rebounds for Dwayne Wade in the Miami Heat season 2008-2009 is 398.\"\n",
                "    return \"No data found.\"\n",
                "\n",
                "\n",
                "def percentage_change_tool(start: float, end: float) -> float:\n",
                "    return ((end - start) / start) * 100"
            ]
        },
        {
            "cell_type": "markdown",
            "metadata": {},
            "source": [
                "Let's create the specialized agents using the {py:class}`~autogen_agentchat.agents.AssistantAgent` class.\n",
                "It is important to note that the agents' {py:attr}`~autogen_agentchat.base.ChatAgent.name` and {py:attr}`~autogen_agentchat.base.ChatAgent.description` attributes are used by the model to determine the next speaker,\n",
                "so it is recommended to provide meaningful names and descriptions."
            ]
        },
        {
            "cell_type": "code",
            "execution_count": 6,
            "metadata": {},
            "outputs": [],
            "source": [
                "from autogen_ext.models.openai import AzureOpenAIChatCompletionClient\n",
                "\n",
                "from dotenv import load_dotenv\n",
                "import os\n",
                "\n",
                "load_dotenv()\n",
                "\n",
                "api_version = os.getenv(\"AZURE_OPENAI_API_VERSION\")\n",
                "api_key = os.getenv(\"AZURE_OPENAI_API_KEY\")\n",
                "azure_endpoint = os.getenv(\"AZURE_OPENAI_ENDPOINT\")\n",
                "azure_openai_chat_completion_client = AzureOpenAIChatCompletionClient(\n",
                "            model=\"gpt-4o\",\n",
                "            azure_endpoint=azure_endpoint,\n",
                "            api_version=api_version,\n",
                "            api_key=api_key\n",
                ")\n",
                "\n",
                "model_client = azure_openai_chat_completion_client\n",
                "\n",
                "\n",
                "planning_agent = AssistantAgent(\n",
                "    \"PlanningAgent\",\n",
                "    description=\"An agent for planning tasks, this agent should be the first to engage when given a new task.\",\n",
                "    model_client=model_client,\n",
                "    system_message=\"\"\"\n",
                "    You are a planning agent.\n",
                "    Your job is to break down complex tasks into smaller, manageable subtasks.\n",
                "    Your team members are:\n",
                "        WebSearchAgent: Searches for information\n",
                "        DataAnalystAgent: Performs calculations\n",
                "\n",
                "    You only plan and delegate tasks - you do not execute them yourself.\n",
                "\n",
                "    When assigning tasks, use this format:\n",
                "    1. <agent> : <task>\n",
                "\n",
                "    After all tasks are complete, summarize the findings and end with \"TERMINATE\".\n",
                "    \"\"\",\n",
                ")\n",
                "\n",
                "web_search_agent = AssistantAgent(\n",
                "    \"WebSearchAgent\",\n",
                "    description=\"An agent for searching information on the web.\",\n",
                "    tools=[search_web_tool],\n",
                "    model_client=model_client,\n",
                "    system_message=\"\"\"\n",
                "    You are a web search agent.\n",
                "    Your only tool is search_tool - use it to find information.\n",
                "    You make only one search call at a time.\n",
                "    Once you have the results, you never do calculations based on them.\n",
                "    \"\"\",\n",
                ")\n",
                "\n",
                "data_analyst_agent = AssistantAgent(\n",
                "    \"DataAnalystAgent\",\n",
                "    description=\"An agent for performing calculations.\",\n",
                "    model_client=model_client,\n",
                "    tools=[percentage_change_tool],\n",
                "    system_message=\"\"\"\n",
                "    You are a data analyst.\n",
                "    Given the tasks you have been assigned, you should analyze the data and provide results using the tools provided.\n",
                "    If you have not seen the data, ask for it.\n",
                "    \"\"\",\n",
                ")"
            ]
        },
        {
            "cell_type": "markdown",
            "metadata": {},
            "source": [
                "```{note}\n",
                "By default, {py:class}`~autogen_agentchat.agents.AssistantAgent` returns the\n",
                "tool output as the response. If your tool does not return a well-formed\n",
                "string in natural language format, you may want to add a reflection step\n",
                "within the agent by setting `reflect_on_tool_use=True` when creating the agent.\n",
                "This will allow the agent to reflect on the tool output and provide a natural\n",
                "language response.\n",
                "```"
            ]
        },
        {
            "cell_type": "markdown",
            "metadata": {},
            "source": [
                "### Workflow\n",
                "\n",
                "1. The task is received by the {py:class}`~autogen_agentchat.teams.SelectorGroupChat` which, based on agent descriptions, selects the most appropriate agent to handle the initial task (typically the Planning Agent).\n",
                "\n",
                "2. The **Planning Agent** analyzes the task and breaks it down into subtasks, assigning each to the most appropriate agent using the format:\n",
                "   `<agent> : <task>`\n",
                "\n",
                "3. Based on the conversation context and agent descriptions, the {py:class}`~autogen_agent.teams.SelectorGroupChat` manager dynamically selects the next agent to handle their assigned subtask.\n",
                "\n",
                "4. The **Web Search Agent** performs searches one at a time, storing results in the shared conversation history.\n",
                "\n",
                "5. The **Data Analyst** processes the gathered information using available calculation tools when selected.\n",
                "\n",
                "6. The workflow continues with agents being dynamically selected until either:\n",
                "   - The Planning Agent determines all subtasks are complete and sends \"TERMINATE\"\n",
                "   - An alternative termination condition is met (e.g., a maximum number of messages)\n",
                "\n",
                "When defining your agents, make sure to include a helpful {py:attr}`~autogen_agentchat.base.ChatAgent.description` since this is used to decide which agent to select next."
            ]
        },
        {
            "cell_type": "markdown",
            "metadata": {},
            "source": [
                "### Termination Conditions\n",
                "\n",
                "Let's use two termination conditions:\n",
                "{py:class}`~autogen_agentchat.conditions.TextMentionTermination` to end the conversation when the Planning Agent sends \"TERMINATE\",\n",
                "and {py:class}`~autogen_agentchat.conditions.MaxMessageTermination` to limit the conversation to 25 messages to avoid infinite loop."
            ]
        },
        {
            "cell_type": "code",
            "execution_count": 7,
            "metadata": {},
            "outputs": [],
            "source": [
                "text_mention_termination = TextMentionTermination(\"TERMINATE\")\n",
                "max_messages_termination = MaxMessageTermination(max_messages=25)\n",
                "termination = text_mention_termination | max_messages_termination"
            ]
        },
        {
            "cell_type": "markdown",
            "metadata": {},
            "source": [
                "### Selector Prompt\n",
                "\n",
                "{py:class}`~autogen_agentchat.teams.SelectorGroupChat` uses a model to select\n",
                "the next speaker based on the conversation context.\n",
                "We will use a custom selector prompt to properly align with the workflow."
            ]
        },
        {
            "cell_type": "code",
            "execution_count": 8,
            "metadata": {},
            "outputs": [],
            "source": [
                "selector_prompt = \"\"\"Select an agent to perform task.\n",
                "\n",
                "{roles}\n",
                "\n",
                "Current conversation context:\n",
                "{history}\n",
                "\n",
                "Read the above conversation, then select an agent from {participants} to perform the next task.\n",
                "Make sure the planner agent has assigned tasks before other agents start working.\n",
                "Only select one agent.\n",
                "\"\"\""
            ]
        },
        {
            "cell_type": "markdown",
            "metadata": {},
            "source": [
                "The string variables available in the selector prompt are:\n",
                "- `{participants}`: The names of candidates for selection. The format is `[\"<name1>\", \"<name2>\", ...]`.\n",
                "- `{roles}`: A newline-separated list of names and descriptions of the candidate agents. The format for each line is: `\"<name> : <description>\"`.\n",
                "- `{history}`: The conversation history formatted as a double newline separated of names and message content. The format for each message is: `\"<name> : <message content>\"`.\n",
                "\n",
                "```{tip}\n",
                "Try not to overload the model with too much instruction in the selector prompt.\n",
                "\n",
                "What is too much? It depends on the capabilities of the model you are using.\n",
                "For GPT-4o and equivalents, you can use a selector prompt with a condition for when each speaker should be selected.\n",
                "For smaller models such as Phi-4, you should keep the selector prompt as simple as possible\n",
                "such as the one used in this example.\n",
                "\n",
                "Generally, if you find yourself writing multiple conditions for each agent,\n",
                "it is a sign that you should consider using a custom selection function,\n",
                "or breaking down the task into smaller, sequential tasks to be handled by\n",
                "separate agents or teams.\n",
                "```"
            ]
        },
        {
            "cell_type": "markdown",
            "metadata": {},
            "source": [
                "### Running the Team\n",
                "\n",
                "Let's create the team with the agents, termination conditions, and custom selector prompt."
            ]
        },
        {
            "cell_type": "code",
            "execution_count": 9,
            "metadata": {},
            "outputs": [],
            "source": [
                "team = SelectorGroupChat(\n",
                "    [planning_agent, web_search_agent, data_analyst_agent],\n",
                "    model_client=model_client,\n",
                "    termination_condition=termination,\n",
                "    selector_prompt=selector_prompt,\n",
                "    allow_repeated_speaker=True,  # Allow an agent to speak multiple turns in a row.\n",
                ")"
            ]
        },
        {
            "cell_type": "markdown",
            "metadata": {},
            "source": [
                "Now we run the team with a task to find information about an NBA player."
            ]
        },
        {
            "cell_type": "code",
            "execution_count": 10,
            "metadata": {},
            "outputs": [],
            "source": [
                "task = \"Who was the Miami Heat player with the highest points in the 2006-2007 season, and what was the percentage change in his total rebounds between the 2007-2008 and 2008-2009 seasons?\""
            ]
        },
        {
            "cell_type": "code",
            "execution_count": 11,
            "metadata": {},
            "outputs": [
                {
                    "name": "stdout",
                    "output_type": "stream",
                    "text": [
                        "---------- TextMessage (user) ----------\n",
                        "Who was the Miami Heat player with the highest points in the 2006-2007 season, and what was the percentage change in his total rebounds between the 2007-2008 and 2008-2009 seasons?\n"
                    ]
                },
                {
                    "name": "stderr",
                    "output_type": "stream",
                    "text": [
                        "/Users/andy/works/ai/autogen04-sample/.venv/lib/python3.11/site-packages/autogen_agentchat/teams/_group_chat/_selector_group_chat.py:270: UserWarning: Resolved model mismatch: gpt-4o-2024-08-06 != gpt-4o-2024-11-20. Model mapping in autogen_ext.models.openai may be incorrect. Set the model to gpt-4o-2024-11-20 to enhance token/cost estimation and suppress this warning.\n",
                        "  response = await self._model_client.create(messages=select_speaker_messages)\n"
                    ]
                },
                {
                    "name": "stdout",
                    "output_type": "stream",
                    "text": [
                        "---------- TextMessage (PlanningAgent) ----------\n",
                        "To address this query, here is the breakdown of tasks:\n",
                        "\n",
                        "### Step 1: Determine which Miami Heat player had the highest points in the 2006-2007 season.\n",
                        "1. **WebSearchAgent**: Search for the top-scoring player for the Miami Heat during the 2006-2007 NBA season.\n",
                        "\n",
                        "### Step 2: Collect rebound statistics for the identified player for the 2007-2008 and 2008-2009 seasons.\n",
                        "2. **WebSearchAgent**: Find the total rebounds for the identified Miami Heat player in the 2007-2008 season.\n",
                        "3. **WebSearchAgent**: Find the total rebounds for the same player in the 2008-2009 season.\n",
                        "\n",
                        "### Step 3: Calculate the percentage change in the total rebounds between these two seasons.\n",
                        "4. **DataAnalystAgent**: Calculate the percentage change in the player's total rebounds between the 2007-2008 and 2008-2009 seasons using the formula:\n",
                        "   \\[\n",
                        "   \\text{Percentage Change} = \\frac{\\text{Total Rebounds (2008-2009)} - \\text{Total Rebounds (2007-2008)}}{\\text{Total Rebounds (2007-2008)}} \\times 100\n",
                        "   \\]\n",
                        "\n",
                        "Delegating these tasks now.\n"
                    ]
                },
                {
                    "name": "stderr",
                    "output_type": "stream",
                    "text": [
                        "/Users/andy/works/ai/autogen04-sample/.venv/lib/python3.11/site-packages/autogen_agentchat/agents/_assistant_agent.py:981: UserWarning: Resolved model mismatch: gpt-4o-2024-08-06 != gpt-4o-2024-11-20. Model mapping in autogen_ext.models.openai may be incorrect. Set the model to gpt-4o-2024-11-20 to enhance token/cost estimation and suppress this warning.\n",
                        "  model_result = await model_client.create(\n"
                    ]
                },
                {
                    "name": "stdout",
                    "output_type": "stream",
                    "text": [
                        "---------- ToolCallRequestEvent (WebSearchAgent) ----------\n",
                        "[FunctionCall(id='call_0hxO66gMAAahyPxNGgwmPi32', arguments='{\"query\":\"Miami Heat player with highest points in 2006-2007 season\"}', name='search_web_tool')]\n",
                        "---------- ToolCallExecutionEvent (WebSearchAgent) ----------\n",
                        "[FunctionExecutionResult(content='Here are the total points scored by Miami Heat players in the 2006-2007 season:\\n        Udonis Haslem: 844 points\\n        Dwayne Wade: 1397 points\\n        James Posey: 550 points\\n        ...\\n        ', name='search_web_tool', call_id='call_0hxO66gMAAahyPxNGgwmPi32', is_error=False)]\n",
                        "---------- ToolCallSummaryMessage (WebSearchAgent) ----------\n",
                        "Here are the total points scored by Miami Heat players in the 2006-2007 season:\n",
                        "        Udonis Haslem: 844 points\n",
                        "        Dwayne Wade: 1397 points\n",
                        "        James Posey: 550 points\n",
                        "        ...\n",
                        "        \n",
                        "---------- TextMessage (PlanningAgent) ----------\n",
                        "Based on the search results, Dwayne Wade scored the highest points for the Miami Heat in the 2006-2007 season with 1,397 points.\n",
                        "\n",
                        "### Next Steps:\n",
                        "Now we need to analyze Dwayne Wade's total rebounds during the 2007-2008 and 2008-2009 seasons.\n",
                        "\n",
                        "1. **WebSearchAgent**: Search for Dwayne Wade's total rebounds in the 2007-2008 NBA season.\n",
                        "2. **WebSearchAgent**: Search for Dwayne Wade's total rebounds in the 2008-2009 NBA season.\n",
                        "---------- ToolCallRequestEvent (WebSearchAgent) ----------\n",
                        "[FunctionCall(id='call_UBLXXKZYcLPwwhD7VCjXKCOr', arguments='{\"query\": \"Dwayne Wade total rebounds in 2007-2008 season\"}', name='search_web_tool'), FunctionCall(id='call_hBpuZ2MCmg1Z88NZ4bm3HAkF', arguments='{\"query\": \"Dwayne Wade total rebounds in 2008-2009 season\"}', name='search_web_tool')]\n",
                        "---------- ToolCallExecutionEvent (WebSearchAgent) ----------\n",
                        "[FunctionExecutionResult(content='The number of total rebounds for Dwayne Wade in the Miami Heat season 2007-2008 is 214.', name='search_web_tool', call_id='call_UBLXXKZYcLPwwhD7VCjXKCOr', is_error=False), FunctionExecutionResult(content='The number of total rebounds for Dwayne Wade in the Miami Heat season 2008-2009 is 398.', name='search_web_tool', call_id='call_hBpuZ2MCmg1Z88NZ4bm3HAkF', is_error=False)]\n",
                        "---------- ToolCallSummaryMessage (WebSearchAgent) ----------\n",
                        "The number of total rebounds for Dwayne Wade in the Miami Heat season 2007-2008 is 214.\n",
                        "The number of total rebounds for Dwayne Wade in the Miami Heat season 2008-2009 is 398.\n",
                        "---------- ToolCallRequestEvent (DataAnalystAgent) ----------\n",
                        "[FunctionCall(id='call_np64kdXX4MfpEPFcujIw1VNj', arguments='{\"start\":214,\"end\":398}', name='percentage_change_tool')]\n",
                        "---------- ToolCallExecutionEvent (DataAnalystAgent) ----------\n",
                        "[FunctionExecutionResult(content='85.98130841121495', name='percentage_change_tool', call_id='call_np64kdXX4MfpEPFcujIw1VNj', is_error=False)]\n",
                        "---------- ToolCallSummaryMessage (DataAnalystAgent) ----------\n",
                        "85.98130841121495\n",
                        "---------- TextMessage (PlanningAgent) ----------\n",
                        "The calculations show that Dwayne Wade had an **85.98% increase** in total rebounds from the 2007-2008 season (214 rebounds) to the 2008-2009 season (398 rebounds).\n",
                        "\n",
                        "### Summary:\n",
                        "- The Miami Heat player with the highest points in the 2006-2007 season was **Dwayne Wade**, scoring **1,397 points**.\n",
                        "- His total rebounds increased by **85.98%** between the 2007-2008 and 2008-2009 seasons.\n",
                        "\n",
                        "**TERMINATE**\n"
                    ]
                },
                {
                    "data": {
                        "text/plain": [
                            "TaskResult(messages=[TextMessage(source='user', models_usage=None, metadata={}, created_at=datetime.datetime(2025, 6, 20, 7, 12, 50, 91868, tzinfo=datetime.timezone.utc), content='Who was the Miami Heat player with the highest points in the 2006-2007 season, and what was the percentage change in his total rebounds between the 2007-2008 and 2008-2009 seasons?', type='TextMessage'), TextMessage(source='PlanningAgent', models_usage=RequestUsage(prompt_tokens=161, completion_tokens=273), metadata={}, created_at=datetime.datetime(2025, 6, 20, 7, 12, 57, 849474, tzinfo=datetime.timezone.utc), content=\"To address this query, here is the breakdown of tasks:\\n\\n### Step 1: Determine which Miami Heat player had the highest points in the 2006-2007 season.\\n1. **WebSearchAgent**: Search for the top-scoring player for the Miami Heat during the 2006-2007 NBA season.\\n\\n### Step 2: Collect rebound statistics for the identified player for the 2007-2008 and 2008-2009 seasons.\\n2. **WebSearchAgent**: Find the total rebounds for the identified Miami Heat player in the 2007-2008 season.\\n3. **WebSearchAgent**: Find the total rebounds for the same player in the 2008-2009 season.\\n\\n### Step 3: Calculate the percentage change in the total rebounds between these two seasons.\\n4. **DataAnalystAgent**: Calculate the percentage change in the player's total rebounds between the 2007-2008 and 2008-2009 seasons using the formula:\\n   \\\\[\\n   \\\\text{Percentage Change} = \\\\frac{\\\\text{Total Rebounds (2008-2009)} - \\\\text{Total Rebounds (2007-2008)}}{\\\\text{Total Rebounds (2007-2008)}} \\\\times 100\\n   \\\\]\\n\\nDelegating these tasks now.\", type='TextMessage'), ToolCallRequestEvent(source='WebSearchAgent', models_usage=RequestUsage(prompt_tokens=421, completion_tokens=29), metadata={}, created_at=datetime.datetime(2025, 6, 20, 7, 12, 59, 157138, tzinfo=datetime.timezone.utc), content=[FunctionCall(id='call_0hxO66gMAAahyPxNGgwmPi32', arguments='{\"query\":\"Miami Heat player with highest points in 2006-2007 season\"}', name='search_web_tool')], type='ToolCallRequestEvent'), ToolCallExecutionEvent(source='WebSearchAgent', models_usage=None, metadata={}, created_at=datetime.datetime(2025, 6, 20, 7, 12, 59, 158072, tzinfo=datetime.timezone.utc), content=[FunctionExecutionResult(content='Here are the total points scored by Miami Heat players in the 2006-2007 season:\\n        Udonis Haslem: 844 points\\n        Dwayne Wade: 1397 points\\n        James Posey: 550 points\\n        ...\\n        ', name='search_web_tool', call_id='call_0hxO66gMAAahyPxNGgwmPi32', is_error=False)], type='ToolCallExecutionEvent'), ToolCallSummaryMessage(source='WebSearchAgent', models_usage=None, metadata={}, created_at=datetime.datetime(2025, 6, 20, 7, 12, 59, 158228, tzinfo=datetime.timezone.utc), content='Here are the total points scored by Miami Heat players in the 2006-2007 season:\\n        Udonis Haslem: 844 points\\n        Dwayne Wade: 1397 points\\n        James Posey: 550 points\\n        ...\\n        ', type='ToolCallSummaryMessage', tool_calls=[FunctionCall(id='call_0hxO66gMAAahyPxNGgwmPi32', arguments='{\"query\":\"Miami Heat player with highest points in 2006-2007 season\"}', name='search_web_tool')], results=[FunctionExecutionResult(content='Here are the total points scored by Miami Heat players in the 2006-2007 season:\\n        Udonis Haslem: 844 points\\n        Dwayne Wade: 1397 points\\n        James Posey: 550 points\\n        ...\\n        ', name='search_web_tool', call_id='call_0hxO66gMAAahyPxNGgwmPi32', is_error=False)]), TextMessage(source='PlanningAgent', models_usage=RequestUsage(prompt_tokens=498, completion_tokens=120), metadata={}, created_at=datetime.datetime(2025, 6, 20, 7, 13, 1, 8428, tzinfo=datetime.timezone.utc), content=\"Based on the search results, Dwayne Wade scored the highest points for the Miami Heat in the 2006-2007 season with 1,397 points.\\n\\n### Next Steps:\\nNow we need to analyze Dwayne Wade's total rebounds during the 2007-2008 and 2008-2009 seasons.\\n\\n1. **WebSearchAgent**: Search for Dwayne Wade's total rebounds in the 2007-2008 NBA season.\\n2. **WebSearchAgent**: Search for Dwayne Wade's total rebounds in the 2008-2009 NBA season.\", type='TextMessage'), ToolCallRequestEvent(source='WebSearchAgent', models_usage=RequestUsage(prompt_tokens=637, completion_tokens=71), metadata={}, created_at=datetime.datetime(2025, 6, 20, 7, 13, 2, 371374, tzinfo=datetime.timezone.utc), content=[FunctionCall(id='call_UBLXXKZYcLPwwhD7VCjXKCOr', arguments='{\"query\": \"Dwayne Wade total rebounds in 2007-2008 season\"}', name='search_web_tool'), FunctionCall(id='call_hBpuZ2MCmg1Z88NZ4bm3HAkF', arguments='{\"query\": \"Dwayne Wade total rebounds in 2008-2009 season\"}', name='search_web_tool')], type='ToolCallRequestEvent'), ToolCallExecutionEvent(source='WebSearchAgent', models_usage=None, metadata={}, created_at=datetime.datetime(2025, 6, 20, 7, 13, 2, 372537, tzinfo=datetime.timezone.utc), content=[FunctionExecutionResult(content='The number of total rebounds for Dwayne Wade in the Miami Heat season 2007-2008 is 214.', name='search_web_tool', call_id='call_UBLXXKZYcLPwwhD7VCjXKCOr', is_error=False), FunctionExecutionResult(content='The number of total rebounds for Dwayne Wade in the Miami Heat season 2008-2009 is 398.', name='search_web_tool', call_id='call_hBpuZ2MCmg1Z88NZ4bm3HAkF', is_error=False)], type='ToolCallExecutionEvent'), ToolCallSummaryMessage(source='WebSearchAgent', models_usage=None, metadata={}, created_at=datetime.datetime(2025, 6, 20, 7, 13, 2, 372665, tzinfo=datetime.timezone.utc), content='The number of total rebounds for Dwayne Wade in the Miami Heat season 2007-2008 is 214.\\nThe number of total rebounds for Dwayne Wade in the Miami Heat season 2008-2009 is 398.', type='ToolCallSummaryMessage', tool_calls=[FunctionCall(id='call_UBLXXKZYcLPwwhD7VCjXKCOr', arguments='{\"query\": \"Dwayne Wade total rebounds in 2007-2008 season\"}', name='search_web_tool'), FunctionCall(id='call_hBpuZ2MCmg1Z88NZ4bm3HAkF', arguments='{\"query\": \"Dwayne Wade total rebounds in 2008-2009 season\"}', name='search_web_tool')], results=[FunctionExecutionResult(content='The number of total rebounds for Dwayne Wade in the Miami Heat season 2007-2008 is 214.', name='search_web_tool', call_id='call_UBLXXKZYcLPwwhD7VCjXKCOr', is_error=False), FunctionExecutionResult(content='The number of total rebounds for Dwayne Wade in the Miami Heat season 2008-2009 is 398.', name='search_web_tool', call_id='call_hBpuZ2MCmg1Z88NZ4bm3HAkF', is_error=False)]), ToolCallRequestEvent(source='DataAnalystAgent', models_usage=RequestUsage(prompt_tokens=667, completion_tokens=21), metadata={}, created_at=datetime.datetime(2025, 6, 20, 7, 13, 3, 348490, tzinfo=datetime.timezone.utc), content=[FunctionCall(id='call_np64kdXX4MfpEPFcujIw1VNj', arguments='{\"start\":214,\"end\":398}', name='percentage_change_tool')], type='ToolCallRequestEvent'), ToolCallExecutionEvent(source='DataAnalystAgent', models_usage=None, metadata={}, created_at=datetime.datetime(2025, 6, 20, 7, 13, 3, 352101, tzinfo=datetime.timezone.utc), content=[FunctionExecutionResult(content='85.98130841121495', name='percentage_change_tool', call_id='call_np64kdXX4MfpEPFcujIw1VNj', is_error=False)], type='ToolCallExecutionEvent'), ToolCallSummaryMessage(source='DataAnalystAgent', models_usage=None, metadata={}, created_at=datetime.datetime(2025, 6, 20, 7, 13, 3, 352370, tzinfo=datetime.timezone.utc), content='85.98130841121495', type='ToolCallSummaryMessage', tool_calls=[FunctionCall(id='call_np64kdXX4MfpEPFcujIw1VNj', arguments='{\"start\":214,\"end\":398}', name='percentage_change_tool')], results=[FunctionExecutionResult(content='85.98130841121495', name='percentage_change_tool', call_id='call_np64kdXX4MfpEPFcujIw1VNj', is_error=False)]), TextMessage(source='PlanningAgent', models_usage=RequestUsage(prompt_tokens=693, completion_tokens=115), metadata={}, created_at=datetime.datetime(2025, 6, 20, 7, 13, 6, 184663, tzinfo=datetime.timezone.utc), content='The calculations show that Dwayne Wade had an **85.98% increase** in total rebounds from the 2007-2008 season (214 rebounds) to the 2008-2009 season (398 rebounds).\\n\\n### Summary:\\n- The Miami Heat player with the highest points in the 2006-2007 season was **Dwayne Wade**, scoring **1,397 points**.\\n- His total rebounds increased by **85.98%** between the 2007-2008 and 2008-2009 seasons.\\n\\n**TERMINATE**', type='TextMessage')], stop_reason=\"Text 'TERMINATE' mentioned\")"
                        ]
                    },
                    "execution_count": 11,
                    "metadata": {},
                    "output_type": "execute_result"
                }
            ],
            "source": [
                "# Use asyncio.run(...) if you are running this in a script.\n",
                "await Console(team.run_stream(task=task))"
            ]
        },
        {
            "cell_type": "markdown",
            "metadata": {},
            "source": [
                "As we can see, after the Web Search Agent conducts the necessary searches and the Data Analyst Agent completes the necessary calculations, we find that Dwayne Wade was the Miami Heat player with the highest points in the 2006-2007 season, and the percentage change in his total rebounds between the 2007-2008 and 2008-2009 seasons is 85.98%!"
            ]
        },
        {
            "cell_type": "markdown",
            "metadata": {},
            "source": [
                "## Custom Selector Function"
            ]
        },
        {
            "cell_type": "markdown",
            "metadata": {},
            "source": [
                "Often times we want better control over the selection process.\n",
                "To this end, we can set the `selector_func` argument with a custom selector function to override the default model-based selection.\n",
                "This allows us to implement more complex selection logic and state-based transitions.\n",
                "\n",
                "For instance, we want the Planning Agent to speak immediately after any specialized agent to check the progress.\n",
                "\n",
                "```{note}\n",
                "Returning `None` from the custom selector function will use the default model-based selection.\n",
                "``` \n",
                "\n",
                "```{note}\n",
                "Custom selector functions are not [serialized](https://microsoft.github.io/autogen/stable/user-guide/agentchat-user-guide/serialize-components.html) when `.dump_component()` is called on the SelectorGroupChat team . If you need to serialize team configurations with custom selector functions, consider implementing custom workflows and serialization logic.\n",
                "```"
            ]
        },
        {
            "cell_type": "code",
            "execution_count": 12,
            "metadata": {},
            "outputs": [
                {
                    "name": "stdout",
                    "output_type": "stream",
                    "text": [
                        "---------- TextMessage (user) ----------\n",
                        "Who was the Miami Heat player with the highest points in the 2006-2007 season, and what was the percentage change in his total rebounds between the 2007-2008 and 2008-2009 seasons?\n",
                        "---------- TextMessage (PlanningAgent) ----------\n",
                        "To answer the question, we need two pieces of information:\n",
                        "\n",
                        "1. Identify the Miami Heat player with the highest points in the 2006-2007 season.\n",
                        "2. Calculate the percentage change in the total rebounds of that player between the 2007-2008 and 2008-2009 seasons.\n",
                        "\n",
                        "I will delegate subtasks to gather and analyze the required information.\n",
                        "\n",
                        "### Subtasks:\n",
                        "1. **WebSearchAgent**: Search for the Miami Heat player with the highest points in the 2006-2007 season.\n",
                        "2. **WebSearchAgent**: Find the total rebounds of that player for the 2007-2008 season.\n",
                        "3. **WebSearchAgent**: Find the total rebounds of that player for the 2008-2009 season.\n",
                        "4. **DataAnalystAgent**: Calculate the percentage change in total rebounds between the 2007-2008 and 2008-2009 seasons.\n",
                        "\n",
                        "After each step is completed, let me know the results so we can proceed to the next tasks.\n",
                        "---------- ToolCallRequestEvent (WebSearchAgent) ----------\n",
                        "[FunctionCall(id='call_Iamc8itl5jYYXZYPpQ73Lf3w', arguments='{\"query\":\"Miami Heat player with highest points in 2006-2007 season\"}', name='search_web_tool')]\n",
                        "---------- ToolCallExecutionEvent (WebSearchAgent) ----------\n",
                        "[FunctionExecutionResult(content='Here are the total points scored by Miami Heat players in the 2006-2007 season:\\n        Udonis Haslem: 844 points\\n        Dwayne Wade: 1397 points\\n        James Posey: 550 points\\n        ...\\n        ', name='search_web_tool', call_id='call_Iamc8itl5jYYXZYPpQ73Lf3w', is_error=False)]\n",
                        "---------- ToolCallSummaryMessage (WebSearchAgent) ----------\n",
                        "Here are the total points scored by Miami Heat players in the 2006-2007 season:\n",
                        "        Udonis Haslem: 844 points\n",
                        "        Dwayne Wade: 1397 points\n",
                        "        James Posey: 550 points\n",
                        "        ...\n",
                        "        \n",
                        "---------- TextMessage (PlanningAgent) ----------\n",
                        "Based on the information provided for the 2006-2007 season, Dwyane Wade scored the highest number of points (1397). We will proceed with tasks related to him.\n",
                        "\n",
                        "### Next Subtasks:\n",
                        "1. **WebSearchAgent**: Find Dwyane Wade's total rebounds for the 2007-2008 season.\n",
                        "2. **WebSearchAgent**: Find Dwyane Wade's total rebounds for the 2008-2009 season.\n",
                        "---------- ToolCallRequestEvent (WebSearchAgent) ----------\n",
                        "[FunctionCall(id='call_KJnpMtBKmqHEXT02bk7CpLcI', arguments='{\"query\": \"Dwyane Wade total rebounds 2007-2008 season\"}', name='search_web_tool'), FunctionCall(id='call_c0o2GazMJljSvCLwwqnslcYl', arguments='{\"query\": \"Dwyane Wade total rebounds 2008-2009 season\"}', name='search_web_tool')]\n",
                        "---------- ToolCallExecutionEvent (WebSearchAgent) ----------\n",
                        "[FunctionExecutionResult(content='The number of total rebounds for Dwayne Wade in the Miami Heat season 2007-2008 is 214.', name='search_web_tool', call_id='call_KJnpMtBKmqHEXT02bk7CpLcI', is_error=False), FunctionExecutionResult(content='The number of total rebounds for Dwayne Wade in the Miami Heat season 2008-2009 is 398.', name='search_web_tool', call_id='call_c0o2GazMJljSvCLwwqnslcYl', is_error=False)]\n",
                        "---------- ToolCallSummaryMessage (WebSearchAgent) ----------\n",
                        "The number of total rebounds for Dwayne Wade in the Miami Heat season 2007-2008 is 214.\n",
                        "The number of total rebounds for Dwayne Wade in the Miami Heat season 2008-2009 is 398.\n",
                        "---------- TextMessage (PlanningAgent) ----------\n",
                        "We now have the total rebounds for Dwyane Wade for the 2007-2008 and 2008-2009 seasons (214 and 398 respectively). Next, we will calculate the percentage change.\n",
                        "\n",
                        "### Subtask:\n",
                        "1. **DataAnalystAgent**: Calculate the percentage change in Dwyane Wade's total rebounds between the 2007-2008 and 2008-2009 seasons using the formula:  \n",
                        "   \\[\n",
                        "   \\text{Percentage Change} = \\frac{\\text{New Value} - \\text{Old Value}}{\\text{Old Value}} \\times 100\n",
                        "   \\]\n",
                        "---------- ToolCallRequestEvent (DataAnalystAgent) ----------\n",
                        "[FunctionCall(id='call_U9tHqpHFLoR8Ya319mZUw9cp', arguments='{\"start\":214,\"end\":398}', name='percentage_change_tool')]\n",
                        "---------- ToolCallExecutionEvent (DataAnalystAgent) ----------\n",
                        "[FunctionExecutionResult(content='85.98130841121495', name='percentage_change_tool', call_id='call_U9tHqpHFLoR8Ya319mZUw9cp', is_error=False)]\n",
                        "---------- ToolCallSummaryMessage (DataAnalystAgent) ----------\n",
                        "85.98130841121495\n",
                        "---------- TextMessage (PlanningAgent) ----------\n",
                        "The percentage change in Dwyane Wade's total rebounds between the 2007-2008 and 2008-2009 seasons was approximately **85.98%**.\n",
                        "\n",
                        "### Final Answer:\n",
                        "- The Miami Heat player with the highest points in the 2006-2007 season was **Dwyane Wade**, with 1397 points.\n",
                        "- The percentage increase in his total rebounds from the 2007-2008 season to the 2008-2009 season was **85.98%**.\n",
                        "\n",
                        "**TERMINATE**\n"
                    ]
                },
                {
                    "data": {
                        "text/plain": [
                            "TaskResult(messages=[TextMessage(source='user', models_usage=None, metadata={}, created_at=datetime.datetime(2025, 6, 20, 7, 13, 6, 196486, tzinfo=datetime.timezone.utc), content='Who was the Miami Heat player with the highest points in the 2006-2007 season, and what was the percentage change in his total rebounds between the 2007-2008 and 2008-2009 seasons?', type='TextMessage'), TextMessage(source='PlanningAgent', models_usage=RequestUsage(prompt_tokens=161, completion_tokens=212), metadata={}, created_at=datetime.datetime(2025, 6, 20, 7, 13, 9, 803834, tzinfo=datetime.timezone.utc), content='To answer the question, we need two pieces of information:\\n\\n1. Identify the Miami Heat player with the highest points in the 2006-2007 season.\\n2. Calculate the percentage change in the total rebounds of that player between the 2007-2008 and 2008-2009 seasons.\\n\\nI will delegate subtasks to gather and analyze the required information.\\n\\n### Subtasks:\\n1. **WebSearchAgent**: Search for the Miami Heat player with the highest points in the 2006-2007 season.\\n2. **WebSearchAgent**: Find the total rebounds of that player for the 2007-2008 season.\\n3. **WebSearchAgent**: Find the total rebounds of that player for the 2008-2009 season.\\n4. **DataAnalystAgent**: Calculate the percentage change in total rebounds between the 2007-2008 and 2008-2009 seasons.\\n\\nAfter each step is completed, let me know the results so we can proceed to the next tasks.', type='TextMessage'), ToolCallRequestEvent(source='WebSearchAgent', models_usage=RequestUsage(prompt_tokens=360, completion_tokens=29), metadata={}, created_at=datetime.datetime(2025, 6, 20, 7, 13, 10, 858369, tzinfo=datetime.timezone.utc), content=[FunctionCall(id='call_Iamc8itl5jYYXZYPpQ73Lf3w', arguments='{\"query\":\"Miami Heat player with highest points in 2006-2007 season\"}', name='search_web_tool')], type='ToolCallRequestEvent'), ToolCallExecutionEvent(source='WebSearchAgent', models_usage=None, metadata={}, created_at=datetime.datetime(2025, 6, 20, 7, 13, 10, 859286, tzinfo=datetime.timezone.utc), content=[FunctionExecutionResult(content='Here are the total points scored by Miami Heat players in the 2006-2007 season:\\n        Udonis Haslem: 844 points\\n        Dwayne Wade: 1397 points\\n        James Posey: 550 points\\n        ...\\n        ', name='search_web_tool', call_id='call_Iamc8itl5jYYXZYPpQ73Lf3w', is_error=False)], type='ToolCallExecutionEvent'), ToolCallSummaryMessage(source='WebSearchAgent', models_usage=None, metadata={}, created_at=datetime.datetime(2025, 6, 20, 7, 13, 10, 859371, tzinfo=datetime.timezone.utc), content='Here are the total points scored by Miami Heat players in the 2006-2007 season:\\n        Udonis Haslem: 844 points\\n        Dwayne Wade: 1397 points\\n        James Posey: 550 points\\n        ...\\n        ', type='ToolCallSummaryMessage', tool_calls=[FunctionCall(id='call_Iamc8itl5jYYXZYPpQ73Lf3w', arguments='{\"query\":\"Miami Heat player with highest points in 2006-2007 season\"}', name='search_web_tool')], results=[FunctionExecutionResult(content='Here are the total points scored by Miami Heat players in the 2006-2007 season:\\n        Udonis Haslem: 844 points\\n        Dwayne Wade: 1397 points\\n        James Posey: 550 points\\n        ...\\n        ', name='search_web_tool', call_id='call_Iamc8itl5jYYXZYPpQ73Lf3w', is_error=False)]), TextMessage(source='PlanningAgent', models_usage=RequestUsage(prompt_tokens=437, completion_tokens=96), metadata={}, created_at=datetime.datetime(2025, 6, 20, 7, 13, 12, 153815, tzinfo=datetime.timezone.utc), content=\"Based on the information provided for the 2006-2007 season, Dwyane Wade scored the highest number of points (1397). We will proceed with tasks related to him.\\n\\n### Next Subtasks:\\n1. **WebSearchAgent**: Find Dwyane Wade's total rebounds for the 2007-2008 season.\\n2. **WebSearchAgent**: Find Dwyane Wade's total rebounds for the 2008-2009 season.\", type='TextMessage'), ToolCallRequestEvent(source='WebSearchAgent', models_usage=RequestUsage(prompt_tokens=552, completion_tokens=71), metadata={}, created_at=datetime.datetime(2025, 6, 20, 7, 13, 13, 833122, tzinfo=datetime.timezone.utc), content=[FunctionCall(id='call_KJnpMtBKmqHEXT02bk7CpLcI', arguments='{\"query\": \"Dwyane Wade total rebounds 2007-2008 season\"}', name='search_web_tool'), FunctionCall(id='call_c0o2GazMJljSvCLwwqnslcYl', arguments='{\"query\": \"Dwyane Wade total rebounds 2008-2009 season\"}', name='search_web_tool')], type='ToolCallRequestEvent'), ToolCallExecutionEvent(source='WebSearchAgent', models_usage=None, metadata={}, created_at=datetime.datetime(2025, 6, 20, 7, 13, 13, 838471, tzinfo=datetime.timezone.utc), content=[FunctionExecutionResult(content='The number of total rebounds for Dwayne Wade in the Miami Heat season 2007-2008 is 214.', name='search_web_tool', call_id='call_KJnpMtBKmqHEXT02bk7CpLcI', is_error=False), FunctionExecutionResult(content='The number of total rebounds for Dwayne Wade in the Miami Heat season 2008-2009 is 398.', name='search_web_tool', call_id='call_c0o2GazMJljSvCLwwqnslcYl', is_error=False)], type='ToolCallExecutionEvent'), ToolCallSummaryMessage(source='WebSearchAgent', models_usage=None, metadata={}, created_at=datetime.datetime(2025, 6, 20, 7, 13, 13, 838730, tzinfo=datetime.timezone.utc), content='The number of total rebounds for Dwayne Wade in the Miami Heat season 2007-2008 is 214.\\nThe number of total rebounds for Dwayne Wade in the Miami Heat season 2008-2009 is 398.', type='ToolCallSummaryMessage', tool_calls=[FunctionCall(id='call_KJnpMtBKmqHEXT02bk7CpLcI', arguments='{\"query\": \"Dwyane Wade total rebounds 2007-2008 season\"}', name='search_web_tool'), FunctionCall(id='call_c0o2GazMJljSvCLwwqnslcYl', arguments='{\"query\": \"Dwyane Wade total rebounds 2008-2009 season\"}', name='search_web_tool')], results=[FunctionExecutionResult(content='The number of total rebounds for Dwayne Wade in the Miami Heat season 2007-2008 is 214.', name='search_web_tool', call_id='call_KJnpMtBKmqHEXT02bk7CpLcI', is_error=False), FunctionExecutionResult(content='The number of total rebounds for Dwayne Wade in the Miami Heat season 2008-2009 is 398.', name='search_web_tool', call_id='call_c0o2GazMJljSvCLwwqnslcYl', is_error=False)]), TextMessage(source='PlanningAgent', models_usage=RequestUsage(prompt_tokens=592, completion_tokens=130), metadata={}, created_at=datetime.datetime(2025, 6, 20, 7, 13, 15, 920849, tzinfo=datetime.timezone.utc), content=\"We now have the total rebounds for Dwyane Wade for the 2007-2008 and 2008-2009 seasons (214 and 398 respectively). Next, we will calculate the percentage change.\\n\\n### Subtask:\\n1. **DataAnalystAgent**: Calculate the percentage change in Dwyane Wade's total rebounds between the 2007-2008 and 2008-2009 seasons using the formula:  \\n   \\\\[\\n   \\\\text{Percentage Change} = \\\\frac{\\\\text{New Value} - \\\\text{Old Value}}{\\\\text{Old Value}} \\\\times 100\\n   \\\\]\", type='TextMessage'), ToolCallRequestEvent(source='DataAnalystAgent', models_usage=RequestUsage(prompt_tokens=718, completion_tokens=21), metadata={}, created_at=datetime.datetime(2025, 6, 20, 7, 13, 17, 196418, tzinfo=datetime.timezone.utc), content=[FunctionCall(id='call_U9tHqpHFLoR8Ya319mZUw9cp', arguments='{\"start\":214,\"end\":398}', name='percentage_change_tool')], type='ToolCallRequestEvent'), ToolCallExecutionEvent(source='DataAnalystAgent', models_usage=None, metadata={}, created_at=datetime.datetime(2025, 6, 20, 7, 13, 17, 197310, tzinfo=datetime.timezone.utc), content=[FunctionExecutionResult(content='85.98130841121495', name='percentage_change_tool', call_id='call_U9tHqpHFLoR8Ya319mZUw9cp', is_error=False)], type='ToolCallExecutionEvent'), ToolCallSummaryMessage(source='DataAnalystAgent', models_usage=None, metadata={}, created_at=datetime.datetime(2025, 6, 20, 7, 13, 17, 197420, tzinfo=datetime.timezone.utc), content='85.98130841121495', type='ToolCallSummaryMessage', tool_calls=[FunctionCall(id='call_U9tHqpHFLoR8Ya319mZUw9cp', arguments='{\"start\":214,\"end\":398}', name='percentage_change_tool')], results=[FunctionExecutionResult(content='85.98130841121495', name='percentage_change_tool', call_id='call_U9tHqpHFLoR8Ya319mZUw9cp', is_error=False)]), TextMessage(source='PlanningAgent', models_usage=RequestUsage(prompt_tokens=741, completion_tokens=111), metadata={}, created_at=datetime.datetime(2025, 6, 20, 7, 13, 18, 789358, tzinfo=datetime.timezone.utc), content=\"The percentage change in Dwyane Wade's total rebounds between the 2007-2008 and 2008-2009 seasons was approximately **85.98%**.\\n\\n### Final Answer:\\n- The Miami Heat player with the highest points in the 2006-2007 season was **Dwyane Wade**, with 1397 points.\\n- The percentage increase in his total rebounds from the 2007-2008 season to the 2008-2009 season was **85.98%**.\\n\\n**TERMINATE**\", type='TextMessage')], stop_reason=\"Text 'TERMINATE' mentioned\")"
                        ]
                    },
                    "execution_count": 12,
                    "metadata": {},
                    "output_type": "execute_result"
                }
            ],
            "source": [
                "def selector_func(messages: Sequence[BaseAgentEvent | BaseChatMessage]) -> str | None:\n",
                "    if messages[-1].source != planning_agent.name:\n",
                "        return planning_agent.name\n",
                "    return None\n",
                "\n",
                "\n",
                "# Reset the previous team and run the chat again with the selector function.\n",
                "await team.reset()\n",
                "team = SelectorGroupChat(\n",
                "    [planning_agent, web_search_agent, data_analyst_agent],\n",
                "    model_client=model_client,\n",
                "    termination_condition=termination,\n",
                "    selector_prompt=selector_prompt,\n",
                "    allow_repeated_speaker=True,\n",
                "    selector_func=selector_func,\n",
                ")\n",
                "\n",
                "await Console(team.run_stream(task=task))"
            ]
        },
        {
            "cell_type": "markdown",
            "metadata": {},
            "source": [
                "You can see from the conversation log that the Planning Agent always speaks immediately after the specialized agents.\n",
                "\n",
                "```{tip}\n",
                "Each participant agent only makes one step (executing tools, generating a response, etc.)\n",
                "on each turn. \n",
                "If you want an {py:class}`~autogen_agentchat.agents.AssistantAgent` to repeat\n",
                "until it stop returning a {py:class}`~autogen_agentchat.messages.ToolCallSummaryMessage`\n",
                "when it has finished running all the tools it needs to run, you can do so by\n",
                "checking the last message and returning the agent if it is a\n",
                "{py:class}`~autogen_agentchat.messages.ToolCallSummaryMessage`.\n",
                "```"
            ]
        },
        {
            "cell_type": "markdown",
            "metadata": {},
            "source": [
                "## Custom Candidate Function"
            ]
        },
        {
            "cell_type": "markdown",
            "metadata": {},
            "source": [
                "One more possible requirement might be to automatically select the next speaker from a filtered list of agents.\n",
                "For this, we can set `candidate_func` parameter with a custom candidate function to filter down the list of potential agents for speaker selection for each turn of groupchat.\n",
                "\n",
                "This allow us to restrict speaker selection to a specific set of agents after a given agent.\n",
                "\n",
                "\n",
                "```{note}\n",
                "The `candidate_func` is only valid if `selector_func` is not set.\n",
                "Returning `None` or an empty list `[]` from the custom candidate function will raise a `ValueError`.\n",
                "```"
            ]
        },
        {
            "cell_type": "code",
            "execution_count": 13,
            "metadata": {},
            "outputs": [
                {
                    "name": "stdout",
                    "output_type": "stream",
                    "text": [
                        "---------- TextMessage (user) ----------\n",
                        "Who was the Miami Heat player with the highest points in the 2006-2007 season, and what was the percentage change in his total rebounds between the 2007-2008 and 2008-2009 seasons?\n",
                        "---------- TextMessage (PlanningAgent) ----------\n",
                        "To answer this question, we need to find the following information:\n",
                        "\n",
                        "1. Identify the Miami Heat player with the highest points in the 2006-2007 season.\n",
                        "2. Determine his total rebounds in the 2007-2008 and 2008-2009 seasons.\n",
                        "3. Calculate the percentage change in his total rebounds between the two seasons.\n",
                        "\n",
                        "### Tasks:\n",
                        "1. **WebSearchAgent**: Find the Miami Heat player with the highest points in the 2006-2007 NBA season.\n",
                        "2. **WebSearchAgent**: Find the total rebounds by this player in the 2007-2008 and 2008-2009 NBA seasons.\n",
                        "3. **DataAnalystAgent**: Calculate the percentage change in total rebounds for the player from the 2007-2008 season to the 2008-2009 season. \n",
                        "\n",
                        "Once these are complete, I will summarize the findings.\n",
                        "---------- ToolCallRequestEvent (WebSearchAgent) ----------\n",
                        "[FunctionCall(id='call_pfVeeRvhw74FO7Pt9F73oiqF', arguments='{\"query\":\"Miami Heat highest points player 2006-2007 season\"}', name='search_web_tool')]\n",
                        "---------- ToolCallExecutionEvent (WebSearchAgent) ----------\n",
                        "[FunctionExecutionResult(content='Here are the total points scored by Miami Heat players in the 2006-2007 season:\\n        Udonis Haslem: 844 points\\n        Dwayne Wade: 1397 points\\n        James Posey: 550 points\\n        ...\\n        ', name='search_web_tool', call_id='call_pfVeeRvhw74FO7Pt9F73oiqF', is_error=False)]\n",
                        "---------- ToolCallSummaryMessage (WebSearchAgent) ----------\n",
                        "Here are the total points scored by Miami Heat players in the 2006-2007 season:\n",
                        "        Udonis Haslem: 844 points\n",
                        "        Dwayne Wade: 1397 points\n",
                        "        James Posey: 550 points\n",
                        "        ...\n",
                        "        \n",
                        "---------- TextMessage (DataAnalystAgent) ----------\n",
                        "Based on the information you've provided, Dwyane Wade was the Miami Heat player with the highest points in the 2006-2007 season, as he scored 1,397 points.\n",
                        "\n",
                        "Could you provide data on his total rebounds in the 2007-2008 and 2008-2009 seasons?\n",
                        "---------- TextMessage (PlanningAgent) ----------\n",
                        "Thank you for identifying Dwyane Wade as the player with the highest points in the 2006-2007 season.\n",
                        "\n",
                        "### Next Steps:\n",
                        "1. **WebSearchAgent**: Find the total rebounds by Dwyane Wade in the 2007-2008 NBA season.\n",
                        "2. **WebSearchAgent**: Find the total rebounds by Dwyane Wade in the 2008-2009 NBA season.\n",
                        " \n",
                        "Once we have this information, it will be passed to the **DataAnalystAgent** for calculation.\n",
                        "---------- ToolCallRequestEvent (WebSearchAgent) ----------\n",
                        "[FunctionCall(id='call_5Lp3it5ewbmRiyKye2Nn9tyk', arguments='{\"query\": \"Dwyane Wade total rebounds 2007-2008 NBA season\"}', name='search_web_tool'), FunctionCall(id='call_GYtcUuYJudCtwymyUwgnqvgi', arguments='{\"query\": \"Dwyane Wade total rebounds 2008-2009 NBA season\"}', name='search_web_tool')]\n",
                        "---------- ToolCallExecutionEvent (WebSearchAgent) ----------\n",
                        "[FunctionExecutionResult(content='The number of total rebounds for Dwayne Wade in the Miami Heat season 2007-2008 is 214.', name='search_web_tool', call_id='call_5Lp3it5ewbmRiyKye2Nn9tyk', is_error=False), FunctionExecutionResult(content='The number of total rebounds for Dwayne Wade in the Miami Heat season 2008-2009 is 398.', name='search_web_tool', call_id='call_GYtcUuYJudCtwymyUwgnqvgi', is_error=False)]\n",
                        "---------- ToolCallSummaryMessage (WebSearchAgent) ----------\n",
                        "The number of total rebounds for Dwayne Wade in the Miami Heat season 2007-2008 is 214.\n",
                        "The number of total rebounds for Dwayne Wade in the Miami Heat season 2008-2009 is 398.\n",
                        "---------- TextMessage (PlanningAgent) ----------\n",
                        "Thank you for the data! Now we can proceed to calculate the percentage change in Dwyane Wade's total rebounds between the 2007-2008 and 2008-2009 seasons.\n",
                        "\n",
                        "### Task:\n",
                        "1. **DataAnalystAgent**: Calculate the percentage change in total rebounds for Dwyane Wade from 214 in the 2007-2008 season to 398 in the 2008-2009 season.\n",
                        "---------- ToolCallRequestEvent (DataAnalystAgent) ----------\n",
                        "[FunctionCall(id='call_WidXnAeQCfIItKAH9lp3q7dK', arguments='{\"start\":214,\"end\":398}', name='percentage_change_tool')]\n",
                        "---------- ToolCallExecutionEvent (DataAnalystAgent) ----------\n",
                        "[FunctionExecutionResult(content='85.98130841121495', name='percentage_change_tool', call_id='call_WidXnAeQCfIItKAH9lp3q7dK', is_error=False)]\n",
                        "---------- ToolCallSummaryMessage (DataAnalystAgent) ----------\n",
                        "85.98130841121495\n",
                        "---------- TextMessage (PlanningAgent) ----------\n",
                        "The percentage change in Dwyane Wade's total rebounds from the 2007-2008 season (214 rebounds) to the 2008-2009 season (398 rebounds) was approximately **85.98%**.\n",
                        "\n",
                        "### Summary:\n",
                        "1. The Miami Heat player with the highest points in the 2006-2007 season was **Dwyane Wade**, with 1,397 points.\n",
                        "2. The percentage change in Dwyane Wade's total rebounds from the 2007-2008 season to the 2008-2009 season was approximately **85.98%**.\n",
                        "\n",
                        "**TERMINATE**\n"
                    ]
                },
                {
                    "data": {
                        "text/plain": [
                            "TaskResult(messages=[TextMessage(source='user', models_usage=None, metadata={}, created_at=datetime.datetime(2025, 6, 20, 7, 13, 18, 804399, tzinfo=datetime.timezone.utc), content='Who was the Miami Heat player with the highest points in the 2006-2007 season, and what was the percentage change in his total rebounds between the 2007-2008 and 2008-2009 seasons?', type='TextMessage'), TextMessage(source='PlanningAgent', models_usage=RequestUsage(prompt_tokens=161, completion_tokens=187), metadata={}, created_at=datetime.datetime(2025, 6, 20, 7, 13, 21, 451344, tzinfo=datetime.timezone.utc), content='To answer this question, we need to find the following information:\\n\\n1. Identify the Miami Heat player with the highest points in the 2006-2007 season.\\n2. Determine his total rebounds in the 2007-2008 and 2008-2009 seasons.\\n3. Calculate the percentage change in his total rebounds between the two seasons.\\n\\n### Tasks:\\n1. **WebSearchAgent**: Find the Miami Heat player with the highest points in the 2006-2007 NBA season.\\n2. **WebSearchAgent**: Find the total rebounds by this player in the 2007-2008 and 2008-2009 NBA seasons.\\n3. **DataAnalystAgent**: Calculate the percentage change in total rebounds for the player from the 2007-2008 season to the 2008-2009 season. \\n\\nOnce these are complete, I will summarize the findings.', type='TextMessage'), ToolCallRequestEvent(source='WebSearchAgent', models_usage=RequestUsage(prompt_tokens=335, completion_tokens=27), metadata={}, created_at=datetime.datetime(2025, 6, 20, 7, 13, 22, 714534, tzinfo=datetime.timezone.utc), content=[FunctionCall(id='call_pfVeeRvhw74FO7Pt9F73oiqF', arguments='{\"query\":\"Miami Heat highest points player 2006-2007 season\"}', name='search_web_tool')], type='ToolCallRequestEvent'), ToolCallExecutionEvent(source='WebSearchAgent', models_usage=None, metadata={}, created_at=datetime.datetime(2025, 6, 20, 7, 13, 22, 715181, tzinfo=datetime.timezone.utc), content=[FunctionExecutionResult(content='Here are the total points scored by Miami Heat players in the 2006-2007 season:\\n        Udonis Haslem: 844 points\\n        Dwayne Wade: 1397 points\\n        James Posey: 550 points\\n        ...\\n        ', name='search_web_tool', call_id='call_pfVeeRvhw74FO7Pt9F73oiqF', is_error=False)], type='ToolCallExecutionEvent'), ToolCallSummaryMessage(source='WebSearchAgent', models_usage=None, metadata={}, created_at=datetime.datetime(2025, 6, 20, 7, 13, 22, 715273, tzinfo=datetime.timezone.utc), content='Here are the total points scored by Miami Heat players in the 2006-2007 season:\\n        Udonis Haslem: 844 points\\n        Dwayne Wade: 1397 points\\n        James Posey: 550 points\\n        ...\\n        ', type='ToolCallSummaryMessage', tool_calls=[FunctionCall(id='call_pfVeeRvhw74FO7Pt9F73oiqF', arguments='{\"query\":\"Miami Heat highest points player 2006-2007 season\"}', name='search_web_tool')], results=[FunctionExecutionResult(content='Here are the total points scored by Miami Heat players in the 2006-2007 season:\\n        Udonis Haslem: 844 points\\n        Dwayne Wade: 1397 points\\n        James Posey: 550 points\\n        ...\\n        ', name='search_web_tool', call_id='call_pfVeeRvhw74FO7Pt9F73oiqF', is_error=False)]), TextMessage(source='DataAnalystAgent', models_usage=RequestUsage(prompt_tokens=399, completion_tokens=66), metadata={}, created_at=datetime.datetime(2025, 6, 20, 7, 13, 23, 983925, tzinfo=datetime.timezone.utc), content=\"Based on the information you've provided, Dwyane Wade was the Miami Heat player with the highest points in the 2006-2007 season, as he scored 1,397 points.\\n\\nCould you provide data on his total rebounds in the 2007-2008 and 2008-2009 seasons?\", type='TextMessage'), TextMessage(source='PlanningAgent', models_usage=RequestUsage(prompt_tokens=485, completion_tokens=108), metadata={}, created_at=datetime.datetime(2025, 6, 20, 7, 13, 25, 759296, tzinfo=datetime.timezone.utc), content='Thank you for identifying Dwyane Wade as the player with the highest points in the 2006-2007 season.\\n\\n### Next Steps:\\n1. **WebSearchAgent**: Find the total rebounds by Dwyane Wade in the 2007-2008 NBA season.\\n2. **WebSearchAgent**: Find the total rebounds by Dwyane Wade in the 2008-2009 NBA season.\\n \\nOnce we have this information, it will be passed to the **DataAnalystAgent** for calculation.', type='TextMessage'), ToolCallRequestEvent(source='WebSearchAgent', models_usage=RequestUsage(prompt_tokens=610, completion_tokens=73), metadata={}, created_at=datetime.datetime(2025, 6, 20, 7, 13, 27, 544595, tzinfo=datetime.timezone.utc), content=[FunctionCall(id='call_5Lp3it5ewbmRiyKye2Nn9tyk', arguments='{\"query\": \"Dwyane Wade total rebounds 2007-2008 NBA season\"}', name='search_web_tool'), FunctionCall(id='call_GYtcUuYJudCtwymyUwgnqvgi', arguments='{\"query\": \"Dwyane Wade total rebounds 2008-2009 NBA season\"}', name='search_web_tool')], type='ToolCallRequestEvent'), ToolCallExecutionEvent(source='WebSearchAgent', models_usage=None, metadata={}, created_at=datetime.datetime(2025, 6, 20, 7, 13, 27, 546640, tzinfo=datetime.timezone.utc), content=[FunctionExecutionResult(content='The number of total rebounds for Dwayne Wade in the Miami Heat season 2007-2008 is 214.', name='search_web_tool', call_id='call_5Lp3it5ewbmRiyKye2Nn9tyk', is_error=False), FunctionExecutionResult(content='The number of total rebounds for Dwayne Wade in the Miami Heat season 2008-2009 is 398.', name='search_web_tool', call_id='call_GYtcUuYJudCtwymyUwgnqvgi', is_error=False)], type='ToolCallExecutionEvent'), ToolCallSummaryMessage(source='WebSearchAgent', models_usage=None, metadata={}, created_at=datetime.datetime(2025, 6, 20, 7, 13, 27, 546834, tzinfo=datetime.timezone.utc), content='The number of total rebounds for Dwayne Wade in the Miami Heat season 2007-2008 is 214.\\nThe number of total rebounds for Dwayne Wade in the Miami Heat season 2008-2009 is 398.', type='ToolCallSummaryMessage', tool_calls=[FunctionCall(id='call_5Lp3it5ewbmRiyKye2Nn9tyk', arguments='{\"query\": \"Dwyane Wade total rebounds 2007-2008 NBA season\"}', name='search_web_tool'), FunctionCall(id='call_GYtcUuYJudCtwymyUwgnqvgi', arguments='{\"query\": \"Dwyane Wade total rebounds 2008-2009 NBA season\"}', name='search_web_tool')], results=[FunctionExecutionResult(content='The number of total rebounds for Dwayne Wade in the Miami Heat season 2007-2008 is 214.', name='search_web_tool', call_id='call_5Lp3it5ewbmRiyKye2Nn9tyk', is_error=False), FunctionExecutionResult(content='The number of total rebounds for Dwayne Wade in the Miami Heat season 2008-2009 is 398.', name='search_web_tool', call_id='call_GYtcUuYJudCtwymyUwgnqvgi', is_error=False)]), TextMessage(source='PlanningAgent', models_usage=RequestUsage(prompt_tokens=652, completion_tokens=90), metadata={}, created_at=datetime.datetime(2025, 6, 20, 7, 13, 29, 53259, tzinfo=datetime.timezone.utc), content=\"Thank you for the data! Now we can proceed to calculate the percentage change in Dwyane Wade's total rebounds between the 2007-2008 and 2008-2009 seasons.\\n\\n### Task:\\n1. **DataAnalystAgent**: Calculate the percentage change in total rebounds for Dwyane Wade from 214 in the 2007-2008 season to 398 in the 2008-2009 season.\", type='TextMessage'), ToolCallRequestEvent(source='DataAnalystAgent', models_usage=RequestUsage(prompt_tokens=733, completion_tokens=21), metadata={}, created_at=datetime.datetime(2025, 6, 20, 7, 13, 29, 528151, tzinfo=datetime.timezone.utc), content=[FunctionCall(id='call_WidXnAeQCfIItKAH9lp3q7dK', arguments='{\"start\":214,\"end\":398}', name='percentage_change_tool')], type='ToolCallRequestEvent'), ToolCallExecutionEvent(source='DataAnalystAgent', models_usage=None, metadata={}, created_at=datetime.datetime(2025, 6, 20, 7, 13, 29, 529143, tzinfo=datetime.timezone.utc), content=[FunctionExecutionResult(content='85.98130841121495', name='percentage_change_tool', call_id='call_WidXnAeQCfIItKAH9lp3q7dK', is_error=False)], type='ToolCallExecutionEvent'), ToolCallSummaryMessage(source='DataAnalystAgent', models_usage=None, metadata={}, created_at=datetime.datetime(2025, 6, 20, 7, 13, 29, 529291, tzinfo=datetime.timezone.utc), content='85.98130841121495', type='ToolCallSummaryMessage', tool_calls=[FunctionCall(id='call_WidXnAeQCfIItKAH9lp3q7dK', arguments='{\"start\":214,\"end\":398}', name='percentage_change_tool')], results=[FunctionExecutionResult(content='85.98130841121495', name='percentage_change_tool', call_id='call_WidXnAeQCfIItKAH9lp3q7dK', is_error=False)]), TextMessage(source='PlanningAgent', models_usage=RequestUsage(prompt_tokens=761, completion_tokens=128), metadata={}, created_at=datetime.datetime(2025, 6, 20, 7, 13, 31, 840174, tzinfo=datetime.timezone.utc), content=\"The percentage change in Dwyane Wade's total rebounds from the 2007-2008 season (214 rebounds) to the 2008-2009 season (398 rebounds) was approximately **85.98%**.\\n\\n### Summary:\\n1. The Miami Heat player with the highest points in the 2006-2007 season was **Dwyane Wade**, with 1,397 points.\\n2. The percentage change in Dwyane Wade's total rebounds from the 2007-2008 season to the 2008-2009 season was approximately **85.98%**.\\n\\n**TERMINATE**\", type='TextMessage')], stop_reason=\"Text 'TERMINATE' mentioned\")"
                        ]
                    },
                    "execution_count": 13,
                    "metadata": {},
                    "output_type": "execute_result"
                }
            ],
            "source": [
                "def candidate_func(messages: Sequence[BaseAgentEvent | BaseChatMessage]) -> List[str]:\n",
                "    # keep planning_agent first one to plan out the tasks\n",
                "    if messages[-1].source == \"user\":\n",
                "        return [planning_agent.name]\n",
                "\n",
                "    # if previous agent is planning_agent and if it explicitely asks for web_search_agent\n",
                "    # or data_analyst_agent or both (in-case of re-planning or re-assignment of tasks)\n",
                "    # then return those specific agents\n",
                "    last_message = messages[-1]\n",
                "    if last_message.source == planning_agent.name:\n",
                "        participants = []\n",
                "        if web_search_agent.name in last_message.to_text():\n",
                "            participants.append(web_search_agent.name)\n",
                "        if data_analyst_agent.name in last_message.to_text():\n",
                "            participants.append(data_analyst_agent.name)\n",
                "        if participants:\n",
                "            return participants  # SelectorGroupChat will select from the remaining two agents.\n",
                "\n",
                "    # we can assume that the task is finished once the web_search_agent\n",
                "    # and data_analyst_agent have took their turns, thus we send\n",
                "    # in planning_agent to terminate the chat\n",
                "    previous_set_of_agents = set(message.source for message in messages)\n",
                "    if web_search_agent.name in previous_set_of_agents and data_analyst_agent.name in previous_set_of_agents:\n",
                "        return [planning_agent.name]\n",
                "\n",
                "    # if no-conditions are met then return all the agents\n",
                "    return [planning_agent.name, web_search_agent.name, data_analyst_agent.name]\n",
                "\n",
                "\n",
                "# Reset the previous team and run the chat again with the selector function.\n",
                "await team.reset()\n",
                "team = SelectorGroupChat(\n",
                "    [planning_agent, web_search_agent, data_analyst_agent],\n",
                "    model_client=model_client,\n",
                "    termination_condition=termination,\n",
                "    candidate_func=candidate_func,\n",
                ")\n",
                "\n",
                "await Console(team.run_stream(task=task))"
            ]
        },
        {
            "cell_type": "markdown",
            "metadata": {},
            "source": [
                "You can see from the conversation log that the Planning Agent returns to conversation once the Web Search Agent and Data Analyst Agent took their turns and it finds that the task was not finished as expected so it called the WebSearchAgent again to get rebound values and then called DataAnalysetAgent to get the percentage change."
            ]
        },
        {
            "cell_type": "markdown",
            "metadata": {},
            "source": [
                "## User Feedback\n",
                "\n",
                "We can add {py:class}`~autogen_agentchat.agents.UserProxyAgent` to the team to\n",
                "provide user feedback during a run.\n",
                "See [Human-in-the-Loop](./tutorial/human-in-the-loop.ipynb) for more details\n",
                "about {py:class}`~autogen_agentchat.agents.UserProxyAgent`.\n",
                "\n",
                "To use the {py:class}`~autogen_agentchat.agents.UserProxyAgent` in the \n",
                "web search example, we simply add it to the team and update the selector function\n",
                "to always check for user feedback after the planning agent speaks.\n",
                "If the user responds with `\"APPROVE\"`, the conversation continues, otherwise,\n",
                "the planning agent tries again, until the user approves."
            ]
        },
        {
            "cell_type": "code",
            "execution_count": 14,
            "metadata": {},
            "outputs": [
                {
                    "name": "stdout",
                    "output_type": "stream",
                    "text": [
                        "---------- TextMessage (user) ----------\n",
                        "Who was the Miami Heat player with the highest points in the 2006-2007 season, and what was the percentage change in his total rebounds between the 2007-2008 and 2008-2009 seasons?\n",
                        "---------- TextMessage (PlanningAgent) ----------\n",
                        "To answer this question, we need to:\n",
                        "\n",
                        "1. Identify the Miami Heat player with the highest points in the 2006-2007 season.\n",
                        "2. Find the total rebounds for this player in the 2007-2008 and 2008-2009 seasons.\n",
                        "3. Calculate the percentage change in their total rebounds between these two seasons.\n",
                        "\n",
                        "### Tasks:\n",
                        "\n",
                        "1. **WebSearchAgent**: Find out which Miami Heat player had the highest points during the 2006-2007 NBA season.\n",
                        "2. **WebSearchAgent**: Determine the total rebounds for this player during the 2007-2008 NBA season.\n",
                        "3. **WebSearchAgent**: Determine the total rebounds for this player during the 2008-2009 NBA season.\n",
                        "4. **DataAnalystAgent**: Calculate the percentage change in total rebounds between the 2007-2008 and 2008-2009 seasons. \n",
                        "\n",
                        "Let us proceed.\n",
                        "---------- TextMessage (UserProxyAgent) ----------\n",
                        "hi\n",
                        "---------- TextMessage (PlanningAgent) ----------\n",
                        "Hello! How can I assist you today? Are you seeking help with a specific task or plan? Let me know!\n",
                        "---------- TextMessage (UserProxyAgent) ----------\n",
                        "\n",
                        "---------- TextMessage (PlanningAgent) ----------\n",
                        "It seems you haven’t provided any additional information or tasks yet. I’m here to help you break down any complex requests. Let me know if you need assistance!\n",
                        "---------- TextMessage (UserProxyAgent) ----------\n",
                        "1\n",
                        "---------- TextMessage (PlanningAgent) ----------\n",
                        "It seems like there is no specific task assigned yet. If you need help with something, please provide more details about your request or inquiry. I'm ready to assist!\n",
                        "---------- TextMessage (UserProxyAgent) ----------\n",
                        "give me thr result\n",
                        "---------- TextMessage (PlanningAgent) ----------\n",
                        "I'm unable to execute tasks myself, as I'm a planning agent. However, here's the task breakdown for your query regarding the Miami Heat player stats. You'll need execution agents like **WebSearchAgent** or **DataAnalystAgent** to gather and compute the information.\n",
                        "\n",
                        "Here's your plan again:\n",
                        "\n",
                        "1. **WebSearchAgent:** Find out the Miami Heat player with the highest points during the 2006-2007 NBA season.\n",
                        "2. **WebSearchAgent:** Determine the total rebounds for this player during the 2007-2008 NBA season.\n",
                        "3. **WebSearchAgent:** Determine the total rebounds for this player during the 2008-2009 NBA season.\n",
                        "4. **DataAnalystAgent:** Calculate the percentage change in total rebounds between the 2007-2008 and 2008-2009 seasons.\n",
                        "\n",
                        "If assigned agents completed these tasks, let me know their results, and I'll summarize for you!\n",
                        "---------- TextMessage (UserProxyAgent) ----------\n",
                        "exit\n",
                        "---------- TextMessage (PlanningAgent) ----------\n",
                        "Alright! If you need help in the future, feel free to ask. Have a great day! **TERMINATE**\n"
                    ]
                },
                {
                    "data": {
                        "text/plain": [
                            "TaskResult(messages=[TextMessage(source='user', models_usage=None, metadata={}, created_at=datetime.datetime(2025, 6, 20, 7, 13, 31, 850178, tzinfo=datetime.timezone.utc), content='Who was the Miami Heat player with the highest points in the 2006-2007 season, and what was the percentage change in his total rebounds between the 2007-2008 and 2008-2009 seasons?', type='TextMessage'), TextMessage(source='PlanningAgent', models_usage=RequestUsage(prompt_tokens=161, completion_tokens=194), metadata={}, created_at=datetime.datetime(2025, 6, 20, 7, 13, 34, 288893, tzinfo=datetime.timezone.utc), content='To answer this question, we need to:\\n\\n1. Identify the Miami Heat player with the highest points in the 2006-2007 season.\\n2. Find the total rebounds for this player in the 2007-2008 and 2008-2009 seasons.\\n3. Calculate the percentage change in their total rebounds between these two seasons.\\n\\n### Tasks:\\n\\n1. **WebSearchAgent**: Find out which Miami Heat player had the highest points during the 2006-2007 NBA season.\\n2. **WebSearchAgent**: Determine the total rebounds for this player during the 2007-2008 NBA season.\\n3. **WebSearchAgent**: Determine the total rebounds for this player during the 2008-2009 NBA season.\\n4. **DataAnalystAgent**: Calculate the percentage change in total rebounds between the 2007-2008 and 2008-2009 seasons. \\n\\nLet us proceed.', type='TextMessage'), UserInputRequestedEvent(source='UserProxyAgent', models_usage=None, metadata={}, created_at=datetime.datetime(2025, 6, 20, 7, 13, 34, 290343, tzinfo=datetime.timezone.utc), request_id='075cc551-605d-46c7-95b4-74864213c66c', content='', type='UserInputRequestedEvent'), TextMessage(source='UserProxyAgent', models_usage=None, metadata={}, created_at=datetime.datetime(2025, 6, 20, 7, 13, 40, 468152, tzinfo=datetime.timezone.utc), content='hi', type='TextMessage'), TextMessage(source='PlanningAgent', models_usage=RequestUsage(prompt_tokens=367, completion_tokens=25), metadata={}, created_at=datetime.datetime(2025, 6, 20, 7, 13, 41, 286103, tzinfo=datetime.timezone.utc), content='Hello! How can I assist you today? Are you seeking help with a specific task or plan? Let me know!', type='TextMessage'), UserInputRequestedEvent(source='UserProxyAgent', models_usage=None, metadata={}, created_at=datetime.datetime(2025, 6, 20, 7, 13, 41, 289316, tzinfo=datetime.timezone.utc), request_id='263e990b-3b30-46a0-9241-6df5d9398962', content='', type='UserInputRequestedEvent'), TextMessage(source='UserProxyAgent', models_usage=None, metadata={}, created_at=datetime.datetime(2025, 6, 20, 7, 13, 42, 946834, tzinfo=datetime.timezone.utc), content='', type='TextMessage'), TextMessage(source='PlanningAgent', models_usage=RequestUsage(prompt_tokens=403, completion_tokens=34), metadata={}, created_at=datetime.datetime(2025, 6, 20, 7, 13, 43, 522696, tzinfo=datetime.timezone.utc), content='It seems you haven’t provided any additional information or tasks yet. I’m here to help you break down any complex requests. Let me know if you need assistance!', type='TextMessage'), UserInputRequestedEvent(source='UserProxyAgent', models_usage=None, metadata={}, created_at=datetime.datetime(2025, 6, 20, 7, 13, 43, 524390, tzinfo=datetime.timezone.utc), request_id='606ee69a-1c76-4bab-8ee5-5ca9908f0bc9', content='', type='UserInputRequestedEvent'), TextMessage(source='UserProxyAgent', models_usage=None, metadata={}, created_at=datetime.datetime(2025, 6, 20, 7, 13, 54, 89269, tzinfo=datetime.timezone.utc), content='1', type='TextMessage'), TextMessage(source='PlanningAgent', models_usage=RequestUsage(prompt_tokens=449, completion_tokens=34), metadata={}, created_at=datetime.datetime(2025, 6, 20, 7, 13, 55, 280315, tzinfo=datetime.timezone.utc), content=\"It seems like there is no specific task assigned yet. If you need help with something, please provide more details about your request or inquiry. I'm ready to assist!\", type='TextMessage'), UserInputRequestedEvent(source='UserProxyAgent', models_usage=None, metadata={}, created_at=datetime.datetime(2025, 6, 20, 7, 13, 55, 281576, tzinfo=datetime.timezone.utc), request_id='d2ebcad0-25e2-4880-98cb-110969454840', content='', type='UserInputRequestedEvent'), TextMessage(source='UserProxyAgent', models_usage=None, metadata={}, created_at=datetime.datetime(2025, 6, 20, 7, 14, 9, 163538, tzinfo=datetime.timezone.utc), content='give me thr result', type='TextMessage'), TextMessage(source='PlanningAgent', models_usage=RequestUsage(prompt_tokens=498, completion_tokens=188), metadata={}, created_at=datetime.datetime(2025, 6, 20, 7, 14, 13, 509347, tzinfo=datetime.timezone.utc), content=\"I'm unable to execute tasks myself, as I'm a planning agent. However, here's the task breakdown for your query regarding the Miami Heat player stats. You'll need execution agents like **WebSearchAgent** or **DataAnalystAgent** to gather and compute the information.\\n\\nHere's your plan again:\\n\\n1. **WebSearchAgent:** Find out the Miami Heat player with the highest points during the 2006-2007 NBA season.\\n2. **WebSearchAgent:** Determine the total rebounds for this player during the 2007-2008 NBA season.\\n3. **WebSearchAgent:** Determine the total rebounds for this player during the 2008-2009 NBA season.\\n4. **DataAnalystAgent:** Calculate the percentage change in total rebounds between the 2007-2008 and 2008-2009 seasons.\\n\\nIf assigned agents completed these tasks, let me know their results, and I'll summarize for you!\", type='TextMessage'), UserInputRequestedEvent(source='UserProxyAgent', models_usage=None, metadata={}, created_at=datetime.datetime(2025, 6, 20, 7, 14, 13, 512862, tzinfo=datetime.timezone.utc), request_id='4ae5d8a9-a9da-4ad6-887b-45cb55c7020f', content='', type='UserInputRequestedEvent'), TextMessage(source='UserProxyAgent', models_usage=None, metadata={}, created_at=datetime.datetime(2025, 6, 20, 7, 14, 16, 156113, tzinfo=datetime.timezone.utc), content='exit', type='TextMessage'), TextMessage(source='PlanningAgent', models_usage=RequestUsage(prompt_tokens=698, completion_tokens=26), metadata={}, created_at=datetime.datetime(2025, 6, 20, 7, 14, 16, 722636, tzinfo=datetime.timezone.utc), content='Alright! If you need help in the future, feel free to ask. Have a great day! **TERMINATE**', type='TextMessage')], stop_reason=\"Text 'TERMINATE' mentioned\")"
                        ]
                    },
                    "execution_count": 14,
                    "metadata": {},
                    "output_type": "execute_result"
                }
            ],
            "source": [
                "user_proxy_agent = UserProxyAgent(\"UserProxyAgent\", description=\"A proxy for the user to approve or disapprove tasks.\")\n",
                "\n",
                "\n",
                "def selector_func_with_user_proxy(messages: Sequence[BaseAgentEvent | BaseChatMessage]) -> str | None:\n",
                "    if messages[-1].source != planning_agent.name and messages[-1].source != user_proxy_agent.name:\n",
                "        # Planning agent should be the first to engage when given a new task, or check progress.\n",
                "        return planning_agent.name\n",
                "    if messages[-1].source == planning_agent.name:\n",
                "        if messages[-2].source == user_proxy_agent.name and \"APPROVE\" in messages[-1].content.upper():  # type: ignore\n",
                "            # User has approved the plan, proceed to the next agent.\n",
                "            return None\n",
                "        # Use the user proxy agent to get the user's approval to proceed.\n",
                "        return user_proxy_agent.name\n",
                "    if messages[-1].source == user_proxy_agent.name:\n",
                "        # If the user does not approve, return to the planning agent.\n",
                "        if \"APPROVE\" not in messages[-1].content.upper():  # type: ignore\n",
                "            return planning_agent.name\n",
                "    return None\n",
                "\n",
                "\n",
                "# Reset the previous agents and run the chat again with the user proxy agent and selector function.\n",
                "await team.reset()\n",
                "team = SelectorGroupChat(\n",
                "    [planning_agent, web_search_agent, data_analyst_agent, user_proxy_agent],\n",
                "    model_client=model_client,\n",
                "    termination_condition=termination,\n",
                "    selector_prompt=selector_prompt,\n",
                "    selector_func=selector_func_with_user_proxy,\n",
                "    allow_repeated_speaker=True,\n",
                ")\n",
                "\n",
                "await Console(team.run_stream(task=task))"
            ]
        },
        {
            "cell_type": "markdown",
            "metadata": {},
            "source": [
                "Now, the user's feedback is incorporated into the conversation flow,\n",
                "and the user can approve or reject the planning agent's decisions."
            ]
        },
        {
            "cell_type": "markdown",
            "metadata": {},
            "source": [
                "## Using Reasoning Models\n",
                "\n",
                "So far in the examples, we have used a `gpt-4o` model. Models like `gpt-4o`\n",
                "and `gemini-1.5-flash` are great at following instructions, so you can\n",
                "have relatively detailed instructions in the selector prompt for the team and the \n",
                "system messages for each agent to guide their behavior.\n",
                "\n",
                "However, if you are using a reasoning model like `o3-mini`, you will need to\n",
                "keep the selector prompt and system messages as simple and to the point as possible.\n",
                "This is because the reasoning models are already good at coming up with their own \n",
                "instructions given the context provided to them.\n",
                "\n",
                "This also means that we don't need a planning agent to break down the task\n",
                "anymore, since the {py:class}`~autogen_agentchat.teams.SelectorGroupChat` that\n",
                "uses a reasoning model can do that on its own.\n",
                "\n",
                "In the following example, we will use `o3-mini` as the model for the\n",
                "agents and the team, and we will not use a planning agent.\n",
                "Also, we are keeping the selector prompt and system messages as simple as possible."
            ]
        },
        {
            "cell_type": "code",
            "execution_count": 20,
            "metadata": {},
            "outputs": [],
            "source": [
                "azure_openai_chat_completion_client = AzureOpenAIChatCompletionClient(\n",
                "            model=\"o3-mini\",\n",
                "            azure_endpoint=azure_endpoint,\n",
                "            api_version=\"2024-12-01-preview\",\n",
                "            api_key=api_key\n",
                ")\n",
                "\n",
                "\n",
                "model_client = azure_openai_chat_completion_client\n",
                "\n",
                "web_search_agent = AssistantAgent(\n",
                "    \"WebSearchAgent\",\n",
                "    description=\"An agent for searching information on the web.\",\n",
                "    tools=[search_web_tool],\n",
                "    model_client=model_client,\n",
                "    system_message=\"\"\"Use web search tool to find information.\"\"\",\n",
                ")\n",
                "\n",
                "data_analyst_agent = AssistantAgent(\n",
                "    \"DataAnalystAgent\",\n",
                "    description=\"An agent for performing calculations.\",\n",
                "    model_client=model_client,\n",
                "    tools=[percentage_change_tool],\n",
                "    system_message=\"\"\"Use tool to perform calculation. If you have not seen the data, ask for it.\"\"\",\n",
                ")\n",
                "\n",
                "user_proxy_agent = UserProxyAgent(\n",
                "    \"UserProxyAgent\",\n",
                "    description=\"A user to approve or disapprove tasks.\",\n",
                ")\n",
                "\n",
                "selector_prompt = \"\"\"Select an agent to perform task.\n",
                "\n",
                "{roles}\n",
                "\n",
                "Current conversation context:\n",
                "{history}\n",
                "\n",
                "Read the above conversation, then select an agent from {participants} to perform the next task.\n",
                "When the task is complete, let the user approve or disapprove the task.\n",
                "\"\"\"\n",
                "\n",
                "team = SelectorGroupChat(\n",
                "    [web_search_agent, data_analyst_agent, user_proxy_agent],\n",
                "    model_client=model_client,\n",
                "    termination_condition=termination,  # Use the same termination condition as before.\n",
                "    selector_prompt=selector_prompt,\n",
                "    allow_repeated_speaker=True,\n",
                ")"
            ]
        },
        {
            "cell_type": "code",
            "execution_count": 21,
            "metadata": {},
            "outputs": [
                {
                    "name": "stdout",
                    "output_type": "stream",
                    "text": [
                        "---------- TextMessage (user) ----------\n",
                        "Who was the Miami Heat player with the highest points in the 2006-2007 season, and what was the percentage change in his total rebounds between the 2007-2008 and 2008-2009 seasons?\n",
                        "---------- ToolCallRequestEvent (WebSearchAgent) ----------\n",
                        "[FunctionCall(id='call_u7Pbm9f6p8tqi8yTDhpb5gDb', arguments='{\"query\": \"Who was the Miami Heat player with the highest points in the 2006-2007 season, and what was the percentage change in his total rebounds between the 2007-2008 and 2008-2009 seasons? Miami Heat Dwyane Wade 2006-2007 stats?\"}', name='search_web_tool')]\n",
                        "---------- ToolCallExecutionEvent (WebSearchAgent) ----------\n",
                        "[FunctionExecutionResult(content='Here are the total points scored by Miami Heat players in the 2006-2007 season:\\n        Udonis Haslem: 844 points\\n        Dwayne Wade: 1397 points\\n        James Posey: 550 points\\n        ...\\n        ', name='search_web_tool', call_id='call_u7Pbm9f6p8tqi8yTDhpb5gDb', is_error=False)]\n",
                        "---------- ToolCallSummaryMessage (WebSearchAgent) ----------\n",
                        "Here are the total points scored by Miami Heat players in the 2006-2007 season:\n",
                        "        Udonis Haslem: 844 points\n",
                        "        Dwayne Wade: 1397 points\n",
                        "        James Posey: 550 points\n",
                        "        ...\n",
                        "        \n",
                        "---------- TextMessage (DataAnalystAgent) ----------\n",
                        "I see that Dwyane Wade had the most points in the 2006-2007 season, but I need the specific rebound totals for him during the 2007-2008 and 2008-2009 seasons to calculate the percentage change. Could you please provide those numbers?\n",
                        "---------- ToolCallRequestEvent (WebSearchAgent) ----------\n",
                        "[FunctionCall(id='call_PQ7zMQk09RZD9wDNQjDaLDn2', arguments='{\"query\": \"Dwyane Wade total rebounds Miami Heat 2007-2008 and 2008-2009 season rebound totals\"}', name='search_web_tool')]\n",
                        "---------- ToolCallExecutionEvent (WebSearchAgent) ----------\n",
                        "[FunctionExecutionResult(content='The number of total rebounds for Dwayne Wade in the Miami Heat season 2007-2008 is 214.', name='search_web_tool', call_id='call_PQ7zMQk09RZD9wDNQjDaLDn2', is_error=False)]\n",
                        "---------- ToolCallSummaryMessage (WebSearchAgent) ----------\n",
                        "The number of total rebounds for Dwayne Wade in the Miami Heat season 2007-2008 is 214.\n",
                        "---------- ToolCallRequestEvent (WebSearchAgent) ----------\n",
                        "[FunctionCall(id='call_EuoXPtEXvaI9o3bmHdm7vQPL', arguments='{\"query\": \"Dwyane Wade total rebounds Miami Heat 2008-2009 season rebounds\"}', name='search_web_tool')]\n",
                        "---------- ToolCallExecutionEvent (WebSearchAgent) ----------\n",
                        "[FunctionExecutionResult(content='The number of total rebounds for Dwayne Wade in the Miami Heat season 2008-2009 is 398.', name='search_web_tool', call_id='call_EuoXPtEXvaI9o3bmHdm7vQPL', is_error=False)]\n",
                        "---------- ToolCallSummaryMessage (WebSearchAgent) ----------\n",
                        "The number of total rebounds for Dwayne Wade in the Miami Heat season 2008-2009 is 398.\n",
                        "---------- ToolCallRequestEvent (DataAnalystAgent) ----------\n",
                        "[FunctionCall(id='call_BMU2Gppd6e3upkc7jKRQm90b', arguments='{\"start\": 214, \"end\": 398}', name='percentage_change_tool')]\n",
                        "---------- ToolCallExecutionEvent (DataAnalystAgent) ----------\n",
                        "[FunctionExecutionResult(content='85.98130841121495', name='percentage_change_tool', call_id='call_BMU2Gppd6e3upkc7jKRQm90b', is_error=False)]\n",
                        "---------- ToolCallSummaryMessage (DataAnalystAgent) ----------\n",
                        "85.98130841121495\n",
                        "---------- TextMessage (DataAnalystAgent) ----------\n",
                        "Dwyane Wade led the team in scoring during the 2006-2007 season, and his total rebounds increased by approximately 86% from the 2007-2008 season to the 2008-2009 season.\n",
                        "---------- TextMessage (DataAnalystAgent) ----------\n",
                        "Dwyane Wade led the team with 1,397 points during the 2006-2007 season, and his total rebounds increased by approximately 86% from the 2007-2008 season (214 rebounds) to the 2008-2009 season (398 rebounds).\n",
                        "---------- TextMessage (DataAnalystAgent) ----------\n",
                        "Dwyane Wade led the team with 1,397 points in the 2006-2007 season. Between the 2007-2008 season (214 rebounds) and the 2008-2009 season (398 rebounds), he saw an approximate rebound increase of 86%.\n",
                        "---------- TextMessage (DataAnalystAgent) ----------\n",
                        "Dwyane Wade led the Miami Heat in scoring during the 2006-2007 season with 1,397 points. Additionally, his total rebounds increased by about 86% from 214 rebounds in the 2007-2008 season to 398 rebounds in the 2008-2009 season.\n",
                        "---------- TextMessage (DataAnalystAgent) ----------\n",
                        "Dwyane Wade led the Miami Heat in scoring during the 2006-2007 season with 1,397 points. Additionally, his total rebounds increased by about 86% from 214 rebounds in the 2007-2008 season to 398 rebounds in the 2008-2009 season.\n",
                        "---------- TextMessage (DataAnalystAgent) ----------\n",
                        "Dwyane Wade led the Miami Heat in scoring during the 2006-2007 season with 1,397 points. Furthermore, his total rebounds increased by about 86% from the 2007-2008 season (214 rebounds) to the 2008-2009 season (398 rebounds).\n",
                        "---------- TextMessage (UserProxyAgent) ----------\n",
                        "\n",
                        "---------- TextMessage (DataAnalystAgent) ----------\n",
                        "Dwyane Wade led the Miami Heat in scoring during the 2006-2007 season with 1,397 points. His total rebounds increased by approximately 86% from 214 rebounds in the 2007-2008 season to 398 rebounds in the 2008-2009 season.\n",
                        "---------- TextMessage (DataAnalystAgent) ----------\n",
                        "Dwyane Wade led the team with 1,397 points during the 2006-2007 season, and his total rebounds increased by approximately 86% from 214 rebounds in the 2007-2008 season to 398 rebounds in the 2008-2009 season.\n",
                        "---------- TextMessage (DataAnalystAgent) ----------\n",
                        "Dwyane Wade led the Miami Heat in scoring during the 2006-2007 season with 1,397 points. His total rebounds increased by roughly 86% from 214 rebounds in the 2007-2008 season to 398 rebounds in the 2008-2009 season.\n",
                        "---------- TextMessage (DataAnalystAgent) ----------\n",
                        "Dwyane Wade led the Miami Heat in scoring during the 2006-2007 season with 1,397 points. Additionally, his total rebounds increased by approximately 86% from the 2007-2008 season (214 rebounds) to the 2008-2009 season (398 rebounds).\n",
                        "---------- TextMessage (UserProxyAgent) ----------\n",
                        "\n",
                        "---------- TextMessage (DataAnalystAgent) ----------\n",
                        "Dwyane Wade led the Miami Heat in scoring during the 2006-2007 season with 1,397 points. His total rebounds increased by approximately 86% from 214 rebounds in the 2007-2008 season to 398 rebounds in the 2008-2009 season.\n",
                        "---------- TextMessage (DataAnalystAgent) ----------\n",
                        "Dwyane Wade led the Miami Heat in scoring during the 2006-2007 season with 1,397 points. His rebound totals increased by approximately 86% from 214 rebounds in the 2007-2008 season to 398 rebounds in the 2008-2009 season.\n",
                        "---------- TextMessage (DataAnalystAgent) ----------\n",
                        "Dwyane Wade led the Miami Heat in scoring during the 2006-2007 season with 1,397 points. His total rebounds increased by approximately 86% from the 2007-2008 season (214 rebounds) to the 2008-2009 season (398 rebounds).\n",
                        "---------- TextMessage (DataAnalystAgent) ----------\n",
                        "Dwyane Wade led the Miami Heat in scoring during the 2006-2007 season with 1,397 points. His rebound totals increased by approximately 86% from the 2007-2008 season (214 rebounds) to the 2008-2009 season (398 rebounds).\n",
                        "---------- TextMessage (DataAnalystAgent) ----------\n",
                        "Dwyane Wade led the Miami Heat in scoring during the 2006-2007 season with 1,397 points. His total rebounds increased by approximately 86% from the 2007-2008 season (214 rebounds) to the 2008-2009 season (398 rebounds).\n"
                    ]
                },
                {
                    "data": {
                        "text/plain": [
                            "TaskResult(messages=[TextMessage(source='user', models_usage=None, metadata={}, created_at=datetime.datetime(2025, 6, 20, 7, 19, 28, 18464, tzinfo=datetime.timezone.utc), content='Who was the Miami Heat player with the highest points in the 2006-2007 season, and what was the percentage change in his total rebounds between the 2007-2008 and 2008-2009 seasons?', type='TextMessage'), ToolCallRequestEvent(source='WebSearchAgent', models_usage=RequestUsage(prompt_tokens=103, completion_tokens=276), metadata={}, created_at=datetime.datetime(2025, 6, 20, 7, 19, 40, 29713, tzinfo=datetime.timezone.utc), content=[FunctionCall(id='call_u7Pbm9f6p8tqi8yTDhpb5gDb', arguments='{\"query\": \"Who was the Miami Heat player with the highest points in the 2006-2007 season, and what was the percentage change in his total rebounds between the 2007-2008 and 2008-2009 seasons? Miami Heat Dwyane Wade 2006-2007 stats?\"}', name='search_web_tool')], type='ToolCallRequestEvent'), ToolCallExecutionEvent(source='WebSearchAgent', models_usage=None, metadata={}, created_at=datetime.datetime(2025, 6, 20, 7, 19, 40, 31231, tzinfo=datetime.timezone.utc), content=[FunctionExecutionResult(content='Here are the total points scored by Miami Heat players in the 2006-2007 season:\\n        Udonis Haslem: 844 points\\n        Dwayne Wade: 1397 points\\n        James Posey: 550 points\\n        ...\\n        ', name='search_web_tool', call_id='call_u7Pbm9f6p8tqi8yTDhpb5gDb', is_error=False)], type='ToolCallExecutionEvent'), ToolCallSummaryMessage(source='WebSearchAgent', models_usage=None, metadata={}, created_at=datetime.datetime(2025, 6, 20, 7, 19, 40, 31428, tzinfo=datetime.timezone.utc), content='Here are the total points scored by Miami Heat players in the 2006-2007 season:\\n        Udonis Haslem: 844 points\\n        Dwayne Wade: 1397 points\\n        James Posey: 550 points\\n        ...\\n        ', type='ToolCallSummaryMessage', tool_calls=[FunctionCall(id='call_u7Pbm9f6p8tqi8yTDhpb5gDb', arguments='{\"query\": \"Who was the Miami Heat player with the highest points in the 2006-2007 season, and what was the percentage change in his total rebounds between the 2007-2008 and 2008-2009 seasons? Miami Heat Dwyane Wade 2006-2007 stats?\"}', name='search_web_tool')], results=[FunctionExecutionResult(content='Here are the total points scored by Miami Heat players in the 2006-2007 season:\\n        Udonis Haslem: 844 points\\n        Dwayne Wade: 1397 points\\n        James Posey: 550 points\\n        ...\\n        ', name='search_web_tool', call_id='call_u7Pbm9f6p8tqi8yTDhpb5gDb', is_error=False)]), TextMessage(source='DataAnalystAgent', models_usage=RequestUsage(prompt_tokens=183, completion_tokens=519), metadata={}, created_at=datetime.datetime(2025, 6, 20, 7, 20, 6, 243962, tzinfo=datetime.timezone.utc), content='I see that Dwyane Wade had the most points in the 2006-2007 season, but I need the specific rebound totals for him during the 2007-2008 and 2008-2009 seasons to calculate the percentage change. Could you please provide those numbers?', type='TextMessage'), ToolCallRequestEvent(source='WebSearchAgent', models_usage=RequestUsage(prompt_tokens=306, completion_tokens=111), metadata={}, created_at=datetime.datetime(2025, 6, 20, 7, 20, 13, 927000, tzinfo=datetime.timezone.utc), content=[FunctionCall(id='call_PQ7zMQk09RZD9wDNQjDaLDn2', arguments='{\"query\": \"Dwyane Wade total rebounds Miami Heat 2007-2008 and 2008-2009 season rebound totals\"}', name='search_web_tool')], type='ToolCallRequestEvent'), ToolCallExecutionEvent(source='WebSearchAgent', models_usage=None, metadata={}, created_at=datetime.datetime(2025, 6, 20, 7, 20, 13, 928615, tzinfo=datetime.timezone.utc), content=[FunctionExecutionResult(content='The number of total rebounds for Dwayne Wade in the Miami Heat season 2007-2008 is 214.', name='search_web_tool', call_id='call_PQ7zMQk09RZD9wDNQjDaLDn2', is_error=False)], type='ToolCallExecutionEvent'), ToolCallSummaryMessage(source='WebSearchAgent', models_usage=None, metadata={}, created_at=datetime.datetime(2025, 6, 20, 7, 20, 13, 928845, tzinfo=datetime.timezone.utc), content='The number of total rebounds for Dwayne Wade in the Miami Heat season 2007-2008 is 214.', type='ToolCallSummaryMessage', tool_calls=[FunctionCall(id='call_PQ7zMQk09RZD9wDNQjDaLDn2', arguments='{\"query\": \"Dwyane Wade total rebounds Miami Heat 2007-2008 and 2008-2009 season rebound totals\"}', name='search_web_tool')], results=[FunctionExecutionResult(content='The number of total rebounds for Dwayne Wade in the Miami Heat season 2007-2008 is 214.', name='search_web_tool', call_id='call_PQ7zMQk09RZD9wDNQjDaLDn2', is_error=False)]), ToolCallRequestEvent(source='WebSearchAgent', models_usage=RequestUsage(prompt_tokens=375, completion_tokens=103), metadata={}, created_at=datetime.datetime(2025, 6, 20, 7, 20, 41, 945797, tzinfo=datetime.timezone.utc), content=[FunctionCall(id='call_EuoXPtEXvaI9o3bmHdm7vQPL', arguments='{\"query\": \"Dwyane Wade total rebounds Miami Heat 2008-2009 season rebounds\"}', name='search_web_tool')], type='ToolCallRequestEvent'), ToolCallExecutionEvent(source='WebSearchAgent', models_usage=None, metadata={}, created_at=datetime.datetime(2025, 6, 20, 7, 20, 41, 948523, tzinfo=datetime.timezone.utc), content=[FunctionExecutionResult(content='The number of total rebounds for Dwayne Wade in the Miami Heat season 2008-2009 is 398.', name='search_web_tool', call_id='call_EuoXPtEXvaI9o3bmHdm7vQPL', is_error=False)], type='ToolCallExecutionEvent'), ToolCallSummaryMessage(source='WebSearchAgent', models_usage=None, metadata={}, created_at=datetime.datetime(2025, 6, 20, 7, 20, 41, 948779, tzinfo=datetime.timezone.utc), content='The number of total rebounds for Dwayne Wade in the Miami Heat season 2008-2009 is 398.', type='ToolCallSummaryMessage', tool_calls=[FunctionCall(id='call_EuoXPtEXvaI9o3bmHdm7vQPL', arguments='{\"query\": \"Dwyane Wade total rebounds Miami Heat 2008-2009 season rebounds\"}', name='search_web_tool')], results=[FunctionExecutionResult(content='The number of total rebounds for Dwayne Wade in the Miami Heat season 2008-2009 is 398.', name='search_web_tool', call_id='call_EuoXPtEXvaI9o3bmHdm7vQPL', is_error=False)]), ToolCallRequestEvent(source='DataAnalystAgent', models_usage=RequestUsage(prompt_tokens=310, completion_tokens=159), metadata={}, created_at=datetime.datetime(2025, 6, 20, 7, 20, 47, 943221, tzinfo=datetime.timezone.utc), content=[FunctionCall(id='call_BMU2Gppd6e3upkc7jKRQm90b', arguments='{\"start\": 214, \"end\": 398}', name='percentage_change_tool')], type='ToolCallRequestEvent'), ToolCallExecutionEvent(source='DataAnalystAgent', models_usage=None, metadata={}, created_at=datetime.datetime(2025, 6, 20, 7, 20, 47, 945328, tzinfo=datetime.timezone.utc), content=[FunctionExecutionResult(content='85.98130841121495', name='percentage_change_tool', call_id='call_BMU2Gppd6e3upkc7jKRQm90b', is_error=False)], type='ToolCallExecutionEvent'), ToolCallSummaryMessage(source='DataAnalystAgent', models_usage=None, metadata={}, created_at=datetime.datetime(2025, 6, 20, 7, 20, 47, 945505, tzinfo=datetime.timezone.utc), content='85.98130841121495', type='ToolCallSummaryMessage', tool_calls=[FunctionCall(id='call_BMU2Gppd6e3upkc7jKRQm90b', arguments='{\"start\": 214, \"end\": 398}', name='percentage_change_tool')], results=[FunctionExecutionResult(content='85.98130841121495', name='percentage_change_tool', call_id='call_BMU2Gppd6e3upkc7jKRQm90b', is_error=False)]), TextMessage(source='DataAnalystAgent', models_usage=RequestUsage(prompt_tokens=346, completion_tokens=252), metadata={}, created_at=datetime.datetime(2025, 6, 20, 7, 20, 53, 939855, tzinfo=datetime.timezone.utc), content='Dwyane Wade led the team in scoring during the 2006-2007 season, and his total rebounds increased by approximately 86% from the 2007-2008 season to the 2008-2009 season.', type='TextMessage'), TextMessage(source='DataAnalystAgent', models_usage=RequestUsage(prompt_tokens=398, completion_tokens=135), metadata={}, created_at=datetime.datetime(2025, 6, 20, 7, 21, 1, 706065, tzinfo=datetime.timezone.utc), content='Dwyane Wade led the team with 1,397 points during the 2006-2007 season, and his total rebounds increased by approximately 86% from the 2007-2008 season (214 rebounds) to the 2008-2009 season (398 rebounds).', type='TextMessage'), TextMessage(source='DataAnalystAgent', models_usage=RequestUsage(prompt_tokens=461, completion_tokens=122), metadata={}, created_at=datetime.datetime(2025, 6, 20, 7, 21, 6, 602628, tzinfo=datetime.timezone.utc), content='Dwyane Wade led the team with 1,397 points in the 2006-2007 season. Between the 2007-2008 season (214 rebounds) and the 2008-2009 season (398 rebounds), he saw an approximate rebound increase of 86%.', type='TextMessage'), TextMessage(source='DataAnalystAgent', models_usage=RequestUsage(prompt_tokens=524, completion_tokens=132), metadata={}, created_at=datetime.datetime(2025, 6, 20, 7, 21, 12, 227321, tzinfo=datetime.timezone.utc), content='Dwyane Wade led the Miami Heat in scoring during the 2006-2007 season with 1,397 points. Additionally, his total rebounds increased by about 86% from 214 rebounds in the 2007-2008 season to 398 rebounds in the 2008-2009 season.', type='TextMessage'), TextMessage(source='DataAnalystAgent', models_usage=RequestUsage(prompt_tokens=592, completion_tokens=128), metadata={}, created_at=datetime.datetime(2025, 6, 20, 7, 21, 20, 31236, tzinfo=datetime.timezone.utc), content='Dwyane Wade led the Miami Heat in scoring during the 2006-2007 season with 1,397 points. Additionally, his total rebounds increased by about 86% from 214 rebounds in the 2007-2008 season to 398 rebounds in the 2008-2009 season.', type='TextMessage'), TextMessage(source='DataAnalystAgent', models_usage=RequestUsage(prompt_tokens=660, completion_tokens=130), metadata={}, created_at=datetime.datetime(2025, 6, 20, 7, 21, 24, 624396, tzinfo=datetime.timezone.utc), content='Dwyane Wade led the Miami Heat in scoring during the 2006-2007 season with 1,397 points. Furthermore, his total rebounds increased by about 86% from the 2007-2008 season (214 rebounds) to the 2008-2009 season (398 rebounds).', type='TextMessage'), UserInputRequestedEvent(source='UserProxyAgent', models_usage=None, metadata={}, created_at=datetime.datetime(2025, 6, 20, 7, 21, 29, 780093, tzinfo=datetime.timezone.utc), request_id='fae3614a-8324-4e1a-a6c3-30e187c7db03', content='', type='UserInputRequestedEvent'), TextMessage(source='UserProxyAgent', models_usage=None, metadata={}, created_at=datetime.datetime(2025, 6, 20, 7, 22, 8, 644143, tzinfo=datetime.timezone.utc), content='', type='TextMessage'), TextMessage(source='DataAnalystAgent', models_usage=RequestUsage(prompt_tokens=735, completion_tokens=74), metadata={}, created_at=datetime.datetime(2025, 6, 20, 7, 22, 13, 731225, tzinfo=datetime.timezone.utc), content='Dwyane Wade led the Miami Heat in scoring during the 2006-2007 season with 1,397 points. His total rebounds increased by approximately 86% from 214 rebounds in the 2007-2008 season to 398 rebounds in the 2008-2009 season.', type='TextMessage'), TextMessage(source='DataAnalystAgent', models_usage=RequestUsage(prompt_tokens=801, completion_tokens=72), metadata={}, created_at=datetime.datetime(2025, 6, 20, 7, 22, 18, 969356, tzinfo=datetime.timezone.utc), content='Dwyane Wade led the team with 1,397 points during the 2006-2007 season, and his total rebounds increased by approximately 86% from 214 rebounds in the 2007-2008 season to 398 rebounds in the 2008-2009 season.', type='TextMessage'), TextMessage(source='DataAnalystAgent', models_usage=RequestUsage(prompt_tokens=865, completion_tokens=128), metadata={}, created_at=datetime.datetime(2025, 6, 20, 7, 22, 28, 456331, tzinfo=datetime.timezone.utc), content='Dwyane Wade led the Miami Heat in scoring during the 2006-2007 season with 1,397 points. His total rebounds increased by roughly 86% from 214 rebounds in the 2007-2008 season to 398 rebounds in the 2008-2009 season.', type='TextMessage'), TextMessage(source='DataAnalystAgent', models_usage=RequestUsage(prompt_tokens=931, completion_tokens=130), metadata={}, created_at=datetime.datetime(2025, 6, 20, 7, 22, 34, 512905, tzinfo=datetime.timezone.utc), content='Dwyane Wade led the Miami Heat in scoring during the 2006-2007 season with 1,397 points. Additionally, his total rebounds increased by approximately 86% from the 2007-2008 season (214 rebounds) to the 2008-2009 season (398 rebounds).', type='TextMessage'), UserInputRequestedEvent(source='UserProxyAgent', models_usage=None, metadata={}, created_at=datetime.datetime(2025, 6, 20, 7, 22, 39, 833959, tzinfo=datetime.timezone.utc), request_id='6070f599-f358-408c-a34b-0f66871a6f6e', content='', type='UserInputRequestedEvent'), TextMessage(source='UserProxyAgent', models_usage=None, metadata={}, created_at=datetime.datetime(2025, 6, 20, 7, 22, 46, 687114, tzinfo=datetime.timezone.utc), content='', type='TextMessage'), TextMessage(source='DataAnalystAgent', models_usage=RequestUsage(prompt_tokens=1006, completion_tokens=138), metadata={}, created_at=datetime.datetime(2025, 6, 20, 7, 22, 55, 934589, tzinfo=datetime.timezone.utc), content='Dwyane Wade led the Miami Heat in scoring during the 2006-2007 season with 1,397 points. His total rebounds increased by approximately 86% from 214 rebounds in the 2007-2008 season to 398 rebounds in the 2008-2009 season.', type='TextMessage'), TextMessage(source='DataAnalystAgent', models_usage=RequestUsage(prompt_tokens=1072, completion_tokens=138), metadata={}, created_at=datetime.datetime(2025, 6, 20, 7, 23, 3, 377329, tzinfo=datetime.timezone.utc), content='Dwyane Wade led the Miami Heat in scoring during the 2006-2007 season with 1,397 points. His rebound totals increased by approximately 86% from 214 rebounds in the 2007-2008 season to 398 rebounds in the 2008-2009 season.', type='TextMessage'), TextMessage(source='DataAnalystAgent', models_usage=RequestUsage(prompt_tokens=1138, completion_tokens=73), metadata={}, created_at=datetime.datetime(2025, 6, 20, 7, 23, 13, 345921, tzinfo=datetime.timezone.utc), content='Dwyane Wade led the Miami Heat in scoring during the 2006-2007 season with 1,397 points. His total rebounds increased by approximately 86% from the 2007-2008 season (214 rebounds) to the 2008-2009 season (398 rebounds).', type='TextMessage'), TextMessage(source='DataAnalystAgent', models_usage=RequestUsage(prompt_tokens=1203, completion_tokens=126), metadata={}, created_at=datetime.datetime(2025, 6, 20, 7, 23, 18, 2954, tzinfo=datetime.timezone.utc), content='Dwyane Wade led the Miami Heat in scoring during the 2006-2007 season with 1,397 points. His rebound totals increased by approximately 86% from the 2007-2008 season (214 rebounds) to the 2008-2009 season (398 rebounds).', type='TextMessage'), TextMessage(source='DataAnalystAgent', models_usage=RequestUsage(prompt_tokens=1268, completion_tokens=126), metadata={}, created_at=datetime.datetime(2025, 6, 20, 7, 23, 23, 523937, tzinfo=datetime.timezone.utc), content='Dwyane Wade led the Miami Heat in scoring during the 2006-2007 season with 1,397 points. His total rebounds increased by approximately 86% from the 2007-2008 season (214 rebounds) to the 2008-2009 season (398 rebounds).', type='TextMessage')], stop_reason='Maximum number of messages 25 reached, current message count: 25')"
                        ]
                    },
                    "execution_count": 21,
                    "metadata": {},
                    "output_type": "execute_result"
                }
            ],
            "source": [
                "await Console(team.run_stream(task=task))"
            ]
        },
        {
            "cell_type": "markdown",
            "metadata": {},
            "source": [
                "```{tip}\n",
                "For more guidance on how to prompt reasoning models, see the\n",
                "Azure AI Services Blog on [Prompt Engineering for OpenAI's O1 and O3-mini Reasoning Models](https://techcommunity.microsoft.com/blog/azure-ai-services-blog/prompt-engineering-for-openai%E2%80%99s-o1-and-o3-mini-reasoning-models/4374010)\n",
                "```"
            ]
        }
    ],
    "metadata": {
        "kernelspec": {
            "display_name": ".venv",
            "language": "python",
            "name": "python3"
        },
        "language_info": {
            "codemirror_mode": {
                "name": "ipython",
                "version": 3
            },
            "file_extension": ".py",
            "mimetype": "text/x-python",
            "name": "python",
            "nbconvert_exporter": "python",
            "pygments_lexer": "ipython3",
            "version": "3.11.13"
        }
    },
    "nbformat": 4,
    "nbformat_minor": 2
}
