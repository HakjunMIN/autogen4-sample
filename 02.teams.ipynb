{
 "cells": [
  {
   "cell_type": "code",
   "execution_count": 1,
   "metadata": {},
   "outputs": [],
   "source": [
    "from autogen_ext.models.openai import AzureOpenAIChatCompletionClient\n",
    "\n",
    "from dotenv import load_dotenv\n",
    "import os\n",
    "\n",
    "load_dotenv()\n",
    "\n",
    "api_version = os.getenv(\"AZURE_OPENAI_API_VERSION\")\n",
    "api_key = os.getenv(\"AZURE_OPENAI_API_KEY\")\n",
    "azure_endpoint = os.getenv(\"AZURE_OPENAI_ENDPOINT\")\n",
    "deployment_name = os.getenv(\"AZURE_OPENAI_DEPLOYMENT_NAME\")\n",
    "azure_openai_chat_completion_client = AzureOpenAIChatCompletionClient(\n",
    "            model=deployment_name,\n",
    "            azure_endpoint=azure_endpoint,\n",
    "            api_version=api_version,\n",
    "            api_key=api_key,\n",
    "        )"
   ]
  },
  {
   "cell_type": "code",
   "execution_count": 2,
   "metadata": {},
   "outputs": [
    {
     "name": "stdout",
     "output_type": "stream",
     "text": [
      "messages=[TextMessage(id='41da850d-91fa-4fd5-b662-7ca503f906c5', source='user', models_usage=None, metadata={}, created_at=datetime.datetime(2025, 7, 23, 0, 24, 41, 1125, tzinfo=datetime.timezone.utc), content='What is the weather in New York?', type='TextMessage'), ToolCallRequestEvent(id='45af90f4-917a-4e51-bc56-e663f5245afc', source='assistant', models_usage=RequestUsage(prompt_tokens=70, completion_tokens=16), metadata={}, created_at=datetime.datetime(2025, 7, 23, 0, 24, 43, 80618, tzinfo=datetime.timezone.utc), content=[FunctionCall(id='call_4jFqlysx2i0WIgmUgoZbL2nb', arguments='{\"city\":\"New York\"}', name='get_weather')], type='ToolCallRequestEvent'), ToolCallExecutionEvent(id='4ea5a907-1a47-445b-bfc9-31bec974af72', source='assistant', models_usage=None, metadata={}, created_at=datetime.datetime(2025, 7, 23, 0, 24, 43, 81958, tzinfo=datetime.timezone.utc), content=[FunctionExecutionResult(content='The weather in New York is 72 degrees and Sunny.', name='get_weather', call_id='call_4jFqlysx2i0WIgmUgoZbL2nb', is_error=False)], type='ToolCallExecutionEvent'), ToolCallSummaryMessage(id='cb011379-9c6f-4cfe-99c5-041c055b02a5', source='assistant', models_usage=None, metadata={}, created_at=datetime.datetime(2025, 7, 23, 0, 24, 43, 82049, tzinfo=datetime.timezone.utc), content='The weather in New York is 72 degrees and Sunny.', type='ToolCallSummaryMessage', tool_calls=[FunctionCall(id='call_4jFqlysx2i0WIgmUgoZbL2nb', arguments='{\"city\":\"New York\"}', name='get_weather')], results=[FunctionExecutionResult(content='The weather in New York is 72 degrees and Sunny.', name='get_weather', call_id='call_4jFqlysx2i0WIgmUgoZbL2nb', is_error=False)]), TextMessage(id='bba8ec46-da8f-4599-9ac8-95977599a93b', source='assistant', models_usage=RequestUsage(prompt_tokens=105, completion_tokens=23), metadata={}, created_at=datetime.datetime(2025, 7, 23, 0, 24, 43, 608710, tzinfo=datetime.timezone.utc), content=\"The weather in New York is 72 degrees and sunny. Is there anything else you'd like to know?\", type='TextMessage'), TextMessage(id='05f9365a-6c91-4ebd-a1ee-e70bc4943907', source='assistant', models_usage=RequestUsage(prompt_tokens=130, completion_tokens=25), metadata={}, created_at=datetime.datetime(2025, 7, 23, 0, 24, 44, 169237, tzinfo=datetime.timezone.utc), content='The weather in New York is 72 degrees and sunny. Would you like to know the weather for another city?', type='TextMessage'), TextMessage(id='ba6d6775-e224-4289-9128-d80d59d492e2', source='assistant', models_usage=RequestUsage(prompt_tokens=157, completion_tokens=23), metadata={}, created_at=datetime.datetime(2025, 7, 23, 0, 24, 44, 699035, tzinfo=datetime.timezone.utc), content=\"The weather in New York is 72 degrees and sunny. Is there anything else you'd like to know?\", type='TextMessage'), TextMessage(id='4aa38c18-6168-48b4-baba-0698803a72ad', source='assistant', models_usage=RequestUsage(prompt_tokens=182, completion_tokens=33), metadata={}, created_at=datetime.datetime(2025, 7, 23, 0, 24, 45, 257419, tzinfo=datetime.timezone.utc), content='The weather in New York is currently 72 degrees and sunny. If you need weather information for another location or any other assistance, just let me know!', type='TextMessage'), TextMessage(id='adef7ea5-476d-49d3-837b-691e4dfc8ff8', source='assistant', models_usage=RequestUsage(prompt_tokens=217, completion_tokens=23), metadata={}, created_at=datetime.datetime(2025, 7, 23, 0, 24, 45, 803894, tzinfo=datetime.timezone.utc), content='The weather in New York is 72 degrees and sunny. Is there anything else you want to know?', type='TextMessage'), TextMessage(id='de1566b5-090d-446f-abf2-cf867d0af127', source='assistant', models_usage=RequestUsage(prompt_tokens=242, completion_tokens=25), metadata={}, created_at=datetime.datetime(2025, 7, 23, 0, 24, 46, 358641, tzinfo=datetime.timezone.utc), content='The weather in New York is 72 degrees and sunny. Would you like to know the weather for another city?', type='TextMessage'), TextMessage(id='053b6fed-9dcd-4257-ae74-7b597a32caca', source='assistant', models_usage=RequestUsage(prompt_tokens=269, completion_tokens=23), metadata={}, created_at=datetime.datetime(2025, 7, 23, 0, 24, 46, 855505, tzinfo=datetime.timezone.utc), content=\"The weather in New York is 72 degrees and sunny. Is there anything else you'd like to know?\", type='TextMessage'), TextMessage(id='2ebf7f34-db9d-4115-93b0-122d3bd52926', source='assistant', models_usage=RequestUsage(prompt_tokens=294, completion_tokens=33), metadata={}, created_at=datetime.datetime(2025, 7, 23, 0, 24, 47, 418639, tzinfo=datetime.timezone.utc), content='The weather in New York is currently 72 degrees and sunny. If you need weather information for another location or any other assistance, just let me know!', type='TextMessage'), TextMessage(id='392b0c90-e383-4207-8cd5-f684fe109eb2', source='assistant', models_usage=RequestUsage(prompt_tokens=329, completion_tokens=23), metadata={}, created_at=datetime.datetime(2025, 7, 23, 0, 24, 47, 984893, tzinfo=datetime.timezone.utc), content='The weather in New York is 72 degrees and sunny. Is there anything else you want to know?', type='TextMessage'), TextMessage(id='cd944fb0-cfb0-4ab5-862a-98dfafbc13ff', source='assistant', models_usage=RequestUsage(prompt_tokens=354, completion_tokens=25), metadata={}, created_at=datetime.datetime(2025, 7, 23, 0, 24, 48, 530278, tzinfo=datetime.timezone.utc), content='The weather in New York is 72 degrees and sunny. Would you like to know the weather for another city?', type='TextMessage'), TextMessage(id='0178a90b-bf46-4da1-ab17-a6c2e510ca05', source='assistant', models_usage=RequestUsage(prompt_tokens=381, completion_tokens=23), metadata={}, created_at=datetime.datetime(2025, 7, 23, 0, 24, 49, 61540, tzinfo=datetime.timezone.utc), content=\"The weather in New York is 72 degrees and sunny. Is there anything else you'd like to know?\", type='TextMessage'), TextMessage(id='223438b0-1078-4e88-bee2-49c619280d9b', source='assistant', models_usage=RequestUsage(prompt_tokens=406, completion_tokens=33), metadata={}, created_at=datetime.datetime(2025, 7, 23, 0, 24, 49, 629364, tzinfo=datetime.timezone.utc), content='The weather in New York is currently 72 degrees and sunny. If you need weather information for another location or any other assistance, just let me know!', type='TextMessage'), TextMessage(id='239a2628-8b36-4158-900a-a2ce3842afca', source='assistant', models_usage=RequestUsage(prompt_tokens=441, completion_tokens=28), metadata={}, created_at=datetime.datetime(2025, 7, 23, 0, 24, 50, 180737, tzinfo=datetime.timezone.utc), content='The weather in New York is 72 degrees and sunny. Let me know if you want to check the weather for another city.', type='TextMessage'), TextMessage(id='df78b844-917c-4d4e-b469-f2a0c209dc18', source='assistant', models_usage=RequestUsage(prompt_tokens=471, completion_tokens=25), metadata={}, created_at=datetime.datetime(2025, 7, 23, 0, 24, 50, 702584, tzinfo=datetime.timezone.utc), content='The weather in New York is 72 degrees and sunny. Let me know if you want info on another city!', type='TextMessage'), TextMessage(id='329714ac-11c8-41c0-84eb-142680537c02', source='assistant', models_usage=RequestUsage(prompt_tokens=498, completion_tokens=25), metadata={}, created_at=datetime.datetime(2025, 7, 23, 0, 24, 51, 224386, tzinfo=datetime.timezone.utc), content='The weather in New York is 72 degrees and sunny. Let me know if you want info on another city!', type='TextMessage'), TextMessage(id='307eeaf0-3cf5-4599-b5e2-056f701efe70', source='assistant', models_usage=RequestUsage(prompt_tokens=525, completion_tokens=28), metadata={}, created_at=datetime.datetime(2025, 7, 23, 0, 24, 51, 759568, tzinfo=datetime.timezone.utc), content='The weather in New York is 72 degrees and sunny. Let me know if you want to check the weather for another city.', type='TextMessage'), TextMessage(id='1804a75d-b70a-4aca-97e6-f2ce4492f4e6', source='assistant', models_usage=RequestUsage(prompt_tokens=555, completion_tokens=28), metadata={}, created_at=datetime.datetime(2025, 7, 23, 0, 24, 52, 507989, tzinfo=datetime.timezone.utc), content='The weather in New York is 72 degrees and sunny. Let me know if you want to check the weather for another city.', type='TextMessage'), TextMessage(id='07fd61a6-6667-46f7-850f-22c72ed98cdd', source='assistant', models_usage=RequestUsage(prompt_tokens=585, completion_tokens=5), metadata={}, created_at=datetime.datetime(2025, 7, 23, 0, 24, 52, 901840, tzinfo=datetime.timezone.utc), content='TERMINATE', type='TextMessage')] stop_reason=\"Text 'TERMINATE' mentioned\"\n"
     ]
    }
   ],
   "source": [
    "from autogen_agentchat.agents import AssistantAgent\n",
    "from autogen_agentchat.conditions import TextMentionTermination\n",
    "from autogen_agentchat.teams import RoundRobinGroupChat\n",
    "\n",
    "# Create an OpenAI model client.\n",
    "model_client = azure_openai_chat_completion_client\n",
    "\n",
    "# Define a tool that gets the weather for a city.\n",
    "async def get_weather(city: str) -> str:\n",
    "    \"\"\"Get the weather for a city.\"\"\"\n",
    "    return f\"The weather in {city} is 72 degrees and Sunny.\"\n",
    "\n",
    "\n",
    "# Create an assistant agent.\n",
    "weather_agent = AssistantAgent(\n",
    "    \"assistant\",\n",
    "    model_client=model_client,\n",
    "    tools=[get_weather],\n",
    "    system_message=\"Respond 'TERMINATE' when task is complete.\",\n",
    ")\n",
    "\n",
    "# Define a termination condition.\n",
    "text_termination = TextMentionTermination(\"TERMINATE\")\n",
    "\n",
    "# Create a single-agent team.\n",
    "single_agent_team = RoundRobinGroupChat([weather_agent], termination_condition=text_termination)\n",
    "\n",
    "async def run_team() -> None:\n",
    "    result = await single_agent_team.run(task=\"What is the weather in New York?\")\n",
    "    print(result)\n",
    "\n",
    "\n",
    "# Use `asyncio.run(run_team())` when running in a script.\n",
    "await run_team()\n"
   ]
  },
  {
   "cell_type": "code",
   "execution_count": 3,
   "metadata": {},
   "outputs": [
    {
     "name": "stdout",
     "output_type": "stream",
     "text": [
      "id='b52213e3-6303-4e18-ab37-79ee3ba6dba6' source='user' models_usage=None metadata={} created_at=datetime.datetime(2025, 7, 15, 5, 41, 36, 138224, tzinfo=datetime.timezone.utc) content='What is the weather in New York?' type='TextMessage'\n",
      "id='d6ad608d-1138-48f0-b8ae-73e5d8d0d0fc' source='assistant' models_usage=RequestUsage(prompt_tokens=594, completion_tokens=16) metadata={} created_at=datetime.datetime(2025, 7, 15, 5, 41, 36, 843192, tzinfo=datetime.timezone.utc) content=[FunctionCall(id='call_inCIeguzk4FyMbhmudyqo2Qt', arguments='{\"city\":\"New York\"}', name='get_weather')] type='ToolCallRequestEvent'\n",
      "id='250782db-1ef7-4547-8d0c-f28ff93ba5f4' source='assistant' models_usage=None metadata={} created_at=datetime.datetime(2025, 7, 15, 5, 41, 36, 845504, tzinfo=datetime.timezone.utc) content=[FunctionExecutionResult(content='The weather in New York is 72 degrees and Sunny.', name='get_weather', call_id='call_inCIeguzk4FyMbhmudyqo2Qt', is_error=False)] type='ToolCallExecutionEvent'\n",
      "id='4347e537-decb-4eda-97c6-8458a2cd1415' source='assistant' models_usage=None metadata={} created_at=datetime.datetime(2025, 7, 15, 5, 41, 36, 845633, tzinfo=datetime.timezone.utc) content='The weather in New York is 72 degrees and Sunny.' type='ToolCallSummaryMessage' tool_calls=[FunctionCall(id='call_inCIeguzk4FyMbhmudyqo2Qt', arguments='{\"city\":\"New York\"}', name='get_weather')] results=[FunctionExecutionResult(content='The weather in New York is 72 degrees and Sunny.', name='get_weather', call_id='call_inCIeguzk4FyMbhmudyqo2Qt', is_error=False)]\n",
      "id='c113e04b-7432-4b41-99ba-40334ae4507a' source='assistant' models_usage=RequestUsage(prompt_tokens=629, completion_tokens=23) metadata={} created_at=datetime.datetime(2025, 7, 15, 5, 41, 37, 518718, tzinfo=datetime.timezone.utc) content='The current weather in New York is 72 degrees and sunny. Would you like to know anything else?' type='TextMessage'\n",
      "id='c438aee2-fd50-4c52-80d3-965654d889b4' source='assistant' models_usage=RequestUsage(prompt_tokens=654, completion_tokens=34) metadata={} created_at=datetime.datetime(2025, 7, 15, 5, 41, 38, 351460, tzinfo=datetime.timezone.utc) content='The current weather in New York is 72 degrees and sunny. If you have any other questions or need weather information for another location, feel free to ask!' type='TextMessage'\n",
      "id='7418fb2e-e235-41f1-ab15-b333c198eebe' source='assistant' models_usage=RequestUsage(prompt_tokens=690, completion_tokens=30) metadata={} created_at=datetime.datetime(2025, 7, 15, 5, 41, 39, 114334, tzinfo=datetime.timezone.utc) content='The current weather in New York is 72 degrees and sunny. Would you like to know the weather in another city or any other information?' type='TextMessage'\n",
      "id='d05dc3e7-e46d-486d-a65f-a6f1a693f849' source='assistant' models_usage=RequestUsage(prompt_tokens=722, completion_tokens=24) metadata={} created_at=datetime.datetime(2025, 7, 15, 5, 41, 39, 840009, tzinfo=datetime.timezone.utc) content='The weather in New York is currently 72 degrees and sunny. Would you like the weather for another location?' type='TextMessage'\n",
      "id='8230f091-fb0a-4dd8-bd37-152cb3cd7cfd' source='assistant' models_usage=RequestUsage(prompt_tokens=748, completion_tokens=33) metadata={} created_at=datetime.datetime(2025, 7, 15, 5, 41, 40, 695413, tzinfo=datetime.timezone.utc) content='The current weather in New York is 72 degrees and sunny. If you want weather information for another city or any other details, just let me know!' type='TextMessage'\n",
      "id='5e1ff902-6a96-415c-9368-c4a2324c600f' source='assistant' models_usage=RequestUsage(prompt_tokens=783, completion_tokens=30) metadata={} created_at=datetime.datetime(2025, 7, 15, 5, 41, 41, 574340, tzinfo=datetime.timezone.utc) content='The weather in New York is currently 72 degrees and sunny. Would you like to know the weather in another city or any other details?' type='TextMessage'\n",
      "id='ba0b2252-c024-4469-b49a-c073efa751cb' source='assistant' models_usage=RequestUsage(prompt_tokens=815, completion_tokens=34) metadata={} created_at=datetime.datetime(2025, 7, 15, 5, 41, 42, 477822, tzinfo=datetime.timezone.utc) content='The current weather in New York is 72 degrees and sunny. If you have any other questions or want the weather for another city, just let me know!' type='TextMessage'\n",
      "id='13458539-bd4b-4211-96ed-c0483e67fe94' source='assistant' models_usage=RequestUsage(prompt_tokens=851, completion_tokens=5) metadata={} created_at=datetime.datetime(2025, 7, 15, 5, 41, 42, 925749, tzinfo=datetime.timezone.utc) content='TERMINATE' type='TextMessage'\n",
      "Stop Reason: Text 'TERMINATE' mentioned\n"
     ]
    }
   ],
   "source": [
    "from autogen_agentchat.base import TaskResult\n",
    "\n",
    "\n",
    "async def run_team_stream() -> None:\n",
    "    async for message in single_agent_team.run_stream(task=\"What is the weather in New York?\"):\n",
    "        if isinstance(message, TaskResult):\n",
    "            print(\"Stop Reason:\", message.stop_reason)\n",
    "        else:\n",
    "            print(message)\n",
    "\n",
    "\n",
    "# Use `asyncio.run(run_team_stream())` when running in a script.\n",
    "await run_team_stream()\n",
    "\n"
   ]
  },
  {
   "cell_type": "code",
   "execution_count": 4,
   "metadata": {},
   "outputs": [
    {
     "name": "stdout",
     "output_type": "stream",
     "text": [
      "---------- TextMessage (user) ----------\n",
      "What is the weather in Seattle?\n",
      "---------- ToolCallRequestEvent (assistant) ----------\n",
      "[FunctionCall(id='call_9rkrFTMoXlhVz3q0ph9AuSEb', arguments='{\"city\":\"Seattle\"}', name='get_weather')]\n",
      "---------- ToolCallExecutionEvent (assistant) ----------\n",
      "[FunctionExecutionResult(content='The weather in Seattle is 72 degrees and Sunny.', name='get_weather', call_id='call_9rkrFTMoXlhVz3q0ph9AuSEb', is_error=False)]\n",
      "---------- ToolCallSummaryMessage (assistant) ----------\n",
      "The weather in Seattle is 72 degrees and Sunny.\n",
      "---------- TextMessage (assistant) ----------\n",
      "The weather in Seattle is currently 72 degrees and sunny.\n",
      "---------- TextMessage (assistant) ----------\n",
      "The current weather in Seattle is 72 degrees and sunny.\n",
      "---------- TextMessage (assistant) ----------\n",
      "The weather in Seattle is currently 72 degrees and sunny.\n",
      "---------- TextMessage (assistant) ----------\n",
      "The current weather in Seattle is 72 degrees and sunny.\n",
      "---------- TextMessage (assistant) ----------\n",
      "The weather in Seattle is currently 72 degrees and sunny.\n",
      "---------- TextMessage (assistant) ----------\n",
      "The weather in Seattle is currently 72 degrees and sunny.\n",
      "---------- TextMessage (assistant) ----------\n",
      "The current weather in Seattle is 72 degrees and sunny.\n",
      "---------- TextMessage (assistant) ----------\n",
      "The weather in Seattle is currently 72 degrees and sunny.\n",
      "---------- TextMessage (assistant) ----------\n",
      "The current weather in Seattle is 72 degrees and sunny.\n",
      "---------- TextMessage (assistant) ----------\n",
      "The weather in Seattle is currently 72 degrees and sunny.\n",
      "---------- TextMessage (assistant) ----------\n",
      "The current weather in Seattle is 72 degrees and sunny.\n",
      "---------- TextMessage (assistant) ----------\n",
      "The weather in Seattle is currently 72 degrees and sunny.\n",
      "---------- TextMessage (assistant) ----------\n",
      "The current weather in Seattle is 72 degrees and sunny.\n",
      "---------- TextMessage (assistant) ----------\n",
      "The weather in Seattle is currently 72 degrees and sunny.\n",
      "---------- TextMessage (assistant) ----------\n",
      "The current weather in Seattle is 72 degrees and sunny.\n",
      "---------- TextMessage (assistant) ----------\n",
      "The weather in Seattle is currently 72 degrees and sunny.\n",
      "---------- TextMessage (assistant) ----------\n",
      "The current weather in Seattle is 72 degrees and sunny.\n",
      "---------- TextMessage (assistant) ----------\n",
      "The weather in Seattle is currently 72 degrees and sunny.\n",
      "---------- TextMessage (assistant) ----------\n",
      "The current weather in Seattle is 72 degrees and sunny.\n",
      "---------- TextMessage (assistant) ----------\n",
      "The weather in Seattle is currently 72 degrees and sunny.\n",
      "---------- TextMessage (assistant) ----------\n",
      "The current weather in Seattle is 72 degrees and sunny.\n",
      "---------- TextMessage (assistant) ----------\n",
      "The weather in Seattle is currently 72 degrees and sunny.\n",
      "---------- TextMessage (assistant) ----------\n",
      "The current weather in Seattle is 72 degrees and sunny.\n",
      "---------- TextMessage (assistant) ----------\n",
      "TERMINATE\n"
     ]
    },
    {
     "data": {
      "text/plain": [
       "TaskResult(messages=[TextMessage(id='0a001986-9991-44a5-8c3b-137f6456d4c9', source='user', models_usage=None, metadata={}, created_at=datetime.datetime(2025, 7, 15, 5, 41, 48, 612123, tzinfo=datetime.timezone.utc), content='What is the weather in Seattle?', type='TextMessage'), ToolCallRequestEvent(id='9c05d252-2c1c-48e9-af9e-eb04848a9661', source='assistant', models_usage=RequestUsage(prompt_tokens=69, completion_tokens=15), metadata={}, created_at=datetime.datetime(2025, 7, 15, 5, 41, 49, 199258, tzinfo=datetime.timezone.utc), content=[FunctionCall(id='call_9rkrFTMoXlhVz3q0ph9AuSEb', arguments='{\"city\":\"Seattle\"}', name='get_weather')], type='ToolCallRequestEvent'), ToolCallExecutionEvent(id='bcf3d72d-b737-4652-b298-d01717b6ff2b', source='assistant', models_usage=None, metadata={}, created_at=datetime.datetime(2025, 7, 15, 5, 41, 49, 200861, tzinfo=datetime.timezone.utc), content=[FunctionExecutionResult(content='The weather in Seattle is 72 degrees and Sunny.', name='get_weather', call_id='call_9rkrFTMoXlhVz3q0ph9AuSEb', is_error=False)], type='ToolCallExecutionEvent'), ToolCallSummaryMessage(id='1e420afc-f242-447a-be44-47460f8a6d67', source='assistant', models_usage=None, metadata={}, created_at=datetime.datetime(2025, 7, 15, 5, 41, 49, 201008, tzinfo=datetime.timezone.utc), content='The weather in Seattle is 72 degrees and Sunny.', type='ToolCallSummaryMessage', tool_calls=[FunctionCall(id='call_9rkrFTMoXlhVz3q0ph9AuSEb', arguments='{\"city\":\"Seattle\"}', name='get_weather')], results=[FunctionExecutionResult(content='The weather in Seattle is 72 degrees and Sunny.', name='get_weather', call_id='call_9rkrFTMoXlhVz3q0ph9AuSEb', is_error=False)]), TextMessage(id='4df1f0fc-1e5d-47a4-b29e-cd1caeb49d1d', source='assistant', models_usage=RequestUsage(prompt_tokens=102, completion_tokens=14), metadata={}, created_at=datetime.datetime(2025, 7, 15, 5, 41, 49, 742161, tzinfo=datetime.timezone.utc), content='The weather in Seattle is currently 72 degrees and sunny.', type='TextMessage'), TextMessage(id='4f9eb270-84bc-45e3-bd76-afc54da68698', source='assistant', models_usage=RequestUsage(prompt_tokens=118, completion_tokens=14), metadata={}, created_at=datetime.datetime(2025, 7, 15, 5, 41, 50, 215809, tzinfo=datetime.timezone.utc), content='The current weather in Seattle is 72 degrees and sunny.', type='TextMessage'), TextMessage(id='1168e1ad-f704-4910-b9eb-89b2a64e3249', source='assistant', models_usage=RequestUsage(prompt_tokens=134, completion_tokens=14), metadata={}, created_at=datetime.datetime(2025, 7, 15, 5, 41, 50, 780896, tzinfo=datetime.timezone.utc), content='The weather in Seattle is currently 72 degrees and sunny.', type='TextMessage'), TextMessage(id='62a0beb8-e6a9-470b-aa59-fbca8264508d', source='assistant', models_usage=RequestUsage(prompt_tokens=150, completion_tokens=14), metadata={}, created_at=datetime.datetime(2025, 7, 15, 5, 41, 51, 427148, tzinfo=datetime.timezone.utc), content='The current weather in Seattle is 72 degrees and sunny.', type='TextMessage'), TextMessage(id='fc6bd72a-4ae6-464f-817b-70077f944432', source='assistant', models_usage=RequestUsage(prompt_tokens=166, completion_tokens=14), metadata={}, created_at=datetime.datetime(2025, 7, 15, 5, 41, 52, 46522, tzinfo=datetime.timezone.utc), content='The weather in Seattle is currently 72 degrees and sunny.', type='TextMessage'), TextMessage(id='a940c44e-58c6-41ba-95aa-d7ef9f6d6446', source='assistant', models_usage=RequestUsage(prompt_tokens=182, completion_tokens=14), metadata={}, created_at=datetime.datetime(2025, 7, 15, 5, 41, 52, 613129, tzinfo=datetime.timezone.utc), content='The weather in Seattle is currently 72 degrees and sunny.', type='TextMessage'), TextMessage(id='9af21851-65ee-4a3c-bbf3-413fde64d6c1', source='assistant', models_usage=RequestUsage(prompt_tokens=198, completion_tokens=14), metadata={}, created_at=datetime.datetime(2025, 7, 15, 5, 41, 53, 184402, tzinfo=datetime.timezone.utc), content='The current weather in Seattle is 72 degrees and sunny.', type='TextMessage'), TextMessage(id='01aab861-3abc-40e6-b36b-99b5312be1c5', source='assistant', models_usage=RequestUsage(prompt_tokens=214, completion_tokens=14), metadata={}, created_at=datetime.datetime(2025, 7, 15, 5, 41, 53, 778768, tzinfo=datetime.timezone.utc), content='The weather in Seattle is currently 72 degrees and sunny.', type='TextMessage'), TextMessage(id='40c5e8e0-ed2c-435c-b8c8-bf0183f210ba', source='assistant', models_usage=RequestUsage(prompt_tokens=230, completion_tokens=14), metadata={}, created_at=datetime.datetime(2025, 7, 15, 5, 41, 54, 371067, tzinfo=datetime.timezone.utc), content='The current weather in Seattle is 72 degrees and sunny.', type='TextMessage'), TextMessage(id='f67afe27-d42b-418f-9a3f-d0b844b58a63', source='assistant', models_usage=RequestUsage(prompt_tokens=246, completion_tokens=14), metadata={}, created_at=datetime.datetime(2025, 7, 15, 5, 41, 54, 928859, tzinfo=datetime.timezone.utc), content='The weather in Seattle is currently 72 degrees and sunny.', type='TextMessage'), TextMessage(id='0f09e6f1-c4c8-4361-ac95-dfd05c04342a', source='assistant', models_usage=RequestUsage(prompt_tokens=262, completion_tokens=14), metadata={}, created_at=datetime.datetime(2025, 7, 15, 5, 41, 55, 488298, tzinfo=datetime.timezone.utc), content='The current weather in Seattle is 72 degrees and sunny.', type='TextMessage'), TextMessage(id='b66c66b7-6f68-407c-930e-785d83efa7cb', source='assistant', models_usage=RequestUsage(prompt_tokens=278, completion_tokens=14), metadata={}, created_at=datetime.datetime(2025, 7, 15, 5, 41, 55, 972670, tzinfo=datetime.timezone.utc), content='The weather in Seattle is currently 72 degrees and sunny.', type='TextMessage'), TextMessage(id='f564f0c7-dc7f-466a-be1a-2886e595533c', source='assistant', models_usage=RequestUsage(prompt_tokens=294, completion_tokens=14), metadata={}, created_at=datetime.datetime(2025, 7, 15, 5, 41, 56, 538044, tzinfo=datetime.timezone.utc), content='The current weather in Seattle is 72 degrees and sunny.', type='TextMessage'), TextMessage(id='529928b5-d86b-4335-9f84-f315547c2bd8', source='assistant', models_usage=RequestUsage(prompt_tokens=310, completion_tokens=14), metadata={}, created_at=datetime.datetime(2025, 7, 15, 5, 41, 57, 34317, tzinfo=datetime.timezone.utc), content='The weather in Seattle is currently 72 degrees and sunny.', type='TextMessage'), TextMessage(id='7e7e7eef-4045-406d-a97d-3169553e1bc1', source='assistant', models_usage=RequestUsage(prompt_tokens=326, completion_tokens=14), metadata={}, created_at=datetime.datetime(2025, 7, 15, 5, 41, 58, 9115, tzinfo=datetime.timezone.utc), content='The current weather in Seattle is 72 degrees and sunny.', type='TextMessage'), TextMessage(id='286d6950-afb8-486d-ac90-1eddf23e8c15', source='assistant', models_usage=RequestUsage(prompt_tokens=342, completion_tokens=14), metadata={}, created_at=datetime.datetime(2025, 7, 15, 5, 41, 58, 777116, tzinfo=datetime.timezone.utc), content='The weather in Seattle is currently 72 degrees and sunny.', type='TextMessage'), TextMessage(id='4cc692ed-f790-4b83-ade2-2b6d2fc4039e', source='assistant', models_usage=RequestUsage(prompt_tokens=358, completion_tokens=14), metadata={}, created_at=datetime.datetime(2025, 7, 15, 5, 41, 59, 297315, tzinfo=datetime.timezone.utc), content='The current weather in Seattle is 72 degrees and sunny.', type='TextMessage'), TextMessage(id='368a6dfc-5e9e-4c94-b4c2-e7bdef930a3f', source='assistant', models_usage=RequestUsage(prompt_tokens=374, completion_tokens=14), metadata={}, created_at=datetime.datetime(2025, 7, 15, 5, 41, 59, 904860, tzinfo=datetime.timezone.utc), content='The weather in Seattle is currently 72 degrees and sunny.', type='TextMessage'), TextMessage(id='a5722e90-9a33-4c55-93dd-da4be6f16800', source='assistant', models_usage=RequestUsage(prompt_tokens=390, completion_tokens=14), metadata={}, created_at=datetime.datetime(2025, 7, 15, 5, 42, 0, 476815, tzinfo=datetime.timezone.utc), content='The current weather in Seattle is 72 degrees and sunny.', type='TextMessage'), TextMessage(id='6b1ce7bc-b332-430a-8f72-7bb8c1d96764', source='assistant', models_usage=RequestUsage(prompt_tokens=406, completion_tokens=14), metadata={}, created_at=datetime.datetime(2025, 7, 15, 5, 42, 1, 43485, tzinfo=datetime.timezone.utc), content='The weather in Seattle is currently 72 degrees and sunny.', type='TextMessage'), TextMessage(id='39b54a48-02ff-4144-be4c-730aac2fe2ff', source='assistant', models_usage=RequestUsage(prompt_tokens=422, completion_tokens=14), metadata={}, created_at=datetime.datetime(2025, 7, 15, 5, 42, 1, 588260, tzinfo=datetime.timezone.utc), content='The current weather in Seattle is 72 degrees and sunny.', type='TextMessage'), TextMessage(id='690a657e-fb2e-4fd4-a259-019f9c9dee27', source='assistant', models_usage=RequestUsage(prompt_tokens=438, completion_tokens=14), metadata={}, created_at=datetime.datetime(2025, 7, 15, 5, 42, 2, 799275, tzinfo=datetime.timezone.utc), content='The weather in Seattle is currently 72 degrees and sunny.', type='TextMessage'), TextMessage(id='1ccd7eb5-e5d0-4ce0-9aa9-ce0ff2c80d13', source='assistant', models_usage=RequestUsage(prompt_tokens=454, completion_tokens=14), metadata={}, created_at=datetime.datetime(2025, 7, 15, 5, 42, 3, 374555, tzinfo=datetime.timezone.utc), content='The current weather in Seattle is 72 degrees and sunny.', type='TextMessage'), TextMessage(id='d1518efa-9d19-4ef2-84ab-3c796503837f', source='assistant', models_usage=RequestUsage(prompt_tokens=470, completion_tokens=5), metadata={}, created_at=datetime.datetime(2025, 7, 15, 5, 42, 4, 323610, tzinfo=datetime.timezone.utc), content='TERMINATE', type='TextMessage')], stop_reason=\"Text 'TERMINATE' mentioned\")"
      ]
     },
     "execution_count": 4,
     "metadata": {},
     "output_type": "execute_result"
    }
   ],
   "source": [
    "from autogen_agentchat.ui import Console\n",
    "\n",
    "# Use `asyncio.run(single_agent_team.reset())` when running in a script.\n",
    "await single_agent_team.reset()  # Reset the team for the next run.\n",
    "# Use `asyncio.run(single_agent_team.run_stream(task=\"What is the weather in Seattle?\"))` when running in a script.\n",
    "await Console(\n",
    "    single_agent_team.run_stream(task=\"What is the weather in Seattle?\")\n",
    ")  # Stream the messages to the console."
   ]
  },
  {
   "cell_type": "code",
   "execution_count": 7,
   "metadata": {},
   "outputs": [],
   "source": [
    "from autogen_agentchat.agents import AssistantAgent\n",
    "from autogen_agentchat.conditions import MaxMessageTermination, TextMentionTermination\n",
    "from autogen_agentchat.teams import RoundRobinGroupChat\n",
    "from autogen_agentchat.ui import Console\n",
    "from autogen_ext.models.openai import OpenAIChatCompletionClient\n",
    "\n",
    "# Create an OpenAI model client.\n",
    "model_client = azure_openai_chat_completion_client\n",
    "# Create the primary agent.\n",
    "primary_agent = AssistantAgent(\n",
    "    \"primary\",\n",
    "    model_client=model_client,\n",
    "    system_message=\"You are a helpful AI assistant.\",\n",
    ")\n",
    "\n",
    "# Create the critic agent.\n",
    "critic_agent = AssistantAgent(\n",
    "    \"critic\",\n",
    "    model_client=model_client,\n",
    "    system_message=\"Provide constructive feedback. Respond with 'APPROVE' to when your feedbacks are addressed.\",\n",
    ")\n",
    "\n",
    "# Define a termination condition that stops the task if the critic approves.\n",
    "text_termination = TextMentionTermination(\"APPROVE\")\n",
    "# Define a termination condition that stops the task after 5 messages.\n",
    "max_message_termination = MaxMessageTermination(15)\n",
    "# Combine the termination conditions using the `|`` operator so that the\n",
    "# task stops when either condition is met.\n",
    "termination = text_termination | max_message_termination\n",
    "\n",
    "# Create a team with the primary and critic agents.\n",
    "reflection_team = RoundRobinGroupChat([primary_agent, critic_agent], termination_condition=termination)"
   ]
  },
  {
   "cell_type": "code",
   "execution_count": 8,
   "metadata": {},
   "outputs": [
    {
     "name": "stdout",
     "output_type": "stream",
     "text": [
      "---------- TextMessage (user) ----------\n",
      "가을에 대한 짧은 시를 써보세요.\n",
      "---------- TextMessage (primary) ----------\n",
      "가을 바람 살랑이며  \n",
      "낙엽은 춤추고  \n",
      "황금빛 햇살 아래  \n",
      "마음은 따스해지네.\n",
      "---------- TextMessage (critic) ----------\n",
      "아름다운 가을의 정취가 잘 담긴 시입니다. 짧지만 가을 바람의 부드러움과 낙엽의 춤, 햇살의 따스함이 생생하게 느껴집니다. 다만, 시의 이미지들이 조금 더 구체적이고 독창적으로 표현된다면 더욱 인상적일 것 같습니다. 예를 들어, 낙엽의 색이나 소리를 묘사하거나, 가을과 연결된 특별한 감정을 덧붙여 보세요. 전반적으로 매우 좋습니다!\n",
      "---------- TextMessage (primary) ----------\n",
      "감사합니다! 더 구체적이고 독창적인 표현을 살려서 가을 시를 다시 써보겠습니다.\n",
      "\n",
      "---\n",
      "\n",
      "바스락거리는 주홍빛 낙엽들  \n",
      "차가운 바람에 속삭이며  \n",
      "마음 한켠엔 서늘한 그리움  \n",
      "가을은 조용히 스며드네.\n",
      "---------- TextMessage (critic) ----------\n",
      "훨씬 더 구체적이고 감성적인 표현이 돋보이는 시입니다. 낙엽의 색깔과 소리를 섬세하게 묘사했고, 바람과 마음의 감정이 자연스럽게 어우러져 가을의 깊은 분위기를 잘 전달합니다. ‘서늘한 그리움’이라는 표현이 특히 인상적이며, 시에 감정적인 깊이를 더해 주네요. 매우 좋은 발전입니다! 계속해서 창작 활동 응원합니다. APPROVE\n"
     ]
    },
    {
     "data": {
      "text/plain": [
       "TaskResult(messages=[TextMessage(id='0640517f-aa04-4e47-ab16-303714f22e4e', source='user', models_usage=None, metadata={}, created_at=datetime.datetime(2025, 7, 18, 2, 41, 59, 373141, tzinfo=datetime.timezone.utc), content='가을에 대한 짧은 시를 써보세요.', type='TextMessage'), TextMessage(id='f2ace8c5-80b9-4f46-95fd-bb7caf990dba', source='primary', models_usage=RequestUsage(prompt_tokens=33, completion_tokens=36), metadata={}, created_at=datetime.datetime(2025, 7, 18, 2, 42, 0, 357999, tzinfo=datetime.timezone.utc), content='가을 바람 살랑이며  \\n낙엽은 춤추고  \\n황금빛 햇살 아래  \\n마음은 따스해지네.', type='TextMessage'), TextMessage(id='7daf26a3-cb80-4b7f-a1a6-467260691b32', source='critic', models_usage=RequestUsage(prompt_tokens=86, completion_tokens=121), metadata={}, created_at=datetime.datetime(2025, 7, 18, 2, 42, 2, 194920, tzinfo=datetime.timezone.utc), content='아름다운 가을의 정취가 잘 담긴 시입니다. 짧지만 가을 바람의 부드러움과 낙엽의 춤, 햇살의 따스함이 생생하게 느껴집니다. 다만, 시의 이미지들이 조금 더 구체적이고 독창적으로 표현된다면 더욱 인상적일 것 같습니다. 예를 들어, 낙엽의 색이나 소리를 묘사하거나, 가을과 연결된 특별한 감정을 덧붙여 보세요. 전반적으로 매우 좋습니다!', type='TextMessage'), TextMessage(id='42858d12-694f-496c-a5d2-fcdc1e3bed13', source='primary', models_usage=RequestUsage(prompt_tokens=198, completion_tokens=77), metadata={}, created_at=datetime.datetime(2025, 7, 18, 2, 42, 3, 606703, tzinfo=datetime.timezone.utc), content='감사합니다! 더 구체적이고 독창적인 표현을 살려서 가을 시를 다시 써보겠습니다.\\n\\n---\\n\\n바스락거리는 주홍빛 낙엽들  \\n차가운 바람에 속삭이며  \\n마음 한켠엔 서늘한 그리움  \\n가을은 조용히 스며드네.', type='TextMessage'), TextMessage(id='39823ab7-28d3-4af2-80d0-2df130526394', source='critic', models_usage=RequestUsage(prompt_tokens=292, completion_tokens=112), metadata={}, created_at=datetime.datetime(2025, 7, 18, 2, 42, 5, 500652, tzinfo=datetime.timezone.utc), content='훨씬 더 구체적이고 감성적인 표현이 돋보이는 시입니다. 낙엽의 색깔과 소리를 섬세하게 묘사했고, 바람과 마음의 감정이 자연스럽게 어우러져 가을의 깊은 분위기를 잘 전달합니다. ‘서늘한 그리움’이라는 표현이 특히 인상적이며, 시에 감정적인 깊이를 더해 주네요. 매우 좋은 발전입니다! 계속해서 창작 활동 응원합니다. APPROVE', type='TextMessage')], stop_reason=\"Text 'APPROVE' mentioned\")"
      ]
     },
     "execution_count": 8,
     "metadata": {},
     "output_type": "execute_result"
    }
   ],
   "source": [
    "# Use `asyncio.run(Console(reflection_team.run_stream(task=\"Write a short poem about fall season.\")))` when running in a script.\n",
    "await Console(\n",
    "    reflection_team.run_stream(task=\"가을에 대한 짧은 시를 써보세요.\")\n",
    ")  # Stream the messages to the console."
   ]
  },
  {
   "cell_type": "code",
   "execution_count": 10,
   "metadata": {},
   "outputs": [
    {
     "name": "stdout",
     "output_type": "stream",
     "text": [
      "---------- TextMessage (user) ----------\n",
      "중국 당나라 시풍으로 시를 써보세요.\n",
      "---------- TextMessage (primary) ----------\n",
      "산間秋色深,  \n",
      "한가로운 구름 흘러가네.  \n",
      "고향 달빛 차가워도,  \n",
      "외로운 마음은 평온하네.\n",
      "---------- TextMessage (critic) ----------\n",
      "시의 구성이 당나라 시풍의 느낌을 잘 살리고 있습니다. 산속의 깊은 가을 풍경과 한가로운 구름, 차가운 달빛이 어우러져 고요한 분위기를 자아내며, 외로운 마음이 평온함으로 변하는 섬세한 감정을 표현한 점이 인상적입니다. 다만, 당나라 시의 전통적인 특징 중 하나인 시적인 언어와 이미지의 운율감을 조금 더 살린다면 더욱 깊이 있는 작품이 될 것입니다. 예를 들어, 각 구절의 음절 수를 맞추거나, 병렬 구조를 강화하는 방식을 고려해보세요. 전반적으로 훌륭한 시이며, 계속해서 발전 가능성이 큽니다!\n",
      "---------- TextMessage (primary) ----------\n",
      "감사합니다! 지적해 주신 운율과 병렬 구조를 고려하여 당나라 시풍에 맞게 다시 써보았습니다.\n",
      "\n",
      "---\n",
      "\n",
      "산중秋色정深深(산중추색정심심),  \n",
      "한가로이 구름 한 줄 흘러가네.  \n",
      "달빛은 차가워도 고요하니,  \n",
      "외로운 마음 바람에 잠기네.  \n",
      "\n",
      "---\n",
      "\n",
      "각 구절의 음절 수를 유사하게 맞추고, 병렬 구조를 강조하여 고전 당시의 느낌을 살리고자 했습니다. 더 원하시는 스타일이나 주제가 있다면 언제든 말씀해 주세요!\n",
      "---------- TextMessage (critic) ----------\n",
      "수정하신 시에서 운율과 병렬 구조가 더욱 정돈되어 당나라 시풍의 고전미가 잘 살아났습니다. \"산중秋色정深深\"과 같은 병렬적 표현과 \"한가로이 구름 한 줄 흘러가네\" 등의 부드러운 흐름이 자연 풍경과 마음의 고요함을 효과적으로 전달하고 있습니다. 또한 각 구절이 비슷한 음절 수를 지니면서 균형감이 느껴져 읽는 이로 하여금 편안함과 동시에 깊은 감상을 할 수 있게 합니다. 매우 잘 쓰셨습니다! 앞으로도 다양한 주제와 스타일로 시를 창작해 보시면 좋겠습니다. APPROVE\n"
     ]
    },
    {
     "data": {
      "text/plain": [
       "TaskResult(messages=[TextMessage(id='69c2709d-c747-4719-b4b6-f10caf223bfd', source='user', models_usage=None, metadata={}, created_at=datetime.datetime(2025, 7, 18, 2, 43, 12, 290990, tzinfo=datetime.timezone.utc), content='중국 당나라 시풍으로 시를 써보세요.', type='TextMessage'), TextMessage(id='3b10d338-c9dc-4c13-95f0-00a845df163f', source='primary', models_usage=RequestUsage(prompt_tokens=727, completion_tokens=39), metadata={}, created_at=datetime.datetime(2025, 7, 18, 2, 43, 13, 667182, tzinfo=datetime.timezone.utc), content='산間秋色深,  \\n한가로운 구름 흘러가네.  \\n고향 달빛 차가워도,  \\n외로운 마음은 평온하네.', type='TextMessage'), TextMessage(id='be5a9518-8b7f-4be8-b516-90b9da2f10d2', source='critic', models_usage=RequestUsage(prompt_tokens=783, completion_tokens=165), metadata={}, created_at=datetime.datetime(2025, 7, 18, 2, 43, 15, 855648, tzinfo=datetime.timezone.utc), content='시의 구성이 당나라 시풍의 느낌을 잘 살리고 있습니다. 산속의 깊은 가을 풍경과 한가로운 구름, 차가운 달빛이 어우러져 고요한 분위기를 자아내며, 외로운 마음이 평온함으로 변하는 섬세한 감정을 표현한 점이 인상적입니다. 다만, 당나라 시의 전통적인 특징 중 하나인 시적인 언어와 이미지의 운율감을 조금 더 살린다면 더욱 깊이 있는 작품이 될 것입니다. 예를 들어, 각 구절의 음절 수를 맞추거나, 병렬 구조를 강화하는 방식을 고려해보세요. 전반적으로 훌륭한 시이며, 계속해서 발전 가능성이 큽니다!', type='TextMessage'), TextMessage(id='4285e6bf-2488-48c6-8223-450bb40449a7', source='primary', models_usage=RequestUsage(prompt_tokens=939, completion_tokens=140), metadata={}, created_at=datetime.datetime(2025, 7, 18, 2, 43, 17, 734704, tzinfo=datetime.timezone.utc), content='감사합니다! 지적해 주신 운율과 병렬 구조를 고려하여 당나라 시풍에 맞게 다시 써보았습니다.\\n\\n---\\n\\n산중秋色정深深(산중추색정심심),  \\n한가로이 구름 한 줄 흘러가네.  \\n달빛은 차가워도 고요하니,  \\n외로운 마음 바람에 잠기네.  \\n\\n---\\n\\n각 구절의 음절 수를 유사하게 맞추고, 병렬 구조를 강조하여 고전 당시의 느낌을 살리고자 했습니다. 더 원하시는 스타일이나 주제가 있다면 언제든 말씀해 주세요!', type='TextMessage'), TextMessage(id='0ccf9db8-d8df-49d5-ac1c-6eb0efe2f538', source='critic', models_usage=RequestUsage(prompt_tokens=1095, completion_tokens=156), metadata={}, created_at=datetime.datetime(2025, 7, 18, 2, 43, 19, 714583, tzinfo=datetime.timezone.utc), content='수정하신 시에서 운율과 병렬 구조가 더욱 정돈되어 당나라 시풍의 고전미가 잘 살아났습니다. \"산중秋色정深深\"과 같은 병렬적 표현과 \"한가로이 구름 한 줄 흘러가네\" 등의 부드러운 흐름이 자연 풍경과 마음의 고요함을 효과적으로 전달하고 있습니다. 또한 각 구절이 비슷한 음절 수를 지니면서 균형감이 느껴져 읽는 이로 하여금 편안함과 동시에 깊은 감상을 할 수 있게 합니다. 매우 잘 쓰셨습니다! 앞으로도 다양한 주제와 스타일로 시를 창작해 보시면 좋겠습니다. APPROVE', type='TextMessage')], stop_reason=\"Text 'APPROVE' mentioned\")"
      ]
     },
     "execution_count": 10,
     "metadata": {},
     "output_type": "execute_result"
    }
   ],
   "source": [
    "await Console(reflection_team.run_stream(task=\"중국 당나라 시풍으로 시를 써보세요.\"))"
   ]
  },
  {
   "cell_type": "code",
   "execution_count": 3,
   "metadata": {},
   "outputs": [],
   "source": [
    "from autogen_agentchat.agents import AssistantAgent\n",
    "from autogen_agentchat.base import Handoff\n",
    "from autogen_agentchat.conditions import HandoffTermination, TextMentionTermination\n",
    "from autogen_agentchat.teams import RoundRobinGroupChat\n",
    "\n",
    "# Create an OpenAI model client.\n",
    "model_client = azure_openai_chat_completion_client\n",
    "\n",
    "# Create a lazy assistant agent that always hands off to the user.\n",
    "lazy_agent = AssistantAgent(\n",
    "    \"lazy_assistant\",\n",
    "    model_client=model_client,\n",
    "    handoffs=[Handoff(target=\"user\", message=\"Transfer to user.\")],\n",
    "    system_message=\"Always transfer to user when you don't know the answer. Respond 'TERMINATE' when task is complete.\",\n",
    ")\n",
    "\n",
    "# Define a termination condition that checks for handoff message targetting helper and text \"TERMINATE\".\n",
    "handoff_termination = HandoffTermination(target=\"user\")\n",
    "text_termination = TextMentionTermination(\"TERMINATE\")\n",
    "termination = handoff_termination | text_termination\n",
    "\n",
    "# Create a single-agent team.\n",
    "lazy_agent_team = RoundRobinGroupChat([lazy_agent], termination_condition=termination)"
   ]
  },
  {
   "cell_type": "code",
   "execution_count": 6,
   "metadata": {},
   "outputs": [
    {
     "name": "stdout",
     "output_type": "stream",
     "text": [
      "---------- TextMessage (user) ----------\n",
      "서울 날씨 어때?\n",
      "---------- ToolCallRequestEvent (lazy_assistant) ----------\n",
      "[FunctionCall(id='call_Ea8cU6wsvUJlx2w1qRYB8P99', arguments='{}', name='transfer_to_user')]\n",
      "[Prompt tokens: 174, Completion tokens: 12]\n",
      "---------- ToolCallExecutionEvent (lazy_assistant) ----------\n",
      "[FunctionExecutionResult(content='Transfer to user.', name='transfer_to_user', call_id='call_Ea8cU6wsvUJlx2w1qRYB8P99', is_error=False)]\n",
      "---------- HandoffMessage (lazy_assistant) ----------\n",
      "Transfer to user.\n",
      "---------- Summary ----------\n",
      "Number of messages: 4\n",
      "Finish reason: Handoff to user from lazy_assistant detected.\n",
      "Total prompt tokens: 174\n",
      "Total completion tokens: 12\n",
      "Duration: 0.56 seconds\n",
      "---------- TextMessage (user) ----------\n",
      "날씨 맑은데?\n",
      "---------- TextMessage (lazy_assistant) ----------\n",
      "현재 서울 날씨가 맑다고 하시니 다행이네요! 더 궁금한 점이나 다른 정보가 필요하시면 말씀해 주세요.\n",
      "---------- TextMessage (lazy_assistant) ----------\n",
      "현재 서울 날씨가 맑다고 하시니 다행이네요! 더 궁금한 점이나 다른 정보가 필요하시면 말씀해 주세요.\n",
      "---------- TextMessage (lazy_assistant) ----------\n",
      "현재 서울의 날씨가 맑다고 하시니 좋네요! 더 도움이 필요하시면 알려주세요.\n",
      "---------- TextMessage (lazy_assistant) ----------\n",
      "서울의 날씨가 맑다고 하시니 좋네요! 추가로 궁금한 것이 있으면 말씀해 주세요.\n",
      "---------- ToolCallRequestEvent (lazy_assistant) ----------\n",
      "[FunctionCall(id='call_JUMn4aRy3CxOhvysVlnApdbQ', arguments='{}', name='transfer_to_user')]\n",
      "---------- ToolCallExecutionEvent (lazy_assistant) ----------\n",
      "[FunctionExecutionResult(content='Transfer to user.', name='transfer_to_user', call_id='call_JUMn4aRy3CxOhvysVlnApdbQ', is_error=False)]\n",
      "---------- HandoffMessage (lazy_assistant) ----------\n",
      "Transfer to user.\n"
     ]
    },
    {
     "data": {
      "text/plain": [
       "TaskResult(messages=[TextMessage(id='c36c8791-485f-4790-86c6-629e5a7f9226', source='user', models_usage=None, metadata={}, created_at=datetime.datetime(2025, 7, 23, 0, 49, 18, 851633, tzinfo=datetime.timezone.utc), content='날씨 맑은데?', type='TextMessage'), TextMessage(id='5089598f-ee91-4807-b50e-34ddf50f862a', source='lazy_assistant', models_usage=RequestUsage(prompt_tokens=210, completion_tokens=34), metadata={}, created_at=datetime.datetime(2025, 7, 23, 0, 49, 19, 484461, tzinfo=datetime.timezone.utc), content='현재 서울 날씨가 맑다고 하시니 다행이네요! 더 궁금한 점이나 다른 정보가 필요하시면 말씀해 주세요.', type='TextMessage'), TextMessage(id='fa9c9db0-5d33-4aa1-ad1c-72703475eada', source='lazy_assistant', models_usage=RequestUsage(prompt_tokens=246, completion_tokens=34), metadata={}, created_at=datetime.datetime(2025, 7, 23, 0, 49, 20, 138716, tzinfo=datetime.timezone.utc), content='현재 서울 날씨가 맑다고 하시니 다행이네요! 더 궁금한 점이나 다른 정보가 필요하시면 말씀해 주세요.', type='TextMessage'), TextMessage(id='a536c9ad-3b47-4071-bd0b-8e05f987cd00', source='lazy_assistant', models_usage=RequestUsage(prompt_tokens=282, completion_tokens=25), metadata={}, created_at=datetime.datetime(2025, 7, 23, 0, 49, 20, 672926, tzinfo=datetime.timezone.utc), content='현재 서울의 날씨가 맑다고 하시니 좋네요! 더 도움이 필요하시면 알려주세요.', type='TextMessage'), TextMessage(id='1c85d142-7c06-4227-8d6d-8147f32e83ad', source='lazy_assistant', models_usage=RequestUsage(prompt_tokens=309, completion_tokens=28), metadata={}, created_at=datetime.datetime(2025, 7, 23, 0, 49, 21, 235247, tzinfo=datetime.timezone.utc), content='서울의 날씨가 맑다고 하시니 좋네요! 추가로 궁금한 것이 있으면 말씀해 주세요.', type='TextMessage'), ToolCallRequestEvent(id='a2c37a51-5d81-4661-acb1-c7f6a55d5701', source='lazy_assistant', models_usage=RequestUsage(prompt_tokens=339, completion_tokens=12), metadata={}, created_at=datetime.datetime(2025, 7, 23, 0, 49, 21, 655009, tzinfo=datetime.timezone.utc), content=[FunctionCall(id='call_JUMn4aRy3CxOhvysVlnApdbQ', arguments='{}', name='transfer_to_user')], type='ToolCallRequestEvent'), ToolCallExecutionEvent(id='2674278a-8d69-401b-befa-9c28f2241215', source='lazy_assistant', models_usage=None, metadata={}, created_at=datetime.datetime(2025, 7, 23, 0, 49, 21, 659020, tzinfo=datetime.timezone.utc), content=[FunctionExecutionResult(content='Transfer to user.', name='transfer_to_user', call_id='call_JUMn4aRy3CxOhvysVlnApdbQ', is_error=False)], type='ToolCallExecutionEvent'), HandoffMessage(id='c8ddcca7-e50d-4ee1-a1ec-91e5ff1eb47c', source='lazy_assistant', models_usage=None, metadata={}, created_at=datetime.datetime(2025, 7, 23, 0, 49, 21, 659275, tzinfo=datetime.timezone.utc), content='Transfer to user.', target='user', context=[], type='HandoffMessage')], stop_reason='Handoff to user from lazy_assistant detected.')"
      ]
     },
     "execution_count": 6,
     "metadata": {},
     "output_type": "execute_result"
    }
   ],
   "source": [
    "from autogen_agentchat.ui import Console\n",
    "\n",
    "await Console(lazy_agent_team.run_stream(task=\"서울 날씨 어때?\"),  output_stats=True)\n",
    "\n",
    "# Handoff to the user before answering the question\n",
    "\n",
    "await Console(lazy_agent_team.run_stream(task=\"날씨 맑은데?\"))\n"
   ]
  }
 ],
 "metadata": {
  "kernelspec": {
   "display_name": "autogen04-sample",
   "language": "python",
   "name": "python3"
  },
  "language_info": {
   "codemirror_mode": {
    "name": "ipython",
    "version": 3
   },
   "file_extension": ".py",
   "mimetype": "text/x-python",
   "name": "python",
   "nbconvert_exporter": "python",
   "pygments_lexer": "ipython3",
   "version": "3.12.9"
  }
 },
 "nbformat": 4,
 "nbformat_minor": 2
}
