{
 "cells": [
  {
   "cell_type": "markdown",
   "metadata": {},
   "source": [
    "## Magentic One\n",
    "\n",
    "![magentic](https://www.microsoft.com/en-us/research/uploads/prod/2024/11/magnetic_example-2048x1155.png)"
   ]
  },
  {
   "cell_type": "code",
   "execution_count": 6,
   "metadata": {},
   "outputs": [
    {
     "name": "stdout",
     "output_type": "stream",
     "text": [
      "Requirement already satisfied: markitdown in ./.venv/lib/python3.11/site-packages (0.0.1a3)\n",
      "Collecting playwright\n",
      "  Using cached playwright-1.49.1-py3-none-manylinux1_x86_64.whl.metadata (3.5 kB)\n",
      "Requirement already satisfied: beautifulsoup4 in ./.venv/lib/python3.11/site-packages (from markitdown) (4.12.3)\n",
      "Requirement already satisfied: charset-normalizer in ./.venv/lib/python3.11/site-packages (from markitdown) (3.4.1)\n",
      "Requirement already satisfied: mammoth in ./.venv/lib/python3.11/site-packages (from markitdown) (1.9.0)\n",
      "Requirement already satisfied: markdownify in ./.venv/lib/python3.11/site-packages (from markitdown) (0.14.1)\n",
      "Requirement already satisfied: numpy in ./.venv/lib/python3.11/site-packages (from markitdown) (2.2.1)\n",
      "Requirement already satisfied: openai in ./.venv/lib/python3.11/site-packages (from markitdown) (1.59.3)\n",
      "Requirement already satisfied: openpyxl in ./.venv/lib/python3.11/site-packages (from markitdown) (3.1.5)\n",
      "Requirement already satisfied: pandas in ./.venv/lib/python3.11/site-packages (from markitdown) (2.2.3)\n",
      "Requirement already satisfied: pathvalidate in ./.venv/lib/python3.11/site-packages (from markitdown) (3.2.3)\n",
      "Requirement already satisfied: pdfminer-six in ./.venv/lib/python3.11/site-packages (from markitdown) (20240706)\n",
      "Requirement already satisfied: puremagic in ./.venv/lib/python3.11/site-packages (from markitdown) (1.28)\n",
      "Requirement already satisfied: pydub in ./.venv/lib/python3.11/site-packages (from markitdown) (0.25.1)\n",
      "Requirement already satisfied: python-pptx in ./.venv/lib/python3.11/site-packages (from markitdown) (1.0.2)\n",
      "Requirement already satisfied: requests in ./.venv/lib/python3.11/site-packages (from markitdown) (2.32.3)\n",
      "Requirement already satisfied: speechrecognition in ./.venv/lib/python3.11/site-packages (from markitdown) (3.13.0)\n",
      "Requirement already satisfied: youtube-transcript-api in ./.venv/lib/python3.11/site-packages (from markitdown) (0.6.3)\n",
      "Collecting greenlet==3.1.1 (from playwright)\n",
      "  Using cached greenlet-3.1.1-cp311-cp311-manylinux_2_24_x86_64.manylinux_2_28_x86_64.whl.metadata (3.8 kB)\n",
      "Collecting pyee==12.0.0 (from playwright)\n",
      "  Using cached pyee-12.0.0-py3-none-any.whl.metadata (2.8 kB)\n",
      "Requirement already satisfied: typing-extensions in ./.venv/lib/python3.11/site-packages (from pyee==12.0.0->playwright) (4.12.2)\n",
      "Requirement already satisfied: soupsieve>1.2 in ./.venv/lib/python3.11/site-packages (from beautifulsoup4->markitdown) (2.6)\n",
      "Requirement already satisfied: cobble<0.2,>=0.1.3 in ./.venv/lib/python3.11/site-packages (from mammoth->markitdown) (0.1.4)\n",
      "Requirement already satisfied: six<2,>=1.15 in ./.venv/lib/python3.11/site-packages (from markdownify->markitdown) (1.17.0)\n",
      "Requirement already satisfied: anyio<5,>=3.5.0 in ./.venv/lib/python3.11/site-packages (from openai->markitdown) (4.8.0)\n",
      "Requirement already satisfied: distro<2,>=1.7.0 in ./.venv/lib/python3.11/site-packages (from openai->markitdown) (1.9.0)\n",
      "Requirement already satisfied: httpx<1,>=0.23.0 in ./.venv/lib/python3.11/site-packages (from openai->markitdown) (0.28.1)\n",
      "Requirement already satisfied: jiter<1,>=0.4.0 in ./.venv/lib/python3.11/site-packages (from openai->markitdown) (0.8.2)\n",
      "Requirement already satisfied: pydantic<3,>=1.9.0 in ./.venv/lib/python3.11/site-packages (from openai->markitdown) (2.10.4)\n",
      "Requirement already satisfied: sniffio in ./.venv/lib/python3.11/site-packages (from openai->markitdown) (1.3.1)\n",
      "Requirement already satisfied: tqdm>4 in ./.venv/lib/python3.11/site-packages (from openai->markitdown) (4.67.1)\n",
      "Requirement already satisfied: et-xmlfile in ./.venv/lib/python3.11/site-packages (from openpyxl->markitdown) (2.0.0)\n",
      "Requirement already satisfied: python-dateutil>=2.8.2 in ./.venv/lib/python3.11/site-packages (from pandas->markitdown) (2.9.0.post0)\n",
      "Requirement already satisfied: pytz>=2020.1 in ./.venv/lib/python3.11/site-packages (from pandas->markitdown) (2024.2)\n",
      "Requirement already satisfied: tzdata>=2022.7 in ./.venv/lib/python3.11/site-packages (from pandas->markitdown) (2024.2)\n",
      "Requirement already satisfied: cryptography>=36.0.0 in ./.venv/lib/python3.11/site-packages (from pdfminer-six->markitdown) (44.0.0)\n",
      "Requirement already satisfied: Pillow>=3.3.2 in ./.venv/lib/python3.11/site-packages (from python-pptx->markitdown) (11.1.0)\n",
      "Requirement already satisfied: XlsxWriter>=0.5.7 in ./.venv/lib/python3.11/site-packages (from python-pptx->markitdown) (3.2.0)\n",
      "Requirement already satisfied: lxml>=3.1.0 in ./.venv/lib/python3.11/site-packages (from python-pptx->markitdown) (5.3.0)\n",
      "Requirement already satisfied: idna<4,>=2.5 in ./.venv/lib/python3.11/site-packages (from requests->markitdown) (3.10)\n",
      "Requirement already satisfied: urllib3<3,>=1.21.1 in ./.venv/lib/python3.11/site-packages (from requests->markitdown) (2.3.0)\n",
      "Requirement already satisfied: certifi>=2017.4.17 in ./.venv/lib/python3.11/site-packages (from requests->markitdown) (2024.12.14)\n",
      "Requirement already satisfied: defusedxml<0.8.0,>=0.7.1 in ./.venv/lib/python3.11/site-packages (from youtube-transcript-api->markitdown) (0.7.1)\n",
      "Requirement already satisfied: cffi>=1.12 in ./.venv/lib/python3.11/site-packages (from cryptography>=36.0.0->pdfminer-six->markitdown) (1.17.1)\n",
      "Requirement already satisfied: httpcore==1.* in ./.venv/lib/python3.11/site-packages (from httpx<1,>=0.23.0->openai->markitdown) (1.0.7)\n",
      "Requirement already satisfied: h11<0.15,>=0.13 in ./.venv/lib/python3.11/site-packages (from httpcore==1.*->httpx<1,>=0.23.0->openai->markitdown) (0.14.0)\n",
      "Requirement already satisfied: annotated-types>=0.6.0 in ./.venv/lib/python3.11/site-packages (from pydantic<3,>=1.9.0->openai->markitdown) (0.7.0)\n",
      "Requirement already satisfied: pydantic-core==2.27.2 in ./.venv/lib/python3.11/site-packages (from pydantic<3,>=1.9.0->openai->markitdown) (2.27.2)\n",
      "Requirement already satisfied: pycparser in ./.venv/lib/python3.11/site-packages (from cffi>=1.12->cryptography>=36.0.0->pdfminer-six->markitdown) (2.22)\n",
      "Using cached playwright-1.49.1-py3-none-manylinux1_x86_64.whl (44.2 MB)\n",
      "Using cached greenlet-3.1.1-cp311-cp311-manylinux_2_24_x86_64.manylinux_2_28_x86_64.whl (602 kB)\n",
      "Using cached pyee-12.0.0-py3-none-any.whl (14 kB)\n",
      "Installing collected packages: pyee, greenlet, playwright\n",
      "Successfully installed greenlet-3.1.1 playwright-1.49.1 pyee-12.0.0\n",
      "\n",
      "\u001b[1m[\u001b[0m\u001b[34;49mnotice\u001b[0m\u001b[1;39;49m]\u001b[0m\u001b[39;49m A new release of pip is available: \u001b[0m\u001b[31;49m24.2\u001b[0m\u001b[39;49m -> \u001b[0m\u001b[32;49m24.3.1\u001b[0m\n",
      "\u001b[1m[\u001b[0m\u001b[34;49mnotice\u001b[0m\u001b[1;39;49m]\u001b[0m\u001b[39;49m To update, run: \u001b[0m\u001b[32;49mpip install --upgrade pip\u001b[0m\n",
      "Note: you may need to restart the kernel to use updated packages.\n"
     ]
    }
   ],
   "source": [
    "%pip install markitdown playwright"
   ]
  },
  {
   "cell_type": "markdown",
   "metadata": {},
   "source": [
    "### `magentic_one.py` core code\n",
    "\n",
    "```python\n",
    "def __init__(self, client: ChatCompletionClient, hil_mode: bool = False):\n",
    "    self.client = client\n",
    "    self._validate_client_capabilities(client)\n",
    "\n",
    "    fs = FileSurfer(\"FileSurfer\", model_client=client)\n",
    "    ws = MultimodalWebSurfer(\"WebSurfer\", model_client=client)\n",
    "    coder = MagenticOneCoderAgent(\"Coder\", model_client=client)\n",
    "    executor = CodeExecutorAgent(\"Executor\", code_executor=LocalCommandLineCodeExecutor())\n",
    "    agents: List[ChatAgent] = [fs, ws, coder, executor]\n",
    "    if hil_mode:\n",
    "        user_proxy = UserProxyAgent(\"User\")\n",
    "        agents.append(user_proxy)\n",
    "    super().__init__(agents, model_client=client)\n",
    "\n",
    "```"
   ]
  },
  {
   "cell_type": "code",
   "execution_count": 1,
   "metadata": {},
   "outputs": [
    {
     "name": "stderr",
     "output_type": "stream",
     "text": [
      "/home/andy/works/openai/autogen04-sample/.venv/lib/python3.11/site-packages/autogen_ext/models/openai/_openai_client.py:412: DeprecationWarning: capabilities is deprecated, use model_info instead\n",
      "  if self.capabilities[\"vision\"] is False:\n",
      "/home/andy/works/openai/autogen04-sample/.venv/lib/python3.11/site-packages/autogen_ext/models/openai/_openai_client.py:427: DeprecationWarning: capabilities is deprecated, use model_info instead\n",
      "  if self.capabilities[\"json_output\"] is False and json_output is True:\n",
      "/home/andy/works/openai/autogen04-sample/.venv/lib/python3.11/site-packages/autogen_ext/models/openai/_openai_client.py:433: DeprecationWarning: capabilities is deprecated, use model_info instead\n",
      "  if self.capabilities[\"function_calling\"] is False and len(tools) > 0:\n",
      "/home/andy/works/openai/autogen04-sample/.venv/lib/python3.11/site-packages/autogen_agentchat/teams/_group_chat/_magentic_one/_magentic_one_orchestrator.py:149: UserWarning: Resolved model mismatch: gpt-4o-2024-08-06 != gpt-4o-2024-05-13. Model mapping may be incorrect.\n",
      "  response = await self._model_client.create(planning_conversation, cancellation_token=ctx.cancellation_token)\n",
      "/home/andy/works/openai/autogen04-sample/.venv/lib/python3.11/site-packages/autogen_agentchat/teams/_group_chat/_magentic_one/_magentic_one_orchestrator.py:160: UserWarning: Resolved model mismatch: gpt-4o-2024-08-06 != gpt-4o-2024-05-13. Model mapping may be incorrect.\n",
      "  response = await self._model_client.create(planning_conversation, cancellation_token=ctx.cancellation_token)\n",
      "/home/andy/works/openai/autogen04-sample/.venv/lib/python3.11/site-packages/autogen_ext/models/openai/_openai_client.py:419: DeprecationWarning: capabilities is deprecated, use model_info instead\n",
      "  if self.capabilities[\"json_output\"] is False and json_output is True:\n"
     ]
    },
    {
     "name": "stdout",
     "output_type": "stream",
     "text": [
      "---------- user ----------\n",
      "마이크로소프트 현재 주가와 전망에 대해 알려줘\n",
      "---------- MagenticOneOrchestrator ----------\n",
      "\n",
      "We are working to address the following user request:\n",
      "\n",
      "마이크로소프트 현재 주가와 전망에 대해 알려줘\n",
      "\n",
      "\n",
      "To answer this request we have assembled the following team:\n",
      "\n",
      "FileSurfer: An agent that can handle local files.\n",
      "WebSurfer: \n",
      "    A helpful assistant with access to a web browser.\n",
      "    Ask them to perform web searches, open pages, and interact with content (e.g., clicking links, scrolling the viewport, etc., filling in form fields, etc.).\n",
      "    It can also summarize the entire page, or answer questions based on the content of the page.\n",
      "    It can also be asked to sleep and wait for pages to load, in cases where the pages seem to be taking a while to load.\n",
      "Coder: A helpful and general-purpose AI assistant that has strong language skills, Python skills, and Linux command line skills.\n",
      "Executor: A computer terminal that performs no other action than running Python scripts (provided to it quoted in ```python code blocks), or sh shell scripts (provided to it quoted in ```sh code blocks).\n",
      "\n",
      "\n",
      "Here is an initial fact sheet to consider:\n",
      "\n",
      "1. GIVEN OR VERIFIED FACTS\n",
      "- The request is asking about Microsoft's current stock price and its outlook.\n",
      "\n",
      "2. FACTS TO LOOK UP\n",
      "- Microsoft's current stock price. This can be found on financial news websites such as Bloomberg, Yahoo Finance, or Google Finance.\n",
      "- Microsoft's stock market outlook, which can include analysts' reports, market trends, and financial forecasts. These details could be found on websites like Morningstar, MarketWatch, or through investment firms' reports.\n",
      "\n",
      "3. FACTS TO DERIVE\n",
      "- Analysis combining Microsoft's current stock price and the general trends in the technology sector to provide a comprehensive outlook.\n",
      "- Potential impact of recent news or events related to Microsoft on its stock price and outlook.\n",
      "\n",
      "4. EDUCATED GUESSES\n",
      "- Microsoft's stock is likely to be influenced by general market conditions, technological advancements, company earnings reports, and macroeconomic factors.\n",
      "- As a major tech company, Microsoft's stock performance might show some correlation with the performance of other tech giants and the NASDAQ index.\n",
      "\n",
      "\n",
      "Here is the plan to follow as best as possible:\n",
      "\n",
      "Here is a short bullet-point plan for addressing the original request regarding Microsoft's current stock price and its outlook:\n",
      "\n",
      "1. **Look up Microsoft's current stock price:**\n",
      "    - Ask WebSurfer to search for Microsoft's current stock price on financial news websites such as Bloomberg, Yahoo Finance, or Google Finance.\n",
      "\n",
      "2. **Research analysts' reports and market trends:**\n",
      "    - Ask WebSurfer to search for recent news articles, analysts' reports, and financial forecasts related to Microsoft's stock market outlook on websites like Morningstar, MarketWatch, or other investment firms' reports.\n",
      "\n",
      "3. **Summarize the findings:**\n",
      "    - Combine the current stock price and the outlook information, and provide a comprehensive summary of Microsoft's current stock situation and the outlook.\n",
      "\n",
      "This plan will primarily involve the WebSurfer agent to gather the necessary information from authoritative financial sources. Once the information is gathered, it can be summarized and presented.\n",
      "\n",
      "---------- MagenticOneOrchestrator ----------\n",
      "Please search for Microsoft's current stock price on financial news websites such as Bloomberg, Yahoo Finance, or Google Finance. Also, look for recent news articles, analysts' reports, and financial forecasts related to Microsoft's stock market outlook on websites like Morningstar, MarketWatch, or other investment firms' reports.\n"
     ]
    },
    {
     "name": "stderr",
     "output_type": "stream",
     "text": [
      "/home/andy/works/openai/autogen04-sample/.venv/lib/python3.11/site-packages/autogen_agentchat/teams/_group_chat/_magentic_one/_magentic_one_orchestrator.py:284: UserWarning: Resolved model mismatch: gpt-4o-2024-08-06 != gpt-4o-2024-05-13. Model mapping may be incorrect.\n",
      "  response = await self._model_client.create(context, json_output=True)\n"
     ]
    },
    {
     "name": "stdout",
     "output_type": "stream",
     "text": [
      "---------- WebSurfer ----------\n",
      "Web surfing error:\n",
      "\n",
      "Traceback (most recent call last):\n",
      "  File \"/home/andy/works/openai/autogen04-sample/.venv/lib/python3.11/site-packages/autogen_ext/agents/web_surfer/_multimodal_web_surfer.py\", line 377, in on_messages_stream\n",
      "    content = await self._generate_reply(cancellation_token=cancellation_token)\n",
      "              ^^^^^^^^^^^^^^^^^^^^^^^^^^^^^^^^^^^^^^^^^^^^^^^^^^^^^^^^^^^^^^^^^\n",
      "  File \"/home/andy/works/openai/autogen04-sample/.venv/lib/python3.11/site-packages/autogen_ext/agents/web_surfer/_multimodal_web_surfer.py\", line 404, in _generate_reply\n",
      "    await self._lazy_init()\n",
      "  File \"/home/andy/works/openai/autogen04-sample/.venv/lib/python3.11/site-packages/autogen_ext/agents/web_surfer/_multimodal_web_surfer.py\", line 261, in _lazy_init\n",
      "    browser = await self._playwright.chromium.launch(**launch_args)\n",
      "              ^^^^^^^^^^^^^^^^^^^^^^^^^^^^^^^^^^^^^^^^^^^^^^^^^^^^^\n",
      "  File \"/home/andy/works/openai/autogen04-sample/.venv/lib/python3.11/site-packages/playwright/async_api/_generated.py\", line 14404, in launch\n",
      "    await self._impl_obj.launch(\n",
      "  File \"/home/andy/works/openai/autogen04-sample/.venv/lib/python3.11/site-packages/playwright/_impl/_browser_type.py\", line 95, in launch\n",
      "    Browser, from_channel(await self._channel.send(\"launch\", params))\n",
      "                          ^^^^^^^^^^^^^^^^^^^^^^^^^^^^^^^^^^^^^^^^^^\n",
      "  File \"/home/andy/works/openai/autogen04-sample/.venv/lib/python3.11/site-packages/playwright/_impl/_connection.py\", line 61, in send\n",
      "    return await self._connection.wrap_api_call(\n",
      "           ^^^^^^^^^^^^^^^^^^^^^^^^^^^^^^^^^^^^^\n",
      "  File \"/home/andy/works/openai/autogen04-sample/.venv/lib/python3.11/site-packages/playwright/_impl/_connection.py\", line 528, in wrap_api_call\n",
      "    raise rewrite_error(error, f\"{parsed_st['apiName']}: {error}\") from None\n",
      "playwright._impl._errors.Error: BrowserType.launch: Executable doesn't exist at /home/andy/.cache/ms-playwright/chromium_headless_shell-1148/chrome-linux/headless_shell\n",
      "╔════════════════════════════════════════════════════════════╗\n",
      "║ Looks like Playwright was just installed or updated.       ║\n",
      "║ Please run the following command to download new browsers: ║\n",
      "║                                                            ║\n",
      "║     playwright install                                     ║\n",
      "║                                                            ║\n",
      "║ <3 Playwright Team                                         ║\n",
      "╚════════════════════════════════════════════════════════════╝\n",
      "\n",
      "---------- MagenticOneOrchestrator ----------\n",
      "Please run the command 'playwright install' to download the necessary browsers for Playwright to function correctly.\n",
      "---------- Coder ----------\n",
      "```sh\n",
      "# filename: install_playwright_browsers.sh\n",
      "playwright install\n",
      "```\n",
      "[Prompt tokens: 1788, Completion tokens: 19]\n"
     ]
    },
    {
     "name": "stderr",
     "output_type": "stream",
     "text": [
      "/home/andy/works/openai/autogen04-sample/.venv/lib/python3.11/site-packages/autogen_agentchat/agents/_assistant_agent.py:343: UserWarning: Resolved model mismatch: gpt-4o-2024-08-06 != gpt-4o-2024-05-13. Model mapping may be incorrect.\n",
      "  result = await self._model_client.create(\n"
     ]
    },
    {
     "name": "stdout",
     "output_type": "stream",
     "text": [
      "---------- MagenticOneOrchestrator ----------\n",
      "Please run the 'install_playwright_browsers.sh' script to download the necessary browsers for Playwright.\n",
      "---------- Executor ----------\n",
      "The script ran, then exited with an error (POSIX exit code: 124)\n",
      "Its output was:\n",
      "\n",
      " Timeout\n"
     ]
    },
    {
     "name": "stderr",
     "output_type": "stream",
     "text": [
      "/home/andy/works/openai/autogen04-sample/.venv/lib/python3.11/site-packages/autogen_ext/models/openai/_openai_client.py:412: DeprecationWarning: capabilities is deprecated, use model_info instead\n",
      "  if self.capabilities[\"vision\"] is False:\n",
      "/home/andy/works/openai/autogen04-sample/.venv/lib/python3.11/site-packages/autogen_ext/models/openai/_openai_client.py:419: DeprecationWarning: capabilities is deprecated, use model_info instead\n",
      "  if self.capabilities[\"json_output\"] is False and json_output is True:\n",
      "/home/andy/works/openai/autogen04-sample/.venv/lib/python3.11/site-packages/autogen_ext/models/openai/_openai_client.py:427: DeprecationWarning: capabilities is deprecated, use model_info instead\n",
      "  if self.capabilities[\"json_output\"] is False and json_output is True:\n",
      "/home/andy/works/openai/autogen04-sample/.venv/lib/python3.11/site-packages/autogen_ext/models/openai/_openai_client.py:433: DeprecationWarning: capabilities is deprecated, use model_info instead\n",
      "  if self.capabilities[\"function_calling\"] is False and len(tools) > 0:\n"
     ]
    },
    {
     "name": "stdout",
     "output_type": "stream",
     "text": [
      "---------- MagenticOneOrchestrator ----------\n",
      "Please modify the script or attempt to reinstall Playwright browsers to resolve the timeout issue.\n"
     ]
    },
    {
     "name": "stderr",
     "output_type": "stream",
     "text": [
      "/home/andy/works/openai/autogen04-sample/.venv/lib/python3.11/site-packages/autogen_agentchat/teams/_group_chat/_magentic_one/_magentic_one_orchestrator.py:284: UserWarning: Resolved model mismatch: gpt-4o-2024-08-06 != gpt-4o-2024-05-13. Model mapping may be incorrect.\n",
      "  response = await self._model_client.create(context, json_output=True)\n"
     ]
    },
    {
     "name": "stdout",
     "output_type": "stream",
     "text": [
      "---------- Coder ----------\n",
      "Let's try running the command again, but this time we'll increase the timeout limit to give it ample time to complete the download process.\n",
      "\n",
      "```sh\n",
      "# filename: install_playwright_browsers_with_timeout.sh\n",
      "playwright install --timeout=1200000\n",
      "```\n",
      "\n",
      "This script will give more time for the installation process to complete. Please run this script.\n",
      "[Prompt tokens: 1903, Completion tokens: 72]\n"
     ]
    },
    {
     "name": "stderr",
     "output_type": "stream",
     "text": [
      "/home/andy/works/openai/autogen04-sample/.venv/lib/python3.11/site-packages/autogen_agentchat/agents/_assistant_agent.py:343: UserWarning: Resolved model mismatch: gpt-4o-2024-08-06 != gpt-4o-2024-05-13. Model mapping may be incorrect.\n",
      "  result = await self._model_client.create(\n"
     ]
    },
    {
     "name": "stdout",
     "output_type": "stream",
     "text": [
      "---------- MagenticOneOrchestrator ----------\n",
      "Please run the 'install_playwright_browsers_with_timeout.sh' script to complete the installation with increased timeout.\n",
      "---------- Executor ----------\n",
      "The script ran, then exited with an error (POSIX exit code: 1)\n",
      "Its output was:\n",
      "error: unknown option '--timeout=1200000'\n",
      "\n"
     ]
    },
    {
     "name": "stderr",
     "output_type": "stream",
     "text": [
      "/home/andy/works/openai/autogen04-sample/.venv/lib/python3.11/site-packages/autogen_ext/models/openai/_openai_client.py:412: DeprecationWarning: capabilities is deprecated, use model_info instead\n",
      "  if self.capabilities[\"vision\"] is False:\n",
      "/home/andy/works/openai/autogen04-sample/.venv/lib/python3.11/site-packages/autogen_ext/models/openai/_openai_client.py:419: DeprecationWarning: capabilities is deprecated, use model_info instead\n",
      "  if self.capabilities[\"json_output\"] is False and json_output is True:\n",
      "/home/andy/works/openai/autogen04-sample/.venv/lib/python3.11/site-packages/autogen_ext/models/openai/_openai_client.py:427: DeprecationWarning: capabilities is deprecated, use model_info instead\n",
      "  if self.capabilities[\"json_output\"] is False and json_output is True:\n",
      "/home/andy/works/openai/autogen04-sample/.venv/lib/python3.11/site-packages/autogen_ext/models/openai/_openai_client.py:433: DeprecationWarning: capabilities is deprecated, use model_info instead\n",
      "  if self.capabilities[\"function_calling\"] is False and len(tools) > 0:\n"
     ]
    },
    {
     "name": "stdout",
     "output_type": "stream",
     "text": [
      "---------- MagenticOneOrchestrator ----------\n",
      "Please create a new script to download the Playwright browsers manually or provide another solution to fix the installation issue.\n"
     ]
    },
    {
     "name": "stderr",
     "output_type": "stream",
     "text": [
      "/home/andy/works/openai/autogen04-sample/.venv/lib/python3.11/site-packages/autogen_agentchat/teams/_group_chat/_magentic_one/_magentic_one_orchestrator.py:284: UserWarning: Resolved model mismatch: gpt-4o-2024-08-06 != gpt-4o-2024-05-13. Model mapping may be incorrect.\n",
      "  response = await self._model_client.create(context, json_output=True)\n"
     ]
    },
    {
     "name": "stdout",
     "output_type": "stream",
     "text": [
      "---------- Coder ----------\n",
      "To solve the installation issue, we will run the Playwright command without additional options as it should automatically handle the download. We will also make sure to check the installation step by step.\n",
      "\n",
      "```sh\n",
      "# filename: install_playwright_browsers.sh\n",
      "playwright install\n",
      "```\n",
      "\n",
      "Please run this script to download the necessary browsers for Playwright. If there is an error, the output can provide more details on what might be wrong.\n",
      "[Prompt tokens: 2087, Completion tokens: 88]\n"
     ]
    },
    {
     "name": "stderr",
     "output_type": "stream",
     "text": [
      "/home/andy/works/openai/autogen04-sample/.venv/lib/python3.11/site-packages/autogen_agentchat/agents/_assistant_agent.py:343: UserWarning: Resolved model mismatch: gpt-4o-2024-08-06 != gpt-4o-2024-05-13. Model mapping may be incorrect.\n",
      "  result = await self._model_client.create(\n"
     ]
    },
    {
     "name": "stdout",
     "output_type": "stream",
     "text": [
      "---------- MagenticOneOrchestrator ----------\n",
      "Please run the 'install_playwright_browsers.sh' script to download the necessary browsers for Playwright.\n",
      "---------- Executor ----------\n",
      "The script ran, then exited with an error (POSIX exit code: 124)\n",
      "Its output was:\n",
      "\n",
      " Timeout\n"
     ]
    },
    {
     "name": "stderr",
     "output_type": "stream",
     "text": [
      "/home/andy/works/openai/autogen04-sample/.venv/lib/python3.11/site-packages/autogen_ext/models/openai/_openai_client.py:412: DeprecationWarning: capabilities is deprecated, use model_info instead\n",
      "  if self.capabilities[\"vision\"] is False:\n",
      "/home/andy/works/openai/autogen04-sample/.venv/lib/python3.11/site-packages/autogen_ext/models/openai/_openai_client.py:419: DeprecationWarning: capabilities is deprecated, use model_info instead\n",
      "  if self.capabilities[\"json_output\"] is False and json_output is True:\n",
      "/home/andy/works/openai/autogen04-sample/.venv/lib/python3.11/site-packages/autogen_ext/models/openai/_openai_client.py:427: DeprecationWarning: capabilities is deprecated, use model_info instead\n",
      "  if self.capabilities[\"json_output\"] is False and json_output is True:\n",
      "/home/andy/works/openai/autogen04-sample/.venv/lib/python3.11/site-packages/autogen_ext/models/openai/_openai_client.py:433: DeprecationWarning: capabilities is deprecated, use model_info instead\n",
      "  if self.capabilities[\"function_calling\"] is False and len(tools) > 0:\n"
     ]
    },
    {
     "name": "stdout",
     "output_type": "stream",
     "text": [
      "---------- MagenticOneOrchestrator ----------\n",
      "Try to debug the Playwright installation issue by clearing the cache and attempting a fresh install, or consider an alternative method to fetch the stock price and outlook for Microsoft.\n"
     ]
    },
    {
     "name": "stderr",
     "output_type": "stream",
     "text": [
      "/home/andy/works/openai/autogen04-sample/.venv/lib/python3.11/site-packages/autogen_agentchat/teams/_group_chat/_magentic_one/_magentic_one_orchestrator.py:284: UserWarning: Resolved model mismatch: gpt-4o-2024-08-06 != gpt-4o-2024-05-13. Model mapping may be incorrect.\n",
      "  response = await self._model_client.create(context, json_output=True)\n"
     ]
    },
    {
     "name": "stdout",
     "output_type": "stream",
     "text": [
      "---------- Coder ----------\n",
      "Since installing Playwright is causing persistent issues, let's proceed with an alternative method. We will use Python and the `requests` library to fetch the current stock price and outlook for Microsoft using financial APIs.\n",
      "\n",
      "Here is the plan:\n",
      "1. Fetch Microsoft's current stock price from a financial API.\n",
      "2. Fetch Microsoft's stock market outlook from relevant financial news websites or APIs.\n",
      "\n",
      "Let's start with a script to fetch the current stock price using a free financial API like Alpha Vantage.\n",
      "\n",
      "```python\n",
      "# filename: fetch_microsoft_stock_price.py\n",
      "\n",
      "import requests\n",
      "\n",
      "def get_stock_price(symbol, api_key):\n",
      "    url = f'https://www.alphavantage.co/query?function=GLOBAL_QUOTE&symbol={symbol}&apikey={api_key}'\n",
      "    response = requests.get(url)\n",
      "    data = response.json()\n",
      "    return data.get(\"Global Quote\", {}).get(\"05. price\", \"Price data not available\")\n",
      "\n",
      "if __name__ == \"__main__\":\n",
      "    api_key = \"YOUR_ALPHA_VANTAGE_API_KEY\"  # Replace with your Alpha Vantage API key\n",
      "    symbol = \"MSFT\"\n",
      "    stock_price = get_stock_price(symbol, api_key)\n",
      "    print(f\"Microsoft (MSFT) Current Stock Price: {stock_price}\")\n",
      "```\n",
      "\n",
      "Please follow these steps to execute the script:\n",
      "1. Save the script in a file named `fetch_microsoft_stock_price.py`.\n",
      "2. Obtain a free API key from Alpha Vantage by signing up on their website (https://www.alphavantage.co/support/#api-key).\n",
      "3. Replace `\"YOUR_ALPHA_VANTAGE_API_KEY\"` in the script with your actual Alpha Vantage API key.\n",
      "4. Run the script.\n",
      "\n",
      "Once you have the stock price, let me know, and we can proceed to gather the stock market outlook information.\n",
      "[Prompt tokens: 2287, Completion tokens: 361]\n"
     ]
    },
    {
     "name": "stderr",
     "output_type": "stream",
     "text": [
      "/home/andy/works/openai/autogen04-sample/.venv/lib/python3.11/site-packages/autogen_agentchat/agents/_assistant_agent.py:343: UserWarning: Resolved model mismatch: gpt-4o-2024-08-06 != gpt-4o-2024-05-13. Model mapping may be incorrect.\n",
      "  result = await self._model_client.create(\n"
     ]
    },
    {
     "name": "stdout",
     "output_type": "stream",
     "text": [
      "---------- MagenticOneOrchestrator ----------\n",
      "Please run the 'fetch_microsoft_stock_price.py' script after updating it with your actual Alpha Vantage API key.\n",
      "---------- Executor ----------\n",
      "Microsoft (MSFT) Current Stock Price: 427.8500\n",
      "\n",
      "---------- MagenticOneOrchestrator ----------\n",
      "Search for recent news articles, analysts' reports, and financial forecasts related to Microsoft Corporation's stock market outlook.\n"
     ]
    },
    {
     "name": "stderr",
     "output_type": "stream",
     "text": [
      "/home/andy/works/openai/autogen04-sample/.venv/lib/python3.11/site-packages/autogen_ext/agents/web_surfer/_multimodal_web_surfer.py:503: UserWarning: Resolved model mismatch: gpt-4o-2024-08-06 != gpt-4o-2024-05-13. Model mapping may be incorrect.\n",
      "  response = await self._model_client.create(\n"
     ]
    },
    {
     "name": "stdout",
     "output_type": "stream",
     "text": [
      "---------- WebSurfer ----------\n",
      "I typed 'Microsoft stock market outlook 2023' into '2000 문자 중 0'.\n",
      "\n",
      " Here is a screenshot of the webpage: [Microsoft stock market outlook 2023 - 검색](https://www.bing.com/search?q=Microsoft+stock+market+outlook+2023&form=QBLH&sp=-1&lq=0&pq=&sc=0-0&qs=n&sk=&cvid=E10071A01BE74C44AA7BE13474CFD21C&ghsh=0&ghacc=0&ghpl=).\n",
      " The viewport shows 20% of the webpage, and is positioned at the top of the page \n",
      "The following metadata was extracted from the webpage:\n",
      "\n",
      "{\n",
      "    \"meta_tags\": {\n",
      "        \"referrer\": \"origin-when-cross-origin\",\n",
      "        \"SystemEntropyOriginTrialToken\": \"A1L3tx5CzccqjN3lK6st/fXMwhf9EeokCPf8XCt0DVI8JPbg37BWq0zKvlqgkdm8YEUbthoGkC/xdR1+iIz4txAAAABxeyJvcmlnaW4iOiJodHRwczovL3d3dy5iaW5nLmNvbTo0NDMiLCJmZWF0dXJlIjoiTXNVc2VyQWdlbnRMYXVuY2hOYXZUeXBlIiwiZXhwaXJ5IjoxNzM5NzI0MzExLCJpc1N1YmRvbWFpbiI6dHJ1ZX0=\",\n",
      "        \"og:description\": \"Bing\\uc740 \\uc9c0\\ub2a5\\uc801\\uc778 \\uac80\\uc0c9 \\uae30\\ub2a5\\uc740 \\uc0ac\\uc6a9\\uc790\\uac00 \\uc6d0\\ud558\\ub294 \\uc815\\ubcf4\\ub97c \\ube60\\ub974\\uac8c \\uac80\\uc0c9\\ud558\\uace0 \\ubcf4\\uc0c1\\uc744 \\uc81c\\uacf5\\ud569\\ub2c8\\ub2e4.\",\n",
      "        \"og:site_name\": \"Bing\",\n",
      "        \"og:title\": \"Microsoft stock market outlook 2023 - Bing\",\n",
      "        \"og:url\": \"https://www.bing.com/search?q=Microsoft+stock+market+outlook+2023&form=QBLH&sp=-1&lq=0&pq=&sc=0-0&qs=n&sk=&cvid=E10071A01BE74C44AA7BE13474CFD21C&ghsh=0&ghacc=0&ghpl=\",\n",
      "        \"fb:app_id\": \"3732605936979161\",\n",
      "        \"og:image\": \"http://www.bing.com/sa/simg/facebook_sharing_5.png\",\n",
      "        \"og:type\": \"website\",\n",
      "        \"og:image:width\": \"600\",\n",
      "        \"og:image:height\": \"315\"\n",
      "    }\n",
      "}\n",
      "\n",
      "The first 50 lines of the page text is:\n",
      "\n",
      "콘텐츠로 건너뛰기\n",
      "Microsoft stock market outlook 2023\n",
      "심층 검색\n",
      "검색COPILOT동영상이미지지도뉴스\n",
      "더 보기\n",
      "도구\n",
      "6,960,000 결과 정보\n",
      "Analysts have set a target price of $501.8 for Microsoft (MSFT), based on forecasts from 30 analysts. The predicted price range extends from a high of $600 to a low of $455.\n",
      "Microsoft Corp (MSFT) Stock Price Forecast 2023\n",
      "stocklytics.com/stocks/msft/forecast\n",
      "도움이 되셨습니까?\n",
      "Stock Analysis\n",
      "https://stockanalysis.com › stocks › msft › forecast\n",
      "Microsoft Corporation (MSFT) Stock Forecast & Price Targets\n",
      "4일 전 · The 30 analysts with 12-month price forecasts for Microsoft stock have an average target of 509.4, with a low estimate of 465 and a high estimate of 600. The average target predicts an increase of 20.33% from the current stock price of 423.35.\n",
      "Dividends\n",
      "Get the latest dividend data for Microsoft Corporation (MSFT), including dividend …\n",
      "Profile\n",
      "Microsoft Corporation develops and supports software, services, devices and …\n",
      "Statistics\n",
      "Detailed statistics for Microsoft Corporation (MSFT) stock, including valuation …\n",
      "Financials\n",
      "Detailed annual and quarterly income statement for Microsoft (MSFT). See …\n",
      "Chart\n",
      "Interactive stock price chart for Microsoft Corporation (MSFT) with real-time …\n",
      "Analyst Ratings\n",
      "A list of analyst ratings for Microsoft (MSFT) stock. See upgrades, …\n",
      "Ivan Feinseth\n",
      "Ivan Feinseth is a Wall Street analyst working for Tigress Financial. Ivan has …\n",
      "Joseph Bonner\n",
      "Joseph Bonner is a Wall Street analyst working for Argus Research. Joseph has …\n",
      "<image>\n",
      "[Prompt tokens: 4786, Completion tokens: 52]\n",
      "---------- MagenticOneOrchestrator ----------\n",
      "Please summarize the information from the Bing search results about Microsoft's stock market outlook, including analysts' price targets and any relevant details from financial forecasts.\n",
      "---------- WebSurfer ----------\n",
      "The webpage presents a comprehensive forecast for Microsoft's stock (MSFT) in 2023, derived from various financial analysis sources. On average, analysts have forecasted a target price of around $501.8-$509.4 for MSFT, suggesting a significant potential upside from its current price range. Predictions range from a low of $455 to a high of $600, with many analysts expecting a price increase of approximately 20-21%. Insights also highlight Microsoft's strong market position, especially in cloud infrastructure services, which is anticipated to drive further revenue growth and stock value in the coming years. Overall, the sentiment around Microsoft's stock appears optimistic, reflecting confidence in its continued growth and profitability.\n",
      "[Prompt tokens: 14186, Completion tokens: 175]\n"
     ]
    },
    {
     "name": "stderr",
     "output_type": "stream",
     "text": [
      "/home/andy/works/openai/autogen04-sample/.venv/lib/python3.11/site-packages/autogen_ext/agents/web_surfer/_multimodal_web_surfer.py:853: UserWarning: Resolved model mismatch: gpt-4o-2024-08-06 != gpt-4o-2024-05-13. Model mapping may be incorrect.\n",
      "  response = await self._model_client.create(messages, cancellation_token=cancellation_token)\n"
     ]
    },
    {
     "name": "stdout",
     "output_type": "stream",
     "text": [
      "---------- MagenticOneOrchestrator ----------\n",
      "현재 마이크로소프트(Microsoft, MSFT)의 주가는 약 $427.85입니다. 이에 대한 전망으로, 분석가들은 MSFT의 목표 주가를 평균 약 $501.8에서 $509.4로 설정하고 있으며, 이는 현재 주가에서 약 20-21% 상승할 가능성을 나타냅니다. 예측 범위는 최저 $455에서 최고 $600까지 다양합니다.\n",
      "\n",
      "마이크로소프트의 강력한 시장 위치와 클라우드 인프라 서비스 분야에서의 성장이 주가 상승에 긍정적인 영향을 미칠 것으로 보입니다. 전반적으로, 마이크로소프트의 주식에 대한 시장 전망은 낙관적이며, 지속적인 성장과 수익성을 기대할 수 있을 것 같습니다.\n",
      "---------- Summary ----------\n",
      "Number of messages: 25\n",
      "Finish reason: We have successfully retrieved and provided both the current stock price and the market outlook for Microsoft.\n",
      "Total prompt tokens: 27037\n",
      "Total completion tokens: 767\n",
      "Duration: 296.80 seconds\n",
      "TaskResult(messages=[TextMessage(source='user', models_usage=None, content='마이크로소프트 현재 주가와 전망에 대해 알려줘', type='TextMessage'), TextMessage(source='MagenticOneOrchestrator', models_usage=None, content=\"\\nWe are working to address the following user request:\\n\\n마이크로소프트 현재 주가와 전망에 대해 알려줘\\n\\n\\nTo answer this request we have assembled the following team:\\n\\nFileSurfer: An agent that can handle local files.\\nWebSurfer: \\n    A helpful assistant with access to a web browser.\\n    Ask them to perform web searches, open pages, and interact with content (e.g., clicking links, scrolling the viewport, etc., filling in form fields, etc.).\\n    It can also summarize the entire page, or answer questions based on the content of the page.\\n    It can also be asked to sleep and wait for pages to load, in cases where the pages seem to be taking a while to load.\\nCoder: A helpful and general-purpose AI assistant that has strong language skills, Python skills, and Linux command line skills.\\nExecutor: A computer terminal that performs no other action than running Python scripts (provided to it quoted in ```python code blocks), or sh shell scripts (provided to it quoted in ```sh code blocks).\\n\\n\\nHere is an initial fact sheet to consider:\\n\\n1. GIVEN OR VERIFIED FACTS\\n- The request is asking about Microsoft's current stock price and its outlook.\\n\\n2. FACTS TO LOOK UP\\n- Microsoft's current stock price. This can be found on financial news websites such as Bloomberg, Yahoo Finance, or Google Finance.\\n- Microsoft's stock market outlook, which can include analysts' reports, market trends, and financial forecasts. These details could be found on websites like Morningstar, MarketWatch, or through investment firms' reports.\\n\\n3. FACTS TO DERIVE\\n- Analysis combining Microsoft's current stock price and the general trends in the technology sector to provide a comprehensive outlook.\\n- Potential impact of recent news or events related to Microsoft on its stock price and outlook.\\n\\n4. EDUCATED GUESSES\\n- Microsoft's stock is likely to be influenced by general market conditions, technological advancements, company earnings reports, and macroeconomic factors.\\n- As a major tech company, Microsoft's stock performance might show some correlation with the performance of other tech giants and the NASDAQ index.\\n\\n\\nHere is the plan to follow as best as possible:\\n\\nHere is a short bullet-point plan for addressing the original request regarding Microsoft's current stock price and its outlook:\\n\\n1. **Look up Microsoft's current stock price:**\\n    - Ask WebSurfer to search for Microsoft's current stock price on financial news websites such as Bloomberg, Yahoo Finance, or Google Finance.\\n\\n2. **Research analysts' reports and market trends:**\\n    - Ask WebSurfer to search for recent news articles, analysts' reports, and financial forecasts related to Microsoft's stock market outlook on websites like Morningstar, MarketWatch, or other investment firms' reports.\\n\\n3. **Summarize the findings:**\\n    - Combine the current stock price and the outlook information, and provide a comprehensive summary of Microsoft's current stock situation and the outlook.\\n\\nThis plan will primarily involve the WebSurfer agent to gather the necessary information from authoritative financial sources. Once the information is gathered, it can be summarized and presented.\\n\", type='TextMessage'), TextMessage(source='MagenticOneOrchestrator', models_usage=None, content=\"Please search for Microsoft's current stock price on financial news websites such as Bloomberg, Yahoo Finance, or Google Finance. Also, look for recent news articles, analysts' reports, and financial forecasts related to Microsoft's stock market outlook on websites like Morningstar, MarketWatch, or other investment firms' reports.\", type='TextMessage'), TextMessage(source='WebSurfer', models_usage=None, content='Web surfing error:\\n\\nTraceback (most recent call last):\\n  File \"/home/andy/works/openai/autogen04-sample/.venv/lib/python3.11/site-packages/autogen_ext/agents/web_surfer/_multimodal_web_surfer.py\", line 377, in on_messages_stream\\n    content = await self._generate_reply(cancellation_token=cancellation_token)\\n              ^^^^^^^^^^^^^^^^^^^^^^^^^^^^^^^^^^^^^^^^^^^^^^^^^^^^^^^^^^^^^^^^^\\n  File \"/home/andy/works/openai/autogen04-sample/.venv/lib/python3.11/site-packages/autogen_ext/agents/web_surfer/_multimodal_web_surfer.py\", line 404, in _generate_reply\\n    await self._lazy_init()\\n  File \"/home/andy/works/openai/autogen04-sample/.venv/lib/python3.11/site-packages/autogen_ext/agents/web_surfer/_multimodal_web_surfer.py\", line 261, in _lazy_init\\n    browser = await self._playwright.chromium.launch(**launch_args)\\n              ^^^^^^^^^^^^^^^^^^^^^^^^^^^^^^^^^^^^^^^^^^^^^^^^^^^^^\\n  File \"/home/andy/works/openai/autogen04-sample/.venv/lib/python3.11/site-packages/playwright/async_api/_generated.py\", line 14404, in launch\\n    await self._impl_obj.launch(\\n  File \"/home/andy/works/openai/autogen04-sample/.venv/lib/python3.11/site-packages/playwright/_impl/_browser_type.py\", line 95, in launch\\n    Browser, from_channel(await self._channel.send(\"launch\", params))\\n                          ^^^^^^^^^^^^^^^^^^^^^^^^^^^^^^^^^^^^^^^^^^\\n  File \"/home/andy/works/openai/autogen04-sample/.venv/lib/python3.11/site-packages/playwright/_impl/_connection.py\", line 61, in send\\n    return await self._connection.wrap_api_call(\\n           ^^^^^^^^^^^^^^^^^^^^^^^^^^^^^^^^^^^^^\\n  File \"/home/andy/works/openai/autogen04-sample/.venv/lib/python3.11/site-packages/playwright/_impl/_connection.py\", line 528, in wrap_api_call\\n    raise rewrite_error(error, f\"{parsed_st[\\'apiName\\']}: {error}\") from None\\nplaywright._impl._errors.Error: BrowserType.launch: Executable doesn\\'t exist at /home/andy/.cache/ms-playwright/chromium_headless_shell-1148/chrome-linux/headless_shell\\n╔════════════════════════════════════════════════════════════╗\\n║ Looks like Playwright was just installed or updated.       ║\\n║ Please run the following command to download new browsers: ║\\n║                                                            ║\\n║     playwright install                                     ║\\n║                                                            ║\\n║ <3 Playwright Team                                         ║\\n╚════════════════════════════════════════════════════════════╝\\n', type='TextMessage'), TextMessage(source='MagenticOneOrchestrator', models_usage=None, content=\"Please run the command 'playwright install' to download the necessary browsers for Playwright to function correctly.\", type='TextMessage'), TextMessage(source='Coder', models_usage=RequestUsage(prompt_tokens=1788, completion_tokens=19), content='```sh\\n# filename: install_playwright_browsers.sh\\nplaywright install\\n```', type='TextMessage'), TextMessage(source='MagenticOneOrchestrator', models_usage=None, content=\"Please run the 'install_playwright_browsers.sh' script to download the necessary browsers for Playwright.\", type='TextMessage'), TextMessage(source='Executor', models_usage=None, content='The script ran, then exited with an error (POSIX exit code: 124)\\nIts output was:\\n\\n Timeout', type='TextMessage'), TextMessage(source='MagenticOneOrchestrator', models_usage=None, content='Please modify the script or attempt to reinstall Playwright browsers to resolve the timeout issue.', type='TextMessage'), TextMessage(source='Coder', models_usage=RequestUsage(prompt_tokens=1903, completion_tokens=72), content=\"Let's try running the command again, but this time we'll increase the timeout limit to give it ample time to complete the download process.\\n\\n```sh\\n# filename: install_playwright_browsers_with_timeout.sh\\nplaywright install --timeout=1200000\\n```\\n\\nThis script will give more time for the installation process to complete. Please run this script.\", type='TextMessage'), TextMessage(source='MagenticOneOrchestrator', models_usage=None, content=\"Please run the 'install_playwright_browsers_with_timeout.sh' script to complete the installation with increased timeout.\", type='TextMessage'), TextMessage(source='Executor', models_usage=None, content=\"The script ran, then exited with an error (POSIX exit code: 1)\\nIts output was:\\nerror: unknown option '--timeout=1200000'\\n\", type='TextMessage'), TextMessage(source='MagenticOneOrchestrator', models_usage=None, content='Please create a new script to download the Playwright browsers manually or provide another solution to fix the installation issue.', type='TextMessage'), TextMessage(source='Coder', models_usage=RequestUsage(prompt_tokens=2087, completion_tokens=88), content='To solve the installation issue, we will run the Playwright command without additional options as it should automatically handle the download. We will also make sure to check the installation step by step.\\n\\n```sh\\n# filename: install_playwright_browsers.sh\\nplaywright install\\n```\\n\\nPlease run this script to download the necessary browsers for Playwright. If there is an error, the output can provide more details on what might be wrong.', type='TextMessage'), TextMessage(source='MagenticOneOrchestrator', models_usage=None, content=\"Please run the 'install_playwright_browsers.sh' script to download the necessary browsers for Playwright.\", type='TextMessage'), TextMessage(source='Executor', models_usage=None, content='The script ran, then exited with an error (POSIX exit code: 124)\\nIts output was:\\n\\n Timeout', type='TextMessage'), TextMessage(source='MagenticOneOrchestrator', models_usage=None, content='Try to debug the Playwright installation issue by clearing the cache and attempting a fresh install, or consider an alternative method to fetch the stock price and outlook for Microsoft.', type='TextMessage'), TextMessage(source='Coder', models_usage=RequestUsage(prompt_tokens=2287, completion_tokens=361), content='Since installing Playwright is causing persistent issues, let\\'s proceed with an alternative method. We will use Python and the `requests` library to fetch the current stock price and outlook for Microsoft using financial APIs.\\n\\nHere is the plan:\\n1. Fetch Microsoft\\'s current stock price from a financial API.\\n2. Fetch Microsoft\\'s stock market outlook from relevant financial news websites or APIs.\\n\\nLet\\'s start with a script to fetch the current stock price using a free financial API like Alpha Vantage.\\n\\n```python\\n# filename: fetch_microsoft_stock_price.py\\n\\nimport requests\\n\\ndef get_stock_price(symbol, api_key):\\n    url = f\\'https://www.alphavantage.co/query?function=GLOBAL_QUOTE&symbol={symbol}&apikey={api_key}\\'\\n    response = requests.get(url)\\n    data = response.json()\\n    return data.get(\"Global Quote\", {}).get(\"05. price\", \"Price data not available\")\\n\\nif __name__ == \"__main__\":\\n    api_key = \"YOUR_ALPHA_VANTAGE_API_KEY\"  # Replace with your Alpha Vantage API key\\n    symbol = \"MSFT\"\\n    stock_price = get_stock_price(symbol, api_key)\\n    print(f\"Microsoft (MSFT) Current Stock Price: {stock_price}\")\\n```\\n\\nPlease follow these steps to execute the script:\\n1. Save the script in a file named `fetch_microsoft_stock_price.py`.\\n2. Obtain a free API key from Alpha Vantage by signing up on their website (https://www.alphavantage.co/support/#api-key).\\n3. Replace `\"YOUR_ALPHA_VANTAGE_API_KEY\"` in the script with your actual Alpha Vantage API key.\\n4. Run the script.\\n\\nOnce you have the stock price, let me know, and we can proceed to gather the stock market outlook information.', type='TextMessage'), TextMessage(source='MagenticOneOrchestrator', models_usage=None, content=\"Please run the 'fetch_microsoft_stock_price.py' script after updating it with your actual Alpha Vantage API key.\", type='TextMessage'), TextMessage(source='Executor', models_usage=None, content='Microsoft (MSFT) Current Stock Price: 427.8500\\n', type='TextMessage'), TextMessage(source='MagenticOneOrchestrator', models_usage=None, content=\"Search for recent news articles, analysts' reports, and financial forecasts related to Microsoft Corporation's stock market outlook.\", type='TextMessage'), MultiModalMessage(source='WebSurfer', models_usage=RequestUsage(prompt_tokens=4786, completion_tokens=52), content=['I typed \\'Microsoft stock market outlook 2023\\' into \\'2000 문자 중 0\\'.\\n\\n Here is a screenshot of the webpage: [Microsoft stock market outlook 2023 - 검색](https://www.bing.com/search?q=Microsoft+stock+market+outlook+2023&form=QBLH&sp=-1&lq=0&pq=&sc=0-0&qs=n&sk=&cvid=E10071A01BE74C44AA7BE13474CFD21C&ghsh=0&ghacc=0&ghpl=).\\n The viewport shows 20% of the webpage, and is positioned at the top of the page \\nThe following metadata was extracted from the webpage:\\n\\n{\\n    \"meta_tags\": {\\n        \"referrer\": \"origin-when-cross-origin\",\\n        \"SystemEntropyOriginTrialToken\": \"A1L3tx5CzccqjN3lK6st/fXMwhf9EeokCPf8XCt0DVI8JPbg37BWq0zKvlqgkdm8YEUbthoGkC/xdR1+iIz4txAAAABxeyJvcmlnaW4iOiJodHRwczovL3d3dy5iaW5nLmNvbTo0NDMiLCJmZWF0dXJlIjoiTXNVc2VyQWdlbnRMYXVuY2hOYXZUeXBlIiwiZXhwaXJ5IjoxNzM5NzI0MzExLCJpc1N1YmRvbWFpbiI6dHJ1ZX0=\",\\n        \"og:description\": \"Bing\\\\uc740 \\\\uc9c0\\\\ub2a5\\\\uc801\\\\uc778 \\\\uac80\\\\uc0c9 \\\\uae30\\\\ub2a5\\\\uc740 \\\\uc0ac\\\\uc6a9\\\\uc790\\\\uac00 \\\\uc6d0\\\\ud558\\\\ub294 \\\\uc815\\\\ubcf4\\\\ub97c \\\\ube60\\\\ub974\\\\uac8c \\\\uac80\\\\uc0c9\\\\ud558\\\\uace0 \\\\ubcf4\\\\uc0c1\\\\uc744 \\\\uc81c\\\\uacf5\\\\ud569\\\\ub2c8\\\\ub2e4.\",\\n        \"og:site_name\": \"Bing\",\\n        \"og:title\": \"Microsoft stock market outlook 2023 - Bing\",\\n        \"og:url\": \"https://www.bing.com/search?q=Microsoft+stock+market+outlook+2023&form=QBLH&sp=-1&lq=0&pq=&sc=0-0&qs=n&sk=&cvid=E10071A01BE74C44AA7BE13474CFD21C&ghsh=0&ghacc=0&ghpl=\",\\n        \"fb:app_id\": \"3732605936979161\",\\n        \"og:image\": \"http://www.bing.com/sa/simg/facebook_sharing_5.png\",\\n        \"og:type\": \"website\",\\n        \"og:image:width\": \"600\",\\n        \"og:image:height\": \"315\"\\n    }\\n}\\n\\nThe first 50 lines of the page text is:\\n\\n콘텐츠로 건너뛰기\\nMicrosoft stock market outlook 2023\\n심층 검색\\n검색COPILOT동영상이미지지도뉴스\\n더 보기\\n도구\\n6,960,000 결과 정보\\nAnalysts have set a target price of $501.8 for Microsoft (MSFT), based on forecasts from 30 analysts. The predicted price range extends from a high of $600 to a low of $455.\\nMicrosoft Corp (MSFT) Stock Price Forecast 2023\\nstocklytics.com/stocks/msft/forecast\\n도움이 되셨습니까?\\nStock Analysis\\nhttps://stockanalysis.com › stocks › msft › forecast\\nMicrosoft Corporation (MSFT) Stock Forecast & Price Targets\\n4일 전\\xa0· The 30 analysts with 12-month price forecasts for Microsoft stock have an average target of 509.4, with a low estimate of 465 and a high estimate of 600. The average target predicts an increase of 20.33% from the current stock price of 423.35.\\nDividends\\nGet the latest dividend data for Microsoft Corporation (MSFT), including dividend …\\nProfile\\nMicrosoft Corporation develops and supports software, services, devices and …\\nStatistics\\nDetailed statistics for Microsoft Corporation (MSFT) stock, including valuation …\\nFinancials\\nDetailed annual and quarterly income statement for Microsoft (MSFT). See …\\nChart\\nInteractive stock price chart for Microsoft Corporation (MSFT) with real-time …\\nAnalyst Ratings\\nA list of analyst ratings for Microsoft (MSFT) stock. See upgrades, …\\nIvan Feinseth\\nIvan Feinseth is a Wall Street analyst working for Tigress Financial. Ivan has …\\nJoseph Bonner\\nJoseph Bonner is a Wall Street analyst working for Argus Research. Joseph has …', <autogen_core._image.Image object at 0x7fde480881d0>], type='MultiModalMessage'), TextMessage(source='MagenticOneOrchestrator', models_usage=None, content=\"Please summarize the information from the Bing search results about Microsoft's stock market outlook, including analysts' price targets and any relevant details from financial forecasts.\", type='TextMessage'), TextMessage(source='WebSurfer', models_usage=RequestUsage(prompt_tokens=14186, completion_tokens=175), content=\"The webpage presents a comprehensive forecast for Microsoft's stock (MSFT) in 2023, derived from various financial analysis sources. On average, analysts have forecasted a target price of around $501.8-$509.4 for MSFT, suggesting a significant potential upside from its current price range. Predictions range from a low of $455 to a high of $600, with many analysts expecting a price increase of approximately 20-21%. Insights also highlight Microsoft's strong market position, especially in cloud infrastructure services, which is anticipated to drive further revenue growth and stock value in the coming years. Overall, the sentiment around Microsoft's stock appears optimistic, reflecting confidence in its continued growth and profitability.\", type='TextMessage'), TextMessage(source='MagenticOneOrchestrator', models_usage=None, content='현재 마이크로소프트(Microsoft, MSFT)의 주가는 약 $427.85입니다. 이에 대한 전망으로, 분석가들은 MSFT의 목표 주가를 평균 약 $501.8에서 $509.4로 설정하고 있으며, 이는 현재 주가에서 약 20-21% 상승할 가능성을 나타냅니다. 예측 범위는 최저 $455에서 최고 $600까지 다양합니다.\\n\\n마이크로소프트의 강력한 시장 위치와 클라우드 인프라 서비스 분야에서의 성장이 주가 상승에 긍정적인 영향을 미칠 것으로 보입니다. 전반적으로, 마이크로소프트의 주식에 대한 시장 전망은 낙관적이며, 지속적인 성장과 수익성을 기대할 수 있을 것 같습니다.', type='TextMessage')], stop_reason='We have successfully retrieved and provided both the current stock price and the market outlook for Microsoft.')\n"
     ]
    },
    {
     "name": "stderr",
     "output_type": "stream",
     "text": [
      "/home/andy/works/openai/autogen04-sample/.venv/lib/python3.11/site-packages/autogen_agentchat/teams/_group_chat/_magentic_one/_magentic_one_orchestrator.py:400: UserWarning: Resolved model mismatch: gpt-4o-2024-08-06 != gpt-4o-2024-05-13. Model mapping may be incorrect.\n",
      "  response = await self._model_client.create(context, cancellation_token=cancellation_token)\n"
     ]
    }
   ],
   "source": [
    "# Autonomously complete a coding task:\n",
    "import asyncio\n",
    "from autogen_ext.models.openai import AzureOpenAIChatCompletionClient\n",
    "from autogen_ext.teams.magentic_one import MagenticOne\n",
    "from autogen_agentchat.ui import Console\n",
    "\n",
    "from dotenv import load_dotenv\n",
    "import os\n",
    "\n",
    "load_dotenv()\n",
    "\n",
    "api_version = os.getenv(\"AZURE_OPENAI_API_VERSION\")\n",
    "api_key = os.getenv(\"AZURE_OPENAI_API_KEY\")\n",
    "azure_endpoint = os.getenv(\"AZURE_OPENAI_ENDPOINT\")\n",
    "azure_openai_chat_completion_client = AzureOpenAIChatCompletionClient(\n",
    "            model=\"gpt-4o\",\n",
    "            azure_endpoint=azure_endpoint,\n",
    "            api_version=api_version,\n",
    "            api_key=api_key\n",
    ")\n",
    "\n",
    "\n",
    "\n",
    "client = azure_openai_chat_completion_client\n",
    "m1 = MagenticOne(client=client)\n",
    "task = \"마이크로소프트 현재 주가와 전망에 대해 알려줘\"\n",
    "result = await Console(m1.run_stream(task=task))\n",
    "print(result)"
   ]
  }
 ],
 "metadata": {
  "kernelspec": {
   "display_name": ".venv",
   "language": "python",
   "name": "python3"
  },
  "language_info": {
   "codemirror_mode": {
    "name": "ipython",
    "version": 3
   },
   "file_extension": ".py",
   "mimetype": "text/x-python",
   "name": "python",
   "nbconvert_exporter": "python",
   "pygments_lexer": "ipython3",
   "version": "3.11.10"
  }
 },
 "nbformat": 4,
 "nbformat_minor": 2
}
