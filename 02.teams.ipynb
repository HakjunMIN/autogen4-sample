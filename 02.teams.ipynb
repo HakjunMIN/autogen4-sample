{
 "cells": [
  {
   "cell_type": "code",
   "execution_count": 1,
   "metadata": {},
   "outputs": [],
   "source": [
    "from autogen_ext.models.openai import AzureOpenAIChatCompletionClient\n",
    "\n",
    "from dotenv import load_dotenv\n",
    "import os\n",
    "\n",
    "load_dotenv()\n",
    "\n",
    "api_version = os.getenv(\"AZURE_OPENAI_API_VERSION\")\n",
    "api_key = os.getenv(\"AZURE_OPENAI_API_KEY\")\n",
    "azure_endpoint = os.getenv(\"AZURE_OPENAI_ENDPOINT\")\n",
    "deployment_name = os.getenv(\"AZURE_OPENAI_DEPLOYMENT_NAME\")\n",
    "azure_openai_chat_completion_client = AzureOpenAIChatCompletionClient(\n",
    "            model=deployment_name,\n",
    "            azure_endpoint=azure_endpoint,\n",
    "            api_version=api_version,\n",
    "            api_key=api_key,\n",
    "        )"
   ]
  },
  {
   "cell_type": "code",
   "execution_count": 2,
   "metadata": {},
   "outputs": [
    {
     "name": "stdout",
     "output_type": "stream",
     "text": [
      "messages=[TextMessage(id='69b4bb8a-1ea5-4814-85c2-fafb9f1f4878', source='user', models_usage=None, metadata={}, created_at=datetime.datetime(2025, 7, 15, 5, 41, 12, 274924, tzinfo=datetime.timezone.utc), content='What is the weather in New York?', type='TextMessage'), ToolCallRequestEvent(id='c95ebd2a-6826-407e-8b23-359d54330b27', source='assistant', models_usage=RequestUsage(prompt_tokens=70, completion_tokens=16), metadata={}, created_at=datetime.datetime(2025, 7, 15, 5, 41, 13, 241265, tzinfo=datetime.timezone.utc), content=[FunctionCall(id='call_NwCoFNl1vmHsaL9phRtsoWtw', arguments='{\"city\":\"New York\"}', name='get_weather')], type='ToolCallRequestEvent'), ToolCallExecutionEvent(id='0717fe2b-dc12-4a05-9976-2e558a93c210', source='assistant', models_usage=None, metadata={}, created_at=datetime.datetime(2025, 7, 15, 5, 41, 13, 242238, tzinfo=datetime.timezone.utc), content=[FunctionExecutionResult(content='The weather in New York is 72 degrees and Sunny.', name='get_weather', call_id='call_NwCoFNl1vmHsaL9phRtsoWtw', is_error=False)], type='ToolCallExecutionEvent'), ToolCallSummaryMessage(id='8d103806-bf9a-499b-b369-bb6173121c1c', source='assistant', models_usage=None, metadata={}, created_at=datetime.datetime(2025, 7, 15, 5, 41, 13, 242326, tzinfo=datetime.timezone.utc), content='The weather in New York is 72 degrees and Sunny.', type='ToolCallSummaryMessage', tool_calls=[FunctionCall(id='call_NwCoFNl1vmHsaL9phRtsoWtw', arguments='{\"city\":\"New York\"}', name='get_weather')], results=[FunctionExecutionResult(content='The weather in New York is 72 degrees and Sunny.', name='get_weather', call_id='call_NwCoFNl1vmHsaL9phRtsoWtw', is_error=False)]), TextMessage(id='b9873996-5847-4848-bdb6-53820d41a8e0', source='assistant', models_usage=RequestUsage(prompt_tokens=105, completion_tokens=25), metadata={}, created_at=datetime.datetime(2025, 7, 15, 5, 41, 13, 959095, tzinfo=datetime.timezone.utc), content='The current weather in New York is 72 degrees and sunny. Is there anything else you would like to know?', type='TextMessage'), TextMessage(id='c28b1f5d-f779-4b71-b6ec-d58769f6aca8', source='assistant', models_usage=RequestUsage(prompt_tokens=132, completion_tokens=24), metadata={}, created_at=datetime.datetime(2025, 7, 15, 5, 41, 14, 507090, tzinfo=datetime.timezone.utc), content=\"The current weather in New York is 72 degrees and sunny. Is there anything else you'd like to know?\", type='TextMessage'), TextMessage(id='5b36191f-92a3-4322-8a63-2149de2737e2', source='assistant', models_usage=RequestUsage(prompt_tokens=158, completion_tokens=33), metadata={}, created_at=datetime.datetime(2025, 7, 15, 5, 41, 15, 138551, tzinfo=datetime.timezone.utc), content='The current weather in New York is 72 degrees and sunny. If you need the weather for any other city or more details, just let me know!', type='TextMessage'), TextMessage(id='e6516153-792a-4ac5-a1fb-e0a2e471bd41', source='assistant', models_usage=RequestUsage(prompt_tokens=193, completion_tokens=26), metadata={}, created_at=datetime.datetime(2025, 7, 15, 5, 41, 15, 810034, tzinfo=datetime.timezone.utc), content='The weather in New York is currently 72 degrees and sunny. Would you like to know the forecast for another city?', type='TextMessage'), TextMessage(id='7fc0c307-1064-49e2-bbb7-b02eabb7b978', source='assistant', models_usage=RequestUsage(prompt_tokens=221, completion_tokens=30), metadata={}, created_at=datetime.datetime(2025, 7, 15, 5, 41, 16, 552451, tzinfo=datetime.timezone.utc), content='The current weather in New York is 72 degrees and sunny. Would you like to know the weather in another city or any other information?', type='TextMessage'), TextMessage(id='9a02ff71-ed8a-4bcd-ad15-c3c92cc9ca99', source='assistant', models_usage=RequestUsage(prompt_tokens=253, completion_tokens=32), metadata={}, created_at=datetime.datetime(2025, 7, 15, 5, 41, 17, 369771, tzinfo=datetime.timezone.utc), content='The current weather in New York is 72 degrees and sunny. If you need information on any other city or more details, feel free to ask!', type='TextMessage'), TextMessage(id='6497a7eb-8d6e-409d-892f-16300b04f20c', source='assistant', models_usage=RequestUsage(prompt_tokens=287, completion_tokens=30), metadata={}, created_at=datetime.datetime(2025, 7, 15, 5, 41, 18, 214272, tzinfo=datetime.timezone.utc), content='The weather in New York is currently 72 degrees and sunny. Would you like to know the weather in another city or any other details?', type='TextMessage'), TextMessage(id='87ed7fb4-4c5d-4dbc-9194-96539f5b9ac5', source='assistant', models_usage=RequestUsage(prompt_tokens=319, completion_tokens=34), metadata={}, created_at=datetime.datetime(2025, 7, 15, 5, 41, 18, 848167, tzinfo=datetime.timezone.utc), content='The current weather in New York is 72 degrees and sunny. If you have any more questions or need weather information for other locations, just let me know!', type='TextMessage'), TextMessage(id='f6072882-33a5-44e3-ad07-2c1b92d94541', source='assistant', models_usage=RequestUsage(prompt_tokens=355, completion_tokens=29), metadata={}, created_at=datetime.datetime(2025, 7, 15, 5, 41, 19, 610182, tzinfo=datetime.timezone.utc), content='The current weather in New York is 72 degrees and sunny. Would you like me to find the weather for another location as well?', type='TextMessage'), TextMessage(id='d10e7fdb-ce51-478f-a6e0-7907c3e47a40', source='assistant', models_usage=RequestUsage(prompt_tokens=386, completion_tokens=32), metadata={}, created_at=datetime.datetime(2025, 7, 15, 5, 41, 20, 366450, tzinfo=datetime.timezone.utc), content='The current weather in New York is 72 degrees and sunny. If you want the weather for another city or more details, just let me know!', type='TextMessage'), TextMessage(id='f2ff3574-cfde-44d1-a39a-a278b3c35ae7', source='assistant', models_usage=RequestUsage(prompt_tokens=420, completion_tokens=24), metadata={}, created_at=datetime.datetime(2025, 7, 15, 5, 41, 21, 57722, tzinfo=datetime.timezone.utc), content='The weather in New York is currently 72 degrees and sunny. Would you like the weather for another location?', type='TextMessage'), TextMessage(id='a5a572aa-18dc-4318-ad82-40275ef5cd39', source='assistant', models_usage=RequestUsage(prompt_tokens=446, completion_tokens=31), metadata={}, created_at=datetime.datetime(2025, 7, 15, 5, 41, 21, 863733, tzinfo=datetime.timezone.utc), content='The weather in New York is currently 72 degrees and sunny. If you want to know the weather for another city, just let me know!', type='TextMessage'), TextMessage(id='b4c3849d-c083-43e9-a6cd-8759d1ef242a', source='assistant', models_usage=RequestUsage(prompt_tokens=479, completion_tokens=32), metadata={}, created_at=datetime.datetime(2025, 7, 15, 5, 41, 22, 659512, tzinfo=datetime.timezone.utc), content='The current weather in New York is 72 degrees and sunny. If you need weather information for another city or anything else, feel free to ask!', type='TextMessage'), TextMessage(id='99c0875d-6ce2-4952-a8df-f7d1679c3190', source='assistant', models_usage=RequestUsage(prompt_tokens=513, completion_tokens=32), metadata={}, created_at=datetime.datetime(2025, 7, 15, 5, 41, 23, 449946, tzinfo=datetime.timezone.utc), content='The current weather in New York is 72 degrees and sunny. If you need information about another city or any additional details, just let me know!', type='TextMessage'), TextMessage(id='4cfc29f1-6c79-4f0f-a0f7-aeb79ec00a7a', source='assistant', models_usage=RequestUsage(prompt_tokens=547, completion_tokens=25), metadata={}, created_at=datetime.datetime(2025, 7, 15, 5, 41, 24, 126817, tzinfo=datetime.timezone.utc), content='The current weather in New York is 72 degrees and sunny. Is there anything else you would like to know?', type='TextMessage'), TextMessage(id='ad9877b0-97e0-4ee8-89eb-97dcbee9c2e3', source='assistant', models_usage=RequestUsage(prompt_tokens=574, completion_tokens=5), metadata={}, created_at=datetime.datetime(2025, 7, 15, 5, 41, 24, 547566, tzinfo=datetime.timezone.utc), content='TERMINATE', type='TextMessage')] stop_reason=\"Text 'TERMINATE' mentioned\"\n"
     ]
    }
   ],
   "source": [
    "from autogen_agentchat.agents import AssistantAgent\n",
    "from autogen_agentchat.conditions import TextMentionTermination\n",
    "from autogen_agentchat.teams import RoundRobinGroupChat\n",
    "\n",
    "# Create an OpenAI model client.\n",
    "model_client = azure_openai_chat_completion_client\n",
    "\n",
    "# Define a tool that gets the weather for a city.\n",
    "async def get_weather(city: str) -> str:\n",
    "    \"\"\"Get the weather for a city.\"\"\"\n",
    "    return f\"The weather in {city} is 72 degrees and Sunny.\"\n",
    "\n",
    "\n",
    "# Create an assistant agent.\n",
    "weather_agent = AssistantAgent(\n",
    "    \"assistant\",\n",
    "    model_client=model_client,\n",
    "    tools=[get_weather],\n",
    "    system_message=\"Respond 'TERMINATE' when task is complete.\",\n",
    ")\n",
    "\n",
    "# Define a termination condition.\n",
    "text_termination = TextMentionTermination(\"TERMINATE\")\n",
    "\n",
    "# Create a single-agent team.\n",
    "single_agent_team = RoundRobinGroupChat([weather_agent], termination_condition=text_termination)\n",
    "\n",
    "async def run_team() -> None:\n",
    "    result = await single_agent_team.run(task=\"What is the weather in New York?\")\n",
    "    print(result)\n",
    "\n",
    "\n",
    "# Use `asyncio.run(run_team())` when running in a script.\n",
    "await run_team()\n"
   ]
  },
  {
   "cell_type": "code",
   "execution_count": 3,
   "metadata": {},
   "outputs": [
    {
     "name": "stdout",
     "output_type": "stream",
     "text": [
      "id='b52213e3-6303-4e18-ab37-79ee3ba6dba6' source='user' models_usage=None metadata={} created_at=datetime.datetime(2025, 7, 15, 5, 41, 36, 138224, tzinfo=datetime.timezone.utc) content='What is the weather in New York?' type='TextMessage'\n",
      "id='d6ad608d-1138-48f0-b8ae-73e5d8d0d0fc' source='assistant' models_usage=RequestUsage(prompt_tokens=594, completion_tokens=16) metadata={} created_at=datetime.datetime(2025, 7, 15, 5, 41, 36, 843192, tzinfo=datetime.timezone.utc) content=[FunctionCall(id='call_inCIeguzk4FyMbhmudyqo2Qt', arguments='{\"city\":\"New York\"}', name='get_weather')] type='ToolCallRequestEvent'\n",
      "id='250782db-1ef7-4547-8d0c-f28ff93ba5f4' source='assistant' models_usage=None metadata={} created_at=datetime.datetime(2025, 7, 15, 5, 41, 36, 845504, tzinfo=datetime.timezone.utc) content=[FunctionExecutionResult(content='The weather in New York is 72 degrees and Sunny.', name='get_weather', call_id='call_inCIeguzk4FyMbhmudyqo2Qt', is_error=False)] type='ToolCallExecutionEvent'\n",
      "id='4347e537-decb-4eda-97c6-8458a2cd1415' source='assistant' models_usage=None metadata={} created_at=datetime.datetime(2025, 7, 15, 5, 41, 36, 845633, tzinfo=datetime.timezone.utc) content='The weather in New York is 72 degrees and Sunny.' type='ToolCallSummaryMessage' tool_calls=[FunctionCall(id='call_inCIeguzk4FyMbhmudyqo2Qt', arguments='{\"city\":\"New York\"}', name='get_weather')] results=[FunctionExecutionResult(content='The weather in New York is 72 degrees and Sunny.', name='get_weather', call_id='call_inCIeguzk4FyMbhmudyqo2Qt', is_error=False)]\n",
      "id='c113e04b-7432-4b41-99ba-40334ae4507a' source='assistant' models_usage=RequestUsage(prompt_tokens=629, completion_tokens=23) metadata={} created_at=datetime.datetime(2025, 7, 15, 5, 41, 37, 518718, tzinfo=datetime.timezone.utc) content='The current weather in New York is 72 degrees and sunny. Would you like to know anything else?' type='TextMessage'\n",
      "id='c438aee2-fd50-4c52-80d3-965654d889b4' source='assistant' models_usage=RequestUsage(prompt_tokens=654, completion_tokens=34) metadata={} created_at=datetime.datetime(2025, 7, 15, 5, 41, 38, 351460, tzinfo=datetime.timezone.utc) content='The current weather in New York is 72 degrees and sunny. If you have any other questions or need weather information for another location, feel free to ask!' type='TextMessage'\n",
      "id='7418fb2e-e235-41f1-ab15-b333c198eebe' source='assistant' models_usage=RequestUsage(prompt_tokens=690, completion_tokens=30) metadata={} created_at=datetime.datetime(2025, 7, 15, 5, 41, 39, 114334, tzinfo=datetime.timezone.utc) content='The current weather in New York is 72 degrees and sunny. Would you like to know the weather in another city or any other information?' type='TextMessage'\n",
      "id='d05dc3e7-e46d-486d-a65f-a6f1a693f849' source='assistant' models_usage=RequestUsage(prompt_tokens=722, completion_tokens=24) metadata={} created_at=datetime.datetime(2025, 7, 15, 5, 41, 39, 840009, tzinfo=datetime.timezone.utc) content='The weather in New York is currently 72 degrees and sunny. Would you like the weather for another location?' type='TextMessage'\n",
      "id='8230f091-fb0a-4dd8-bd37-152cb3cd7cfd' source='assistant' models_usage=RequestUsage(prompt_tokens=748, completion_tokens=33) metadata={} created_at=datetime.datetime(2025, 7, 15, 5, 41, 40, 695413, tzinfo=datetime.timezone.utc) content='The current weather in New York is 72 degrees and sunny. If you want weather information for another city or any other details, just let me know!' type='TextMessage'\n",
      "id='5e1ff902-6a96-415c-9368-c4a2324c600f' source='assistant' models_usage=RequestUsage(prompt_tokens=783, completion_tokens=30) metadata={} created_at=datetime.datetime(2025, 7, 15, 5, 41, 41, 574340, tzinfo=datetime.timezone.utc) content='The weather in New York is currently 72 degrees and sunny. Would you like to know the weather in another city or any other details?' type='TextMessage'\n",
      "id='ba0b2252-c024-4469-b49a-c073efa751cb' source='assistant' models_usage=RequestUsage(prompt_tokens=815, completion_tokens=34) metadata={} created_at=datetime.datetime(2025, 7, 15, 5, 41, 42, 477822, tzinfo=datetime.timezone.utc) content='The current weather in New York is 72 degrees and sunny. If you have any other questions or want the weather for another city, just let me know!' type='TextMessage'\n",
      "id='13458539-bd4b-4211-96ed-c0483e67fe94' source='assistant' models_usage=RequestUsage(prompt_tokens=851, completion_tokens=5) metadata={} created_at=datetime.datetime(2025, 7, 15, 5, 41, 42, 925749, tzinfo=datetime.timezone.utc) content='TERMINATE' type='TextMessage'\n",
      "Stop Reason: Text 'TERMINATE' mentioned\n"
     ]
    }
   ],
   "source": [
    "from autogen_agentchat.base import TaskResult\n",
    "\n",
    "\n",
    "async def run_team_stream() -> None:\n",
    "    async for message in single_agent_team.run_stream(task=\"What is the weather in New York?\"):\n",
    "        if isinstance(message, TaskResult):\n",
    "            print(\"Stop Reason:\", message.stop_reason)\n",
    "        else:\n",
    "            print(message)\n",
    "\n",
    "\n",
    "# Use `asyncio.run(run_team_stream())` when running in a script.\n",
    "await run_team_stream()\n",
    "\n"
   ]
  },
  {
   "cell_type": "code",
   "execution_count": 4,
   "metadata": {},
   "outputs": [
    {
     "name": "stdout",
     "output_type": "stream",
     "text": [
      "---------- TextMessage (user) ----------\n",
      "What is the weather in Seattle?\n",
      "---------- ToolCallRequestEvent (assistant) ----------\n",
      "[FunctionCall(id='call_9rkrFTMoXlhVz3q0ph9AuSEb', arguments='{\"city\":\"Seattle\"}', name='get_weather')]\n",
      "---------- ToolCallExecutionEvent (assistant) ----------\n",
      "[FunctionExecutionResult(content='The weather in Seattle is 72 degrees and Sunny.', name='get_weather', call_id='call_9rkrFTMoXlhVz3q0ph9AuSEb', is_error=False)]\n",
      "---------- ToolCallSummaryMessage (assistant) ----------\n",
      "The weather in Seattle is 72 degrees and Sunny.\n",
      "---------- TextMessage (assistant) ----------\n",
      "The weather in Seattle is currently 72 degrees and sunny.\n",
      "---------- TextMessage (assistant) ----------\n",
      "The current weather in Seattle is 72 degrees and sunny.\n",
      "---------- TextMessage (assistant) ----------\n",
      "The weather in Seattle is currently 72 degrees and sunny.\n",
      "---------- TextMessage (assistant) ----------\n",
      "The current weather in Seattle is 72 degrees and sunny.\n",
      "---------- TextMessage (assistant) ----------\n",
      "The weather in Seattle is currently 72 degrees and sunny.\n",
      "---------- TextMessage (assistant) ----------\n",
      "The weather in Seattle is currently 72 degrees and sunny.\n",
      "---------- TextMessage (assistant) ----------\n",
      "The current weather in Seattle is 72 degrees and sunny.\n",
      "---------- TextMessage (assistant) ----------\n",
      "The weather in Seattle is currently 72 degrees and sunny.\n",
      "---------- TextMessage (assistant) ----------\n",
      "The current weather in Seattle is 72 degrees and sunny.\n",
      "---------- TextMessage (assistant) ----------\n",
      "The weather in Seattle is currently 72 degrees and sunny.\n",
      "---------- TextMessage (assistant) ----------\n",
      "The current weather in Seattle is 72 degrees and sunny.\n",
      "---------- TextMessage (assistant) ----------\n",
      "The weather in Seattle is currently 72 degrees and sunny.\n",
      "---------- TextMessage (assistant) ----------\n",
      "The current weather in Seattle is 72 degrees and sunny.\n",
      "---------- TextMessage (assistant) ----------\n",
      "The weather in Seattle is currently 72 degrees and sunny.\n",
      "---------- TextMessage (assistant) ----------\n",
      "The current weather in Seattle is 72 degrees and sunny.\n",
      "---------- TextMessage (assistant) ----------\n",
      "The weather in Seattle is currently 72 degrees and sunny.\n",
      "---------- TextMessage (assistant) ----------\n",
      "The current weather in Seattle is 72 degrees and sunny.\n",
      "---------- TextMessage (assistant) ----------\n",
      "The weather in Seattle is currently 72 degrees and sunny.\n",
      "---------- TextMessage (assistant) ----------\n",
      "The current weather in Seattle is 72 degrees and sunny.\n",
      "---------- TextMessage (assistant) ----------\n",
      "The weather in Seattle is currently 72 degrees and sunny.\n",
      "---------- TextMessage (assistant) ----------\n",
      "The current weather in Seattle is 72 degrees and sunny.\n",
      "---------- TextMessage (assistant) ----------\n",
      "The weather in Seattle is currently 72 degrees and sunny.\n",
      "---------- TextMessage (assistant) ----------\n",
      "The current weather in Seattle is 72 degrees and sunny.\n",
      "---------- TextMessage (assistant) ----------\n",
      "TERMINATE\n"
     ]
    },
    {
     "data": {
      "text/plain": [
       "TaskResult(messages=[TextMessage(id='0a001986-9991-44a5-8c3b-137f6456d4c9', source='user', models_usage=None, metadata={}, created_at=datetime.datetime(2025, 7, 15, 5, 41, 48, 612123, tzinfo=datetime.timezone.utc), content='What is the weather in Seattle?', type='TextMessage'), ToolCallRequestEvent(id='9c05d252-2c1c-48e9-af9e-eb04848a9661', source='assistant', models_usage=RequestUsage(prompt_tokens=69, completion_tokens=15), metadata={}, created_at=datetime.datetime(2025, 7, 15, 5, 41, 49, 199258, tzinfo=datetime.timezone.utc), content=[FunctionCall(id='call_9rkrFTMoXlhVz3q0ph9AuSEb', arguments='{\"city\":\"Seattle\"}', name='get_weather')], type='ToolCallRequestEvent'), ToolCallExecutionEvent(id='bcf3d72d-b737-4652-b298-d01717b6ff2b', source='assistant', models_usage=None, metadata={}, created_at=datetime.datetime(2025, 7, 15, 5, 41, 49, 200861, tzinfo=datetime.timezone.utc), content=[FunctionExecutionResult(content='The weather in Seattle is 72 degrees and Sunny.', name='get_weather', call_id='call_9rkrFTMoXlhVz3q0ph9AuSEb', is_error=False)], type='ToolCallExecutionEvent'), ToolCallSummaryMessage(id='1e420afc-f242-447a-be44-47460f8a6d67', source='assistant', models_usage=None, metadata={}, created_at=datetime.datetime(2025, 7, 15, 5, 41, 49, 201008, tzinfo=datetime.timezone.utc), content='The weather in Seattle is 72 degrees and Sunny.', type='ToolCallSummaryMessage', tool_calls=[FunctionCall(id='call_9rkrFTMoXlhVz3q0ph9AuSEb', arguments='{\"city\":\"Seattle\"}', name='get_weather')], results=[FunctionExecutionResult(content='The weather in Seattle is 72 degrees and Sunny.', name='get_weather', call_id='call_9rkrFTMoXlhVz3q0ph9AuSEb', is_error=False)]), TextMessage(id='4df1f0fc-1e5d-47a4-b29e-cd1caeb49d1d', source='assistant', models_usage=RequestUsage(prompt_tokens=102, completion_tokens=14), metadata={}, created_at=datetime.datetime(2025, 7, 15, 5, 41, 49, 742161, tzinfo=datetime.timezone.utc), content='The weather in Seattle is currently 72 degrees and sunny.', type='TextMessage'), TextMessage(id='4f9eb270-84bc-45e3-bd76-afc54da68698', source='assistant', models_usage=RequestUsage(prompt_tokens=118, completion_tokens=14), metadata={}, created_at=datetime.datetime(2025, 7, 15, 5, 41, 50, 215809, tzinfo=datetime.timezone.utc), content='The current weather in Seattle is 72 degrees and sunny.', type='TextMessage'), TextMessage(id='1168e1ad-f704-4910-b9eb-89b2a64e3249', source='assistant', models_usage=RequestUsage(prompt_tokens=134, completion_tokens=14), metadata={}, created_at=datetime.datetime(2025, 7, 15, 5, 41, 50, 780896, tzinfo=datetime.timezone.utc), content='The weather in Seattle is currently 72 degrees and sunny.', type='TextMessage'), TextMessage(id='62a0beb8-e6a9-470b-aa59-fbca8264508d', source='assistant', models_usage=RequestUsage(prompt_tokens=150, completion_tokens=14), metadata={}, created_at=datetime.datetime(2025, 7, 15, 5, 41, 51, 427148, tzinfo=datetime.timezone.utc), content='The current weather in Seattle is 72 degrees and sunny.', type='TextMessage'), TextMessage(id='fc6bd72a-4ae6-464f-817b-70077f944432', source='assistant', models_usage=RequestUsage(prompt_tokens=166, completion_tokens=14), metadata={}, created_at=datetime.datetime(2025, 7, 15, 5, 41, 52, 46522, tzinfo=datetime.timezone.utc), content='The weather in Seattle is currently 72 degrees and sunny.', type='TextMessage'), TextMessage(id='a940c44e-58c6-41ba-95aa-d7ef9f6d6446', source='assistant', models_usage=RequestUsage(prompt_tokens=182, completion_tokens=14), metadata={}, created_at=datetime.datetime(2025, 7, 15, 5, 41, 52, 613129, tzinfo=datetime.timezone.utc), content='The weather in Seattle is currently 72 degrees and sunny.', type='TextMessage'), TextMessage(id='9af21851-65ee-4a3c-bbf3-413fde64d6c1', source='assistant', models_usage=RequestUsage(prompt_tokens=198, completion_tokens=14), metadata={}, created_at=datetime.datetime(2025, 7, 15, 5, 41, 53, 184402, tzinfo=datetime.timezone.utc), content='The current weather in Seattle is 72 degrees and sunny.', type='TextMessage'), TextMessage(id='01aab861-3abc-40e6-b36b-99b5312be1c5', source='assistant', models_usage=RequestUsage(prompt_tokens=214, completion_tokens=14), metadata={}, created_at=datetime.datetime(2025, 7, 15, 5, 41, 53, 778768, tzinfo=datetime.timezone.utc), content='The weather in Seattle is currently 72 degrees and sunny.', type='TextMessage'), TextMessage(id='40c5e8e0-ed2c-435c-b8c8-bf0183f210ba', source='assistant', models_usage=RequestUsage(prompt_tokens=230, completion_tokens=14), metadata={}, created_at=datetime.datetime(2025, 7, 15, 5, 41, 54, 371067, tzinfo=datetime.timezone.utc), content='The current weather in Seattle is 72 degrees and sunny.', type='TextMessage'), TextMessage(id='f67afe27-d42b-418f-9a3f-d0b844b58a63', source='assistant', models_usage=RequestUsage(prompt_tokens=246, completion_tokens=14), metadata={}, created_at=datetime.datetime(2025, 7, 15, 5, 41, 54, 928859, tzinfo=datetime.timezone.utc), content='The weather in Seattle is currently 72 degrees and sunny.', type='TextMessage'), TextMessage(id='0f09e6f1-c4c8-4361-ac95-dfd05c04342a', source='assistant', models_usage=RequestUsage(prompt_tokens=262, completion_tokens=14), metadata={}, created_at=datetime.datetime(2025, 7, 15, 5, 41, 55, 488298, tzinfo=datetime.timezone.utc), content='The current weather in Seattle is 72 degrees and sunny.', type='TextMessage'), TextMessage(id='b66c66b7-6f68-407c-930e-785d83efa7cb', source='assistant', models_usage=RequestUsage(prompt_tokens=278, completion_tokens=14), metadata={}, created_at=datetime.datetime(2025, 7, 15, 5, 41, 55, 972670, tzinfo=datetime.timezone.utc), content='The weather in Seattle is currently 72 degrees and sunny.', type='TextMessage'), TextMessage(id='f564f0c7-dc7f-466a-be1a-2886e595533c', source='assistant', models_usage=RequestUsage(prompt_tokens=294, completion_tokens=14), metadata={}, created_at=datetime.datetime(2025, 7, 15, 5, 41, 56, 538044, tzinfo=datetime.timezone.utc), content='The current weather in Seattle is 72 degrees and sunny.', type='TextMessage'), TextMessage(id='529928b5-d86b-4335-9f84-f315547c2bd8', source='assistant', models_usage=RequestUsage(prompt_tokens=310, completion_tokens=14), metadata={}, created_at=datetime.datetime(2025, 7, 15, 5, 41, 57, 34317, tzinfo=datetime.timezone.utc), content='The weather in Seattle is currently 72 degrees and sunny.', type='TextMessage'), TextMessage(id='7e7e7eef-4045-406d-a97d-3169553e1bc1', source='assistant', models_usage=RequestUsage(prompt_tokens=326, completion_tokens=14), metadata={}, created_at=datetime.datetime(2025, 7, 15, 5, 41, 58, 9115, tzinfo=datetime.timezone.utc), content='The current weather in Seattle is 72 degrees and sunny.', type='TextMessage'), TextMessage(id='286d6950-afb8-486d-ac90-1eddf23e8c15', source='assistant', models_usage=RequestUsage(prompt_tokens=342, completion_tokens=14), metadata={}, created_at=datetime.datetime(2025, 7, 15, 5, 41, 58, 777116, tzinfo=datetime.timezone.utc), content='The weather in Seattle is currently 72 degrees and sunny.', type='TextMessage'), TextMessage(id='4cc692ed-f790-4b83-ade2-2b6d2fc4039e', source='assistant', models_usage=RequestUsage(prompt_tokens=358, completion_tokens=14), metadata={}, created_at=datetime.datetime(2025, 7, 15, 5, 41, 59, 297315, tzinfo=datetime.timezone.utc), content='The current weather in Seattle is 72 degrees and sunny.', type='TextMessage'), TextMessage(id='368a6dfc-5e9e-4c94-b4c2-e7bdef930a3f', source='assistant', models_usage=RequestUsage(prompt_tokens=374, completion_tokens=14), metadata={}, created_at=datetime.datetime(2025, 7, 15, 5, 41, 59, 904860, tzinfo=datetime.timezone.utc), content='The weather in Seattle is currently 72 degrees and sunny.', type='TextMessage'), TextMessage(id='a5722e90-9a33-4c55-93dd-da4be6f16800', source='assistant', models_usage=RequestUsage(prompt_tokens=390, completion_tokens=14), metadata={}, created_at=datetime.datetime(2025, 7, 15, 5, 42, 0, 476815, tzinfo=datetime.timezone.utc), content='The current weather in Seattle is 72 degrees and sunny.', type='TextMessage'), TextMessage(id='6b1ce7bc-b332-430a-8f72-7bb8c1d96764', source='assistant', models_usage=RequestUsage(prompt_tokens=406, completion_tokens=14), metadata={}, created_at=datetime.datetime(2025, 7, 15, 5, 42, 1, 43485, tzinfo=datetime.timezone.utc), content='The weather in Seattle is currently 72 degrees and sunny.', type='TextMessage'), TextMessage(id='39b54a48-02ff-4144-be4c-730aac2fe2ff', source='assistant', models_usage=RequestUsage(prompt_tokens=422, completion_tokens=14), metadata={}, created_at=datetime.datetime(2025, 7, 15, 5, 42, 1, 588260, tzinfo=datetime.timezone.utc), content='The current weather in Seattle is 72 degrees and sunny.', type='TextMessage'), TextMessage(id='690a657e-fb2e-4fd4-a259-019f9c9dee27', source='assistant', models_usage=RequestUsage(prompt_tokens=438, completion_tokens=14), metadata={}, created_at=datetime.datetime(2025, 7, 15, 5, 42, 2, 799275, tzinfo=datetime.timezone.utc), content='The weather in Seattle is currently 72 degrees and sunny.', type='TextMessage'), TextMessage(id='1ccd7eb5-e5d0-4ce0-9aa9-ce0ff2c80d13', source='assistant', models_usage=RequestUsage(prompt_tokens=454, completion_tokens=14), metadata={}, created_at=datetime.datetime(2025, 7, 15, 5, 42, 3, 374555, tzinfo=datetime.timezone.utc), content='The current weather in Seattle is 72 degrees and sunny.', type='TextMessage'), TextMessage(id='d1518efa-9d19-4ef2-84ab-3c796503837f', source='assistant', models_usage=RequestUsage(prompt_tokens=470, completion_tokens=5), metadata={}, created_at=datetime.datetime(2025, 7, 15, 5, 42, 4, 323610, tzinfo=datetime.timezone.utc), content='TERMINATE', type='TextMessage')], stop_reason=\"Text 'TERMINATE' mentioned\")"
      ]
     },
     "execution_count": 4,
     "metadata": {},
     "output_type": "execute_result"
    }
   ],
   "source": [
    "from autogen_agentchat.ui import Console\n",
    "\n",
    "# Use `asyncio.run(single_agent_team.reset())` when running in a script.\n",
    "await single_agent_team.reset()  # Reset the team for the next run.\n",
    "# Use `asyncio.run(single_agent_team.run_stream(task=\"What is the weather in Seattle?\"))` when running in a script.\n",
    "await Console(\n",
    "    single_agent_team.run_stream(task=\"What is the weather in Seattle?\")\n",
    ")  # Stream the messages to the console."
   ]
  },
  {
   "cell_type": "code",
   "execution_count": 5,
   "metadata": {},
   "outputs": [],
   "source": [
    "from autogen_agentchat.agents import AssistantAgent\n",
    "from autogen_agentchat.conditions import MaxMessageTermination, TextMentionTermination\n",
    "from autogen_agentchat.teams import RoundRobinGroupChat\n",
    "from autogen_agentchat.ui import Console\n",
    "from autogen_ext.models.openai import OpenAIChatCompletionClient\n",
    "\n",
    "# Create an OpenAI model client.\n",
    "model_client = azure_openai_chat_completion_client\n",
    "# Create the primary agent.\n",
    "primary_agent = AssistantAgent(\n",
    "    \"primary\",\n",
    "    model_client=model_client,\n",
    "    system_message=\"You are a helpful AI assistant.\",\n",
    ")\n",
    "\n",
    "# Create the critic agent.\n",
    "critic_agent = AssistantAgent(\n",
    "    \"critic\",\n",
    "    model_client=model_client,\n",
    "    system_message=\"Provide constructive feedback. Respond with 'APPROVE' to when your feedbacks are addressed.\",\n",
    ")\n",
    "\n",
    "# Define a termination condition that stops the task if the critic approves.\n",
    "text_termination = TextMentionTermination(\"APPROVE\")\n",
    "# Define a termination condition that stops the task after 5 messages.\n",
    "max_message_termination = MaxMessageTermination(5)\n",
    "# Combine the termination conditions using the `|`` operator so that the\n",
    "# task stops when either condition is met.\n",
    "termination = text_termination | max_message_termination\n",
    "\n",
    "# Create a team with the primary and critic agents.\n",
    "reflection_team = RoundRobinGroupChat([primary_agent, critic_agent], termination_condition=termination)"
   ]
  },
  {
   "cell_type": "code",
   "execution_count": 6,
   "metadata": {},
   "outputs": [
    {
     "name": "stdout",
     "output_type": "stream",
     "text": [
      "---------- TextMessage (user) ----------\n",
      "Write a short poem about fall season.\n",
      "---------- TextMessage (primary) ----------\n",
      "Golden leaves drift to the ground,  \n",
      "Whispering secrets without a sound.  \n",
      "Crisp air carries autumn’s song,  \n",
      "A fleeting dance before winter’s strong.\n",
      "---------- TextMessage (critic) ----------\n",
      "Your poem beautifully captures the essence of fall with vivid imagery and a gentle rhythm. The phrase \"Whispering secrets without a sound\" adds a touch of mystery, perfectly complementing the quiet, reflective atmosphere of autumn. To enhance clarity, consider rephrasing the last line; \"winter's strong\" feels a bit ambiguous and might benefit from a more specific descriptor, such as \"winter's dawn\" or \"winter's chill.\" Overall, it's a lovely and evocative piece!\n",
      "---------- TextMessage (primary) ----------\n",
      "Thank you for your thoughtful feedback! I appreciate your suggestion to clarify the last line. Here's a revised version with that adjustment:\n",
      "\n",
      "Golden leaves drift to the ground,  \n",
      "Whispering secrets without a sound.  \n",
      "Crisp air carries autumn’s song,  \n",
      "A fleeting dance before winter’s dawn.  \n",
      "\n",
      "I hope this feels clearer and just as evocative!\n",
      "---------- TextMessage (critic) ----------\n",
      "APPROVE\n"
     ]
    },
    {
     "data": {
      "text/plain": [
       "TaskResult(messages=[TextMessage(id='1d65f925-fe0b-4612-8942-7cb105e128a7', source='user', models_usage=None, metadata={}, created_at=datetime.datetime(2025, 7, 15, 5, 42, 20, 787033, tzinfo=datetime.timezone.utc), content='Write a short poem about fall season.', type='TextMessage'), TextMessage(id='a0a3846b-b5ea-4517-9600-e012c153a618', source='primary', models_usage=RequestUsage(prompt_tokens=27, completion_tokens=36), metadata={}, created_at=datetime.datetime(2025, 7, 15, 5, 42, 21, 703433, tzinfo=datetime.timezone.utc), content='Golden leaves drift to the ground,  \\nWhispering secrets without a sound.  \\nCrisp air carries autumn’s song,  \\nA fleeting dance before winter’s strong.', type='TextMessage'), TextMessage(id='234c9559-a146-4fde-a5b4-b5aa68d6ffc7', source='critic', models_usage=RequestUsage(prompt_tokens=80, completion_tokens=98), metadata={}, created_at=datetime.datetime(2025, 7, 15, 5, 42, 23, 231544, tzinfo=datetime.timezone.utc), content='Your poem beautifully captures the essence of fall with vivid imagery and a gentle rhythm. The phrase \"Whispering secrets without a sound\" adds a touch of mystery, perfectly complementing the quiet, reflective atmosphere of autumn. To enhance clarity, consider rephrasing the last line; \"winter\\'s strong\" feels a bit ambiguous and might benefit from a more specific descriptor, such as \"winter\\'s dawn\" or \"winter\\'s chill.\" Overall, it\\'s a lovely and evocative piece!', type='TextMessage'), TextMessage(id='46ffdd54-d263-4e66-a559-df47bc6fdfba', source='primary', models_usage=RequestUsage(prompt_tokens=169, completion_tokens=73), metadata={}, created_at=datetime.datetime(2025, 7, 15, 5, 42, 24, 403643, tzinfo=datetime.timezone.utc), content=\"Thank you for your thoughtful feedback! I appreciate your suggestion to clarify the last line. Here's a revised version with that adjustment:\\n\\nGolden leaves drift to the ground,  \\nWhispering secrets without a sound.  \\nCrisp air carries autumn’s song,  \\nA fleeting dance before winter’s dawn.  \\n\\nI hope this feels clearer and just as evocative!\", type='TextMessage'), TextMessage(id='39253f9f-df1c-47c7-84e9-5cdc70bf3a0d', source='critic', models_usage=RequestUsage(prompt_tokens=259, completion_tokens=4), metadata={}, created_at=datetime.datetime(2025, 7, 15, 5, 42, 24, 824813, tzinfo=datetime.timezone.utc), content='APPROVE', type='TextMessage')], stop_reason=\"Text 'APPROVE' mentioned, Maximum number of messages 5 reached, current message count: 5\")"
      ]
     },
     "execution_count": 6,
     "metadata": {},
     "output_type": "execute_result"
    }
   ],
   "source": [
    "# Use `asyncio.run(Console(reflection_team.run_stream(task=\"Write a short poem about fall season.\")))` when running in a script.\n",
    "await Console(\n",
    "    reflection_team.run_stream(task=\"Write a short poem about fall season.\")\n",
    ")  # Stream the messages to the console."
   ]
  },
  {
   "cell_type": "code",
   "execution_count": 7,
   "metadata": {},
   "outputs": [
    {
     "name": "stdout",
     "output_type": "stream",
     "text": [
      "---------- TextMessage (user) ----------\n",
      "중국 당나라 시풍으로 시를 써보세요.\n",
      "---------- TextMessage (primary) ----------\n",
      "물론입니다. 당나라 시풍은 자연과 인간의 조화를 중시하며, 간결하면서도 깊은 의미를 담는 것이 특징입니다. 다음은 중국 당나라 시풍으로 쓴 가을을 주제로 한 시입니다.\n",
      "\n",
      "가을 산중향 (秋山中郷)  \n",
      "\n",
      "단풍 붉게 물들고  \n",
      "청천 끝없이 높네  \n",
      "한 줄기 바람 스치면  \n",
      "낙엽 춤추네 고요히  \n",
      "\n",
      "(해석)  \n",
      "가을 산에 붉게 물든 단풍,  \n",
      "푸른 하늘은 끝없이 높구나.  \n",
      "바람 한 줄기 스치면,  \n",
      "고요히 낙엽이 춤춘다.  \n",
      "\n",
      "간결한 구절 속에 자연의 변화와 고요한 정취를 담아 보았습니다. 도움이 되셨길 바랍니다!\n",
      "---------- TextMessage (critic) ----------\n",
      "APPROVE\n"
     ]
    },
    {
     "data": {
      "text/plain": [
       "TaskResult(messages=[TextMessage(id='7737f914-eb07-4ade-a359-a2070de4de76', source='user', models_usage=None, metadata={}, created_at=datetime.datetime(2025, 7, 15, 5, 42, 28, 533375, tzinfo=datetime.timezone.utc), content='중국 당나라 시풍으로 시를 써보세요.', type='TextMessage'), TextMessage(id='2cf5fd41-27ca-4671-aa18-ca96148bc08a', source='primary', models_usage=RequestUsage(prompt_tokens=273, completion_tokens=185), metadata={}, created_at=datetime.datetime(2025, 7, 15, 5, 42, 31, 65232, tzinfo=datetime.timezone.utc), content='물론입니다. 당나라 시풍은 자연과 인간의 조화를 중시하며, 간결하면서도 깊은 의미를 담는 것이 특징입니다. 다음은 중국 당나라 시풍으로 쓴 가을을 주제로 한 시입니다.\\n\\n가을 산중향 (秋山中郷)  \\n\\n단풍 붉게 물들고  \\n청천 끝없이 높네  \\n한 줄기 바람 스치면  \\n낙엽 춤추네 고요히  \\n\\n(해석)  \\n가을 산에 붉게 물든 단풍,  \\n푸른 하늘은 끝없이 높구나.  \\n바람 한 줄기 스치면,  \\n고요히 낙엽이 춤춘다.  \\n\\n간결한 구절 속에 자연의 변화와 고요한 정취를 담아 보았습니다. 도움이 되셨길 바랍니다!', type='TextMessage'), TextMessage(id='43f6d9d8-8185-4286-a36f-f63b43764fba', source='critic', models_usage=RequestUsage(prompt_tokens=475, completion_tokens=4), metadata={}, created_at=datetime.datetime(2025, 7, 15, 5, 42, 31, 491048, tzinfo=datetime.timezone.utc), content='APPROVE', type='TextMessage')], stop_reason=\"Text 'APPROVE' mentioned\")"
      ]
     },
     "execution_count": 7,
     "metadata": {},
     "output_type": "execute_result"
    }
   ],
   "source": [
    "await Console(reflection_team.run_stream(task=\"중국 당나라 시풍으로 시를 써보세요.\"))"
   ]
  },
  {
   "cell_type": "code",
   "execution_count": 8,
   "metadata": {},
   "outputs": [],
   "source": [
    "from autogen_agentchat.agents import AssistantAgent\n",
    "from autogen_agentchat.base import Handoff\n",
    "from autogen_agentchat.conditions import HandoffTermination, TextMentionTermination\n",
    "from autogen_agentchat.teams import RoundRobinGroupChat\n",
    "\n",
    "# Create an OpenAI model client.\n",
    "model_client = azure_openai_chat_completion_client\n",
    "\n",
    "# Create a lazy assistant agent that always hands off to the user.\n",
    "lazy_agent = AssistantAgent(\n",
    "    \"lazy_assistant\",\n",
    "    model_client=model_client,\n",
    "    handoffs=[Handoff(target=\"user\", message=\"Transfer to user.\")],\n",
    "    system_message=\"Always transfer to user when you don't know the answer. Respond 'TERMINATE' when task is complete.\",\n",
    ")\n",
    "\n",
    "# Define a termination condition that checks for handoff message targetting helper and text \"TERMINATE\".\n",
    "handoff_termination = HandoffTermination(target=\"user\")\n",
    "text_termination = TextMentionTermination(\"TERMINATE\")\n",
    "termination = handoff_termination | text_termination\n",
    "\n",
    "# Create a single-agent team.\n",
    "lazy_agent_team = RoundRobinGroupChat([lazy_agent], termination_condition=termination)"
   ]
  },
  {
   "cell_type": "code",
   "execution_count": null,
   "metadata": {},
   "outputs": [
    {
     "name": "stdout",
     "output_type": "stream",
     "text": [
      "---------- TextMessage (user) ----------\n",
      "서울의 기후는 어때?\n",
      "---------- ToolCallRequestEvent (lazy_assistant) ----------\n",
      "[FunctionCall(id='call_91tYRV1o6wXDIkImjjqbhycg', arguments='{}', name='transfer_to_user')]\n",
      "---------- ToolCallExecutionEvent (lazy_assistant) ----------\n",
      "[FunctionExecutionResult(content='Transfer to user.', name='transfer_to_user', call_id='call_91tYRV1o6wXDIkImjjqbhycg', is_error=False)]\n",
      "---------- HandoffMessage (lazy_assistant) ----------\n",
      "Transfer to user.\n"
     ]
    },
    {
     "data": {
      "text/plain": [
       "TaskResult(messages=[TextMessage(id='93a8c195-9cb9-4df8-8d94-50479a35f5e8', source='user', models_usage=None, metadata={}, created_at=datetime.datetime(2025, 7, 15, 5, 42, 37, 309322, tzinfo=datetime.timezone.utc), content='서울의 기후는 어때?', type='TextMessage'), ToolCallRequestEvent(id='ccda57e9-ffcf-44d7-b626-f2206a52bb23', source='lazy_assistant', models_usage=RequestUsage(prompt_tokens=68, completion_tokens=12), metadata={}, created_at=datetime.datetime(2025, 7, 15, 5, 42, 37, 984792, tzinfo=datetime.timezone.utc), content=[FunctionCall(id='call_91tYRV1o6wXDIkImjjqbhycg', arguments='{}', name='transfer_to_user')], type='ToolCallRequestEvent'), ToolCallExecutionEvent(id='162e3e26-e632-4353-b95e-368f102574d1', source='lazy_assistant', models_usage=None, metadata={}, created_at=datetime.datetime(2025, 7, 15, 5, 42, 37, 985383, tzinfo=datetime.timezone.utc), content=[FunctionExecutionResult(content='Transfer to user.', name='transfer_to_user', call_id='call_91tYRV1o6wXDIkImjjqbhycg', is_error=False)], type='ToolCallExecutionEvent'), HandoffMessage(id='cc14b18b-aa0c-4ce7-ab8f-d3b68193efac', source='lazy_assistant', models_usage=None, metadata={}, created_at=datetime.datetime(2025, 7, 15, 5, 42, 37, 985468, tzinfo=datetime.timezone.utc), content='Transfer to user.', target='user', context=[], type='HandoffMessage')], stop_reason='Handoff to user from lazy_assistant detected.')"
      ]
     },
     "execution_count": 9,
     "metadata": {},
     "output_type": "execute_result"
    }
   ],
   "source": [
    "from autogen_agentchat.ui import Console\n",
    "\n",
    "await Console(lazy_agent_team.run_stream(task=\"서울의 기후는 어때?\"))"
   ]
  }
 ],
 "metadata": {
  "kernelspec": {
   "display_name": "autogen04-sample",
   "language": "python",
   "name": "python3"
  },
  "language_info": {
   "codemirror_mode": {
    "name": "ipython",
    "version": 3
   },
   "file_extension": ".py",
   "mimetype": "text/x-python",
   "name": "python",
   "nbconvert_exporter": "python",
   "pygments_lexer": "ipython3",
   "version": "3.11.13"
  }
 },
 "nbformat": 4,
 "nbformat_minor": 2
}
