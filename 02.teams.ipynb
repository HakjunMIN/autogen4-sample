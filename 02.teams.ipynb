{
 "cells": [
  {
   "cell_type": "code",
   "execution_count": 2,
   "metadata": {},
   "outputs": [],
   "source": [
    "from autogen_ext.models.openai import AzureOpenAIChatCompletionClient\n",
    "\n",
    "from dotenv import load_dotenv\n",
    "import os\n",
    "\n",
    "load_dotenv()\n",
    "\n",
    "api_version = os.getenv(\"AZURE_OPENAI_API_VERSION\")\n",
    "api_key = os.getenv(\"AZURE_OPENAI_API_KEY\")\n",
    "azure_endpoint = os.getenv(\"AZURE_OPENAI_ENDPOINT\")\n",
    "azure_openai_chat_completion_client = AzureOpenAIChatCompletionClient(\n",
    "            model=\"gpt-4o\",\n",
    "            azure_endpoint=azure_endpoint,\n",
    "            api_version=api_version,\n",
    "            api_key=api_key\n",
    ")"
   ]
  },
  {
   "cell_type": "code",
   "execution_count": 3,
   "metadata": {},
   "outputs": [
    {
     "name": "stderr",
     "output_type": "stream",
     "text": [
      "/home/andy/works/openai/autogen04-sample/.venv/lib/python3.11/site-packages/autogen_agentchat/agents/_assistant_agent.py:343: UserWarning: Resolved model mismatch: gpt-4o-2024-08-06 != gpt-4o-2024-05-13. Model mapping may be incorrect.\n",
      "  result = await self._model_client.create(\n"
     ]
    },
    {
     "name": "stdout",
     "output_type": "stream",
     "text": [
      "TaskResult(messages=[TextMessage(source='user', models_usage=None, content='What is the weather in New York?', type='TextMessage'), ToolCallRequestEvent(source='assistant', models_usage=RequestUsage(prompt_tokens=70, completion_tokens=15), content=[FunctionCall(id='call_JqZxKHFombNZNxR8ZbZyRYxY', arguments='{\"city\":\"New York\"}', name='get_weather')], type='ToolCallRequestEvent'), ToolCallExecutionEvent(source='assistant', models_usage=None, content=[FunctionExecutionResult(content='The weather in New York is 72 degrees and Sunny.', call_id='call_JqZxKHFombNZNxR8ZbZyRYxY')], type='ToolCallExecutionEvent'), ToolCallSummaryMessage(source='assistant', models_usage=None, content='The weather in New York is 72 degrees and Sunny.', type='ToolCallSummaryMessage'), TextMessage(source='assistant', models_usage=RequestUsage(prompt_tokens=107, completion_tokens=15), content='The weather in New York is 72 degrees and sunny. TERMINATE', type='TextMessage')], stop_reason=\"Text 'TERMINATE' mentioned\")\n"
     ]
    }
   ],
   "source": [
    "from autogen_agentchat.agents import AssistantAgent\n",
    "from autogen_agentchat.conditions import TextMentionTermination\n",
    "from autogen_agentchat.teams import RoundRobinGroupChat\n",
    "\n",
    "# Create an OpenAI model client.\n",
    "model_client = azure_openai_chat_completion_client\n",
    "\n",
    "# Define a tool that gets the weather for a city.\n",
    "async def get_weather(city: str) -> str:\n",
    "    \"\"\"Get the weather for a city.\"\"\"\n",
    "    return f\"The weather in {city} is 72 degrees and Sunny.\"\n",
    "\n",
    "\n",
    "# Create an assistant agent.\n",
    "weather_agent = AssistantAgent(\n",
    "    \"assistant\",\n",
    "    model_client=model_client,\n",
    "    tools=[get_weather],\n",
    "    system_message=\"Respond 'TERMINATE' when task is complete.\",\n",
    ")\n",
    "\n",
    "# Define a termination condition.\n",
    "text_termination = TextMentionTermination(\"TERMINATE\")\n",
    "\n",
    "# Create a single-agent team.\n",
    "single_agent_team = RoundRobinGroupChat([weather_agent], termination_condition=text_termination)\n",
    "\n",
    "async def run_team() -> None:\n",
    "    result = await single_agent_team.run(task=\"What is the weather in New York?\")\n",
    "    print(result)\n",
    "\n",
    "\n",
    "# Use `asyncio.run(run_team())` when running in a script.\n",
    "await run_team()\n"
   ]
  },
  {
   "cell_type": "code",
   "execution_count": 4,
   "metadata": {},
   "outputs": [
    {
     "name": "stdout",
     "output_type": "stream",
     "text": [
      "source='user' models_usage=None content='What is the weather in New York?' type='TextMessage'\n",
      "source='assistant' models_usage=RequestUsage(prompt_tokens=140, completion_tokens=15) content=[FunctionCall(id='call_aR2SgWrLSlN0QacU9srSVR29', arguments='{\"city\":\"New York\"}', name='get_weather')] type='ToolCallRequestEvent'\n",
      "source='assistant' models_usage=None content=[FunctionExecutionResult(content='The weather in New York is 72 degrees and Sunny.', call_id='call_aR2SgWrLSlN0QacU9srSVR29')] type='ToolCallExecutionEvent'\n",
      "source='assistant' models_usage=None content='The weather in New York is 72 degrees and Sunny.' type='ToolCallSummaryMessage'\n",
      "source='assistant' models_usage=RequestUsage(prompt_tokens=177, completion_tokens=15) content='The weather in New York is 72 degrees and sunny. TERMINATE' type='TextMessage'\n",
      "Stop Reason: Text 'TERMINATE' mentioned\n"
     ]
    }
   ],
   "source": [
    "from autogen_agentchat.base import TaskResult\n",
    "\n",
    "\n",
    "async def run_team_stream() -> None:\n",
    "    async for message in single_agent_team.run_stream(task=\"What is the weather in New York?\"):\n",
    "        if isinstance(message, TaskResult):\n",
    "            print(\"Stop Reason:\", message.stop_reason)\n",
    "        else:\n",
    "            print(message)\n",
    "\n",
    "\n",
    "# Use `asyncio.run(run_team_stream())` when running in a script.\n",
    "await run_team_stream()\n",
    "\n"
   ]
  },
  {
   "cell_type": "code",
   "execution_count": 5,
   "metadata": {},
   "outputs": [
    {
     "name": "stdout",
     "output_type": "stream",
     "text": [
      "---------- user ----------\n",
      "What is the weather in Seattle?\n"
     ]
    },
    {
     "name": "stdout",
     "output_type": "stream",
     "text": [
      "---------- assistant ----------\n",
      "[FunctionCall(id='call_tQ7ONgARPNJbItIss6Xg9Z9P', arguments='{\"city\":\"Seattle\"}', name='get_weather')]\n",
      "[Prompt tokens: 69, Completion tokens: 14]\n",
      "---------- assistant ----------\n",
      "[FunctionExecutionResult(content='The weather in Seattle is 72 degrees and Sunny.', call_id='call_tQ7ONgARPNJbItIss6Xg9Z9P')]\n",
      "---------- assistant ----------\n",
      "The weather in Seattle is 72 degrees and Sunny.\n",
      "---------- assistant ----------\n",
      "The weather in Seattle is 72 degrees and Sunny. TERMINATE\n",
      "[Prompt tokens: 104, Completion tokens: 14]\n",
      "---------- Summary ----------\n",
      "Number of messages: 5\n",
      "Finish reason: Text 'TERMINATE' mentioned\n",
      "Total prompt tokens: 173\n",
      "Total completion tokens: 28\n",
      "Duration: 1.91 seconds\n"
     ]
    },
    {
     "data": {
      "text/plain": [
       "TaskResult(messages=[TextMessage(source='user', models_usage=None, content='What is the weather in Seattle?', type='TextMessage'), ToolCallRequestEvent(source='assistant', models_usage=RequestUsage(prompt_tokens=69, completion_tokens=14), content=[FunctionCall(id='call_tQ7ONgARPNJbItIss6Xg9Z9P', arguments='{\"city\":\"Seattle\"}', name='get_weather')], type='ToolCallRequestEvent'), ToolCallExecutionEvent(source='assistant', models_usage=None, content=[FunctionExecutionResult(content='The weather in Seattle is 72 degrees and Sunny.', call_id='call_tQ7ONgARPNJbItIss6Xg9Z9P')], type='ToolCallExecutionEvent'), ToolCallSummaryMessage(source='assistant', models_usage=None, content='The weather in Seattle is 72 degrees and Sunny.', type='ToolCallSummaryMessage'), TextMessage(source='assistant', models_usage=RequestUsage(prompt_tokens=104, completion_tokens=14), content='The weather in Seattle is 72 degrees and Sunny. TERMINATE', type='TextMessage')], stop_reason=\"Text 'TERMINATE' mentioned\")"
      ]
     },
     "execution_count": 5,
     "metadata": {},
     "output_type": "execute_result"
    }
   ],
   "source": [
    "from autogen_agentchat.ui import Console\n",
    "\n",
    "# Use `asyncio.run(single_agent_team.reset())` when running in a script.\n",
    "await single_agent_team.reset()  # Reset the team for the next run.\n",
    "# Use `asyncio.run(single_agent_team.run_stream(task=\"What is the weather in Seattle?\"))` when running in a script.\n",
    "await Console(\n",
    "    single_agent_team.run_stream(task=\"What is the weather in Seattle?\")\n",
    ")  # Stream the messages to the console."
   ]
  },
  {
   "cell_type": "code",
   "execution_count": 6,
   "metadata": {},
   "outputs": [],
   "source": [
    "from autogen_agentchat.agents import AssistantAgent\n",
    "from autogen_agentchat.conditions import MaxMessageTermination, TextMentionTermination\n",
    "from autogen_agentchat.teams import RoundRobinGroupChat\n",
    "from autogen_agentchat.ui import Console\n",
    "from autogen_ext.models.openai import OpenAIChatCompletionClient\n",
    "\n",
    "# Create an OpenAI model client.\n",
    "model_client = azure_openai_chat_completion_client\n",
    "# Create the primary agent.\n",
    "primary_agent = AssistantAgent(\n",
    "    \"primary\",\n",
    "    model_client=model_client,\n",
    "    system_message=\"You are a helpful AI assistant.\",\n",
    ")\n",
    "\n",
    "# Create the critic agent.\n",
    "critic_agent = AssistantAgent(\n",
    "    \"critic\",\n",
    "    model_client=model_client,\n",
    "    system_message=\"Provide constructive feedback. Respond with 'APPROVE' to when your feedbacks are addressed.\",\n",
    ")\n",
    "\n",
    "# Define a termination condition that stops the task if the critic approves.\n",
    "text_termination = TextMentionTermination(\"APPROVE\")\n",
    "# Define a termination condition that stops the task after 5 messages.\n",
    "max_message_termination = MaxMessageTermination(5)\n",
    "# Combine the termination conditions using the `|`` operator so that the\n",
    "# task stops when either condition is met.\n",
    "termination = text_termination | max_message_termination\n",
    "\n",
    "# Create a team with the primary and critic agents.\n",
    "reflection_team = RoundRobinGroupChat([primary_agent, critic_agent], termination_condition=termination)"
   ]
  },
  {
   "cell_type": "code",
   "execution_count": 7,
   "metadata": {},
   "outputs": [
    {
     "name": "stdout",
     "output_type": "stream",
     "text": [
      "---------- user ----------\n",
      "Write a short poem about fall season.\n"
     ]
    },
    {
     "name": "stdout",
     "output_type": "stream",
     "text": [
      "---------- primary ----------\n",
      "Whispers of autumn fill the air,\n",
      "Cool breezes tousle leaves with care.\n",
      "Amber hues and crimson blaze,\n",
      "Nature dons its warmest phase.\n",
      "\n",
      "Pumpkins sit with faces bright,\n",
      "Harvest moons light up the night.\n",
      "Acorns drop and squirrels delight,\n",
      "Gathering treasures out of sight.\n",
      "\n",
      "Sweaters wrap us snug and tight,\n",
      "Fires crackle, hearts ignite.\n",
      "In fall's embrace, we find our cheer,\n",
      "A time of magic, love, and year.\n",
      "[Prompt tokens: 27, Completion tokens: 94]\n",
      "---------- critic ----------\n",
      "The poem nicely captures the essence of the fall season with vivid imagery and a warm, cozy feel. Here are a few suggestions for improvement:\n",
      "\n",
      "1. The last line seems a bit unclear and could be rephrased to maintain the rhythm and clarity throughout the poem. Consider changing it to:\n",
      "\"In fall's embrace, we hold dear,\n",
      "A time of magic, love, and cheer.\"\n",
      "\n",
      "2. In the second stanza, the second and third lines slightly disrupt the rhythm. You might consider rephrasing them for a smoother flow. For instance:\n",
      "\"Pumpkins grinning with delight,\n",
      "Harvest moons glow through the night.”\n",
      "\n",
      "These adjustments could enhance the poise and beauty of your poem while preserving its autumnal charm.\n",
      "[Prompt tokens: 139, Completion tokens: 143]\n",
      "---------- primary ----------\n",
      "Thank you for your thoughtful critique. Here is the revised poem with your suggestions incorporated:\n",
      "\n",
      "Whispers of autumn fill the air,\n",
      "Cool breezes tousle leaves with care.\n",
      "Amber hues and crimson blaze,\n",
      "Nature dons its warmest phase.\n",
      "\n",
      "Pumpkins grinning with delight,\n",
      "Harvest moons glow through the night.\n",
      "Acorns drop and squirrels delight,\n",
      "Gathering treasures out of sight.\n",
      "\n",
      "Sweaters wrap us snug and tight,\n",
      "Fires crackle, hearts ignite.\n",
      "In fall's embrace, we hold dear,\n",
      "A time of magic, love, and cheer.\n",
      "[Prompt tokens: 276, Completion tokens: 110]\n",
      "---------- critic ----------\n",
      "APPROVE\n",
      "[Prompt tokens: 404, Completion tokens: 3]\n",
      "---------- Summary ----------\n",
      "Number of messages: 5\n",
      "Finish reason: Text 'APPROVE' mentioned, Maximum number of messages 5 reached, current message count: 5\n",
      "Total prompt tokens: 846\n",
      "Total completion tokens: 350\n",
      "Duration: 5.99 seconds\n"
     ]
    },
    {
     "data": {
      "text/plain": [
       "TaskResult(messages=[TextMessage(source='user', models_usage=None, content='Write a short poem about fall season.', type='TextMessage'), TextMessage(source='primary', models_usage=RequestUsage(prompt_tokens=27, completion_tokens=94), content=\"Whispers of autumn fill the air,\\nCool breezes tousle leaves with care.\\nAmber hues and crimson blaze,\\nNature dons its warmest phase.\\n\\nPumpkins sit with faces bright,\\nHarvest moons light up the night.\\nAcorns drop and squirrels delight,\\nGathering treasures out of sight.\\n\\nSweaters wrap us snug and tight,\\nFires crackle, hearts ignite.\\nIn fall's embrace, we find our cheer,\\nA time of magic, love, and year.\", type='TextMessage'), TextMessage(source='critic', models_usage=RequestUsage(prompt_tokens=139, completion_tokens=143), content='The poem nicely captures the essence of the fall season with vivid imagery and a warm, cozy feel. Here are a few suggestions for improvement:\\n\\n1. The last line seems a bit unclear and could be rephrased to maintain the rhythm and clarity throughout the poem. Consider changing it to:\\n\"In fall\\'s embrace, we hold dear,\\nA time of magic, love, and cheer.\"\\n\\n2. In the second stanza, the second and third lines slightly disrupt the rhythm. You might consider rephrasing them for a smoother flow. For instance:\\n\"Pumpkins grinning with delight,\\nHarvest moons glow through the night.”\\n\\nThese adjustments could enhance the poise and beauty of your poem while preserving its autumnal charm.', type='TextMessage'), TextMessage(source='primary', models_usage=RequestUsage(prompt_tokens=276, completion_tokens=110), content=\"Thank you for your thoughtful critique. Here is the revised poem with your suggestions incorporated:\\n\\nWhispers of autumn fill the air,\\nCool breezes tousle leaves with care.\\nAmber hues and crimson blaze,\\nNature dons its warmest phase.\\n\\nPumpkins grinning with delight,\\nHarvest moons glow through the night.\\nAcorns drop and squirrels delight,\\nGathering treasures out of sight.\\n\\nSweaters wrap us snug and tight,\\nFires crackle, hearts ignite.\\nIn fall's embrace, we hold dear,\\nA time of magic, love, and cheer.\", type='TextMessage'), TextMessage(source='critic', models_usage=RequestUsage(prompt_tokens=404, completion_tokens=3), content='APPROVE', type='TextMessage')], stop_reason=\"Text 'APPROVE' mentioned, Maximum number of messages 5 reached, current message count: 5\")"
      ]
     },
     "execution_count": 7,
     "metadata": {},
     "output_type": "execute_result"
    }
   ],
   "source": [
    "# Use `asyncio.run(Console(reflection_team.run_stream(task=\"Write a short poem about fall season.\")))` when running in a script.\n",
    "await Console(\n",
    "    reflection_team.run_stream(task=\"Write a short poem about fall season.\")\n",
    ")  # Stream the messages to the console."
   ]
  },
  {
   "cell_type": "code",
   "execution_count": 7,
   "metadata": {},
   "outputs": [
    {
     "name": "stdout",
     "output_type": "stream",
     "text": [
      "---------- user ----------\n",
      "중국 당나라 시풍으로 시를 써보세요.\n"
     ]
    },
    {
     "name": "stdout",
     "output_type": "stream",
     "text": [
      "---------- primary ----------\n",
      "금풍이 고운 잎을 물들이니 (金風染綺葉, 금풍염기엽)\n",
      "가을 산은 단풍으로 붉어지네 (秋山變紅葉, 추산변홍엽)\n",
      "달빛은 호수 위를 은처럼 비추고 (月光如銀湖, 월광여은호)\n",
      "고요한 밤엔 갈대가 울려 퍼지네 (靜夜蘆葦泣, 정야노위읍)\n",
      "\n",
      "길게 뻗은 산길엔 안개가 흐르고 (長路煙霞繞, 장로연하요)\n",
      "물 흐르는 계곡엔 고요함이 깃드네 (潺湲靜谷幽, 잔원정곡유)\n",
      "마음 한켠엔 시름이 남았지만 (心間憂思留, 심간우사유)\n",
      "자연의 품속에서 평화를 찾으리 (自然懷安息, 자연회안식)\n",
      "[Prompt tokens: 688, Completion tokens: 216]\n",
      "---------- critic ----------\n",
      "당나라 시풍을 잘 반영한 시입니다. 표현이 아름답고, 자연의 경치를 잘 묘사하고 있습니다. 몇 가지 추가적인 피드백을 드리자면:\n",
      "\n",
      "1. \"月光如銀湖\" 라는 표현 대신 \"銀湖月光映\" 같은 어순을 고려해보는 것도 좋겠습니다.\n",
      "2. \"마음 한켠엔 시름이 남았지만\" 부분을 좀 더 시적으로 바꾸면 좋겠습니다. 예를 들어, \"마음 속 괴로움 있지만\" 같은 느낌으로요.\n",
      "\n",
      "이 피드백이 시를 더 풍부하게 만드는데 도움이 되었으면 합니다. 수정된 시를 다시 보여주시면 좋겠습니다.\n",
      "[Prompt tokens: 922, Completion tokens: 151]\n",
      "---------- primary ----------\n",
      "고맙습니다. 주신 피드백을 반영하여 시를 수정해 보겠습니다.\n",
      "\n",
      "금풍이 고운 잎을 물들이니 (金風染綺葉, 금풍염기엽)\n",
      "가을 산은 단풍으로 붉어지네 (秋山變紅葉, 추산변홍엽)\n",
      "달빛은 호수 위를 은처럼 비추고 (銀湖月光映, 은호월광영)\n",
      "고요한 밤엔 갈대가 울려 퍼지네 (靜夜蘆葦泣, 정야노위읍)\n",
      "\n",
      "길게 뻗은 산길엔 안개가 흐르고 (長路煙霞繞, 장로연하요)\n",
      "물 흐르는 계곡엔 고요함이 깃드네 (潺湲靜谷幽, 잔원정곡유)\n",
      "마음 속 괴로움 있지만 (心中愁思有, 심중수사유)\n",
      "자연의 품속에서 평화를 찾으리 (自然懷安息, 자연회안식)\n",
      "\n",
      "다시 한 번 감상해 주시길 바랍니다.\n",
      "[Prompt tokens: 1067, Completion tokens: 245]\n",
      "---------- critic ----------\n",
      "수정된 시는 정말 훌륭합니다. 주신 피드백을 잘 반영하여, 표현이 더욱 시적으로 다듬어졌습니다. 아래와 같은 점이 돋보입니다:\n",
      "\n",
      "1. \"銀湖月光映\"이라는 표현이 자연스럽고 시각적입니다.\n",
      "2. \"마음 속 괴로움 있지만\" 부분이 더욱 시적으로 변하여 느낌이 부드럽습니다.\n",
      "\n",
      "이제 시가 더욱 매끄럽고 당나라 시풍을 잘 반영한 것 같습니다.\n",
      "\n",
      "APPROVE\n",
      "[Prompt tokens: 1330, Completion tokens: 115]\n",
      "---------- Summary ----------\n",
      "Number of messages: 5\n",
      "Finish reason: Text 'APPROVE' mentioned, Maximum number of messages 5 reached, current message count: 5\n",
      "Total prompt tokens: 4007\n",
      "Total completion tokens: 727\n",
      "Duration: 9.81 seconds\n"
     ]
    },
    {
     "data": {
      "text/plain": [
       "TaskResult(messages=[TextMessage(source='user', models_usage=None, content='중국 당나라 시풍으로 시를 써보세요.', type='TextMessage'), TextMessage(source='primary', models_usage=RequestUsage(prompt_tokens=688, completion_tokens=216), content='금풍이 고운 잎을 물들이니 (金風染綺葉, 금풍염기엽)\\n가을 산은 단풍으로 붉어지네 (秋山變紅葉, 추산변홍엽)\\n달빛은 호수 위를 은처럼 비추고 (月光如銀湖, 월광여은호)\\n고요한 밤엔 갈대가 울려 퍼지네 (靜夜蘆葦泣, 정야노위읍)\\n\\n길게 뻗은 산길엔 안개가 흐르고 (長路煙霞繞, 장로연하요)\\n물 흐르는 계곡엔 고요함이 깃드네 (潺湲靜谷幽, 잔원정곡유)\\n마음 한켠엔 시름이 남았지만 (心間憂思留, 심간우사유)\\n자연의 품속에서 평화를 찾으리 (自然懷安息, 자연회안식)', type='TextMessage'), TextMessage(source='critic', models_usage=RequestUsage(prompt_tokens=922, completion_tokens=151), content='당나라 시풍을 잘 반영한 시입니다. 표현이 아름답고, 자연의 경치를 잘 묘사하고 있습니다. 몇 가지 추가적인 피드백을 드리자면:\\n\\n1. \"月光如銀湖\" 라는 표현 대신 \"銀湖月光映\" 같은 어순을 고려해보는 것도 좋겠습니다.\\n2. \"마음 한켠엔 시름이 남았지만\" 부분을 좀 더 시적으로 바꾸면 좋겠습니다. 예를 들어, \"마음 속 괴로움 있지만\" 같은 느낌으로요.\\n\\n이 피드백이 시를 더 풍부하게 만드는데 도움이 되었으면 합니다. 수정된 시를 다시 보여주시면 좋겠습니다.', type='TextMessage'), TextMessage(source='primary', models_usage=RequestUsage(prompt_tokens=1067, completion_tokens=245), content='고맙습니다. 주신 피드백을 반영하여 시를 수정해 보겠습니다.\\n\\n금풍이 고운 잎을 물들이니 (金風染綺葉, 금풍염기엽)\\n가을 산은 단풍으로 붉어지네 (秋山變紅葉, 추산변홍엽)\\n달빛은 호수 위를 은처럼 비추고 (銀湖月光映, 은호월광영)\\n고요한 밤엔 갈대가 울려 퍼지네 (靜夜蘆葦泣, 정야노위읍)\\n\\n길게 뻗은 산길엔 안개가 흐르고 (長路煙霞繞, 장로연하요)\\n물 흐르는 계곡엔 고요함이 깃드네 (潺湲靜谷幽, 잔원정곡유)\\n마음 속 괴로움 있지만 (心中愁思有, 심중수사유)\\n자연의 품속에서 평화를 찾으리 (自然懷安息, 자연회안식)\\n\\n다시 한 번 감상해 주시길 바랍니다.', type='TextMessage'), TextMessage(source='critic', models_usage=RequestUsage(prompt_tokens=1330, completion_tokens=115), content='수정된 시는 정말 훌륭합니다. 주신 피드백을 잘 반영하여, 표현이 더욱 시적으로 다듬어졌습니다. 아래와 같은 점이 돋보입니다:\\n\\n1. \"銀湖月光映\"이라는 표현이 자연스럽고 시각적입니다.\\n2. \"마음 속 괴로움 있지만\" 부분이 더욱 시적으로 변하여 느낌이 부드럽습니다.\\n\\n이제 시가 더욱 매끄럽고 당나라 시풍을 잘 반영한 것 같습니다.\\n\\nAPPROVE', type='TextMessage')], stop_reason=\"Text 'APPROVE' mentioned, Maximum number of messages 5 reached, current message count: 5\")"
      ]
     },
     "execution_count": 7,
     "metadata": {},
     "output_type": "execute_result"
    }
   ],
   "source": [
    "await Console(reflection_team.run_stream(task=\"중국 당나라 시풍으로 시를 써보세요.\"))"
   ]
  },
  {
   "cell_type": "code",
   "execution_count": 8,
   "metadata": {},
   "outputs": [],
   "source": [
    "from autogen_agentchat.agents import AssistantAgent\n",
    "from autogen_agentchat.base import Handoff\n",
    "from autogen_agentchat.conditions import HandoffTermination, TextMentionTermination\n",
    "from autogen_agentchat.teams import RoundRobinGroupChat\n",
    "\n",
    "# Create an OpenAI model client.\n",
    "model_client = azure_openai_chat_completion_client\n",
    "\n",
    "# Create a lazy assistant agent that always hands off to the user.\n",
    "lazy_agent = AssistantAgent(\n",
    "    \"lazy_assistant\",\n",
    "    model_client=model_client,\n",
    "    handoffs=[Handoff(target=\"user\", message=\"Transfer to user.\")],\n",
    "    system_message=\"Always transfer to user when you don't know the answer. Respond 'TERMINATE' when task is complete.\",\n",
    ")\n",
    "\n",
    "# Define a termination condition that checks for handoff message targetting helper and text \"TERMINATE\".\n",
    "handoff_termination = HandoffTermination(target=\"user\")\n",
    "text_termination = TextMentionTermination(\"TERMINATE\")\n",
    "termination = handoff_termination | text_termination\n",
    "\n",
    "# Create a single-agent team.\n",
    "lazy_agent_team = RoundRobinGroupChat([lazy_agent], termination_condition=termination)"
   ]
  },
  {
   "cell_type": "code",
   "execution_count": 13,
   "metadata": {},
   "outputs": [
    {
     "name": "stdout",
     "output_type": "stream",
     "text": [
      "---------- user ----------\n",
      "서울의 기후는 어때?\n"
     ]
    },
    {
     "name": "stdout",
     "output_type": "stream",
     "text": [
      "---------- lazy_assistant ----------\n",
      "죄송합니다만, 실시간 기후 정보를 제공할 수 없습니다. 최신 서울의 기후 정보를 위해서는 기상청 웹사이트나 기상 앱을 참조하시기 바랍니다.\n",
      "[Prompt tokens: 293, Completion tokens: 40]\n",
      "---------- lazy_assistant ----------\n",
      "[FunctionCall(id='call_LEOTGcXsORiJrWxoVX5IIVgy', arguments='{}', name='transfer_to_user')]\n",
      "[Prompt tokens: 340, Completion tokens: 11]\n",
      "---------- lazy_assistant ----------\n",
      "[FunctionExecutionResult(content='Transfer to user.', call_id='call_LEOTGcXsORiJrWxoVX5IIVgy')]\n",
      "---------- lazy_assistant ----------\n",
      "Transfer to user.\n",
      "---------- Summary ----------\n",
      "Number of messages: 5\n",
      "Finish reason: Handoff to user from lazy_assistant detected.\n",
      "Total prompt tokens: 633\n",
      "Total completion tokens: 51\n",
      "Duration: 2.32 seconds\n"
     ]
    },
    {
     "data": {
      "text/plain": [
       "TaskResult(messages=[TextMessage(source='user', models_usage=None, content='서울의 기후는 어때?', type='TextMessage'), TextMessage(source='lazy_assistant', models_usage=RequestUsage(prompt_tokens=293, completion_tokens=40), content='죄송합니다만, 실시간 기후 정보를 제공할 수 없습니다. 최신 서울의 기후 정보를 위해서는 기상청 웹사이트나 기상 앱을 참조하시기 바랍니다.', type='TextMessage'), ToolCallRequestEvent(source='lazy_assistant', models_usage=RequestUsage(prompt_tokens=340, completion_tokens=11), content=[FunctionCall(id='call_LEOTGcXsORiJrWxoVX5IIVgy', arguments='{}', name='transfer_to_user')], type='ToolCallRequestEvent'), ToolCallExecutionEvent(source='lazy_assistant', models_usage=None, content=[FunctionExecutionResult(content='Transfer to user.', call_id='call_LEOTGcXsORiJrWxoVX5IIVgy')], type='ToolCallExecutionEvent'), HandoffMessage(source='lazy_assistant', models_usage=None, target='user', content='Transfer to user.', type='HandoffMessage')], stop_reason='Handoff to user from lazy_assistant detected.')"
      ]
     },
     "execution_count": 13,
     "metadata": {},
     "output_type": "execute_result"
    }
   ],
   "source": [
    "from autogen_agentchat.ui import Console\n",
    "\n",
    "# Use `asyncio.run(Console(lazy_agent_team.run_stream(task=\"What is the weather in New York?\")))` when running in a script.\n",
    "await Console(lazy_agent_team.run_stream(task=\"서울의 기후는 어때?\"))"
   ]
  }
 ],
 "metadata": {
  "kernelspec": {
   "display_name": ".venv",
   "language": "python",
   "name": "python3"
  },
  "language_info": {
   "codemirror_mode": {
    "name": "ipython",
    "version": 3
   },
   "file_extension": ".py",
   "mimetype": "text/x-python",
   "name": "python",
   "nbconvert_exporter": "python",
   "pygments_lexer": "ipython3",
   "version": "3.11.10"
  }
 },
 "nbformat": 4,
 "nbformat_minor": 2
}
