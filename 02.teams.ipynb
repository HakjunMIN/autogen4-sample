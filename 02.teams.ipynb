{
 "cells": [
  {
   "cell_type": "code",
   "execution_count": 1,
   "metadata": {},
   "outputs": [],
   "source": [
    "from autogen_ext.models.openai import AzureOpenAIChatCompletionClient\n",
    "\n",
    "from dotenv import load_dotenv\n",
    "import os\n",
    "\n",
    "load_dotenv()\n",
    "\n",
    "api_version = os.getenv(\"AZURE_OPENAI_API_VERSION\")\n",
    "api_key = os.getenv(\"AZURE_OPENAI_API_KEY\")\n",
    "azure_endpoint = os.getenv(\"AZURE_OPENAI_ENDPOINT\")\n",
    "azure_openai_chat_completion_client = AzureOpenAIChatCompletionClient(\n",
    "            model=\"gpt-4o\",\n",
    "            azure_endpoint=azure_endpoint,\n",
    "            api_version=api_version,\n",
    "            api_key=api_key\n",
    ")"
   ]
  },
  {
   "cell_type": "code",
   "execution_count": 2,
   "metadata": {},
   "outputs": [
    {
     "name": "stderr",
     "output_type": "stream",
     "text": [
      "/Users/andy/works/ai/autogen04-sample/.venv/lib/python3.11/site-packages/autogen_agentchat/agents/_assistant_agent.py:981: UserWarning: Resolved model mismatch: gpt-4o-2024-08-06 != gpt-4o-2024-11-20. Model mapping in autogen_ext.models.openai may be incorrect. Set the model to gpt-4o-2024-11-20 to enhance token/cost estimation and suppress this warning.\n",
      "  model_result = await model_client.create(\n"
     ]
    },
    {
     "name": "stdout",
     "output_type": "stream",
     "text": [
      "messages=[TextMessage(source='user', models_usage=None, metadata={}, created_at=datetime.datetime(2025, 6, 20, 7, 8, 54, 90479, tzinfo=datetime.timezone.utc), content='What is the weather in New York?', type='TextMessage'), ToolCallRequestEvent(source='assistant', models_usage=RequestUsage(prompt_tokens=70, completion_tokens=16), metadata={}, created_at=datetime.datetime(2025, 6, 20, 7, 8, 55, 105643, tzinfo=datetime.timezone.utc), content=[FunctionCall(id='call_f4Ieq31ggId4IgkXRlk6J6zN', arguments='{\"city\":\"New York\"}', name='get_weather')], type='ToolCallRequestEvent'), ToolCallExecutionEvent(source='assistant', models_usage=None, metadata={}, created_at=datetime.datetime(2025, 6, 20, 7, 8, 55, 106734, tzinfo=datetime.timezone.utc), content=[FunctionExecutionResult(content='The weather in New York is 72 degrees and Sunny.', name='get_weather', call_id='call_f4Ieq31ggId4IgkXRlk6J6zN', is_error=False)], type='ToolCallExecutionEvent'), ToolCallSummaryMessage(source='assistant', models_usage=None, metadata={}, created_at=datetime.datetime(2025, 6, 20, 7, 8, 55, 106850, tzinfo=datetime.timezone.utc), content='The weather in New York is 72 degrees and Sunny.', type='ToolCallSummaryMessage', tool_calls=[FunctionCall(id='call_f4Ieq31ggId4IgkXRlk6J6zN', arguments='{\"city\":\"New York\"}', name='get_weather')], results=[FunctionExecutionResult(content='The weather in New York is 72 degrees and Sunny.', name='get_weather', call_id='call_f4Ieq31ggId4IgkXRlk6J6zN', is_error=False)]), TextMessage(source='assistant', models_usage=RequestUsage(prompt_tokens=105, completion_tokens=16), metadata={}, created_at=datetime.datetime(2025, 6, 20, 7, 8, 55, 555843, tzinfo=datetime.timezone.utc), content='The weather in New York is 72 degrees and sunny. TERMINATE', type='TextMessage')] stop_reason=\"Text 'TERMINATE' mentioned\"\n"
     ]
    }
   ],
   "source": [
    "from autogen_agentchat.agents import AssistantAgent\n",
    "from autogen_agentchat.conditions import TextMentionTermination\n",
    "from autogen_agentchat.teams import RoundRobinGroupChat\n",
    "\n",
    "# Create an OpenAI model client.\n",
    "model_client = azure_openai_chat_completion_client\n",
    "\n",
    "# Define a tool that gets the weather for a city.\n",
    "async def get_weather(city: str) -> str:\n",
    "    \"\"\"Get the weather for a city.\"\"\"\n",
    "    return f\"The weather in {city} is 72 degrees and Sunny.\"\n",
    "\n",
    "\n",
    "# Create an assistant agent.\n",
    "weather_agent = AssistantAgent(\n",
    "    \"assistant\",\n",
    "    model_client=model_client,\n",
    "    tools=[get_weather],\n",
    "    system_message=\"Respond 'TERMINATE' when task is complete.\",\n",
    ")\n",
    "\n",
    "# Define a termination condition.\n",
    "text_termination = TextMentionTermination(\"TERMINATE\")\n",
    "\n",
    "# Create a single-agent team.\n",
    "single_agent_team = RoundRobinGroupChat([weather_agent], termination_condition=text_termination)\n",
    "\n",
    "async def run_team() -> None:\n",
    "    result = await single_agent_team.run(task=\"What is the weather in New York?\")\n",
    "    print(result)\n",
    "\n",
    "\n",
    "# Use `asyncio.run(run_team())` when running in a script.\n",
    "await run_team()\n"
   ]
  },
  {
   "cell_type": "code",
   "execution_count": 3,
   "metadata": {},
   "outputs": [
    {
     "name": "stdout",
     "output_type": "stream",
     "text": [
      "source='user' models_usage=None metadata={} created_at=datetime.datetime(2025, 6, 20, 7, 8, 55, 561906, tzinfo=datetime.timezone.utc) content='What is the weather in New York?' type='TextMessage'\n",
      "source='assistant' models_usage=RequestUsage(prompt_tokens=136, completion_tokens=16) metadata={} created_at=datetime.datetime(2025, 6, 20, 7, 8, 57, 580243, tzinfo=datetime.timezone.utc) content='The weather in New York is 72 degrees and sunny. TERMINATE' type='TextMessage'\n",
      "Stop Reason: Text 'TERMINATE' mentioned\n"
     ]
    }
   ],
   "source": [
    "from autogen_agentchat.base import TaskResult\n",
    "\n",
    "\n",
    "async def run_team_stream() -> None:\n",
    "    async for message in single_agent_team.run_stream(task=\"What is the weather in New York?\"):\n",
    "        if isinstance(message, TaskResult):\n",
    "            print(\"Stop Reason:\", message.stop_reason)\n",
    "        else:\n",
    "            print(message)\n",
    "\n",
    "\n",
    "# Use `asyncio.run(run_team_stream())` when running in a script.\n",
    "await run_team_stream()\n",
    "\n"
   ]
  },
  {
   "cell_type": "code",
   "execution_count": 4,
   "metadata": {},
   "outputs": [
    {
     "name": "stdout",
     "output_type": "stream",
     "text": [
      "---------- TextMessage (user) ----------\n",
      "What is the weather in Seattle?\n",
      "---------- ToolCallRequestEvent (assistant) ----------\n",
      "[FunctionCall(id='call_lLkrAnfS51rLbirL4CPweUfx', arguments='{\"city\":\"Seattle\"}', name='get_weather')]\n",
      "---------- ToolCallExecutionEvent (assistant) ----------\n",
      "[FunctionExecutionResult(content='The weather in Seattle is 72 degrees and Sunny.', name='get_weather', call_id='call_lLkrAnfS51rLbirL4CPweUfx', is_error=False)]\n",
      "---------- ToolCallSummaryMessage (assistant) ----------\n",
      "The weather in Seattle is 72 degrees and Sunny.\n",
      "---------- TextMessage (assistant) ----------\n",
      "The weather in Seattle is 72 degrees and sunny. TERMINATE\n"
     ]
    },
    {
     "data": {
      "text/plain": [
       "TaskResult(messages=[TextMessage(source='user', models_usage=None, metadata={}, created_at=datetime.datetime(2025, 6, 20, 7, 8, 57, 589592, tzinfo=datetime.timezone.utc), content='What is the weather in Seattle?', type='TextMessage'), ToolCallRequestEvent(source='assistant', models_usage=RequestUsage(prompt_tokens=69, completion_tokens=15), metadata={}, created_at=datetime.datetime(2025, 6, 20, 7, 8, 58, 278845, tzinfo=datetime.timezone.utc), content=[FunctionCall(id='call_lLkrAnfS51rLbirL4CPweUfx', arguments='{\"city\":\"Seattle\"}', name='get_weather')], type='ToolCallRequestEvent'), ToolCallExecutionEvent(source='assistant', models_usage=None, metadata={}, created_at=datetime.datetime(2025, 6, 20, 7, 8, 58, 281537, tzinfo=datetime.timezone.utc), content=[FunctionExecutionResult(content='The weather in Seattle is 72 degrees and Sunny.', name='get_weather', call_id='call_lLkrAnfS51rLbirL4CPweUfx', is_error=False)], type='ToolCallExecutionEvent'), ToolCallSummaryMessage(source='assistant', models_usage=None, metadata={}, created_at=datetime.datetime(2025, 6, 20, 7, 8, 58, 281881, tzinfo=datetime.timezone.utc), content='The weather in Seattle is 72 degrees and Sunny.', type='ToolCallSummaryMessage', tool_calls=[FunctionCall(id='call_lLkrAnfS51rLbirL4CPweUfx', arguments='{\"city\":\"Seattle\"}', name='get_weather')], results=[FunctionExecutionResult(content='The weather in Seattle is 72 degrees and Sunny.', name='get_weather', call_id='call_lLkrAnfS51rLbirL4CPweUfx', is_error=False)]), TextMessage(source='assistant', models_usage=RequestUsage(prompt_tokens=102, completion_tokens=15), metadata={}, created_at=datetime.datetime(2025, 6, 20, 7, 8, 59, 83346, tzinfo=datetime.timezone.utc), content='The weather in Seattle is 72 degrees and sunny. TERMINATE', type='TextMessage')], stop_reason=\"Text 'TERMINATE' mentioned\")"
      ]
     },
     "execution_count": 4,
     "metadata": {},
     "output_type": "execute_result"
    }
   ],
   "source": [
    "from autogen_agentchat.ui import Console\n",
    "\n",
    "# Use `asyncio.run(single_agent_team.reset())` when running in a script.\n",
    "await single_agent_team.reset()  # Reset the team for the next run.\n",
    "# Use `asyncio.run(single_agent_team.run_stream(task=\"What is the weather in Seattle?\"))` when running in a script.\n",
    "await Console(\n",
    "    single_agent_team.run_stream(task=\"What is the weather in Seattle?\")\n",
    ")  # Stream the messages to the console."
   ]
  },
  {
   "cell_type": "code",
   "execution_count": 5,
   "metadata": {},
   "outputs": [],
   "source": [
    "from autogen_agentchat.agents import AssistantAgent\n",
    "from autogen_agentchat.conditions import MaxMessageTermination, TextMentionTermination\n",
    "from autogen_agentchat.teams import RoundRobinGroupChat\n",
    "from autogen_agentchat.ui import Console\n",
    "from autogen_ext.models.openai import OpenAIChatCompletionClient\n",
    "\n",
    "# Create an OpenAI model client.\n",
    "model_client = azure_openai_chat_completion_client\n",
    "# Create the primary agent.\n",
    "primary_agent = AssistantAgent(\n",
    "    \"primary\",\n",
    "    model_client=model_client,\n",
    "    system_message=\"You are a helpful AI assistant.\",\n",
    ")\n",
    "\n",
    "# Create the critic agent.\n",
    "critic_agent = AssistantAgent(\n",
    "    \"critic\",\n",
    "    model_client=model_client,\n",
    "    system_message=\"Provide constructive feedback. Respond with 'APPROVE' to when your feedbacks are addressed.\",\n",
    ")\n",
    "\n",
    "# Define a termination condition that stops the task if the critic approves.\n",
    "text_termination = TextMentionTermination(\"APPROVE\")\n",
    "# Define a termination condition that stops the task after 5 messages.\n",
    "max_message_termination = MaxMessageTermination(5)\n",
    "# Combine the termination conditions using the `|`` operator so that the\n",
    "# task stops when either condition is met.\n",
    "termination = text_termination | max_message_termination\n",
    "\n",
    "# Create a team with the primary and critic agents.\n",
    "reflection_team = RoundRobinGroupChat([primary_agent, critic_agent], termination_condition=termination)"
   ]
  },
  {
   "cell_type": "code",
   "execution_count": 6,
   "metadata": {},
   "outputs": [
    {
     "name": "stdout",
     "output_type": "stream",
     "text": [
      "---------- TextMessage (user) ----------\n",
      "Write a short poem about fall season.\n",
      "---------- TextMessage (primary) ----------\n",
      "Golden leaves drift to the ground,  \n",
      "A crispness lingers all around.  \n",
      "Amber skies and cooler air,  \n",
      "Pumpkin spice is everywhere.  \n",
      "\n",
      "Whispers weave through forests deep,  \n",
      "Nature slows, preparing sleep.  \n",
      "Scarlet, ochre, rust, and gold,  \n",
      "Fall's fleeting beauty never grows old.  \n",
      "---------- TextMessage (critic) ----------\n",
      "What a lovely poem capturing the essence of fall! The imagery is vivid and evokes the beauty and comfort of the season. However, here are a few suggestions for refinement:\n",
      "\n",
      "1. You could introduce a bit more sensory detail to deepen the reader's immersion, such as the sound of leaves crunching underfoot or the scent of woodsmoke in the air.  \n",
      "2. While \"Pumpkin spice is everywhere\" is relatable, it feels slightly modern compared to the otherwise timeless tone. Perhaps consider rephrasing it to blend better with the lyrical quality.  \n",
      "3. The last line is beautiful, but tightening it could make it more impactful — something like, \"Fall's fleeting beauty—never untold.\"\n",
      "\n",
      "Once these adjustments are made, the poem could feel even richer. Looking forward to the revision!\n",
      "---------- TextMessage (primary) ----------\n",
      "Thank you for the thoughtful critique! Here's a revised version of the poem, incorporating your suggestions:  \n",
      "\n",
      "Golden leaves drift to the ground,  \n",
      "Crunching softly, a soothing sound.  \n",
      "Woodsmoke scents the autumn air,  \n",
      "Warm spices linger—beyond compare.  \n",
      "\n",
      "Whispers weave through forests deep,  \n",
      "Nature slows, preparing sleep.  \n",
      "Scarlet, ochre, rust, and gold,  \n",
      "Fall's fleeting beauty—never untold.  \n",
      "\n",
      "I hope this version resonates better! Thank you again for the feedback.\n",
      "---------- TextMessage (critic) ----------\n",
      "APPROVE!  \n",
      "\n",
      "This revised version beautifully incorporates sensory details, creating a richer and more immersive experience for the reader. The updated line about \"Warm spices linger—beyond compare\" blends seamlessly with the poem's timeless tone, and the tightened ending feels poignant and elegant. Well done!\n"
     ]
    },
    {
     "data": {
      "text/plain": [
       "TaskResult(messages=[TextMessage(source='user', models_usage=None, metadata={}, created_at=datetime.datetime(2025, 6, 20, 7, 8, 59, 97822, tzinfo=datetime.timezone.utc), content='Write a short poem about fall season.', type='TextMessage'), TextMessage(source='primary', models_usage=RequestUsage(prompt_tokens=27, completion_tokens=68), metadata={}, created_at=datetime.datetime(2025, 6, 20, 7, 9, 0, 310567, tzinfo=datetime.timezone.utc), content=\"Golden leaves drift to the ground,  \\nA crispness lingers all around.  \\nAmber skies and cooler air,  \\nPumpkin spice is everywhere.  \\n\\nWhispers weave through forests deep,  \\nNature slows, preparing sleep.  \\nScarlet, ochre, rust, and gold,  \\nFall's fleeting beauty never grows old.  \", type='TextMessage'), TextMessage(source='critic', models_usage=RequestUsage(prompt_tokens=112, completion_tokens=162), metadata={}, created_at=datetime.datetime(2025, 6, 20, 7, 9, 2, 885334, tzinfo=datetime.timezone.utc), content='What a lovely poem capturing the essence of fall! The imagery is vivid and evokes the beauty and comfort of the season. However, here are a few suggestions for refinement:\\n\\n1. You could introduce a bit more sensory detail to deepen the reader\\'s immersion, such as the sound of leaves crunching underfoot or the scent of woodsmoke in the air.  \\n2. While \"Pumpkin spice is everywhere\" is relatable, it feels slightly modern compared to the otherwise timeless tone. Perhaps consider rephrasing it to blend better with the lyrical quality.  \\n3. The last line is beautiful, but tightening it could make it more impactful — something like, \"Fall\\'s fleeting beauty—never untold.\"\\n\\nOnce these adjustments are made, the poem could feel even richer. Looking forward to the revision!', type='TextMessage'), TextMessage(source='primary', models_usage=RequestUsage(prompt_tokens=265, completion_tokens=107), metadata={}, created_at=datetime.datetime(2025, 6, 20, 7, 9, 4, 283195, tzinfo=datetime.timezone.utc), content=\"Thank you for the thoughtful critique! Here's a revised version of the poem, incorporating your suggestions:  \\n\\nGolden leaves drift to the ground,  \\nCrunching softly, a soothing sound.  \\nWoodsmoke scents the autumn air,  \\nWarm spices linger—beyond compare.  \\n\\nWhispers weave through forests deep,  \\nNature slows, preparing sleep.  \\nScarlet, ochre, rust, and gold,  \\nFall's fleeting beauty—never untold.  \\n\\nI hope this version resonates better! Thank you again for the feedback.\", type='TextMessage'), TextMessage(source='critic', models_usage=RequestUsage(prompt_tokens=389, completion_tokens=59), metadata={}, created_at=datetime.datetime(2025, 6, 20, 7, 9, 6, 28640, tzinfo=datetime.timezone.utc), content='APPROVE!  \\n\\nThis revised version beautifully incorporates sensory details, creating a richer and more immersive experience for the reader. The updated line about \"Warm spices linger—beyond compare\" blends seamlessly with the poem\\'s timeless tone, and the tightened ending feels poignant and elegant. Well done!', type='TextMessage')], stop_reason=\"Text 'APPROVE' mentioned, Maximum number of messages 5 reached, current message count: 5\")"
      ]
     },
     "execution_count": 6,
     "metadata": {},
     "output_type": "execute_result"
    }
   ],
   "source": [
    "# Use `asyncio.run(Console(reflection_team.run_stream(task=\"Write a short poem about fall season.\")))` when running in a script.\n",
    "await Console(\n",
    "    reflection_team.run_stream(task=\"Write a short poem about fall season.\")\n",
    ")  # Stream the messages to the console."
   ]
  },
  {
   "cell_type": "code",
   "execution_count": 7,
   "metadata": {},
   "outputs": [
    {
     "name": "stdout",
     "output_type": "stream",
     "text": [
      "---------- TextMessage (user) ----------\n",
      "중국 당나라 시풍으로 시를 써보세요.\n",
      "---------- TextMessage (primary) ----------\n",
      "물론입니다! 당나라 시풍은 간결하면서도 자연과 인간의 조화를 묘사하며, 깊은 철학적 정취가 담긴 것이 특징입니다. 아래는 그런 분위기를 담아본 시입니다:\n",
      "\n",
      "---\n",
      "\n",
      "**산거(山居)**  \n",
      "고목에 새 울고, 연무는 산을 감도네.  \n",
      "밤 이슬 내려앉으니 달빛 흰 바위 적시고,  \n",
      "물소리 먼데 흐르고, 바람에 솔 냄새 깃드네.  \n",
      "인생이란 꿈같은 것, 이 순간을 누가 쥘쏘냐.  \n",
      "\n",
      "---\n",
      "\n",
      "이 시는 자연 속에서의 고요한 삶과 인간의 유한함을 사유하는 내용을 담았습니다. 당나라 시풍의 요소를 살려보았는데, 마음에 드셨기를 바랍니다!\n",
      "---------- TextMessage (critic) ----------\n",
      "시의 분위기가 당나라 특유의 고요함과 철학적 정취를 잘 담았습니다. 특히 자연과 인간의 연결을 묘사한 부분이 깊은 울림을 줍니다. 하지만 다음과 같은 제안을 드립니다:\n",
      "\n",
      "1. 마지막 행에서 보다 복합적이고 함축적인 표현을 사용하면 한층 더 깊은 여운을 줄 수 있을 것 같습니다. 예를 들어 \"이 순간을 누가 쥘쏘냐\" 대신 \"인연조차 바람 같아라\" 같은 표현은 어떨까요?\n",
      "\n",
      "2. '물소리 먼데 흐르고' 부분에 약간 더 구체적인 묘사를 추가하면 독자가 자연 속 장면을 더욱 선명히 그릴 수 있을 것 같습니다.\n",
      "\n",
      "수정된 버전을 기대하겠습니다!\n",
      "---------- TextMessage (primary) ----------\n",
      "귀한 비평에 깊이 감사드립니다. 말씀하신 제안을 바탕으로 보다 함축적이고 생동감 있는 표현을 더해보았습니다. 다음은 수정된 버전입니다.\n",
      "\n",
      "---\n",
      "\n",
      "**산거(山居)**  \n",
      "고목에 새 울고, 연무는 산을 감도네.  \n",
      "밤 이슬 곱게 내려 첨첨히 달빛 어린 바위,  \n",
      "먼 물결 계곡 흐르고 솔 향은 구름에 깃드네.  \n",
      "인생 유한하니, 인연도 바람 같아라.  \n",
      "\n",
      "---\n",
      "\n",
      "마지막 행을 더욱 함축적으로 변화시키고, 물소리 부분을 풍경 속에 녹아들도록 묘사해 보았습니다. 개선이 마음에 들었기를 바랍니다!\n",
      "---------- TextMessage (critic) ----------\n",
      "**APPROVE!**\n",
      "\n",
      "수정된 시는 정말 훌륭합니다. 마지막 행에서 \"인연도 바람 같아라\"라는 함축적 표현이 더 깊은 여운을 남기며, 당나라 시풍의 철학적 정서를 더욱 잘 살렸습니다. 또한, 물소리와 솔 향 묘사에 구체성을 더하여 독자가 풍경을 생생히 느낄 수 있게 되었네요. 훌륭합니다!\n"
     ]
    },
    {
     "data": {
      "text/plain": [
       "TaskResult(messages=[TextMessage(source='user', models_usage=None, metadata={}, created_at=datetime.datetime(2025, 6, 20, 7, 9, 6, 42793, tzinfo=datetime.timezone.utc), content='중국 당나라 시풍으로 시를 써보세요.', type='TextMessage'), TextMessage(source='primary', models_usage=RequestUsage(prompt_tokens=458, completion_tokens=185), metadata={}, created_at=datetime.datetime(2025, 6, 20, 7, 9, 8, 200323, tzinfo=datetime.timezone.utc), content='물론입니다! 당나라 시풍은 간결하면서도 자연과 인간의 조화를 묘사하며, 깊은 철학적 정취가 담긴 것이 특징입니다. 아래는 그런 분위기를 담아본 시입니다:\\n\\n---\\n\\n**산거(山居)**  \\n고목에 새 울고, 연무는 산을 감도네.  \\n밤 이슬 내려앉으니 달빛 흰 바위 적시고,  \\n물소리 먼데 흐르고, 바람에 솔 냄새 깃드네.  \\n인생이란 꿈같은 것, 이 순간을 누가 쥘쏘냐.  \\n\\n---\\n\\n이 시는 자연 속에서의 고요한 삶과 인간의 유한함을 사유하는 내용을 담았습니다. 당나라 시풍의 요소를 살려보았는데, 마음에 드셨기를 바랍니다!', type='TextMessage'), TextMessage(source='critic', models_usage=RequestUsage(prompt_tokens=660, completion_tokens=173), metadata={}, created_at=datetime.datetime(2025, 6, 20, 7, 9, 10, 367762, tzinfo=datetime.timezone.utc), content='시의 분위기가 당나라 특유의 고요함과 철학적 정취를 잘 담았습니다. 특히 자연과 인간의 연결을 묘사한 부분이 깊은 울림을 줍니다. 하지만 다음과 같은 제안을 드립니다:\\n\\n1. 마지막 행에서 보다 복합적이고 함축적인 표현을 사용하면 한층 더 깊은 여운을 줄 수 있을 것 같습니다. 예를 들어 \"이 순간을 누가 쥘쏘냐\" 대신 \"인연조차 바람 같아라\" 같은 표현은 어떨까요?\\n\\n2. \\'물소리 먼데 흐르고\\' 부분에 약간 더 구체적인 묘사를 추가하면 독자가 자연 속 장면을 더욱 선명히 그릴 수 있을 것 같습니다.\\n\\n수정된 버전을 기대하겠습니다!', type='TextMessage'), TextMessage(source='primary', models_usage=RequestUsage(prompt_tokens=824, completion_tokens=166), metadata={}, created_at=datetime.datetime(2025, 6, 20, 7, 9, 12, 86039, tzinfo=datetime.timezone.utc), content='귀한 비평에 깊이 감사드립니다. 말씀하신 제안을 바탕으로 보다 함축적이고 생동감 있는 표현을 더해보았습니다. 다음은 수정된 버전입니다.\\n\\n---\\n\\n**산거(山居)**  \\n고목에 새 울고, 연무는 산을 감도네.  \\n밤 이슬 곱게 내려 첨첨히 달빛 어린 바위,  \\n먼 물결 계곡 흐르고 솔 향은 구름에 깃드네.  \\n인생 유한하니, 인연도 바람 같아라.  \\n\\n---\\n\\n마지막 행을 더욱 함축적으로 변화시키고, 물소리 부분을 풍경 속에 녹아들도록 묘사해 보았습니다. 개선이 마음에 들었기를 바랍니다!', type='TextMessage'), TextMessage(source='critic', models_usage=RequestUsage(prompt_tokens=1007, completion_tokens=103), metadata={}, created_at=datetime.datetime(2025, 6, 20, 7, 9, 13, 499081, tzinfo=datetime.timezone.utc), content='**APPROVE!**\\n\\n수정된 시는 정말 훌륭합니다. 마지막 행에서 \"인연도 바람 같아라\"라는 함축적 표현이 더 깊은 여운을 남기며, 당나라 시풍의 철학적 정서를 더욱 잘 살렸습니다. 또한, 물소리와 솔 향 묘사에 구체성을 더하여 독자가 풍경을 생생히 느낄 수 있게 되었네요. 훌륭합니다!', type='TextMessage')], stop_reason=\"Text 'APPROVE' mentioned, Maximum number of messages 5 reached, current message count: 5\")"
      ]
     },
     "execution_count": 7,
     "metadata": {},
     "output_type": "execute_result"
    }
   ],
   "source": [
    "await Console(reflection_team.run_stream(task=\"중국 당나라 시풍으로 시를 써보세요.\"))"
   ]
  },
  {
   "cell_type": "code",
   "execution_count": 8,
   "metadata": {},
   "outputs": [],
   "source": [
    "from autogen_agentchat.agents import AssistantAgent\n",
    "from autogen_agentchat.base import Handoff\n",
    "from autogen_agentchat.conditions import HandoffTermination, TextMentionTermination\n",
    "from autogen_agentchat.teams import RoundRobinGroupChat\n",
    "\n",
    "# Create an OpenAI model client.\n",
    "model_client = azure_openai_chat_completion_client\n",
    "\n",
    "# Create a lazy assistant agent that always hands off to the user.\n",
    "lazy_agent = AssistantAgent(\n",
    "    \"lazy_assistant\",\n",
    "    model_client=model_client,\n",
    "    handoffs=[Handoff(target=\"user\", message=\"Transfer to user.\")],\n",
    "    system_message=\"Always transfer to user when you don't know the answer. Respond 'TERMINATE' when task is complete.\",\n",
    ")\n",
    "\n",
    "# Define a termination condition that checks for handoff message targetting helper and text \"TERMINATE\".\n",
    "handoff_termination = HandoffTermination(target=\"user\")\n",
    "text_termination = TextMentionTermination(\"TERMINATE\")\n",
    "termination = handoff_termination | text_termination\n",
    "\n",
    "# Create a single-agent team.\n",
    "lazy_agent_team = RoundRobinGroupChat([lazy_agent], termination_condition=termination)"
   ]
  },
  {
   "cell_type": "code",
   "execution_count": 9,
   "metadata": {},
   "outputs": [
    {
     "name": "stdout",
     "output_type": "stream",
     "text": [
      "---------- TextMessage (user) ----------\n",
      "서울의 기후는 어때?\n",
      "---------- TextMessage (lazy_assistant) ----------\n",
      "서울의 기후는 **온대 계절풍 기후**(중위도 대륙성 기후, Köppen의 기후 분류 기준에서는 Dwa 또는 Cwa)로 분류되며, 뚜렷한 사계절을 가지고 있습니다. 주요 특징은 다음과 같습니다:\n",
      "\n",
      "### 봄 (3월 ~ 5월)\n",
      "- 날씨: 대체로 맑고 건조, 그러나 미세먼지나 황사가 발생할 가능성이 있음.\n",
      "- 온도: 비교적 따뜻하며 10°C에서 20°C 사이.\n",
      "\n",
      "### 여름 (6월 ~ 8월)\n",
      "- 날씨: 덥고 습하며 장마철에 많은 비가 내림.\n",
      "- 온도: 25°C에서 35°C까지 상승하며, 습도가 매우 높음.\n",
      "- 특징: 7월과 8월은 서울에서 가장 더운 시기.\n",
      "\n",
      "### 가을 (9월 ~ 11월)\n",
      "- 날씨: 쾌적하고 맑은 날씨가 많음.\n",
      "- 온도: 기온은 10°C에서 20°C 사이로 선선함.\n",
      "- 특징: 청명한 하늘과 단풍이 아름다운 시기.\n",
      "\n",
      "### 겨울 (12월 ~ 2월)\n",
      "- 날씨: 춥고 건조하며 가끔 눈이 내림.\n",
      "- 온도: -10°C에서 5°C로 추운 날씨가 이어짐.\n",
      "- 특징: 난방이 필수인 계절이며, 한파가 찾아올 때는 매우 추워짐.\n",
      "\n",
      "서울은 여름과 겨울의 기온 차이가 큰 편이고, 여름에는 습도가 높아 무더위를 느낄 수 있으며, 겨울에는 찬 바람이 강합니다.\n",
      "---------- ToolCallRequestEvent (lazy_assistant) ----------\n",
      "[FunctionCall(id='call_ZZLHbcBGZLvLXmGEABKHp0yU', arguments='{}', name='transfer_to_user')]\n",
      "---------- ToolCallExecutionEvent (lazy_assistant) ----------\n",
      "[FunctionExecutionResult(content='Transfer to user.', name='transfer_to_user', call_id='call_ZZLHbcBGZLvLXmGEABKHp0yU', is_error=False)]\n",
      "---------- HandoffMessage (lazy_assistant) ----------\n",
      "Transfer to user.\n"
     ]
    },
    {
     "data": {
      "text/plain": [
       "TaskResult(messages=[TextMessage(source='user', models_usage=None, metadata={}, created_at=datetime.datetime(2025, 6, 20, 7, 9, 13, 517850, tzinfo=datetime.timezone.utc), content='서울의 기후는 어때?', type='TextMessage'), TextMessage(source='lazy_assistant', models_usage=RequestUsage(prompt_tokens=68, completion_tokens=379), metadata={}, created_at=datetime.datetime(2025, 6, 20, 7, 9, 17, 785607, tzinfo=datetime.timezone.utc), content='서울의 기후는 **온대 계절풍 기후**(중위도 대륙성 기후, Köppen의 기후 분류 기준에서는 Dwa 또는 Cwa)로 분류되며, 뚜렷한 사계절을 가지고 있습니다. 주요 특징은 다음과 같습니다:\\n\\n### 봄 (3월 ~ 5월)\\n- 날씨: 대체로 맑고 건조, 그러나 미세먼지나 황사가 발생할 가능성이 있음.\\n- 온도: 비교적 따뜻하며 10°C에서 20°C 사이.\\n\\n### 여름 (6월 ~ 8월)\\n- 날씨: 덥고 습하며 장마철에 많은 비가 내림.\\n- 온도: 25°C에서 35°C까지 상승하며, 습도가 매우 높음.\\n- 특징: 7월과 8월은 서울에서 가장 더운 시기.\\n\\n### 가을 (9월 ~ 11월)\\n- 날씨: 쾌적하고 맑은 날씨가 많음.\\n- 온도: 기온은 10°C에서 20°C 사이로 선선함.\\n- 특징: 청명한 하늘과 단풍이 아름다운 시기.\\n\\n### 겨울 (12월 ~ 2월)\\n- 날씨: 춥고 건조하며 가끔 눈이 내림.\\n- 온도: -10°C에서 5°C로 추운 날씨가 이어짐.\\n- 특징: 난방이 필수인 계절이며, 한파가 찾아올 때는 매우 추워짐.\\n\\n서울은 여름과 겨울의 기온 차이가 큰 편이고, 여름에는 습도가 높아 무더위를 느낄 수 있으며, 겨울에는 찬 바람이 강합니다.', type='TextMessage'), ToolCallRequestEvent(source='lazy_assistant', models_usage=RequestUsage(prompt_tokens=449, completion_tokens=12), metadata={}, created_at=datetime.datetime(2025, 6, 20, 7, 9, 19, 41952, tzinfo=datetime.timezone.utc), content=[FunctionCall(id='call_ZZLHbcBGZLvLXmGEABKHp0yU', arguments='{}', name='transfer_to_user')], type='ToolCallRequestEvent'), ToolCallExecutionEvent(source='lazy_assistant', models_usage=None, metadata={}, created_at=datetime.datetime(2025, 6, 20, 7, 9, 19, 42991, tzinfo=datetime.timezone.utc), content=[FunctionExecutionResult(content='Transfer to user.', name='transfer_to_user', call_id='call_ZZLHbcBGZLvLXmGEABKHp0yU', is_error=False)], type='ToolCallExecutionEvent'), HandoffMessage(source='lazy_assistant', models_usage=None, metadata={}, created_at=datetime.datetime(2025, 6, 20, 7, 9, 19, 43162, tzinfo=datetime.timezone.utc), content='Transfer to user.', target='user', context=[], type='HandoffMessage')], stop_reason='Handoff to user from lazy_assistant detected.')"
      ]
     },
     "execution_count": 9,
     "metadata": {},
     "output_type": "execute_result"
    }
   ],
   "source": [
    "from autogen_agentchat.ui import Console\n",
    "\n",
    "# Use `asyncio.run(Console(lazy_agent_team.run_stream(task=\"What is the weather in New York?\")))` when running in a script.\n",
    "await Console(lazy_agent_team.run_stream(task=\"서울의 기후는 어때?\"))"
   ]
  }
 ],
 "metadata": {
  "kernelspec": {
   "display_name": ".venv",
   "language": "python",
   "name": "python3"
  },
  "language_info": {
   "codemirror_mode": {
    "name": "ipython",
    "version": 3
   },
   "file_extension": ".py",
   "mimetype": "text/x-python",
   "name": "python",
   "nbconvert_exporter": "python",
   "pygments_lexer": "ipython3",
   "version": "3.11.13"
  }
 },
 "nbformat": 4,
 "nbformat_minor": 2
}
