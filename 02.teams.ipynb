{
 "cells": [
  {
   "cell_type": "code",
   "execution_count": 1,
   "metadata": {},
   "outputs": [],
   "source": [
    "from autogen_ext.models.openai import AzureOpenAIChatCompletionClient\n",
    "\n",
    "from dotenv import load_dotenv\n",
    "import os\n",
    "\n",
    "load_dotenv()\n",
    "\n",
    "api_version = os.getenv(\"AZURE_OPENAI_API_VERSION\")\n",
    "api_key = os.getenv(\"AZURE_OPENAI_API_KEY\")\n",
    "azure_endpoint = os.getenv(\"AZURE_OPENAI_ENDPOINT\")\n",
    "deployment_name = os.getenv(\"AZURE_OPENAI_DEPLOYMENT_NAME\")\n",
    "azure_openai_chat_completion_client = AzureOpenAIChatCompletionClient(\n",
    "            model=deployment_name,\n",
    "            azure_endpoint=azure_endpoint,\n",
    "            api_version=api_version,\n",
    "            api_key=api_key,\n",
    "        )"
   ]
  },
  {
   "cell_type": "code",
   "execution_count": 3,
   "metadata": {},
   "outputs": [
    {
     "name": "stdout",
     "output_type": "stream",
     "text": [
      "messages=[TextMessage(id='f309c6f7-f41d-4856-8c85-1290e7f76ff1', source='user', models_usage=None, metadata={}, created_at=datetime.datetime(2025, 7, 18, 2, 30, 8, 65903, tzinfo=datetime.timezone.utc), content='What is the weather in New York?', type='TextMessage'), ToolCallRequestEvent(id='5ad3aecf-f1ce-43e0-8c15-076433c3bae6', source='assistant', models_usage=RequestUsage(prompt_tokens=70, completion_tokens=16), metadata={}, created_at=datetime.datetime(2025, 7, 18, 2, 30, 9, 918493, tzinfo=datetime.timezone.utc), content=[FunctionCall(id='call_fOWObGC7kypEGhe4a1VGMiuL', arguments='{\"city\":\"New York\"}', name='get_weather')], type='ToolCallRequestEvent'), ToolCallExecutionEvent(id='e49a884f-98c8-4398-954b-23b3c8284083', source='assistant', models_usage=None, metadata={}, created_at=datetime.datetime(2025, 7, 18, 2, 30, 9, 919436, tzinfo=datetime.timezone.utc), content=[FunctionExecutionResult(content='The weather in New York is 72 degrees and Sunny.', name='get_weather', call_id='call_fOWObGC7kypEGhe4a1VGMiuL', is_error=False)], type='ToolCallExecutionEvent'), ToolCallSummaryMessage(id='47e2c7b1-7af7-4227-b328-d7e2816d17f7', source='assistant', models_usage=None, metadata={}, created_at=datetime.datetime(2025, 7, 18, 2, 30, 9, 919521, tzinfo=datetime.timezone.utc), content='The weather in New York is 72 degrees and Sunny.', type='ToolCallSummaryMessage', tool_calls=[FunctionCall(id='call_fOWObGC7kypEGhe4a1VGMiuL', arguments='{\"city\":\"New York\"}', name='get_weather')], results=[FunctionExecutionResult(content='The weather in New York is 72 degrees and Sunny.', name='get_weather', call_id='call_fOWObGC7kypEGhe4a1VGMiuL', is_error=False)]), TextMessage(id='81692be8-2d57-4994-906e-b9eef028aa67', source='assistant', models_usage=RequestUsage(prompt_tokens=105, completion_tokens=25), metadata={}, created_at=datetime.datetime(2025, 7, 18, 2, 30, 10, 559117, tzinfo=datetime.timezone.utc), content='The weather in New York is currently 72 degrees and sunny. Is there anything else you would like to know?', type='TextMessage'), TextMessage(id='09f2ed1d-0407-48b0-90de-47664337bfcf', source='assistant', models_usage=RequestUsage(prompt_tokens=132, completion_tokens=25), metadata={}, created_at=datetime.datetime(2025, 7, 18, 2, 30, 11, 291544, tzinfo=datetime.timezone.utc), content='The weather in New York is currently 72 degrees and sunny. Is there anything else you would like to know?', type='TextMessage'), TextMessage(id='7a0f0c0c-8ff3-4fd4-8ba4-09716e73b10d', source='assistant', models_usage=RequestUsage(prompt_tokens=159, completion_tokens=33), metadata={}, created_at=datetime.datetime(2025, 7, 18, 2, 30, 12, 419671, tzinfo=datetime.timezone.utc), content='The weather in New York is currently 72 degrees and sunny. If you need weather information for another city or any other assistance, feel free to ask!', type='TextMessage'), TextMessage(id='01de89b4-91e6-43cc-b91c-0d32255457e1', source='assistant', models_usage=RequestUsage(prompt_tokens=194, completion_tokens=24), metadata={}, created_at=datetime.datetime(2025, 7, 18, 2, 30, 13, 136392, tzinfo=datetime.timezone.utc), content=\"The weather in New York is currently 72 degrees and sunny. Is there anything else you'd like to know?\", type='TextMessage'), TextMessage(id='8fbdc65e-08db-428b-b526-4ad653b4d25b', source='assistant', models_usage=RequestUsage(prompt_tokens=220, completion_tokens=31), metadata={}, created_at=datetime.datetime(2025, 7, 18, 2, 30, 13, 957899, tzinfo=datetime.timezone.utc), content='The weather in New York is currently 72 degrees and sunny. Let me know if you need the weather for another city or any other information!', type='TextMessage'), TextMessage(id='cb10d26b-239b-4d92-a8b7-1589a3222ad9', source='assistant', models_usage=RequestUsage(prompt_tokens=253, completion_tokens=25), metadata={}, created_at=datetime.datetime(2025, 7, 18, 2, 30, 14, 610826, tzinfo=datetime.timezone.utc), content='The weather in New York is currently 72 degrees and sunny. Is there anything else you would like to know?', type='TextMessage'), TextMessage(id='83db179d-2805-45e1-a2c5-b7d7bbc50c99', source='assistant', models_usage=RequestUsage(prompt_tokens=280, completion_tokens=33), metadata={}, created_at=datetime.datetime(2025, 7, 18, 2, 30, 15, 389102, tzinfo=datetime.timezone.utc), content='The weather in New York is currently 72 degrees and sunny. If you need weather information for another city or any other assistance, feel free to ask!', type='TextMessage'), TextMessage(id='a272cb53-3483-4fe6-9d28-5eb35d739209', source='assistant', models_usage=RequestUsage(prompt_tokens=315, completion_tokens=33), metadata={}, created_at=datetime.datetime(2025, 7, 18, 2, 30, 16, 311519, tzinfo=datetime.timezone.utc), content='The weather in New York is currently 72 degrees and sunny. If you need weather information for another city or any other assistance, feel free to ask!', type='TextMessage'), TextMessage(id='fea2eaed-d6c5-43d1-8f1e-60d1158ecff3', source='assistant', models_usage=RequestUsage(prompt_tokens=350, completion_tokens=32), metadata={}, created_at=datetime.datetime(2025, 7, 18, 2, 30, 17, 231879, tzinfo=datetime.timezone.utc), content='The weather in New York is currently 72 degrees and sunny. If you need more information or weather updates for another location, feel free to ask!', type='TextMessage'), TextMessage(id='334cccfb-de70-4898-8813-6eec01c4ba6d', source='assistant', models_usage=RequestUsage(prompt_tokens=384, completion_tokens=27), metadata={}, created_at=datetime.datetime(2025, 7, 18, 2, 30, 18, 52369, tzinfo=datetime.timezone.utc), content='The weather in New York is currently 72 degrees and sunny. Let me know if you need weather info for another city!', type='TextMessage'), TextMessage(id='e989e8ce-040b-46ad-bdb4-30283162467e', source='assistant', models_usage=RequestUsage(prompt_tokens=413, completion_tokens=35), metadata={}, created_at=datetime.datetime(2025, 7, 18, 2, 30, 18, 957401, tzinfo=datetime.timezone.utc), content='The weather in New York right now is 72 degrees and sunny. If you want to know the weather for another location or need any other information, just ask!', type='TextMessage'), TextMessage(id='402444cb-455c-49ab-9572-17ac97ad90be', source='assistant', models_usage=RequestUsage(prompt_tokens=450, completion_tokens=25), metadata={}, created_at=datetime.datetime(2025, 7, 18, 2, 30, 19, 690596, tzinfo=datetime.timezone.utc), content='The weather in New York is currently 72 degrees and sunny. Is there anything else you would like to know?', type='TextMessage'), TextMessage(id='3b26f3ec-4fd4-4b17-8a32-8e24cb652caa', source='assistant', models_usage=RequestUsage(prompt_tokens=477, completion_tokens=27), metadata={}, created_at=datetime.datetime(2025, 7, 18, 2, 30, 20, 635568, tzinfo=datetime.timezone.utc), content='The weather in New York is currently 72 degrees and sunny. Let me know if you need weather details for another location!', type='TextMessage'), TextMessage(id='0094a00b-b978-42f9-ac1a-0fcadaba2eef', source='assistant', models_usage=RequestUsage(prompt_tokens=506, completion_tokens=24), metadata={}, created_at=datetime.datetime(2025, 7, 18, 2, 30, 21, 368025, tzinfo=datetime.timezone.utc), content=\"The weather in New York is currently 72 degrees and sunny. Is there anything else you'd like to know?\", type='TextMessage'), TextMessage(id='5ce34f9c-6d0d-45c0-afa7-32b7f9705bad', source='assistant', models_usage=RequestUsage(prompt_tokens=532, completion_tokens=25), metadata={}, created_at=datetime.datetime(2025, 7, 18, 2, 30, 22, 65884, tzinfo=datetime.timezone.utc), content='The weather in New York is currently 72 degrees and sunny. Is there anything else you would like to know?', type='TextMessage'), TextMessage(id='d0908280-4051-4014-b958-0229f2f0bf43', source='assistant', models_usage=RequestUsage(prompt_tokens=559, completion_tokens=33), metadata={}, created_at=datetime.datetime(2025, 7, 18, 2, 30, 22, 913166, tzinfo=datetime.timezone.utc), content='The weather in New York is currently 72 degrees and sunny. If you need weather information for another city or any other assistance, feel free to ask!', type='TextMessage'), TextMessage(id='170539bd-d9d5-4032-bc3c-8bf3a9d43057', source='assistant', models_usage=RequestUsage(prompt_tokens=594, completion_tokens=24), metadata={}, created_at=datetime.datetime(2025, 7, 18, 2, 30, 23, 582474, tzinfo=datetime.timezone.utc), content=\"The weather in New York is currently 72 degrees and sunny. Is there anything else you'd like to know?\", type='TextMessage'), TextMessage(id='25b3119f-593c-476e-bc9d-6af7bea278b4', source='assistant', models_usage=RequestUsage(prompt_tokens=620, completion_tokens=31), metadata={}, created_at=datetime.datetime(2025, 7, 18, 2, 30, 24, 366934, tzinfo=datetime.timezone.utc), content='The weather in New York is currently 72 degrees and sunny. Let me know if you need the weather for another city or any other information!', type='TextMessage'), TextMessage(id='644cebf0-646b-4345-a817-8f2267a75c70', source='assistant', models_usage=RequestUsage(prompt_tokens=653, completion_tokens=25), metadata={}, created_at=datetime.datetime(2025, 7, 18, 2, 30, 25, 128115, tzinfo=datetime.timezone.utc), content='The weather in New York is currently 72 degrees and sunny. Is there anything else you would like to know?', type='TextMessage'), TextMessage(id='a89c8565-32fb-4d2b-8129-7e5c36e9e120', source='assistant', models_usage=RequestUsage(prompt_tokens=680, completion_tokens=33), metadata={}, created_at=datetime.datetime(2025, 7, 18, 2, 30, 25, 935119, tzinfo=datetime.timezone.utc), content='The weather in New York is currently 72 degrees and sunny. If you need weather information for another city or any other assistance, feel free to ask!', type='TextMessage'), TextMessage(id='259d4a7e-fe63-457e-a5b5-c0763eddb8e3', source='assistant', models_usage=RequestUsage(prompt_tokens=715, completion_tokens=33), metadata={}, created_at=datetime.datetime(2025, 7, 18, 2, 30, 26, 682833, tzinfo=datetime.timezone.utc), content='The weather in New York is currently 72 degrees and sunny. If you need weather information for another city or any other assistance, feel free to ask!', type='TextMessage'), TextMessage(id='949c17c9-0496-42b6-9a13-49fee98f6b7a', source='assistant', models_usage=RequestUsage(prompt_tokens=750, completion_tokens=32), metadata={}, created_at=datetime.datetime(2025, 7, 18, 2, 30, 27, 437958, tzinfo=datetime.timezone.utc), content='The weather in New York is currently 72 degrees and sunny. If you need more information or weather updates for another location, feel free to ask!', type='TextMessage'), TextMessage(id='0712476a-503c-4a97-bd50-f370756e9444', source='assistant', models_usage=RequestUsage(prompt_tokens=784, completion_tokens=27), metadata={}, created_at=datetime.datetime(2025, 7, 18, 2, 30, 28, 292498, tzinfo=datetime.timezone.utc), content='The weather in New York is currently 72 degrees and sunny. Let me know if you need weather info for another city!', type='TextMessage'), TextMessage(id='3da87af6-d9ea-46a5-b673-04cb39c65340', source='assistant', models_usage=RequestUsage(prompt_tokens=813, completion_tokens=35), metadata={}, created_at=datetime.datetime(2025, 7, 18, 2, 30, 29, 109602, tzinfo=datetime.timezone.utc), content='The weather in New York right now is 72 degrees and sunny. If you want to know the weather for another location or need any other information, just ask!', type='TextMessage'), TextMessage(id='937404e6-c98b-4fb1-b597-0f72da405846', source='assistant', models_usage=RequestUsage(prompt_tokens=850, completion_tokens=25), metadata={}, created_at=datetime.datetime(2025, 7, 18, 2, 30, 29, 828476, tzinfo=datetime.timezone.utc), content='The weather in New York is currently 72 degrees and sunny. Is there anything else you would like to know?', type='TextMessage'), TextMessage(id='8ec57363-ee85-4405-99d7-7ac0302360e5', source='assistant', models_usage=RequestUsage(prompt_tokens=877, completion_tokens=27), metadata={}, created_at=datetime.datetime(2025, 7, 18, 2, 30, 30, 750263, tzinfo=datetime.timezone.utc), content='The weather in New York is currently 72 degrees and sunny. Let me know if you need weather details for another location!', type='TextMessage'), TextMessage(id='571907fc-2f26-4048-be5c-dfb430b557ad', source='assistant', models_usage=RequestUsage(prompt_tokens=906, completion_tokens=5), metadata={}, created_at=datetime.datetime(2025, 7, 18, 2, 30, 31, 164431, tzinfo=datetime.timezone.utc), content='TERMINATE', type='TextMessage')] stop_reason=\"Text 'TERMINATE' mentioned\"\n"
     ]
    }
   ],
   "source": [
    "from autogen_agentchat.agents import AssistantAgent\n",
    "from autogen_agentchat.conditions import TextMentionTermination\n",
    "from autogen_agentchat.teams import RoundRobinGroupChat\n",
    "\n",
    "# Create an OpenAI model client.\n",
    "model_client = azure_openai_chat_completion_client\n",
    "\n",
    "# Define a tool that gets the weather for a city.\n",
    "async def get_weather(city: str) -> str:\n",
    "    \"\"\"Get the weather for a city.\"\"\"\n",
    "    return f\"The weather in {city} is 72 degrees and Sunny.\"\n",
    "\n",
    "\n",
    "# Create an assistant agent.\n",
    "weather_agent = AssistantAgent(\n",
    "    \"assistant\",\n",
    "    model_client=model_client,\n",
    "    tools=[get_weather],\n",
    "    system_message=\"Respond 'TERMINATE' when task is complete.\",\n",
    ")\n",
    "\n",
    "# Define a termination condition.\n",
    "text_termination = TextMentionTermination(\"TERMINATE\")\n",
    "\n",
    "# Create a single-agent team.\n",
    "single_agent_team = RoundRobinGroupChat([weather_agent], termination_condition=text_termination)\n",
    "\n",
    "async def run_team() -> None:\n",
    "    result = await single_agent_team.run(task=\"What is the weather in New York?\")\n",
    "    print(result)\n",
    "\n",
    "\n",
    "# Use `asyncio.run(run_team())` when running in a script.\n",
    "await run_team()\n"
   ]
  },
  {
   "cell_type": "code",
   "execution_count": 3,
   "metadata": {},
   "outputs": [
    {
     "name": "stdout",
     "output_type": "stream",
     "text": [
      "id='b52213e3-6303-4e18-ab37-79ee3ba6dba6' source='user' models_usage=None metadata={} created_at=datetime.datetime(2025, 7, 15, 5, 41, 36, 138224, tzinfo=datetime.timezone.utc) content='What is the weather in New York?' type='TextMessage'\n",
      "id='d6ad608d-1138-48f0-b8ae-73e5d8d0d0fc' source='assistant' models_usage=RequestUsage(prompt_tokens=594, completion_tokens=16) metadata={} created_at=datetime.datetime(2025, 7, 15, 5, 41, 36, 843192, tzinfo=datetime.timezone.utc) content=[FunctionCall(id='call_inCIeguzk4FyMbhmudyqo2Qt', arguments='{\"city\":\"New York\"}', name='get_weather')] type='ToolCallRequestEvent'\n",
      "id='250782db-1ef7-4547-8d0c-f28ff93ba5f4' source='assistant' models_usage=None metadata={} created_at=datetime.datetime(2025, 7, 15, 5, 41, 36, 845504, tzinfo=datetime.timezone.utc) content=[FunctionExecutionResult(content='The weather in New York is 72 degrees and Sunny.', name='get_weather', call_id='call_inCIeguzk4FyMbhmudyqo2Qt', is_error=False)] type='ToolCallExecutionEvent'\n",
      "id='4347e537-decb-4eda-97c6-8458a2cd1415' source='assistant' models_usage=None metadata={} created_at=datetime.datetime(2025, 7, 15, 5, 41, 36, 845633, tzinfo=datetime.timezone.utc) content='The weather in New York is 72 degrees and Sunny.' type='ToolCallSummaryMessage' tool_calls=[FunctionCall(id='call_inCIeguzk4FyMbhmudyqo2Qt', arguments='{\"city\":\"New York\"}', name='get_weather')] results=[FunctionExecutionResult(content='The weather in New York is 72 degrees and Sunny.', name='get_weather', call_id='call_inCIeguzk4FyMbhmudyqo2Qt', is_error=False)]\n",
      "id='c113e04b-7432-4b41-99ba-40334ae4507a' source='assistant' models_usage=RequestUsage(prompt_tokens=629, completion_tokens=23) metadata={} created_at=datetime.datetime(2025, 7, 15, 5, 41, 37, 518718, tzinfo=datetime.timezone.utc) content='The current weather in New York is 72 degrees and sunny. Would you like to know anything else?' type='TextMessage'\n",
      "id='c438aee2-fd50-4c52-80d3-965654d889b4' source='assistant' models_usage=RequestUsage(prompt_tokens=654, completion_tokens=34) metadata={} created_at=datetime.datetime(2025, 7, 15, 5, 41, 38, 351460, tzinfo=datetime.timezone.utc) content='The current weather in New York is 72 degrees and sunny. If you have any other questions or need weather information for another location, feel free to ask!' type='TextMessage'\n",
      "id='7418fb2e-e235-41f1-ab15-b333c198eebe' source='assistant' models_usage=RequestUsage(prompt_tokens=690, completion_tokens=30) metadata={} created_at=datetime.datetime(2025, 7, 15, 5, 41, 39, 114334, tzinfo=datetime.timezone.utc) content='The current weather in New York is 72 degrees and sunny. Would you like to know the weather in another city or any other information?' type='TextMessage'\n",
      "id='d05dc3e7-e46d-486d-a65f-a6f1a693f849' source='assistant' models_usage=RequestUsage(prompt_tokens=722, completion_tokens=24) metadata={} created_at=datetime.datetime(2025, 7, 15, 5, 41, 39, 840009, tzinfo=datetime.timezone.utc) content='The weather in New York is currently 72 degrees and sunny. Would you like the weather for another location?' type='TextMessage'\n",
      "id='8230f091-fb0a-4dd8-bd37-152cb3cd7cfd' source='assistant' models_usage=RequestUsage(prompt_tokens=748, completion_tokens=33) metadata={} created_at=datetime.datetime(2025, 7, 15, 5, 41, 40, 695413, tzinfo=datetime.timezone.utc) content='The current weather in New York is 72 degrees and sunny. If you want weather information for another city or any other details, just let me know!' type='TextMessage'\n",
      "id='5e1ff902-6a96-415c-9368-c4a2324c600f' source='assistant' models_usage=RequestUsage(prompt_tokens=783, completion_tokens=30) metadata={} created_at=datetime.datetime(2025, 7, 15, 5, 41, 41, 574340, tzinfo=datetime.timezone.utc) content='The weather in New York is currently 72 degrees and sunny. Would you like to know the weather in another city or any other details?' type='TextMessage'\n",
      "id='ba0b2252-c024-4469-b49a-c073efa751cb' source='assistant' models_usage=RequestUsage(prompt_tokens=815, completion_tokens=34) metadata={} created_at=datetime.datetime(2025, 7, 15, 5, 41, 42, 477822, tzinfo=datetime.timezone.utc) content='The current weather in New York is 72 degrees and sunny. If you have any other questions or want the weather for another city, just let me know!' type='TextMessage'\n",
      "id='13458539-bd4b-4211-96ed-c0483e67fe94' source='assistant' models_usage=RequestUsage(prompt_tokens=851, completion_tokens=5) metadata={} created_at=datetime.datetime(2025, 7, 15, 5, 41, 42, 925749, tzinfo=datetime.timezone.utc) content='TERMINATE' type='TextMessage'\n",
      "Stop Reason: Text 'TERMINATE' mentioned\n"
     ]
    }
   ],
   "source": [
    "from autogen_agentchat.base import TaskResult\n",
    "\n",
    "\n",
    "async def run_team_stream() -> None:\n",
    "    async for message in single_agent_team.run_stream(task=\"What is the weather in New York?\"):\n",
    "        if isinstance(message, TaskResult):\n",
    "            print(\"Stop Reason:\", message.stop_reason)\n",
    "        else:\n",
    "            print(message)\n",
    "\n",
    "\n",
    "# Use `asyncio.run(run_team_stream())` when running in a script.\n",
    "await run_team_stream()\n",
    "\n"
   ]
  },
  {
   "cell_type": "code",
   "execution_count": 4,
   "metadata": {},
   "outputs": [
    {
     "name": "stdout",
     "output_type": "stream",
     "text": [
      "---------- TextMessage (user) ----------\n",
      "What is the weather in Seattle?\n",
      "---------- ToolCallRequestEvent (assistant) ----------\n",
      "[FunctionCall(id='call_9rkrFTMoXlhVz3q0ph9AuSEb', arguments='{\"city\":\"Seattle\"}', name='get_weather')]\n",
      "---------- ToolCallExecutionEvent (assistant) ----------\n",
      "[FunctionExecutionResult(content='The weather in Seattle is 72 degrees and Sunny.', name='get_weather', call_id='call_9rkrFTMoXlhVz3q0ph9AuSEb', is_error=False)]\n",
      "---------- ToolCallSummaryMessage (assistant) ----------\n",
      "The weather in Seattle is 72 degrees and Sunny.\n",
      "---------- TextMessage (assistant) ----------\n",
      "The weather in Seattle is currently 72 degrees and sunny.\n",
      "---------- TextMessage (assistant) ----------\n",
      "The current weather in Seattle is 72 degrees and sunny.\n",
      "---------- TextMessage (assistant) ----------\n",
      "The weather in Seattle is currently 72 degrees and sunny.\n",
      "---------- TextMessage (assistant) ----------\n",
      "The current weather in Seattle is 72 degrees and sunny.\n",
      "---------- TextMessage (assistant) ----------\n",
      "The weather in Seattle is currently 72 degrees and sunny.\n",
      "---------- TextMessage (assistant) ----------\n",
      "The weather in Seattle is currently 72 degrees and sunny.\n",
      "---------- TextMessage (assistant) ----------\n",
      "The current weather in Seattle is 72 degrees and sunny.\n",
      "---------- TextMessage (assistant) ----------\n",
      "The weather in Seattle is currently 72 degrees and sunny.\n",
      "---------- TextMessage (assistant) ----------\n",
      "The current weather in Seattle is 72 degrees and sunny.\n",
      "---------- TextMessage (assistant) ----------\n",
      "The weather in Seattle is currently 72 degrees and sunny.\n",
      "---------- TextMessage (assistant) ----------\n",
      "The current weather in Seattle is 72 degrees and sunny.\n",
      "---------- TextMessage (assistant) ----------\n",
      "The weather in Seattle is currently 72 degrees and sunny.\n",
      "---------- TextMessage (assistant) ----------\n",
      "The current weather in Seattle is 72 degrees and sunny.\n",
      "---------- TextMessage (assistant) ----------\n",
      "The weather in Seattle is currently 72 degrees and sunny.\n",
      "---------- TextMessage (assistant) ----------\n",
      "The current weather in Seattle is 72 degrees and sunny.\n",
      "---------- TextMessage (assistant) ----------\n",
      "The weather in Seattle is currently 72 degrees and sunny.\n",
      "---------- TextMessage (assistant) ----------\n",
      "The current weather in Seattle is 72 degrees and sunny.\n",
      "---------- TextMessage (assistant) ----------\n",
      "The weather in Seattle is currently 72 degrees and sunny.\n",
      "---------- TextMessage (assistant) ----------\n",
      "The current weather in Seattle is 72 degrees and sunny.\n",
      "---------- TextMessage (assistant) ----------\n",
      "The weather in Seattle is currently 72 degrees and sunny.\n",
      "---------- TextMessage (assistant) ----------\n",
      "The current weather in Seattle is 72 degrees and sunny.\n",
      "---------- TextMessage (assistant) ----------\n",
      "The weather in Seattle is currently 72 degrees and sunny.\n",
      "---------- TextMessage (assistant) ----------\n",
      "The current weather in Seattle is 72 degrees and sunny.\n",
      "---------- TextMessage (assistant) ----------\n",
      "TERMINATE\n"
     ]
    },
    {
     "data": {
      "text/plain": [
       "TaskResult(messages=[TextMessage(id='0a001986-9991-44a5-8c3b-137f6456d4c9', source='user', models_usage=None, metadata={}, created_at=datetime.datetime(2025, 7, 15, 5, 41, 48, 612123, tzinfo=datetime.timezone.utc), content='What is the weather in Seattle?', type='TextMessage'), ToolCallRequestEvent(id='9c05d252-2c1c-48e9-af9e-eb04848a9661', source='assistant', models_usage=RequestUsage(prompt_tokens=69, completion_tokens=15), metadata={}, created_at=datetime.datetime(2025, 7, 15, 5, 41, 49, 199258, tzinfo=datetime.timezone.utc), content=[FunctionCall(id='call_9rkrFTMoXlhVz3q0ph9AuSEb', arguments='{\"city\":\"Seattle\"}', name='get_weather')], type='ToolCallRequestEvent'), ToolCallExecutionEvent(id='bcf3d72d-b737-4652-b298-d01717b6ff2b', source='assistant', models_usage=None, metadata={}, created_at=datetime.datetime(2025, 7, 15, 5, 41, 49, 200861, tzinfo=datetime.timezone.utc), content=[FunctionExecutionResult(content='The weather in Seattle is 72 degrees and Sunny.', name='get_weather', call_id='call_9rkrFTMoXlhVz3q0ph9AuSEb', is_error=False)], type='ToolCallExecutionEvent'), ToolCallSummaryMessage(id='1e420afc-f242-447a-be44-47460f8a6d67', source='assistant', models_usage=None, metadata={}, created_at=datetime.datetime(2025, 7, 15, 5, 41, 49, 201008, tzinfo=datetime.timezone.utc), content='The weather in Seattle is 72 degrees and Sunny.', type='ToolCallSummaryMessage', tool_calls=[FunctionCall(id='call_9rkrFTMoXlhVz3q0ph9AuSEb', arguments='{\"city\":\"Seattle\"}', name='get_weather')], results=[FunctionExecutionResult(content='The weather in Seattle is 72 degrees and Sunny.', name='get_weather', call_id='call_9rkrFTMoXlhVz3q0ph9AuSEb', is_error=False)]), TextMessage(id='4df1f0fc-1e5d-47a4-b29e-cd1caeb49d1d', source='assistant', models_usage=RequestUsage(prompt_tokens=102, completion_tokens=14), metadata={}, created_at=datetime.datetime(2025, 7, 15, 5, 41, 49, 742161, tzinfo=datetime.timezone.utc), content='The weather in Seattle is currently 72 degrees and sunny.', type='TextMessage'), TextMessage(id='4f9eb270-84bc-45e3-bd76-afc54da68698', source='assistant', models_usage=RequestUsage(prompt_tokens=118, completion_tokens=14), metadata={}, created_at=datetime.datetime(2025, 7, 15, 5, 41, 50, 215809, tzinfo=datetime.timezone.utc), content='The current weather in Seattle is 72 degrees and sunny.', type='TextMessage'), TextMessage(id='1168e1ad-f704-4910-b9eb-89b2a64e3249', source='assistant', models_usage=RequestUsage(prompt_tokens=134, completion_tokens=14), metadata={}, created_at=datetime.datetime(2025, 7, 15, 5, 41, 50, 780896, tzinfo=datetime.timezone.utc), content='The weather in Seattle is currently 72 degrees and sunny.', type='TextMessage'), TextMessage(id='62a0beb8-e6a9-470b-aa59-fbca8264508d', source='assistant', models_usage=RequestUsage(prompt_tokens=150, completion_tokens=14), metadata={}, created_at=datetime.datetime(2025, 7, 15, 5, 41, 51, 427148, tzinfo=datetime.timezone.utc), content='The current weather in Seattle is 72 degrees and sunny.', type='TextMessage'), TextMessage(id='fc6bd72a-4ae6-464f-817b-70077f944432', source='assistant', models_usage=RequestUsage(prompt_tokens=166, completion_tokens=14), metadata={}, created_at=datetime.datetime(2025, 7, 15, 5, 41, 52, 46522, tzinfo=datetime.timezone.utc), content='The weather in Seattle is currently 72 degrees and sunny.', type='TextMessage'), TextMessage(id='a940c44e-58c6-41ba-95aa-d7ef9f6d6446', source='assistant', models_usage=RequestUsage(prompt_tokens=182, completion_tokens=14), metadata={}, created_at=datetime.datetime(2025, 7, 15, 5, 41, 52, 613129, tzinfo=datetime.timezone.utc), content='The weather in Seattle is currently 72 degrees and sunny.', type='TextMessage'), TextMessage(id='9af21851-65ee-4a3c-bbf3-413fde64d6c1', source='assistant', models_usage=RequestUsage(prompt_tokens=198, completion_tokens=14), metadata={}, created_at=datetime.datetime(2025, 7, 15, 5, 41, 53, 184402, tzinfo=datetime.timezone.utc), content='The current weather in Seattle is 72 degrees and sunny.', type='TextMessage'), TextMessage(id='01aab861-3abc-40e6-b36b-99b5312be1c5', source='assistant', models_usage=RequestUsage(prompt_tokens=214, completion_tokens=14), metadata={}, created_at=datetime.datetime(2025, 7, 15, 5, 41, 53, 778768, tzinfo=datetime.timezone.utc), content='The weather in Seattle is currently 72 degrees and sunny.', type='TextMessage'), TextMessage(id='40c5e8e0-ed2c-435c-b8c8-bf0183f210ba', source='assistant', models_usage=RequestUsage(prompt_tokens=230, completion_tokens=14), metadata={}, created_at=datetime.datetime(2025, 7, 15, 5, 41, 54, 371067, tzinfo=datetime.timezone.utc), content='The current weather in Seattle is 72 degrees and sunny.', type='TextMessage'), TextMessage(id='f67afe27-d42b-418f-9a3f-d0b844b58a63', source='assistant', models_usage=RequestUsage(prompt_tokens=246, completion_tokens=14), metadata={}, created_at=datetime.datetime(2025, 7, 15, 5, 41, 54, 928859, tzinfo=datetime.timezone.utc), content='The weather in Seattle is currently 72 degrees and sunny.', type='TextMessage'), TextMessage(id='0f09e6f1-c4c8-4361-ac95-dfd05c04342a', source='assistant', models_usage=RequestUsage(prompt_tokens=262, completion_tokens=14), metadata={}, created_at=datetime.datetime(2025, 7, 15, 5, 41, 55, 488298, tzinfo=datetime.timezone.utc), content='The current weather in Seattle is 72 degrees and sunny.', type='TextMessage'), TextMessage(id='b66c66b7-6f68-407c-930e-785d83efa7cb', source='assistant', models_usage=RequestUsage(prompt_tokens=278, completion_tokens=14), metadata={}, created_at=datetime.datetime(2025, 7, 15, 5, 41, 55, 972670, tzinfo=datetime.timezone.utc), content='The weather in Seattle is currently 72 degrees and sunny.', type='TextMessage'), TextMessage(id='f564f0c7-dc7f-466a-be1a-2886e595533c', source='assistant', models_usage=RequestUsage(prompt_tokens=294, completion_tokens=14), metadata={}, created_at=datetime.datetime(2025, 7, 15, 5, 41, 56, 538044, tzinfo=datetime.timezone.utc), content='The current weather in Seattle is 72 degrees and sunny.', type='TextMessage'), TextMessage(id='529928b5-d86b-4335-9f84-f315547c2bd8', source='assistant', models_usage=RequestUsage(prompt_tokens=310, completion_tokens=14), metadata={}, created_at=datetime.datetime(2025, 7, 15, 5, 41, 57, 34317, tzinfo=datetime.timezone.utc), content='The weather in Seattle is currently 72 degrees and sunny.', type='TextMessage'), TextMessage(id='7e7e7eef-4045-406d-a97d-3169553e1bc1', source='assistant', models_usage=RequestUsage(prompt_tokens=326, completion_tokens=14), metadata={}, created_at=datetime.datetime(2025, 7, 15, 5, 41, 58, 9115, tzinfo=datetime.timezone.utc), content='The current weather in Seattle is 72 degrees and sunny.', type='TextMessage'), TextMessage(id='286d6950-afb8-486d-ac90-1eddf23e8c15', source='assistant', models_usage=RequestUsage(prompt_tokens=342, completion_tokens=14), metadata={}, created_at=datetime.datetime(2025, 7, 15, 5, 41, 58, 777116, tzinfo=datetime.timezone.utc), content='The weather in Seattle is currently 72 degrees and sunny.', type='TextMessage'), TextMessage(id='4cc692ed-f790-4b83-ade2-2b6d2fc4039e', source='assistant', models_usage=RequestUsage(prompt_tokens=358, completion_tokens=14), metadata={}, created_at=datetime.datetime(2025, 7, 15, 5, 41, 59, 297315, tzinfo=datetime.timezone.utc), content='The current weather in Seattle is 72 degrees and sunny.', type='TextMessage'), TextMessage(id='368a6dfc-5e9e-4c94-b4c2-e7bdef930a3f', source='assistant', models_usage=RequestUsage(prompt_tokens=374, completion_tokens=14), metadata={}, created_at=datetime.datetime(2025, 7, 15, 5, 41, 59, 904860, tzinfo=datetime.timezone.utc), content='The weather in Seattle is currently 72 degrees and sunny.', type='TextMessage'), TextMessage(id='a5722e90-9a33-4c55-93dd-da4be6f16800', source='assistant', models_usage=RequestUsage(prompt_tokens=390, completion_tokens=14), metadata={}, created_at=datetime.datetime(2025, 7, 15, 5, 42, 0, 476815, tzinfo=datetime.timezone.utc), content='The current weather in Seattle is 72 degrees and sunny.', type='TextMessage'), TextMessage(id='6b1ce7bc-b332-430a-8f72-7bb8c1d96764', source='assistant', models_usage=RequestUsage(prompt_tokens=406, completion_tokens=14), metadata={}, created_at=datetime.datetime(2025, 7, 15, 5, 42, 1, 43485, tzinfo=datetime.timezone.utc), content='The weather in Seattle is currently 72 degrees and sunny.', type='TextMessage'), TextMessage(id='39b54a48-02ff-4144-be4c-730aac2fe2ff', source='assistant', models_usage=RequestUsage(prompt_tokens=422, completion_tokens=14), metadata={}, created_at=datetime.datetime(2025, 7, 15, 5, 42, 1, 588260, tzinfo=datetime.timezone.utc), content='The current weather in Seattle is 72 degrees and sunny.', type='TextMessage'), TextMessage(id='690a657e-fb2e-4fd4-a259-019f9c9dee27', source='assistant', models_usage=RequestUsage(prompt_tokens=438, completion_tokens=14), metadata={}, created_at=datetime.datetime(2025, 7, 15, 5, 42, 2, 799275, tzinfo=datetime.timezone.utc), content='The weather in Seattle is currently 72 degrees and sunny.', type='TextMessage'), TextMessage(id='1ccd7eb5-e5d0-4ce0-9aa9-ce0ff2c80d13', source='assistant', models_usage=RequestUsage(prompt_tokens=454, completion_tokens=14), metadata={}, created_at=datetime.datetime(2025, 7, 15, 5, 42, 3, 374555, tzinfo=datetime.timezone.utc), content='The current weather in Seattle is 72 degrees and sunny.', type='TextMessage'), TextMessage(id='d1518efa-9d19-4ef2-84ab-3c796503837f', source='assistant', models_usage=RequestUsage(prompt_tokens=470, completion_tokens=5), metadata={}, created_at=datetime.datetime(2025, 7, 15, 5, 42, 4, 323610, tzinfo=datetime.timezone.utc), content='TERMINATE', type='TextMessage')], stop_reason=\"Text 'TERMINATE' mentioned\")"
      ]
     },
     "execution_count": 4,
     "metadata": {},
     "output_type": "execute_result"
    }
   ],
   "source": [
    "from autogen_agentchat.ui import Console\n",
    "\n",
    "# Use `asyncio.run(single_agent_team.reset())` when running in a script.\n",
    "await single_agent_team.reset()  # Reset the team for the next run.\n",
    "# Use `asyncio.run(single_agent_team.run_stream(task=\"What is the weather in Seattle?\"))` when running in a script.\n",
    "await Console(\n",
    "    single_agent_team.run_stream(task=\"What is the weather in Seattle?\")\n",
    ")  # Stream the messages to the console."
   ]
  },
  {
   "cell_type": "code",
   "execution_count": 7,
   "metadata": {},
   "outputs": [],
   "source": [
    "from autogen_agentchat.agents import AssistantAgent\n",
    "from autogen_agentchat.conditions import MaxMessageTermination, TextMentionTermination\n",
    "from autogen_agentchat.teams import RoundRobinGroupChat\n",
    "from autogen_agentchat.ui import Console\n",
    "from autogen_ext.models.openai import OpenAIChatCompletionClient\n",
    "\n",
    "# Create an OpenAI model client.\n",
    "model_client = azure_openai_chat_completion_client\n",
    "# Create the primary agent.\n",
    "primary_agent = AssistantAgent(\n",
    "    \"primary\",\n",
    "    model_client=model_client,\n",
    "    system_message=\"You are a helpful AI assistant.\",\n",
    ")\n",
    "\n",
    "# Create the critic agent.\n",
    "critic_agent = AssistantAgent(\n",
    "    \"critic\",\n",
    "    model_client=model_client,\n",
    "    system_message=\"Provide constructive feedback. Respond with 'APPROVE' to when your feedbacks are addressed.\",\n",
    ")\n",
    "\n",
    "# Define a termination condition that stops the task if the critic approves.\n",
    "text_termination = TextMentionTermination(\"APPROVE\")\n",
    "# Define a termination condition that stops the task after 5 messages.\n",
    "max_message_termination = MaxMessageTermination(15)\n",
    "# Combine the termination conditions using the `|`` operator so that the\n",
    "# task stops when either condition is met.\n",
    "termination = text_termination | max_message_termination\n",
    "\n",
    "# Create a team with the primary and critic agents.\n",
    "reflection_team = RoundRobinGroupChat([primary_agent, critic_agent], termination_condition=termination)"
   ]
  },
  {
   "cell_type": "code",
   "execution_count": 8,
   "metadata": {},
   "outputs": [
    {
     "name": "stdout",
     "output_type": "stream",
     "text": [
      "---------- TextMessage (user) ----------\n",
      "가을에 대한 짧은 시를 써보세요.\n",
      "---------- TextMessage (primary) ----------\n",
      "가을 바람 살랑이며  \n",
      "낙엽은 춤추고  \n",
      "황금빛 햇살 아래  \n",
      "마음은 따스해지네.\n",
      "---------- TextMessage (critic) ----------\n",
      "아름다운 가을의 정취가 잘 담긴 시입니다. 짧지만 가을 바람의 부드러움과 낙엽의 춤, 햇살의 따스함이 생생하게 느껴집니다. 다만, 시의 이미지들이 조금 더 구체적이고 독창적으로 표현된다면 더욱 인상적일 것 같습니다. 예를 들어, 낙엽의 색이나 소리를 묘사하거나, 가을과 연결된 특별한 감정을 덧붙여 보세요. 전반적으로 매우 좋습니다!\n",
      "---------- TextMessage (primary) ----------\n",
      "감사합니다! 더 구체적이고 독창적인 표현을 살려서 가을 시를 다시 써보겠습니다.\n",
      "\n",
      "---\n",
      "\n",
      "바스락거리는 주홍빛 낙엽들  \n",
      "차가운 바람에 속삭이며  \n",
      "마음 한켠엔 서늘한 그리움  \n",
      "가을은 조용히 스며드네.\n",
      "---------- TextMessage (critic) ----------\n",
      "훨씬 더 구체적이고 감성적인 표현이 돋보이는 시입니다. 낙엽의 색깔과 소리를 섬세하게 묘사했고, 바람과 마음의 감정이 자연스럽게 어우러져 가을의 깊은 분위기를 잘 전달합니다. ‘서늘한 그리움’이라는 표현이 특히 인상적이며, 시에 감정적인 깊이를 더해 주네요. 매우 좋은 발전입니다! 계속해서 창작 활동 응원합니다. APPROVE\n"
     ]
    },
    {
     "data": {
      "text/plain": [
       "TaskResult(messages=[TextMessage(id='0640517f-aa04-4e47-ab16-303714f22e4e', source='user', models_usage=None, metadata={}, created_at=datetime.datetime(2025, 7, 18, 2, 41, 59, 373141, tzinfo=datetime.timezone.utc), content='가을에 대한 짧은 시를 써보세요.', type='TextMessage'), TextMessage(id='f2ace8c5-80b9-4f46-95fd-bb7caf990dba', source='primary', models_usage=RequestUsage(prompt_tokens=33, completion_tokens=36), metadata={}, created_at=datetime.datetime(2025, 7, 18, 2, 42, 0, 357999, tzinfo=datetime.timezone.utc), content='가을 바람 살랑이며  \\n낙엽은 춤추고  \\n황금빛 햇살 아래  \\n마음은 따스해지네.', type='TextMessage'), TextMessage(id='7daf26a3-cb80-4b7f-a1a6-467260691b32', source='critic', models_usage=RequestUsage(prompt_tokens=86, completion_tokens=121), metadata={}, created_at=datetime.datetime(2025, 7, 18, 2, 42, 2, 194920, tzinfo=datetime.timezone.utc), content='아름다운 가을의 정취가 잘 담긴 시입니다. 짧지만 가을 바람의 부드러움과 낙엽의 춤, 햇살의 따스함이 생생하게 느껴집니다. 다만, 시의 이미지들이 조금 더 구체적이고 독창적으로 표현된다면 더욱 인상적일 것 같습니다. 예를 들어, 낙엽의 색이나 소리를 묘사하거나, 가을과 연결된 특별한 감정을 덧붙여 보세요. 전반적으로 매우 좋습니다!', type='TextMessage'), TextMessage(id='42858d12-694f-496c-a5d2-fcdc1e3bed13', source='primary', models_usage=RequestUsage(prompt_tokens=198, completion_tokens=77), metadata={}, created_at=datetime.datetime(2025, 7, 18, 2, 42, 3, 606703, tzinfo=datetime.timezone.utc), content='감사합니다! 더 구체적이고 독창적인 표현을 살려서 가을 시를 다시 써보겠습니다.\\n\\n---\\n\\n바스락거리는 주홍빛 낙엽들  \\n차가운 바람에 속삭이며  \\n마음 한켠엔 서늘한 그리움  \\n가을은 조용히 스며드네.', type='TextMessage'), TextMessage(id='39823ab7-28d3-4af2-80d0-2df130526394', source='critic', models_usage=RequestUsage(prompt_tokens=292, completion_tokens=112), metadata={}, created_at=datetime.datetime(2025, 7, 18, 2, 42, 5, 500652, tzinfo=datetime.timezone.utc), content='훨씬 더 구체적이고 감성적인 표현이 돋보이는 시입니다. 낙엽의 색깔과 소리를 섬세하게 묘사했고, 바람과 마음의 감정이 자연스럽게 어우러져 가을의 깊은 분위기를 잘 전달합니다. ‘서늘한 그리움’이라는 표현이 특히 인상적이며, 시에 감정적인 깊이를 더해 주네요. 매우 좋은 발전입니다! 계속해서 창작 활동 응원합니다. APPROVE', type='TextMessage')], stop_reason=\"Text 'APPROVE' mentioned\")"
      ]
     },
     "execution_count": 8,
     "metadata": {},
     "output_type": "execute_result"
    }
   ],
   "source": [
    "# Use `asyncio.run(Console(reflection_team.run_stream(task=\"Write a short poem about fall season.\")))` when running in a script.\n",
    "await Console(\n",
    "    reflection_team.run_stream(task=\"가을에 대한 짧은 시를 써보세요.\")\n",
    ")  # Stream the messages to the console."
   ]
  },
  {
   "cell_type": "code",
   "execution_count": 10,
   "metadata": {},
   "outputs": [
    {
     "name": "stdout",
     "output_type": "stream",
     "text": [
      "---------- TextMessage (user) ----------\n",
      "중국 당나라 시풍으로 시를 써보세요.\n",
      "---------- TextMessage (primary) ----------\n",
      "산間秋色深,  \n",
      "한가로운 구름 흘러가네.  \n",
      "고향 달빛 차가워도,  \n",
      "외로운 마음은 평온하네.\n",
      "---------- TextMessage (critic) ----------\n",
      "시의 구성이 당나라 시풍의 느낌을 잘 살리고 있습니다. 산속의 깊은 가을 풍경과 한가로운 구름, 차가운 달빛이 어우러져 고요한 분위기를 자아내며, 외로운 마음이 평온함으로 변하는 섬세한 감정을 표현한 점이 인상적입니다. 다만, 당나라 시의 전통적인 특징 중 하나인 시적인 언어와 이미지의 운율감을 조금 더 살린다면 더욱 깊이 있는 작품이 될 것입니다. 예를 들어, 각 구절의 음절 수를 맞추거나, 병렬 구조를 강화하는 방식을 고려해보세요. 전반적으로 훌륭한 시이며, 계속해서 발전 가능성이 큽니다!\n",
      "---------- TextMessage (primary) ----------\n",
      "감사합니다! 지적해 주신 운율과 병렬 구조를 고려하여 당나라 시풍에 맞게 다시 써보았습니다.\n",
      "\n",
      "---\n",
      "\n",
      "산중秋色정深深(산중추색정심심),  \n",
      "한가로이 구름 한 줄 흘러가네.  \n",
      "달빛은 차가워도 고요하니,  \n",
      "외로운 마음 바람에 잠기네.  \n",
      "\n",
      "---\n",
      "\n",
      "각 구절의 음절 수를 유사하게 맞추고, 병렬 구조를 강조하여 고전 당시의 느낌을 살리고자 했습니다. 더 원하시는 스타일이나 주제가 있다면 언제든 말씀해 주세요!\n",
      "---------- TextMessage (critic) ----------\n",
      "수정하신 시에서 운율과 병렬 구조가 더욱 정돈되어 당나라 시풍의 고전미가 잘 살아났습니다. \"산중秋色정深深\"과 같은 병렬적 표현과 \"한가로이 구름 한 줄 흘러가네\" 등의 부드러운 흐름이 자연 풍경과 마음의 고요함을 효과적으로 전달하고 있습니다. 또한 각 구절이 비슷한 음절 수를 지니면서 균형감이 느껴져 읽는 이로 하여금 편안함과 동시에 깊은 감상을 할 수 있게 합니다. 매우 잘 쓰셨습니다! 앞으로도 다양한 주제와 스타일로 시를 창작해 보시면 좋겠습니다. APPROVE\n"
     ]
    },
    {
     "data": {
      "text/plain": [
       "TaskResult(messages=[TextMessage(id='69c2709d-c747-4719-b4b6-f10caf223bfd', source='user', models_usage=None, metadata={}, created_at=datetime.datetime(2025, 7, 18, 2, 43, 12, 290990, tzinfo=datetime.timezone.utc), content='중국 당나라 시풍으로 시를 써보세요.', type='TextMessage'), TextMessage(id='3b10d338-c9dc-4c13-95f0-00a845df163f', source='primary', models_usage=RequestUsage(prompt_tokens=727, completion_tokens=39), metadata={}, created_at=datetime.datetime(2025, 7, 18, 2, 43, 13, 667182, tzinfo=datetime.timezone.utc), content='산間秋色深,  \\n한가로운 구름 흘러가네.  \\n고향 달빛 차가워도,  \\n외로운 마음은 평온하네.', type='TextMessage'), TextMessage(id='be5a9518-8b7f-4be8-b516-90b9da2f10d2', source='critic', models_usage=RequestUsage(prompt_tokens=783, completion_tokens=165), metadata={}, created_at=datetime.datetime(2025, 7, 18, 2, 43, 15, 855648, tzinfo=datetime.timezone.utc), content='시의 구성이 당나라 시풍의 느낌을 잘 살리고 있습니다. 산속의 깊은 가을 풍경과 한가로운 구름, 차가운 달빛이 어우러져 고요한 분위기를 자아내며, 외로운 마음이 평온함으로 변하는 섬세한 감정을 표현한 점이 인상적입니다. 다만, 당나라 시의 전통적인 특징 중 하나인 시적인 언어와 이미지의 운율감을 조금 더 살린다면 더욱 깊이 있는 작품이 될 것입니다. 예를 들어, 각 구절의 음절 수를 맞추거나, 병렬 구조를 강화하는 방식을 고려해보세요. 전반적으로 훌륭한 시이며, 계속해서 발전 가능성이 큽니다!', type='TextMessage'), TextMessage(id='4285e6bf-2488-48c6-8223-450bb40449a7', source='primary', models_usage=RequestUsage(prompt_tokens=939, completion_tokens=140), metadata={}, created_at=datetime.datetime(2025, 7, 18, 2, 43, 17, 734704, tzinfo=datetime.timezone.utc), content='감사합니다! 지적해 주신 운율과 병렬 구조를 고려하여 당나라 시풍에 맞게 다시 써보았습니다.\\n\\n---\\n\\n산중秋色정深深(산중추색정심심),  \\n한가로이 구름 한 줄 흘러가네.  \\n달빛은 차가워도 고요하니,  \\n외로운 마음 바람에 잠기네.  \\n\\n---\\n\\n각 구절의 음절 수를 유사하게 맞추고, 병렬 구조를 강조하여 고전 당시의 느낌을 살리고자 했습니다. 더 원하시는 스타일이나 주제가 있다면 언제든 말씀해 주세요!', type='TextMessage'), TextMessage(id='0ccf9db8-d8df-49d5-ac1c-6eb0efe2f538', source='critic', models_usage=RequestUsage(prompt_tokens=1095, completion_tokens=156), metadata={}, created_at=datetime.datetime(2025, 7, 18, 2, 43, 19, 714583, tzinfo=datetime.timezone.utc), content='수정하신 시에서 운율과 병렬 구조가 더욱 정돈되어 당나라 시풍의 고전미가 잘 살아났습니다. \"산중秋色정深深\"과 같은 병렬적 표현과 \"한가로이 구름 한 줄 흘러가네\" 등의 부드러운 흐름이 자연 풍경과 마음의 고요함을 효과적으로 전달하고 있습니다. 또한 각 구절이 비슷한 음절 수를 지니면서 균형감이 느껴져 읽는 이로 하여금 편안함과 동시에 깊은 감상을 할 수 있게 합니다. 매우 잘 쓰셨습니다! 앞으로도 다양한 주제와 스타일로 시를 창작해 보시면 좋겠습니다. APPROVE', type='TextMessage')], stop_reason=\"Text 'APPROVE' mentioned\")"
      ]
     },
     "execution_count": 10,
     "metadata": {},
     "output_type": "execute_result"
    }
   ],
   "source": [
    "await Console(reflection_team.run_stream(task=\"중국 당나라 시풍으로 시를 써보세요.\"))"
   ]
  },
  {
   "cell_type": "code",
   "execution_count": 2,
   "metadata": {},
   "outputs": [],
   "source": [
    "from autogen_agentchat.agents import AssistantAgent\n",
    "from autogen_agentchat.base import Handoff\n",
    "from autogen_agentchat.conditions import HandoffTermination, TextMentionTermination\n",
    "from autogen_agentchat.teams import RoundRobinGroupChat\n",
    "\n",
    "# Create an OpenAI model client.\n",
    "model_client = azure_openai_chat_completion_client\n",
    "\n",
    "# Create a lazy assistant agent that always hands off to the user.\n",
    "lazy_agent = AssistantAgent(\n",
    "    \"lazy_assistant\",\n",
    "    model_client=model_client,\n",
    "    handoffs=[Handoff(target=\"user\", message=\"Transfer to user.\")],\n",
    "    system_message=\"Always transfer to user when you don't know the answer. Respond 'TERMINATE' when task is complete.\",\n",
    ")\n",
    "\n",
    "# Define a termination condition that checks for handoff message targetting helper and text \"TERMINATE\".\n",
    "handoff_termination = HandoffTermination(target=\"user\")\n",
    "text_termination = TextMentionTermination(\"TERMINATE\")\n",
    "termination = handoff_termination | text_termination\n",
    "\n",
    "# Create a single-agent team.\n",
    "lazy_agent_team = RoundRobinGroupChat([lazy_agent], termination_condition=termination)"
   ]
  },
  {
   "cell_type": "code",
   "execution_count": 3,
   "metadata": {},
   "outputs": [
    {
     "name": "stdout",
     "output_type": "stream",
     "text": [
      "---------- TextMessage (user) ----------\n",
      "서울의 기후는 어때?\n",
      "---------- ToolCallRequestEvent (lazy_assistant) ----------\n",
      "[FunctionCall(id='call_BlWvBNXYJnp4FpfUmvBqJnk4', arguments='{}', name='transfer_to_user')]\n",
      "---------- ToolCallExecutionEvent (lazy_assistant) ----------\n",
      "[FunctionExecutionResult(content='Transfer to user.', name='transfer_to_user', call_id='call_BlWvBNXYJnp4FpfUmvBqJnk4', is_error=False)]\n",
      "---------- HandoffMessage (lazy_assistant) ----------\n",
      "Transfer to user.\n"
     ]
    },
    {
     "data": {
      "text/plain": [
       "TaskResult(messages=[TextMessage(id='73959753-31a7-4285-9678-590a2d7e4318', source='user', models_usage=None, metadata={}, created_at=datetime.datetime(2025, 7, 18, 3, 56, 42, 13348, tzinfo=datetime.timezone.utc), content='서울의 기후는 어때?', type='TextMessage'), ToolCallRequestEvent(id='76bc2004-0e65-430e-8772-a90dd909c635', source='lazy_assistant', models_usage=RequestUsage(prompt_tokens=68, completion_tokens=12), metadata={}, created_at=datetime.datetime(2025, 7, 18, 3, 56, 43, 751576, tzinfo=datetime.timezone.utc), content=[FunctionCall(id='call_BlWvBNXYJnp4FpfUmvBqJnk4', arguments='{}', name='transfer_to_user')], type='ToolCallRequestEvent'), ToolCallExecutionEvent(id='6039745c-f9cc-4e14-8e9d-c96328d70fdc', source='lazy_assistant', models_usage=None, metadata={}, created_at=datetime.datetime(2025, 7, 18, 3, 56, 43, 753150, tzinfo=datetime.timezone.utc), content=[FunctionExecutionResult(content='Transfer to user.', name='transfer_to_user', call_id='call_BlWvBNXYJnp4FpfUmvBqJnk4', is_error=False)], type='ToolCallExecutionEvent'), HandoffMessage(id='070b8d9e-23a1-4702-bfac-eb8ce051ca28', source='lazy_assistant', models_usage=None, metadata={}, created_at=datetime.datetime(2025, 7, 18, 3, 56, 43, 753339, tzinfo=datetime.timezone.utc), content='Transfer to user.', target='user', context=[], type='HandoffMessage')], stop_reason='Handoff to user from lazy_assistant detected.')"
      ]
     },
     "execution_count": 3,
     "metadata": {},
     "output_type": "execute_result"
    }
   ],
   "source": [
    "from autogen_agentchat.ui import Console\n",
    "#TODO\n",
    "await Console(lazy_agent_team.run_stream(task=\"서울의 기후는 어때?\"))"
   ]
  }
 ],
 "metadata": {
  "kernelspec": {
   "display_name": "autogen04-sample",
   "language": "python",
   "name": "python3"
  },
  "language_info": {
   "codemirror_mode": {
    "name": "ipython",
    "version": 3
   },
   "file_extension": ".py",
   "mimetype": "text/x-python",
   "name": "python",
   "nbconvert_exporter": "python",
   "pygments_lexer": "ipython3",
   "version": "3.12.9"
  }
 },
 "nbformat": 4,
 "nbformat_minor": 2
}
